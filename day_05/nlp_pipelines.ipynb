{
  "nbformat": 4,
  "nbformat_minor": 0,
  "metadata": {
    "kernelspec": {
      "display_name": "Python 3",
      "language": "python",
      "name": "python3"
    },
    "language_info": {
      "codemirror_mode": {
        "name": "ipython",
        "version": 3
      },
      "file_extension": ".py",
      "mimetype": "text/x-python",
      "name": "python",
      "nbconvert_exporter": "python",
      "pygments_lexer": "ipython3",
      "version": "3.8.5"
    },
    "colab": {
      "name": "nlp_pipelines.ipynb",
      "provenance": []
    }
  },
  "cells": [
    {
      "cell_type": "markdown",
      "metadata": {
        "id": "Aq4Jx8InMNnB"
      },
      "source": [
        "### Creating a Natural Language Processing Pipeline\n",
        "\n",
        "Today we will combine NLP with what we have been doing with Random Forest Classifiers. \n",
        "\n",
        "We'll be using a text classificaton model on a dataset which contains real info on what corporations actually talk about on social media.\n",
        "\n",
        "##### The statements were labelled as into following categories\n",
        "- `information` (objective statements about the company or it's activities), \n",
        "- `dialog` (replies to users, etc.), or \n",
        "- `action` (messages that ask for votes or ask users to click on links, etc.). \n",
        "\n",
        "Our aim is to build a model to automatically categorize the text into their respective categories. \n",
        "\n",
        "##### Get the data\n",
        "You can download the dataset from here: https://data.world/crowdflower/corporate-messaging"
      ]
    },
    {
      "cell_type": "markdown",
      "metadata": {
        "id": "apWpuLU1MNnK"
      },
      "source": [
        "### Task 1: Load the data and examine it."
      ]
    },
    {
      "cell_type": "code",
      "metadata": {
        "id": "A8sSU-uIMNnL",
        "outputId": "cccacf73-b90e-424a-861e-1cbeb0e24979",
        "colab": {
          "base_uri": "https://localhost:8080/",
          "height": 407
        }
      },
      "source": [
        "import pandas as pd\n",
        "\n",
        "df = pd.read_csv('https://raw.githubusercontent.com/daniel-dc-cd/data_science/master/daily_materials/NLP_pipeline_activity/corporate_messaging_dfe.csv')\n",
        "\n",
        "df"
      ],
      "execution_count": 2,
      "outputs": [
        {
          "output_type": "execute_result",
          "data": {
            "text/html": [
              "<div>\n",
              "<style scoped>\n",
              "    .dataframe tbody tr th:only-of-type {\n",
              "        vertical-align: middle;\n",
              "    }\n",
              "\n",
              "    .dataframe tbody tr th {\n",
              "        vertical-align: top;\n",
              "    }\n",
              "\n",
              "    .dataframe thead th {\n",
              "        text-align: right;\n",
              "    }\n",
              "</style>\n",
              "<table border=\"1\" class=\"dataframe\">\n",
              "  <thead>\n",
              "    <tr style=\"text-align: right;\">\n",
              "      <th></th>\n",
              "      <th>unit_id</th>\n",
              "      <th>golden</th>\n",
              "      <th>unit_state</th>\n",
              "      <th>trusted_judgments</th>\n",
              "      <th>last_judgment_at</th>\n",
              "      <th>category</th>\n",
              "      <th>category_confidence</th>\n",
              "      <th>category_gold</th>\n",
              "      <th>id</th>\n",
              "      <th>screenname</th>\n",
              "      <th>text</th>\n",
              "    </tr>\n",
              "  </thead>\n",
              "  <tbody>\n",
              "    <tr>\n",
              "      <th>0</th>\n",
              "      <td>662822308</td>\n",
              "      <td>False</td>\n",
              "      <td>finalized</td>\n",
              "      <td>3</td>\n",
              "      <td>2015-02-18T04:31:00</td>\n",
              "      <td>Information</td>\n",
              "      <td>1.0000</td>\n",
              "      <td>NaN</td>\n",
              "      <td>436528000000000000</td>\n",
              "      <td>Barclays</td>\n",
              "      <td>Barclays CEO stresses the importance of regula...</td>\n",
              "    </tr>\n",
              "    <tr>\n",
              "      <th>1</th>\n",
              "      <td>662822309</td>\n",
              "      <td>False</td>\n",
              "      <td>finalized</td>\n",
              "      <td>3</td>\n",
              "      <td>2015-02-18T13:55:00</td>\n",
              "      <td>Information</td>\n",
              "      <td>1.0000</td>\n",
              "      <td>NaN</td>\n",
              "      <td>386013000000000000</td>\n",
              "      <td>Barclays</td>\n",
              "      <td>Barclays announces result of Rights Issue http...</td>\n",
              "    </tr>\n",
              "    <tr>\n",
              "      <th>2</th>\n",
              "      <td>662822310</td>\n",
              "      <td>False</td>\n",
              "      <td>finalized</td>\n",
              "      <td>3</td>\n",
              "      <td>2015-02-18T08:43:00</td>\n",
              "      <td>Information</td>\n",
              "      <td>1.0000</td>\n",
              "      <td>NaN</td>\n",
              "      <td>379580000000000000</td>\n",
              "      <td>Barclays</td>\n",
              "      <td>Barclays publishes its prospectus for its �5.8...</td>\n",
              "    </tr>\n",
              "    <tr>\n",
              "      <th>3</th>\n",
              "      <td>662822311</td>\n",
              "      <td>False</td>\n",
              "      <td>finalized</td>\n",
              "      <td>3</td>\n",
              "      <td>2015-02-18T09:13:00</td>\n",
              "      <td>Information</td>\n",
              "      <td>1.0000</td>\n",
              "      <td>NaN</td>\n",
              "      <td>367530000000000000</td>\n",
              "      <td>Barclays</td>\n",
              "      <td>Barclays Group Finance Director Chris Lucas is...</td>\n",
              "    </tr>\n",
              "    <tr>\n",
              "      <th>4</th>\n",
              "      <td>662822312</td>\n",
              "      <td>False</td>\n",
              "      <td>finalized</td>\n",
              "      <td>3</td>\n",
              "      <td>2015-02-18T06:48:00</td>\n",
              "      <td>Information</td>\n",
              "      <td>1.0000</td>\n",
              "      <td>NaN</td>\n",
              "      <td>360385000000000000</td>\n",
              "      <td>Barclays</td>\n",
              "      <td>Barclays announces that Irene McDermott Brown ...</td>\n",
              "    </tr>\n",
              "    <tr>\n",
              "      <th>...</th>\n",
              "      <td>...</td>\n",
              "      <td>...</td>\n",
              "      <td>...</td>\n",
              "      <td>...</td>\n",
              "      <td>...</td>\n",
              "      <td>...</td>\n",
              "      <td>...</td>\n",
              "      <td>...</td>\n",
              "      <td>...</td>\n",
              "      <td>...</td>\n",
              "      <td>...</td>\n",
              "    </tr>\n",
              "    <tr>\n",
              "      <th>3113</th>\n",
              "      <td>677278313</td>\n",
              "      <td>True</td>\n",
              "      <td>golden</td>\n",
              "      <td>6</td>\n",
              "      <td>NaN</td>\n",
              "      <td>Dialogue</td>\n",
              "      <td>0.8245</td>\n",
              "      <td>Dialogue</td>\n",
              "      <td>406079000000000000</td>\n",
              "      <td>Merck</td>\n",
              "      <td>Wishing you a happy and healthy Thanksgiving. ...</td>\n",
              "    </tr>\n",
              "    <tr>\n",
              "      <th>3114</th>\n",
              "      <td>677278314</td>\n",
              "      <td>True</td>\n",
              "      <td>golden</td>\n",
              "      <td>10</td>\n",
              "      <td>NaN</td>\n",
              "      <td>Information</td>\n",
              "      <td>0.5952</td>\n",
              "      <td>Action</td>\n",
              "      <td>474103000000000000</td>\n",
              "      <td>Nestle</td>\n",
              "      <td>Wouldn̢���t it be great if your oven recognis...</td>\n",
              "    </tr>\n",
              "    <tr>\n",
              "      <th>3115</th>\n",
              "      <td>677278315</td>\n",
              "      <td>True</td>\n",
              "      <td>golden</td>\n",
              "      <td>10</td>\n",
              "      <td>NaN</td>\n",
              "      <td>Information</td>\n",
              "      <td>1.0000</td>\n",
              "      <td>Information</td>\n",
              "      <td>477073000000000000</td>\n",
              "      <td>Nestle</td>\n",
              "      <td>Yesterday, these #HealthyKids lit up Broadway ...</td>\n",
              "    </tr>\n",
              "    <tr>\n",
              "      <th>3116</th>\n",
              "      <td>677278316</td>\n",
              "      <td>True</td>\n",
              "      <td>golden</td>\n",
              "      <td>8</td>\n",
              "      <td>NaN</td>\n",
              "      <td>Information</td>\n",
              "      <td>0.8973</td>\n",
              "      <td>Information</td>\n",
              "      <td>395962000000000000</td>\n",
              "      <td>DanoneGroup</td>\n",
              "      <td>Yo-Jelly, Danone new brand in South Africa : t...</td>\n",
              "    </tr>\n",
              "    <tr>\n",
              "      <th>3117</th>\n",
              "      <td>677278317</td>\n",
              "      <td>True</td>\n",
              "      <td>golden</td>\n",
              "      <td>5</td>\n",
              "      <td>NaN</td>\n",
              "      <td>Information</td>\n",
              "      <td>1.0000</td>\n",
              "      <td>Information</td>\n",
              "      <td>393732000000000000</td>\n",
              "      <td>Nestle</td>\n",
              "      <td>Z Bhutta: Problems with food&amp;amp;land systems ...</td>\n",
              "    </tr>\n",
              "  </tbody>\n",
              "</table>\n",
              "<p>3118 rows × 11 columns</p>\n",
              "</div>"
            ],
            "text/plain": [
              "        unit_id  ...                                               text\n",
              "0     662822308  ...  Barclays CEO stresses the importance of regula...\n",
              "1     662822309  ...  Barclays announces result of Rights Issue http...\n",
              "2     662822310  ...  Barclays publishes its prospectus for its �5.8...\n",
              "3     662822311  ...  Barclays Group Finance Director Chris Lucas is...\n",
              "4     662822312  ...  Barclays announces that Irene McDermott Brown ...\n",
              "...         ...  ...                                                ...\n",
              "3113  677278313  ...  Wishing you a happy and healthy Thanksgiving. ...\n",
              "3114  677278314  ...  Wouldn̢���t it be great if your oven recognis...\n",
              "3115  677278315  ...  Yesterday, these #HealthyKids lit up Broadway ...\n",
              "3116  677278316  ...  Yo-Jelly, Danone new brand in South Africa : t...\n",
              "3117  677278317  ...  Z Bhutta: Problems with food&amp;land systems ...\n",
              "\n",
              "[3118 rows x 11 columns]"
            ]
          },
          "metadata": {
            "tags": []
          },
          "execution_count": 2
        }
      ]
    },
    {
      "cell_type": "code",
      "metadata": {
        "id": "LbJoJtK2MNnL",
        "outputId": "d65e9277-c014-4af0-a518-c0387076e7c0",
        "colab": {
          "base_uri": "https://localhost:8080/"
        }
      },
      "source": [
        "df.info()"
      ],
      "execution_count": 3,
      "outputs": [
        {
          "output_type": "stream",
          "text": [
            "<class 'pandas.core.frame.DataFrame'>\n",
            "RangeIndex: 3118 entries, 0 to 3117\n",
            "Data columns (total 11 columns):\n",
            " #   Column               Non-Null Count  Dtype  \n",
            "---  ------               --------------  -----  \n",
            " 0   unit_id              3118 non-null   int64  \n",
            " 1   golden               3118 non-null   bool   \n",
            " 2   unit_state           3118 non-null   object \n",
            " 3   trusted_judgments    3118 non-null   int64  \n",
            " 4   last_judgment_at     2811 non-null   object \n",
            " 5   category             3118 non-null   object \n",
            " 6   category_confidence  3118 non-null   float64\n",
            " 7   category_gold        307 non-null    object \n",
            " 8   id                   3118 non-null   int64  \n",
            " 9   screenname           3118 non-null   object \n",
            " 10  text                 3118 non-null   object \n",
            "dtypes: bool(1), float64(1), int64(3), object(6)\n",
            "memory usage: 246.8+ KB\n"
          ],
          "name": "stdout"
        }
      ]
    },
    {
      "cell_type": "code",
      "metadata": {
        "id": "tsKU_cXVMNnM",
        "outputId": "1d894203-ed9f-40aa-d352-94c09fe7e2ac",
        "colab": {
          "base_uri": "https://localhost:8080/",
          "height": 294
        }
      },
      "source": [
        "df.describe()"
      ],
      "execution_count": 4,
      "outputs": [
        {
          "output_type": "execute_result",
          "data": {
            "text/html": [
              "<div>\n",
              "<style scoped>\n",
              "    .dataframe tbody tr th:only-of-type {\n",
              "        vertical-align: middle;\n",
              "    }\n",
              "\n",
              "    .dataframe tbody tr th {\n",
              "        vertical-align: top;\n",
              "    }\n",
              "\n",
              "    .dataframe thead th {\n",
              "        text-align: right;\n",
              "    }\n",
              "</style>\n",
              "<table border=\"1\" class=\"dataframe\">\n",
              "  <thead>\n",
              "    <tr style=\"text-align: right;\">\n",
              "      <th></th>\n",
              "      <th>unit_id</th>\n",
              "      <th>trusted_judgments</th>\n",
              "      <th>category_confidence</th>\n",
              "      <th>id</th>\n",
              "    </tr>\n",
              "  </thead>\n",
              "  <tbody>\n",
              "    <tr>\n",
              "      <th>count</th>\n",
              "      <td>3.118000e+03</td>\n",
              "      <td>3118.000000</td>\n",
              "      <td>3118.000000</td>\n",
              "      <td>3.118000e+03</td>\n",
              "    </tr>\n",
              "    <tr>\n",
              "      <th>mean</th>\n",
              "      <td>6.642499e+08</td>\n",
              "      <td>3.435536</td>\n",
              "      <td>0.925460</td>\n",
              "      <td>3.085197e+17</td>\n",
              "    </tr>\n",
              "    <tr>\n",
              "      <th>std</th>\n",
              "      <td>4.306949e+06</td>\n",
              "      <td>1.391406</td>\n",
              "      <td>0.147874</td>\n",
              "      <td>1.436658e+17</td>\n",
              "    </tr>\n",
              "    <tr>\n",
              "      <th>min</th>\n",
              "      <td>6.628223e+08</td>\n",
              "      <td>3.000000</td>\n",
              "      <td>0.333800</td>\n",
              "      <td>2.222122e+09</td>\n",
              "    </tr>\n",
              "    <tr>\n",
              "      <th>25%</th>\n",
              "      <td>6.628232e+08</td>\n",
              "      <td>3.000000</td>\n",
              "      <td>1.000000</td>\n",
              "      <td>2.336488e+17</td>\n",
              "    </tr>\n",
              "    <tr>\n",
              "      <th>50%</th>\n",
              "      <td>6.628240e+08</td>\n",
              "      <td>3.000000</td>\n",
              "      <td>1.000000</td>\n",
              "      <td>3.473025e+17</td>\n",
              "    </tr>\n",
              "    <tr>\n",
              "      <th>75%</th>\n",
              "      <td>6.628248e+08</td>\n",
              "      <td>3.000000</td>\n",
              "      <td>1.000000</td>\n",
              "      <td>4.231435e+17</td>\n",
              "    </tr>\n",
              "    <tr>\n",
              "      <th>max</th>\n",
              "      <td>6.772783e+08</td>\n",
              "      <td>11.000000</td>\n",
              "      <td>1.000000</td>\n",
              "      <td>4.797360e+17</td>\n",
              "    </tr>\n",
              "  </tbody>\n",
              "</table>\n",
              "</div>"
            ],
            "text/plain": [
              "            unit_id  trusted_judgments  category_confidence            id\n",
              "count  3.118000e+03        3118.000000          3118.000000  3.118000e+03\n",
              "mean   6.642499e+08           3.435536             0.925460  3.085197e+17\n",
              "std    4.306949e+06           1.391406             0.147874  1.436658e+17\n",
              "min    6.628223e+08           3.000000             0.333800  2.222122e+09\n",
              "25%    6.628232e+08           3.000000             1.000000  2.336488e+17\n",
              "50%    6.628240e+08           3.000000             1.000000  3.473025e+17\n",
              "75%    6.628248e+08           3.000000             1.000000  4.231435e+17\n",
              "max    6.772783e+08          11.000000             1.000000  4.797360e+17"
            ]
          },
          "metadata": {
            "tags": []
          },
          "execution_count": 4
        }
      ]
    },
    {
      "cell_type": "code",
      "metadata": {
        "id": "jUYfhhK6S5Ji",
        "outputId": "711c2e8a-45a6-4c28-fdff-daf4e71f8d5b",
        "colab": {
          "base_uri": "https://localhost:8080/"
        }
      },
      "source": [
        "len(df.id.unique())"
      ],
      "execution_count": 6,
      "outputs": [
        {
          "output_type": "execute_result",
          "data": {
            "text/plain": [
              "2513"
            ]
          },
          "metadata": {
            "tags": []
          },
          "execution_count": 6
        }
      ]
    },
    {
      "cell_type": "code",
      "metadata": {
        "id": "P8kmZw4nMNnM",
        "outputId": "ad8bf1f9-2d06-4f03-eaaa-d320c7dbf8a8",
        "colab": {
          "base_uri": "https://localhost:8080/"
        }
      },
      "source": [
        "df.shape"
      ],
      "execution_count": 5,
      "outputs": [
        {
          "output_type": "execute_result",
          "data": {
            "text/plain": [
              "(3118, 11)"
            ]
          },
          "metadata": {
            "tags": []
          },
          "execution_count": 5
        }
      ]
    },
    {
      "cell_type": "code",
      "metadata": {
        "id": "yMvOk4ncUCwv",
        "outputId": "3d537792-80ad-43ae-9084-0051047ebb50",
        "colab": {
          "base_uri": "https://localhost:8080/"
        }
      },
      "source": [
        "df.category.value_counts()"
      ],
      "execution_count": 18,
      "outputs": [
        {
          "output_type": "execute_result",
          "data": {
            "text/plain": [
              "Information    2129\n",
              "Action          724\n",
              "Dialogue        226\n",
              "Exclude          39\n",
              "Name: category, dtype: int64"
            ]
          },
          "metadata": {
            "tags": []
          },
          "execution_count": 18
        }
      ]
    },
    {
      "cell_type": "code",
      "metadata": {
        "id": "p8Uze2H_MNnM",
        "outputId": "56b3d924-5240-4ee1-9682-15b8fa21685f",
        "colab": {
          "base_uri": "https://localhost:8080/",
          "height": 297
        }
      },
      "source": [
        "import seaborn as sns\n",
        "# check distribution of target column i.e. category\n",
        "sns.countplot(data=df, x='category')"
      ],
      "execution_count": 17,
      "outputs": [
        {
          "output_type": "execute_result",
          "data": {
            "text/plain": [
              "<matplotlib.axes._subplots.AxesSubplot at 0x7f9cf835af98>"
            ]
          },
          "metadata": {
            "tags": []
          },
          "execution_count": 17
        },
        {
          "output_type": "display_data",
          "data": {
            "image/png": "[encoded data removed]",
            "text/plain": [
              "<Figure size 432x288 with 1 Axes>"
            ]
          },
          "metadata": {
            "tags": [],
            "needs_background": "light"
          }
        }
      ]
    },
    {
      "cell_type": "code",
      "metadata": {
        "id": "2jP68iKdUnJG",
        "outputId": "2f7c8dd9-5da3-4403-de3c-6f8d74801235",
        "colab": {
          "base_uri": "https://localhost:8080/"
        }
      },
      "source": [
        "df.category_confidence"
      ],
      "execution_count": 19,
      "outputs": [
        {
          "output_type": "execute_result",
          "data": {
            "text/plain": [
              "0       1.0000\n",
              "1       1.0000\n",
              "2       1.0000\n",
              "3       1.0000\n",
              "4       1.0000\n",
              "         ...  \n",
              "3113    0.8245\n",
              "3114    0.5952\n",
              "3115    1.0000\n",
              "3116    0.8973\n",
              "3117    1.0000\n",
              "Name: category_confidence, Length: 3118, dtype: float64"
            ]
          },
          "metadata": {
            "tags": []
          },
          "execution_count": 19
        }
      ]
    },
    {
      "cell_type": "code",
      "metadata": {
        "id": "nnYlFwLCMNnN",
        "outputId": "b5f6548a-7c39-4681-81f9-cddfdb2fbf5b",
        "colab": {
          "base_uri": "https://localhost:8080/"
        }
      },
      "source": [
        "# check distribution of the column - category_confidence\n",
        "df.category_confidence.value_counts()"
      ],
      "execution_count": 21,
      "outputs": [
        {
          "output_type": "execute_result",
          "data": {
            "text/plain": [
              "1.0000    2430\n",
              "0.6614      35\n",
              "0.6643      33\n",
              "0.6747      32\n",
              "0.6775      29\n",
              "          ... \n",
              "0.8547       1\n",
              "0.6641       1\n",
              "0.8578       1\n",
              "0.9089       1\n",
              "0.8245       1\n",
              "Name: category_confidence, Length: 194, dtype: int64"
            ]
          },
          "metadata": {
            "tags": []
          },
          "execution_count": 21
        }
      ]
    },
    {
      "cell_type": "code",
      "metadata": {
        "id": "z1wJpEsbUz7J",
        "outputId": "08e0f2fa-7b41-47f7-f3d3-b4046555a1de",
        "colab": {
          "base_uri": "https://localhost:8080/",
          "height": 283
        }
      },
      "source": [
        "df.category_confidence.plot(kind='hist')"
      ],
      "execution_count": 25,
      "outputs": [
        {
          "output_type": "execute_result",
          "data": {
            "text/plain": [
              "<matplotlib.axes._subplots.AxesSubplot at 0x7f9ceff2ca20>"
            ]
          },
          "metadata": {
            "tags": []
          },
          "execution_count": 25
        },
        {
          "output_type": "display_data",
          "data": {
            "image/png": "[encoded data removed]",
            "text/plain": [
              "<Figure size 432x288 with 1 Axes>"
            ]
          },
          "metadata": {
            "tags": [],
            "needs_background": "light"
          }
        }
      ]
    },
    {
      "cell_type": "code",
      "metadata": {
        "id": "Vjb8UrUTVWRo",
        "outputId": "445eb9c0-d4cd-487b-afbd-a9709145ccb5",
        "colab": {
          "base_uri": "https://localhost:8080/"
        }
      },
      "source": [
        "import numpy as np\r\n",
        "\r\n",
        "np.mean(df.category_confidence), np.std(df.category_confidence)"
      ],
      "execution_count": 26,
      "outputs": [
        {
          "output_type": "execute_result",
          "data": {
            "text/plain": [
              "(0.9254599743425256, 0.1478499278842167)"
            ]
          },
          "metadata": {
            "tags": []
          },
          "execution_count": 26
        }
      ]
    },
    {
      "cell_type": "markdown",
      "metadata": {
        "id": "ZjJAanYHWlw6"
      },
      "source": [
        "Category confidence <1 & category is 'exclude'"
      ]
    },
    {
      "cell_type": "code",
      "metadata": {
        "id": "86swVLzCWaPj",
        "outputId": "9d0b90ec-1eaf-4f75-b59e-ed2a7beebfa7",
        "colab": {
          "base_uri": "https://localhost:8080/",
          "height": 922
        }
      },
      "source": [
        "df.loc[(df.category_confidence < 1) & (df.category=='Exclude')]"
      ],
      "execution_count": 32,
      "outputs": [
        {
          "output_type": "execute_result",
          "data": {
            "text/html": [
              "<div>\n",
              "<style scoped>\n",
              "    .dataframe tbody tr th:only-of-type {\n",
              "        vertical-align: middle;\n",
              "    }\n",
              "\n",
              "    .dataframe tbody tr th {\n",
              "        vertical-align: top;\n",
              "    }\n",
              "\n",
              "    .dataframe thead th {\n",
              "        text-align: right;\n",
              "    }\n",
              "</style>\n",
              "<table border=\"1\" class=\"dataframe\">\n",
              "  <thead>\n",
              "    <tr style=\"text-align: right;\">\n",
              "      <th></th>\n",
              "      <th>unit_id</th>\n",
              "      <th>golden</th>\n",
              "      <th>unit_state</th>\n",
              "      <th>trusted_judgments</th>\n",
              "      <th>last_judgment_at</th>\n",
              "      <th>category</th>\n",
              "      <th>category_confidence</th>\n",
              "      <th>category_gold</th>\n",
              "      <th>id</th>\n",
              "      <th>screenname</th>\n",
              "      <th>text</th>\n",
              "    </tr>\n",
              "  </thead>\n",
              "  <tbody>\n",
              "    <tr>\n",
              "      <th>144</th>\n",
              "      <td>662822545</td>\n",
              "      <td>False</td>\n",
              "      <td>finalized</td>\n",
              "      <td>3</td>\n",
              "      <td>2015-02-18T08:59:00</td>\n",
              "      <td>Exclude</td>\n",
              "      <td>0.3390</td>\n",
              "      <td>NaN</td>\n",
              "      <td>466231000000000000</td>\n",
              "      <td>barclayswealth</td>\n",
              "      <td>...Response: John Roberts:  Don�۪t look at the...</td>\n",
              "    </tr>\n",
              "    <tr>\n",
              "      <th>331</th>\n",
              "      <td>662822758</td>\n",
              "      <td>False</td>\n",
              "      <td>finalized</td>\n",
              "      <td>3</td>\n",
              "      <td>2015-02-18T12:42:00</td>\n",
              "      <td>Exclude</td>\n",
              "      <td>0.3366</td>\n",
              "      <td>NaN</td>\n",
              "      <td>453899000000000000</td>\n",
              "      <td>Citi</td>\n",
              "      <td>Don't compete. Collaborate. #BestCareerAdvice ...</td>\n",
              "    </tr>\n",
              "    <tr>\n",
              "      <th>616</th>\n",
              "      <td>662823044</td>\n",
              "      <td>False</td>\n",
              "      <td>finalized</td>\n",
              "      <td>3</td>\n",
              "      <td>2015-02-18T13:33:00</td>\n",
              "      <td>Exclude</td>\n",
              "      <td>0.6622</td>\n",
              "      <td>NaN</td>\n",
              "      <td>475323000000000000</td>\n",
              "      <td>Citi</td>\n",
              "      <td>RT @DavidAguiR #CitiVolunteers Reforestando #G...</td>\n",
              "    </tr>\n",
              "    <tr>\n",
              "      <th>1028</th>\n",
              "      <td>662823476</td>\n",
              "      <td>False</td>\n",
              "      <td>finalized</td>\n",
              "      <td>3</td>\n",
              "      <td>2015-02-18T09:07:00</td>\n",
              "      <td>Exclude</td>\n",
              "      <td>0.6743</td>\n",
              "      <td>NaN</td>\n",
              "      <td>327418000000000000</td>\n",
              "      <td>DanoneGroup</td>\n",
              "      <td>Au #Br̩sil, Danone a lanc̩ le programme Jaguar...</td>\n",
              "    </tr>\n",
              "    <tr>\n",
              "      <th>1054</th>\n",
              "      <td>662823502</td>\n",
              "      <td>False</td>\n",
              "      <td>finalized</td>\n",
              "      <td>3</td>\n",
              "      <td>2015-02-18T12:23:00</td>\n",
              "      <td>Exclude</td>\n",
              "      <td>0.6700</td>\n",
              "      <td>NaN</td>\n",
              "      <td>265837000000000000</td>\n",
              "      <td>DanoneGroup</td>\n",
              "      <td>Danone s'int̩resse �� la mobilit̩ de ses colla...</td>\n",
              "    </tr>\n",
              "    <tr>\n",
              "      <th>1137</th>\n",
              "      <td>662823585</td>\n",
              "      <td>False</td>\n",
              "      <td>finalized</td>\n",
              "      <td>3</td>\n",
              "      <td>2015-02-18T03:51:00</td>\n",
              "      <td>Exclude</td>\n",
              "      <td>0.6496</td>\n",
              "      <td>NaN</td>\n",
              "      <td>270835000000000000</td>\n",
              "      <td>DanoneGroup</td>\n",
              "      <td>@DownTo_Earth_ @Planetworkshops merci beaucoup!</td>\n",
              "    </tr>\n",
              "    <tr>\n",
              "      <th>1143</th>\n",
              "      <td>662823591</td>\n",
              "      <td>False</td>\n",
              "      <td>finalized</td>\n",
              "      <td>3</td>\n",
              "      <td>2015-02-18T04:21:00</td>\n",
              "      <td>Exclude</td>\n",
              "      <td>0.3427</td>\n",
              "      <td>NaN</td>\n",
              "      <td>271269000000000000</td>\n",
              "      <td>DanoneGroup</td>\n",
              "      <td>RT @Danone_Be : Greener Packaging Awards: Dano...</td>\n",
              "    </tr>\n",
              "    <tr>\n",
              "      <th>1204</th>\n",
              "      <td>662823652</td>\n",
              "      <td>False</td>\n",
              "      <td>finalized</td>\n",
              "      <td>3</td>\n",
              "      <td>2015-02-18T13:57:00</td>\n",
              "      <td>Exclude</td>\n",
              "      <td>0.6662</td>\n",
              "      <td>NaN</td>\n",
              "      <td>461137000000000000</td>\n",
              "      <td>DanoneGroup</td>\n",
              "      <td>Sain par l'̩ducation comme aux US avec Partner...</td>\n",
              "    </tr>\n",
              "    <tr>\n",
              "      <th>1207</th>\n",
              "      <td>662823655</td>\n",
              "      <td>False</td>\n",
              "      <td>finalized</td>\n",
              "      <td>3</td>\n",
              "      <td>2015-02-18T08:53:00</td>\n",
              "      <td>Exclude</td>\n",
              "      <td>0.6775</td>\n",
              "      <td>NaN</td>\n",
              "      <td>461128000000000000</td>\n",
              "      <td>DanoneGroup</td>\n",
              "      <td>Notre assembl̩e g̩n̩rale s�۪ouvre avec la pr̩s...</td>\n",
              "    </tr>\n",
              "    <tr>\n",
              "      <th>1348</th>\n",
              "      <td>662823805</td>\n",
              "      <td>False</td>\n",
              "      <td>finalized</td>\n",
              "      <td>3</td>\n",
              "      <td>2015-02-18T12:46:00</td>\n",
              "      <td>Exclude</td>\n",
              "      <td>0.3396</td>\n",
              "      <td>NaN</td>\n",
              "      <td>457222000000000000</td>\n",
              "      <td>Merck</td>\n",
              "      <td>@DCWalkofHope Proud to be a sponsor!</td>\n",
              "    </tr>\n",
              "    <tr>\n",
              "      <th>1781</th>\n",
              "      <td>662824243</td>\n",
              "      <td>False</td>\n",
              "      <td>finalized</td>\n",
              "      <td>3</td>\n",
              "      <td>2015-02-18T04:23:00</td>\n",
              "      <td>Exclude</td>\n",
              "      <td>0.6660</td>\n",
              "      <td>NaN</td>\n",
              "      <td>267143000000000000</td>\n",
              "      <td>Nestle</td>\n",
              "      <td>@LargaZona Aclaraci�_n: Retiro voluntario en E...</td>\n",
              "    </tr>\n",
              "    <tr>\n",
              "      <th>3071</th>\n",
              "      <td>677278270</td>\n",
              "      <td>True</td>\n",
              "      <td>golden</td>\n",
              "      <td>5</td>\n",
              "      <td>NaN</td>\n",
              "      <td>Exclude</td>\n",
              "      <td>0.8001</td>\n",
              "      <td>Information</td>\n",
              "      <td>461137000000000000</td>\n",
              "      <td>DanoneGroup</td>\n",
              "      <td>Sain par l'���ducation comme aux US avec Partn...</td>\n",
              "    </tr>\n",
              "  </tbody>\n",
              "</table>\n",
              "</div>"
            ],
            "text/plain": [
              "        unit_id  ...                                               text\n",
              "144   662822545  ...  ...Response: John Roberts:  Don�۪t look at the...\n",
              "331   662822758  ...  Don't compete. Collaborate. #BestCareerAdvice ...\n",
              "616   662823044  ...  RT @DavidAguiR #CitiVolunteers Reforestando #G...\n",
              "1028  662823476  ...  Au #Br̩sil, Danone a lanc̩ le programme Jaguar...\n",
              "1054  662823502  ...  Danone s'int̩resse �� la mobilit̩ de ses colla...\n",
              "1137  662823585  ...    @DownTo_Earth_ @Planetworkshops merci beaucoup!\n",
              "1143  662823591  ...  RT @Danone_Be : Greener Packaging Awards: Dano...\n",
              "1204  662823652  ...  Sain par l'̩ducation comme aux US avec Partner...\n",
              "1207  662823655  ...  Notre assembl̩e g̩n̩rale s�۪ouvre avec la pr̩s...\n",
              "1348  662823805  ...               @DCWalkofHope Proud to be a sponsor!\n",
              "1781  662824243  ...  @LargaZona Aclaraci�_n: Retiro voluntario en E...\n",
              "3071  677278270  ...  Sain par l'���ducation comme aux US avec Partn...\n",
              "\n",
              "[12 rows x 11 columns]"
            ]
          },
          "metadata": {
            "tags": []
          },
          "execution_count": 32
        }
      ]
    },
    {
      "cell_type": "code",
      "metadata": {
        "id": "kF4l1mvpWqyc",
        "outputId": "26cb39c5-58c1-4077-beff-41babaa4b03a",
        "colab": {
          "base_uri": "https://localhost:8080/"
        }
      },
      "source": [
        "np.mean(df.loc[(df.category_confidence < 1) & (df.category=='Exclude')].category_confidence)"
      ],
      "execution_count": 33,
      "outputs": [
        {
          "output_type": "execute_result",
          "data": {
            "text/plain": [
              "0.56865"
            ]
          },
          "metadata": {
            "tags": []
          },
          "execution_count": 33
        }
      ]
    },
    {
      "cell_type": "code",
      "metadata": {
        "id": "nV7YuayRMNnN",
        "outputId": "2bd0668b-77e4-4d12-a5e5-f1a91c5a690d",
        "colab": {
          "base_uri": "https://localhost:8080/",
          "height": 903
        }
      },
      "source": [
        "# remove those observations where category_confidence < 1 and category = Exclude\n",
        "df = df.loc[(df['category_confidence'] >= 1) & (df['category'] != 'Exclude')]\n",
        "df"
      ],
      "execution_count": 36,
      "outputs": [
        {
          "output_type": "execute_result",
          "data": {
            "text/html": [
              "<div>\n",
              "<style scoped>\n",
              "    .dataframe tbody tr th:only-of-type {\n",
              "        vertical-align: middle;\n",
              "    }\n",
              "\n",
              "    .dataframe tbody tr th {\n",
              "        vertical-align: top;\n",
              "    }\n",
              "\n",
              "    .dataframe thead th {\n",
              "        text-align: right;\n",
              "    }\n",
              "</style>\n",
              "<table border=\"1\" class=\"dataframe\">\n",
              "  <thead>\n",
              "    <tr style=\"text-align: right;\">\n",
              "      <th></th>\n",
              "      <th>unit_id</th>\n",
              "      <th>golden</th>\n",
              "      <th>unit_state</th>\n",
              "      <th>trusted_judgments</th>\n",
              "      <th>last_judgment_at</th>\n",
              "      <th>category</th>\n",
              "      <th>category_confidence</th>\n",
              "      <th>category_gold</th>\n",
              "      <th>id</th>\n",
              "      <th>screenname</th>\n",
              "      <th>text</th>\n",
              "    </tr>\n",
              "  </thead>\n",
              "  <tbody>\n",
              "    <tr>\n",
              "      <th>0</th>\n",
              "      <td>662822308</td>\n",
              "      <td>False</td>\n",
              "      <td>finalized</td>\n",
              "      <td>3</td>\n",
              "      <td>2015-02-18T04:31:00</td>\n",
              "      <td>Information</td>\n",
              "      <td>1.0</td>\n",
              "      <td>NaN</td>\n",
              "      <td>436528000000000000</td>\n",
              "      <td>Barclays</td>\n",
              "      <td>Barclays CEO stresses the importance of regula...</td>\n",
              "    </tr>\n",
              "    <tr>\n",
              "      <th>1</th>\n",
              "      <td>662822309</td>\n",
              "      <td>False</td>\n",
              "      <td>finalized</td>\n",
              "      <td>3</td>\n",
              "      <td>2015-02-18T13:55:00</td>\n",
              "      <td>Information</td>\n",
              "      <td>1.0</td>\n",
              "      <td>NaN</td>\n",
              "      <td>386013000000000000</td>\n",
              "      <td>Barclays</td>\n",
              "      <td>Barclays announces result of Rights Issue http...</td>\n",
              "    </tr>\n",
              "    <tr>\n",
              "      <th>2</th>\n",
              "      <td>662822310</td>\n",
              "      <td>False</td>\n",
              "      <td>finalized</td>\n",
              "      <td>3</td>\n",
              "      <td>2015-02-18T08:43:00</td>\n",
              "      <td>Information</td>\n",
              "      <td>1.0</td>\n",
              "      <td>NaN</td>\n",
              "      <td>379580000000000000</td>\n",
              "      <td>Barclays</td>\n",
              "      <td>Barclays publishes its prospectus for its �5.8...</td>\n",
              "    </tr>\n",
              "    <tr>\n",
              "      <th>3</th>\n",
              "      <td>662822311</td>\n",
              "      <td>False</td>\n",
              "      <td>finalized</td>\n",
              "      <td>3</td>\n",
              "      <td>2015-02-18T09:13:00</td>\n",
              "      <td>Information</td>\n",
              "      <td>1.0</td>\n",
              "      <td>NaN</td>\n",
              "      <td>367530000000000000</td>\n",
              "      <td>Barclays</td>\n",
              "      <td>Barclays Group Finance Director Chris Lucas is...</td>\n",
              "    </tr>\n",
              "    <tr>\n",
              "      <th>4</th>\n",
              "      <td>662822312</td>\n",
              "      <td>False</td>\n",
              "      <td>finalized</td>\n",
              "      <td>3</td>\n",
              "      <td>2015-02-18T06:48:00</td>\n",
              "      <td>Information</td>\n",
              "      <td>1.0</td>\n",
              "      <td>NaN</td>\n",
              "      <td>360385000000000000</td>\n",
              "      <td>Barclays</td>\n",
              "      <td>Barclays announces that Irene McDermott Brown ...</td>\n",
              "    </tr>\n",
              "    <tr>\n",
              "      <th>...</th>\n",
              "      <td>...</td>\n",
              "      <td>...</td>\n",
              "      <td>...</td>\n",
              "      <td>...</td>\n",
              "      <td>...</td>\n",
              "      <td>...</td>\n",
              "      <td>...</td>\n",
              "      <td>...</td>\n",
              "      <td>...</td>\n",
              "      <td>...</td>\n",
              "      <td>...</td>\n",
              "    </tr>\n",
              "    <tr>\n",
              "      <th>3107</th>\n",
              "      <td>677278307</td>\n",
              "      <td>True</td>\n",
              "      <td>golden</td>\n",
              "      <td>7</td>\n",
              "      <td>NaN</td>\n",
              "      <td>Information</td>\n",
              "      <td>1.0</td>\n",
              "      <td>Information</td>\n",
              "      <td>403911000000000000</td>\n",
              "      <td>Citi</td>\n",
              "      <td>We're grateful for 2x honors @ChamberBCLC Citi...</td>\n",
              "    </tr>\n",
              "    <tr>\n",
              "      <th>3108</th>\n",
              "      <td>677278308</td>\n",
              "      <td>True</td>\n",
              "      <td>golden</td>\n",
              "      <td>9</td>\n",
              "      <td>NaN</td>\n",
              "      <td>Information</td>\n",
              "      <td>1.0</td>\n",
              "      <td>Information</td>\n",
              "      <td>392323000000000000</td>\n",
              "      <td>Nestle</td>\n",
              "      <td>We̢���re the 1. to sign up to a European init...</td>\n",
              "    </tr>\n",
              "    <tr>\n",
              "      <th>3109</th>\n",
              "      <td>677278309</td>\n",
              "      <td>True</td>\n",
              "      <td>golden</td>\n",
              "      <td>6</td>\n",
              "      <td>NaN</td>\n",
              "      <td>Information</td>\n",
              "      <td>1.0</td>\n",
              "      <td>Information</td>\n",
              "      <td>394872000000000000</td>\n",
              "      <td>Nestle</td>\n",
              "      <td>We̢���re working hard to do all we can to pro...</td>\n",
              "    </tr>\n",
              "    <tr>\n",
              "      <th>3115</th>\n",
              "      <td>677278315</td>\n",
              "      <td>True</td>\n",
              "      <td>golden</td>\n",
              "      <td>10</td>\n",
              "      <td>NaN</td>\n",
              "      <td>Information</td>\n",
              "      <td>1.0</td>\n",
              "      <td>Information</td>\n",
              "      <td>477073000000000000</td>\n",
              "      <td>Nestle</td>\n",
              "      <td>Yesterday, these #HealthyKids lit up Broadway ...</td>\n",
              "    </tr>\n",
              "    <tr>\n",
              "      <th>3117</th>\n",
              "      <td>677278317</td>\n",
              "      <td>True</td>\n",
              "      <td>golden</td>\n",
              "      <td>5</td>\n",
              "      <td>NaN</td>\n",
              "      <td>Information</td>\n",
              "      <td>1.0</td>\n",
              "      <td>Information</td>\n",
              "      <td>393732000000000000</td>\n",
              "      <td>Nestle</td>\n",
              "      <td>Z Bhutta: Problems with food&amp;amp;land systems ...</td>\n",
              "    </tr>\n",
              "  </tbody>\n",
              "</table>\n",
              "<p>2403 rows × 11 columns</p>\n",
              "</div>"
            ],
            "text/plain": [
              "        unit_id  ...                                               text\n",
              "0     662822308  ...  Barclays CEO stresses the importance of regula...\n",
              "1     662822309  ...  Barclays announces result of Rights Issue http...\n",
              "2     662822310  ...  Barclays publishes its prospectus for its �5.8...\n",
              "3     662822311  ...  Barclays Group Finance Director Chris Lucas is...\n",
              "4     662822312  ...  Barclays announces that Irene McDermott Brown ...\n",
              "...         ...  ...                                                ...\n",
              "3107  677278307  ...  We're grateful for 2x honors @ChamberBCLC Citi...\n",
              "3108  677278308  ...  We̢���re the 1. to sign up to a European init...\n",
              "3109  677278309  ...  We̢���re working hard to do all we can to pro...\n",
              "3115  677278315  ...  Yesterday, these #HealthyKids lit up Broadway ...\n",
              "3117  677278317  ...  Z Bhutta: Problems with food&amp;land systems ...\n",
              "\n",
              "[2403 rows x 11 columns]"
            ]
          },
          "metadata": {
            "tags": []
          },
          "execution_count": 36
        }
      ]
    },
    {
      "cell_type": "code",
      "metadata": {
        "id": "wGHGCvxKMNnN"
      },
      "source": [
        "# extract features i.e the column - text and target i.e the column - category\n",
        "features = df['text']\n",
        "target = df['category']"
      ],
      "execution_count": 37,
      "outputs": []
    },
    {
      "cell_type": "markdown",
      "metadata": {
        "id": "hKgp0cp_MNnO"
      },
      "source": [
        "### Task 2: Text preprocessing\n",
        "\n",
        "We will do the below pre-processing tasks on the text\n",
        "- tokenizing the sentences\n",
        "- replace the urls with a placeholder\n",
        "- removing non [ascii](https://en.wikipedia.org/wiki/ASCII) characters\n",
        "- text normalizing using lemmatization\n",
        "    - https://en.wikipedia.org/wiki/Lemmatisation\n",
        "    - https://en.wikipedia.org/wiki/Lemma_(morphology)"
      ]
    },
    {
      "cell_type": "code",
      "metadata": {
        "id": "3JP7zZLHMNnO",
        "outputId": "7f42efe8-5c13-4deb-da01-40a5d106b04e",
        "colab": {
          "base_uri": "https://localhost:8080/",
          "height": 35
        }
      },
      "source": [
        "# let's observe a text in the dataset, extract the first text\n",
        "df.text.iloc[0]"
      ],
      "execution_count": 42,
      "outputs": [
        {
          "output_type": "execute_result",
          "data": {
            "application/vnd.google.colaboratory.intrinsic+json": {
              "type": "string"
            },
            "text/plain": [
              "'Barclays CEO stresses the importance of regulatory and cultural reform in financial services at Brussels conference  http://t.co/Ge9Lp7hpyG'"
            ]
          },
          "metadata": {
            "tags": []
          },
          "execution_count": 42
        }
      ]
    },
    {
      "cell_type": "code",
      "metadata": {
        "id": "oV_MCoLQYruD",
        "outputId": "a2eaa014-1f23-4fda-e888-521747004b6f",
        "colab": {
          "base_uri": "https://localhost:8080/",
          "height": 35
        }
      },
      "source": [
        "df.text[0]"
      ],
      "execution_count": 40,
      "outputs": [
        {
          "output_type": "execute_result",
          "data": {
            "application/vnd.google.colaboratory.intrinsic+json": {
              "type": "string"
            },
            "text/plain": [
              "'Barclays CEO stresses the importance of regulatory and cultural reform in financial services at Brussels conference  http://t.co/Ge9Lp7hpyG'"
            ]
          },
          "metadata": {
            "tags": []
          },
          "execution_count": 40
        }
      ]
    },
    {
      "cell_type": "code",
      "metadata": {
        "id": "7bGyp2c9Yl1m",
        "outputId": "fe55ad66-c163-420c-996b-1d99108b77c5",
        "colab": {
          "base_uri": "https://localhost:8080/",
          "height": 35
        }
      },
      "source": [
        "features[0]"
      ],
      "execution_count": 39,
      "outputs": [
        {
          "output_type": "execute_result",
          "data": {
            "application/vnd.google.colaboratory.intrinsic+json": {
              "type": "string"
            },
            "text/plain": [
              "'Barclays CEO stresses the importance of regulatory and cultural reform in financial services at Brussels conference  http://t.co/Ge9Lp7hpyG'"
            ]
          },
          "metadata": {
            "tags": []
          },
          "execution_count": 39
        }
      ]
    },
    {
      "cell_type": "code",
      "metadata": {
        "id": "z8uT7qGhMNnO",
        "outputId": "2008a8dd-7fa1-497e-e1cc-d6222898798e",
        "colab": {
          "base_uri": "https://localhost:8080/",
          "height": 35
        }
      },
      "source": [
        "# now extract the third text from this dataset\n",
        "features[2]"
      ],
      "execution_count": 43,
      "outputs": [
        {
          "output_type": "execute_result",
          "data": {
            "application/vnd.google.colaboratory.intrinsic+json": {
              "type": "string"
            },
            "text/plain": [
              "'Barclays publishes its prospectus for its �5.8bn Rights Issue: http://t.co/YZk24iE8G6'"
            ]
          },
          "metadata": {
            "tags": []
          },
          "execution_count": 43
        }
      ]
    },
    {
      "cell_type": "code",
      "metadata": {
        "id": "DCIAAkdfbmMK",
        "outputId": "fba19ab5-aced-444b-cbfc-6fe3dbd966c4",
        "colab": {
          "base_uri": "https://localhost:8080/"
        }
      },
      "source": [
        "from nltk.corpus import stopwords\r\n",
        "\r\n",
        "nltk.download('stopwords')\r\n",
        "\r\n",
        "len(stopwords.words('english')), type(stopwords.words('english'))"
      ],
      "execution_count": 54,
      "outputs": [
        {
          "output_type": "stream",
          "text": [
            "[nltk_data] Downloading package stopwords to /root/nltk_data...\n",
            "[nltk_data]   Package stopwords is already up-to-date!\n"
          ],
          "name": "stdout"
        },
        {
          "output_type": "execute_result",
          "data": {
            "text/plain": [
              "(179, list)"
            ]
          },
          "metadata": {
            "tags": []
          },
          "execution_count": 54
        }
      ]
    },
    {
      "cell_type": "markdown",
      "metadata": {
        "id": "E0vPhr36cVda"
      },
      "source": [
        "Return a tokenized copy of text, using NLTK's recommended word tokenizer (currently nltk.tokenize.treebank.TreebankWordTokenizer along with nltk.tokenize.punkt.PunktSentenceTokenizer for the specified language).\r\n",
        "\r\n",
        "https://www.nltk.org/api/nltk.tokenize.html"
      ]
    },
    {
      "cell_type": "code",
      "metadata": {
        "id": "soBEjqDWclTc",
        "outputId": "d2769a73-6fc9-41bd-cfda-35c3f6d50a54",
        "colab": {
          "base_uri": "https://localhost:8080/"
        }
      },
      "source": [
        "from nltk import word_tokenize\r\n",
        "\r\n",
        "nltk.download('punkt')\r\n",
        "\r\n",
        "s0 = \"This is a cooool #dummysmiley: :-) :-P <3 and some arrows < > -> <--\"\r\n",
        "\r\n",
        "word_tokenize(s0)"
      ],
      "execution_count": 60,
      "outputs": [
        {
          "output_type": "stream",
          "text": [
            "[nltk_data] Downloading package punkt to /root/nltk_data...\n",
            "[nltk_data]   Package punkt is already up-to-date!\n"
          ],
          "name": "stdout"
        },
        {
          "output_type": "execute_result",
          "data": {
            "text/plain": [
              "['This',\n",
              " 'is',\n",
              " 'a',\n",
              " 'cooool',\n",
              " '#',\n",
              " 'dummysmiley',\n",
              " ':',\n",
              " ':',\n",
              " '-',\n",
              " ')',\n",
              " ':',\n",
              " '-P',\n",
              " '<',\n",
              " '3',\n",
              " 'and',\n",
              " 'some',\n",
              " 'arrows',\n",
              " '<',\n",
              " '>',\n",
              " '-',\n",
              " '>',\n",
              " '<',\n",
              " '--']"
            ]
          },
          "metadata": {
            "tags": []
          },
          "execution_count": 60
        }
      ]
    },
    {
      "cell_type": "code",
      "metadata": {
        "id": "zsk2EBdrMNnP",
        "outputId": "8f9da2ed-607e-4001-9071-b295b67d890d",
        "colab": {
          "base_uri": "https://localhost:8080/"
        }
      },
      "source": [
        "# import re library for regular expressions\n",
        "import re\n",
        "# import nltk library\n",
        "import nltk\n",
        "# import stopwords from nltk library\n",
        "from nltk.corpus import stopwords  # https://en.wikipedia.org/wiki/Stop_word\n",
        "\n",
        "# download the stopwords and wordnet corpus\n",
        "nltk.download('wordnet')\n",
        "nltk.download('stopwords')\n",
        "\n",
        "# extract the english stopwords and save it to a variable\n",
        "stoplist = stopwords.words('english')\n",
        "\n",
        "# import word_tokenize from nltk library\n",
        "from nltk.tokenize import word_tokenize\n",
        "\n",
        "# import WordNetLemmatizer from nltk library\n",
        "from nltk.stem import WordNetLemmatizer\n",
        "\n",
        "# write a regular expression to identify urls in text\n",
        "url_regex = r'http[s]?://(?:[a-zA-Z]|[0-9]|[$-_@.&+]|[!*\\(\\),]|(?:%[0-9a-fA-F][0-9a-fA-F]))+'\n",
        "\n",
        "# write a regular expression to identify non-ascii characters in text\n",
        "non_ascii_regex = r'[^\\x00-\\x7F]+'\n",
        "\n",
        "# write a function to tokenize text after performing preprocessing \n",
        "def tokenize(text):\n",
        "    \n",
        "    # use library re to replace urls by token - urlplaceholder\n",
        "    text = re.sub(url_regex, 'urlplaceholder', text)  # https://docs.python.org/3/library/re.html#re.sub\n",
        "    \n",
        "    # use library re to replace non ascii characters by a space (emojis)\n",
        "    text = re.sub(non_ascii_regex, ' ', text)\n",
        "\n",
        "    # use word_tokenize to tokenize the sentences\n",
        "    tokens = word_tokenize(text)\n",
        "    \n",
        "    # instantiate an object of class WordNetLemmatizer  # instantiate <- represent as or by an instance.\n",
        "    lemmatizer = WordNetLemmatizer()\n",
        "    \n",
        "    # use a list comprehension to lemmatize the tokens and remove the the stopwords\n",
        "    clean_tokens = [lemmatizer.lemmatize(word) for word in tokens if word not in stoplist]\n",
        "\n",
        "    # return the tokens\n",
        "    return clean_tokens"
      ],
      "execution_count": 84,
      "outputs": [
        {
          "output_type": "stream",
          "text": [
            "[nltk_data] Downloading package wordnet to /root/nltk_data...\n",
            "[nltk_data]   Package wordnet is already up-to-date!\n",
            "[nltk_data] Downloading package stopwords to /root/nltk_data...\n",
            "[nltk_data]   Package stopwords is already up-to-date!\n"
          ],
          "name": "stdout"
        }
      ]
    },
    {
      "cell_type": "markdown",
      "metadata": {
        "id": "IiVtoaZXMNnP"
      },
      "source": [
        "### Task 3: EDA"
      ]
    },
    {
      "cell_type": "markdown",
      "metadata": {
        "id": "h5fF5vfvMNnP"
      },
      "source": [
        "In this task, we will do exploratory data analysis to check if there are any new features that we can generate based on the existing text that we have in the dataset. I have come up with these two assumptions. What others can you think of?"
      ]
    },
    {
      "cell_type": "markdown",
      "metadata": {
        "id": "TA4bcCZbhXrh"
      },
      "source": [
        "#### What makes these different??\r\n",
        "- `information` (objective statements about the company or it's activities), \r\n",
        "- `dialog` (replies to users, etc.), or \r\n",
        "- `action` (messages that ask for votes or ask users to click on links, etc.). "
      ]
    },
    {
      "cell_type": "markdown",
      "metadata": {
        "id": "xnPx3esXMNnQ"
      },
      "source": [
        "**Hypothesis 1:** The length of the text in each category might be different from each other\n",
        "\n",
        "**Hypothesis 2:** The total number of URLs that are present in text might be different in each category\n",
        "\n",
        "**Hypothesis 3:** If an action means clicking on a URL, then `action` may constently have URLs or have more URLs than `dialog` or `information`"
      ]
    },
    {
      "cell_type": "code",
      "metadata": {
        "id": "LtVWK60tMNnQ",
        "outputId": "95bd9547-d403-43f3-e850-ea88cee1a70f",
        "colab": {
          "base_uri": "https://localhost:8080/",
          "height": 619
        }
      },
      "source": [
        "import matplotlib.pyplot as plt\n",
        "\n",
        "# create a new column in the original dataset - 'length' to capture length of each text\n",
        "df['length'] = df['text'].apply(lambda x: len(word_tokenize(x)))\n",
        "\n",
        "# use seaborn boxplot to visualize the pattern in length for each category\n",
        "fig = plt.figure(figsize=(16,8))\n",
        "sns.boxplot(data=df, x='category', y='length')"
      ],
      "execution_count": 85,
      "outputs": [
        {
          "output_type": "stream",
          "text": [
            "/usr/local/lib/python3.6/dist-packages/ipykernel_launcher.py:4: SettingWithCopyWarning: \n",
            "A value is trying to be set on a copy of a slice from a DataFrame.\n",
            "Try using .loc[row_indexer,col_indexer] = value instead\n",
            "\n",
            "See the caveats in the documentation: https://pandas.pydata.org/pandas-docs/stable/user_guide/indexing.html#returning-a-view-versus-a-copy\n",
            "  after removing the cwd from sys.path.\n"
          ],
          "name": "stderr"
        },
        {
          "output_type": "execute_result",
          "data": {
            "text/plain": [
              "<matplotlib.axes._subplots.AxesSubplot at 0x7f9ce752a208>"
            ]
          },
          "metadata": {
            "tags": []
          },
          "execution_count": 85
        },
        {
          "output_type": "display_data",
          "data": {
            "image/png": "[encoded data removed]",
            "text/plain": [
              "<Figure size 1152x576 with 1 Axes>"
            ]
          },
          "metadata": {
            "tags": [],
            "needs_background": "light"
          }
        }
      ]
    },
    {
      "cell_type": "code",
      "metadata": {
        "id": "WPqN-IaDqCK9",
        "outputId": "d9290a24-9059-4212-9cc6-95c428ccbd7f",
        "colab": {
          "base_uri": "https://localhost:8080/",
          "height": 35
        }
      },
      "source": [
        "features[0]"
      ],
      "execution_count": 86,
      "outputs": [
        {
          "output_type": "execute_result",
          "data": {
            "application/vnd.google.colaboratory.intrinsic+json": {
              "type": "string"
            },
            "text/plain": [
              "'Barclays CEO stresses the importance of regulatory and cultural reform in financial services at Brussels conference  http://t.co/Ge9Lp7hpyG'"
            ]
          },
          "metadata": {
            "tags": []
          },
          "execution_count": 86
        }
      ]
    },
    {
      "cell_type": "code",
      "metadata": {
        "id": "fXkqAQvYMNnQ",
        "outputId": "fb776f2b-12f2-4691-f6bd-138acd46e26c",
        "colab": {
          "base_uri": "https://localhost:8080/",
          "height": 275
        }
      },
      "source": [
        "# create a new column in the original dataset - 'url_count' to capture total count of urls present in each text\n",
        "df['url_count'] = df['text'].apply(lambda x: len(re.findall(url_regex, x)))\n",
        "\n",
        "# use pandas crosstab to see the distibution of different url counts in each category\n",
        "pd.crosstab(df['category'], df['url_count'], normalize=True)"
      ],
      "execution_count": 87,
      "outputs": [
        {
          "output_type": "stream",
          "text": [
            "/usr/local/lib/python3.6/dist-packages/ipykernel_launcher.py:2: SettingWithCopyWarning: \n",
            "A value is trying to be set on a copy of a slice from a DataFrame.\n",
            "Try using .loc[row_indexer,col_indexer] = value instead\n",
            "\n",
            "See the caveats in the documentation: https://pandas.pydata.org/pandas-docs/stable/user_guide/indexing.html#returning-a-view-versus-a-copy\n",
            "  \n"
          ],
          "name": "stderr"
        },
        {
          "output_type": "execute_result",
          "data": {
            "text/html": [
              "<div>\n",
              "<style scoped>\n",
              "    .dataframe tbody tr th:only-of-type {\n",
              "        vertical-align: middle;\n",
              "    }\n",
              "\n",
              "    .dataframe tbody tr th {\n",
              "        vertical-align: top;\n",
              "    }\n",
              "\n",
              "    .dataframe thead th {\n",
              "        text-align: right;\n",
              "    }\n",
              "</style>\n",
              "<table border=\"1\" class=\"dataframe\">\n",
              "  <thead>\n",
              "    <tr style=\"text-align: right;\">\n",
              "      <th>url_count</th>\n",
              "      <th>0</th>\n",
              "      <th>1</th>\n",
              "      <th>2</th>\n",
              "    </tr>\n",
              "    <tr>\n",
              "      <th>category</th>\n",
              "      <th></th>\n",
              "      <th></th>\n",
              "      <th></th>\n",
              "    </tr>\n",
              "  </thead>\n",
              "  <tbody>\n",
              "    <tr>\n",
              "      <th>Action</th>\n",
              "      <td>0.014565</td>\n",
              "      <td>0.166042</td>\n",
              "      <td>0.009155</td>\n",
              "    </tr>\n",
              "    <tr>\n",
              "      <th>Dialogue</th>\n",
              "      <td>0.032876</td>\n",
              "      <td>0.018727</td>\n",
              "      <td>0.000000</td>\n",
              "    </tr>\n",
              "    <tr>\n",
              "      <th>Information</th>\n",
              "      <td>0.205576</td>\n",
              "      <td>0.533916</td>\n",
              "      <td>0.019143</td>\n",
              "    </tr>\n",
              "  </tbody>\n",
              "</table>\n",
              "</div>"
            ],
            "text/plain": [
              "url_count           0         1         2\n",
              "category                                 \n",
              "Action       0.014565  0.166042  0.009155\n",
              "Dialogue     0.032876  0.018727  0.000000\n",
              "Information  0.205576  0.533916  0.019143"
            ]
          },
          "metadata": {
            "tags": []
          },
          "execution_count": 87
        }
      ]
    },
    {
      "cell_type": "markdown",
      "metadata": {
        "id": "r3NNpzuxqdQu"
      },
      "source": [
        "Note: that all adds up to 1.0"
      ]
    },
    {
      "cell_type": "code",
      "metadata": {
        "id": "g70dE3sXqctB",
        "outputId": "019237a3-e109-47f5-9946-35c8dc1d1425",
        "colab": {
          "base_uri": "https://localhost:8080/"
        }
      },
      "source": [
        "np.sum(pd.crosstab(df['category'], df['url_count'], normalize=True))"
      ],
      "execution_count": 88,
      "outputs": [
        {
          "output_type": "execute_result",
          "data": {
            "text/plain": [
              "url_count\n",
              "0    0.253017\n",
              "1    0.718685\n",
              "2    0.028298\n",
              "dtype: float64"
            ]
          },
          "metadata": {
            "tags": []
          },
          "execution_count": 88
        }
      ]
    },
    {
      "cell_type": "code",
      "metadata": {
        "id": "pwf9DoULqWQo",
        "outputId": "d2dfcf83-1589-44ca-f1fd-1dd11df33ee8",
        "colab": {
          "base_uri": "https://localhost:8080/"
        }
      },
      "source": [
        "np.sum(np.sum(pd.crosstab(df['category'], df['url_count'], normalize=True)))"
      ],
      "execution_count": 89,
      "outputs": [
        {
          "output_type": "execute_result",
          "data": {
            "text/plain": [
              "1.0"
            ]
          },
          "metadata": {
            "tags": []
          },
          "execution_count": 89
        }
      ]
    },
    {
      "cell_type": "markdown",
      "metadata": {
        "id": "KZc48KR7MNnR"
      },
      "source": [
        "### Task 4: Creating custom transformers"
      ]
    },
    {
      "cell_type": "markdown",
      "metadata": {
        "id": "NVr_JWnnMNnR"
      },
      "source": [
        "An estimator is any object that learns from data, whether it's a classification, regression, or clustering algorithm, or a transformer that extracts or filters useful features from raw data. Since estimators learn from data, they each must have a `fit` method that takes a dataset."
      ]
    },
    {
      "cell_type": "markdown",
      "metadata": {
        "id": "KL6T7QubMNnR"
      },
      "source": [
        "There are two kinds of estimators - `Transformer Estimators` i.e. transformers in short and `Predictor Estimators` i.e. predictor in short. In transformers we also need to have another method `transform` and predictors need to have another method `predict`."
      ]
    },
    {
      "cell_type": "markdown",
      "metadata": {
        "id": "TKbrcUF4MNnS"
      },
      "source": [
        "Some examples of `transformers` are - CountVectorizer, TfidfVectorizer, MinMaxScaler, StandardScaler etc"
      ]
    },
    {
      "cell_type": "markdown",
      "metadata": {
        "id": "Fdfsb2rqMNnS"
      },
      "source": [
        "Some examples of `predictors` are - LinearRegression, LogisticRegression, RandomForestClassifier etc"
      ]
    },
    {
      "cell_type": "code",
      "metadata": {
        "id": "YCeSQaxCMNnS"
      },
      "source": [
        "# create a custom transformer LengthExtractor to extract length of each sentences\n",
        "from sklearn.base import BaseEstimator, TransformerMixin\n",
        "# https://scikit-learn.org/stable/modules/generated/sklearn.base.BaseEstimator.html\n",
        "# https://scikit-learn.org/stable/modules/generated/sklearn.base.TransformerMixin.html\n",
        "\n",
        "class LengthExtractor(BaseEstimator, TransformerMixin):\n",
        "\n",
        "    def compute_length(self, text):\n",
        "        return len(word_tokenize(text))\n",
        "\n",
        "    def fit(self, x, y=None):\n",
        "        return self\n",
        "\n",
        "    def transform(self, X):\n",
        "        X_length = pd.Series(X).apply(self.compute_length)\n",
        "        return pd.DataFrame(X_length)"
      ],
      "execution_count": 90,
      "outputs": []
    },
    {
      "cell_type": "code",
      "metadata": {
        "id": "iBt02SwyMNnS"
      },
      "source": [
        "# create a custom transformer UrlCounter to count number of urls in each sentences\n",
        "\n",
        "class UrlCounter(BaseEstimator, TransformerMixin):\n",
        "\n",
        "    def count_url(self, text):\n",
        "        return len(re.findall(url_regex, text))\n",
        "\n",
        "    def fit(self, x, y=None):\n",
        "        return self\n",
        "\n",
        "    def transform(self, X):\n",
        "        url_count = pd.Series(X).apply(self.count_url)\n",
        "        return pd.DataFrame(url_count)\n"
      ],
      "execution_count": 96,
      "outputs": []
    },
    {
      "cell_type": "markdown",
      "metadata": {
        "id": "VOf-mtAwMNnT"
      },
      "source": [
        "### Task 5: Model Building using FeatureUnion"
      ]
    },
    {
      "cell_type": "markdown",
      "metadata": {
        "id": "1BKbdUlmMNnT"
      },
      "source": [
        "Feature union applies a list of transformer objects in parallel to the input data, then concatenates the results. This is useful to combine several feature extraction mechanisms into a single transformer."
      ]
    },
    {
      "cell_type": "markdown",
      "metadata": {
        "id": "KOisULaHMNnT"
      },
      "source": [
        "![alt text](pipeline.png \"nlp pipeline\")"
      ]
    },
    {
      "cell_type": "code",
      "metadata": {
        "id": "I1WMtYkuMNnT"
      },
      "source": [
        "# import RandomForestClassifier from sklearn\n",
        "from sklearn.ensemble import RandomForestClassifier\n",
        "\n",
        "# import Pipeline and FeatureUnion from sklearn\n",
        "from sklearn.pipeline import Pipeline, FeatureUnion\n",
        "\n",
        "# import CountVectorizer, TfidfTransformer from sklearn\n",
        "from sklearn.feature_extraction.text import CountVectorizer, TfidfTransformer\n"
      ],
      "execution_count": 97,
      "outputs": []
    },
    {
      "cell_type": "code",
      "metadata": {
        "id": "uT2-kgqeMNnT"
      },
      "source": [
        "# create an instance of Pipeline class\n",
        "pipeline = Pipeline([\n",
        "                     # create a FeatureUnion pipeline\n",
        "                     ('features', FeatureUnion([\n",
        "                                                ('text_pipeline', Pipeline([\n",
        "                                                                            # add a pipeline element to extract features using CountVectorizer and TfidfTransformer\n",
        "                                                                            ('vect', CountVectorizer(tokenizer=tokenize)),\n",
        "                                                                            ('tfidf', TfidfTransformer())\n",
        "                                                                            ])),\n",
        "                                                # add the pipeline element - LengthExtractor to extract lenght of each sentence as feature\n",
        "                                                ('text_len', LengthExtractor()),\n",
        "                                                # add another pipeline element - UrlCounter to extract url counts in each sentence as feature\n",
        "                                                ('url_count', UrlCounter()),\n",
        "                                                ])),\n",
        "                     # use the predictor estimator RandomForestClassifier to train the model\n",
        "                     ('clf', RandomForestClassifier())\n",
        "                     ])"
      ],
      "execution_count": 98,
      "outputs": []
    },
    {
      "cell_type": "code",
      "metadata": {
        "id": "QCqpReIVMNnU"
      },
      "source": [
        "# split the data into train and test sets\n",
        "from sklearn.model_selection import train_test_split\n",
        "\n",
        "X_train, X_test, y_train, y_test = train_test_split(features, target, test_size=0.2, random_state=42)"
      ],
      "execution_count": 99,
      "outputs": []
    },
    {
      "cell_type": "code",
      "metadata": {
        "id": "tJAM6wRtMNnV",
        "outputId": "3367480e-ebbd-4fd9-809a-d14d1122e0f8",
        "colab": {
          "base_uri": "https://localhost:8080/"
        }
      },
      "source": [
        "# use pipeline.fit method to train the model\n",
        "pipeline.fit(X_train, y_train)"
      ],
      "execution_count": 100,
      "outputs": [
        {
          "output_type": "execute_result",
          "data": {
            "text/plain": [
              "Pipeline(memory=None,\n",
              "         steps=[('features',\n",
              "                 FeatureUnion(n_jobs=None,\n",
              "                              transformer_list=[('text_pipeline',\n",
              "                                                 Pipeline(memory=None,\n",
              "                                                          steps=[('vect',\n",
              "                                                                  CountVectorizer(analyzer='word',\n",
              "                                                                                  binary=False,\n",
              "                                                                                  decode_error='strict',\n",
              "                                                                                  dtype=<class 'numpy.int64'>,\n",
              "                                                                                  encoding='utf-8',\n",
              "                                                                                  input='content',\n",
              "                                                                                  lowercase=True,\n",
              "                                                                                  max_df=1.0,\n",
              "                                                                                  max_features=None,\n",
              "                                                                                  min_df=1,\n",
              "                                                                                  ngram_range=(1,\n",
              "                                                                                               1),\n",
              "                                                                                  preprocessor=Non...\n",
              "                 RandomForestClassifier(bootstrap=True, ccp_alpha=0.0,\n",
              "                                        class_weight=None, criterion='gini',\n",
              "                                        max_depth=None, max_features='auto',\n",
              "                                        max_leaf_nodes=None, max_samples=None,\n",
              "                                        min_impurity_decrease=0.0,\n",
              "                                        min_impurity_split=None,\n",
              "                                        min_samples_leaf=1, min_samples_split=2,\n",
              "                                        min_weight_fraction_leaf=0.0,\n",
              "                                        n_estimators=100, n_jobs=None,\n",
              "                                        oob_score=False, random_state=None,\n",
              "                                        verbose=0, warm_start=False))],\n",
              "         verbose=False)"
            ]
          },
          "metadata": {
            "tags": []
          },
          "execution_count": 100
        }
      ]
    },
    {
      "cell_type": "markdown",
      "metadata": {
        "id": "fmJY77QCMNnV"
      },
      "source": [
        "### Task 6: Model Evaluation"
      ]
    },
    {
      "cell_type": "markdown",
      "metadata": {
        "id": "7P7WUQu1MNnV"
      },
      "source": [
        "Now, once the model is trained, in this task we will evaluate how the model behaves in the test data"
      ]
    },
    {
      "cell_type": "code",
      "metadata": {
        "id": "7Ql5Bu9tMNnW",
        "outputId": "075c36e7-6ceb-48c7-b71e-2f9c113d0451",
        "colab": {
          "base_uri": "https://localhost:8080/"
        }
      },
      "source": [
        "# use the method pipeline.predict on X_test data to predict the labels\n",
        "preds = pipeline.predict(X_test)\n",
        "\n",
        "preds[-5:]"
      ],
      "execution_count": 105,
      "outputs": [
        {
          "output_type": "execute_result",
          "data": {
            "text/plain": [
              "array(['Information', 'Action', 'Information', 'Information',\n",
              "       'Information'], dtype=object)"
            ]
          },
          "metadata": {
            "tags": []
          },
          "execution_count": 105
        }
      ]
    },
    {
      "cell_type": "code",
      "metadata": {
        "id": "u10e1VNiMNnW",
        "outputId": "3168ebe1-8aba-4a48-f41e-d535d7f03a44",
        "colab": {
          "base_uri": "https://localhost:8080/",
          "height": 283
        }
      },
      "source": [
        "# create the confustion matrix, import confusion_matrix from sklearn\n",
        "from sklearn.metrics import confusion_matrix\n",
        "\n",
        "# count the number of labels\n",
        "labels = np.unique(preds)\n",
        "\n",
        "# use sns.heatmap on top of confusion_matrix to show the confusuin matrix\n",
        "sns.heatmap(confusion_matrix(y_test, preds, labels=labels), annot=True, fmt='.0f')"
      ],
      "execution_count": 111,
      "outputs": [
        {
          "output_type": "execute_result",
          "data": {
            "text/plain": [
              "<matplotlib.axes._subplots.AxesSubplot at 0x7f9cd883df60>"
            ]
          },
          "metadata": {
            "tags": []
          },
          "execution_count": 111
        },
        {
          "output_type": "display_data",
          "data": {
            "image/png": "[encoded data removed]",
            "text/plain": [
              "<Figure size 432x288 with 2 Axes>"
            ]
          },
          "metadata": {
            "tags": [],
            "needs_background": "light"
          }
        }
      ]
    },
    {
      "cell_type": "code",
      "metadata": {
        "id": "5QovdS1ZMNnW",
        "outputId": "cc2d8f1e-692d-48c1-a8d2-aeb723e80bac",
        "colab": {
          "base_uri": "https://localhost:8080/"
        }
      },
      "source": [
        "# create the classification report, import classification_report from sklearn\n",
        "from sklearn.metrics import classification_report\n",
        "\n",
        "# apply the function classification_report on y_test, y_pred and print it\n",
        "print(classification_report(y_test, preds))"
      ],
      "execution_count": 115,
      "outputs": [
        {
          "output_type": "stream",
          "text": [
            "              precision    recall  f1-score   support\n",
            "\n",
            "      Action       0.92      0.86      0.89        79\n",
            "    Dialogue       1.00      0.86      0.93        36\n",
            " Information       0.96      0.98      0.97       366\n",
            "\n",
            "    accuracy                           0.95       481\n",
            "   macro avg       0.96      0.90      0.93       481\n",
            "weighted avg       0.95      0.95      0.95       481\n",
            "\n"
          ],
          "name": "stdout"
        }
      ]
    },
    {
      "cell_type": "code",
      "metadata": {
        "id": "TaW2P_9KxE2c",
        "outputId": "8c3bb55e-4b30-4ee9-a240-be6ee8201a9e",
        "colab": {
          "base_uri": "https://localhost:8080/"
        }
      },
      "source": [
        "from sklearn.metrics import accuracy_score\r\n",
        "\r\n",
        "accuracy_score(y_test, preds)"
      ],
      "execution_count": 116,
      "outputs": [
        {
          "output_type": "execute_result",
          "data": {
            "text/plain": [
              "0.9542619542619543"
            ]
          },
          "metadata": {
            "tags": []
          },
          "execution_count": 116
        }
      ]
    },
    {
      "cell_type": "markdown",
      "metadata": {
        "id": "Yb1Q_06SMNnX"
      },
      "source": [
        "### Task 7: Conclusion and next steps"
      ]
    },
    {
      "cell_type": "markdown",
      "metadata": {
        "id": "2CxoZ48GMNnX"
      },
      "source": [
        "How can you take this further? What more can you do?\n",
        "\n",
        "- hyper parameter tuning\n",
        "- more feature engineering\n",
        "- feature selection\n",
        "- trying different predictors"
      ]
    },
    {
      "cell_type": "code",
      "metadata": {
        "id": "RZugmIe6xPpC"
      },
      "source": [
        "# optional: your code here"
      ],
      "execution_count": null,
      "outputs": []
    }
  ]
}