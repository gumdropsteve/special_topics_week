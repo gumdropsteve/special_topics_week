{
  "nbformat": 4,
  "nbformat_minor": 0,
  "metadata": {
    "colab": {
      "name": "meta_ensembling.ipynb",
      "provenance": [],
      "include_colab_link": true
    },
    "kernelspec": {
      "display_name": "Python 3",
      "language": "python",
      "name": "python3"
    },
    "language_info": {
      "codemirror_mode": {
        "name": "ipython",
        "version": 3
      },
      "file_extension": ".py",
      "mimetype": "text/x-python",
      "name": "python",
      "nbconvert_exporter": "python",
      "pygments_lexer": "ipython3",
      "version": "3.8.2"
    }
  },
  "cells": [
    {
      "cell_type": "markdown",
      "metadata": {
        "id": "view-in-github",
        "colab_type": "text"
      },
      "source": [
        "<a href=\"https://colab.research.google.com/github/gumdropsteve/special_topics_week/blob/main/day_04/02_meta_ensembling.ipynb\" target=\"_parent\"><img src=\"https://colab.research.google.com/assets/colab-badge.svg\" alt=\"Open In Colab\"/></a>"
      ]
    },
    {
      "cell_type": "code",
      "metadata": {
        "id": "LNNwKNUHhOKy"
      },
      "source": [
        "%%capture\n",
        "!pip install category-encoders\n",
        "\n",
        "# Standard Imports\n",
        "import pandas as pd\n",
        "import seaborn as sns\n",
        "import matplotlib.pyplot as plt\n",
        "import numpy as np\n",
        "import category_encoders as ce\n",
        "\n",
        "# Classifiers to Use\n",
        "from sklearn.linear_model import LogisticRegression\n",
        "from sklearn.neighbors import KNeighborsClassifier\n",
        "from sklearn.tree import DecisionTreeClassifier\n",
        "\n",
        "# Other needed imports\n",
        "from sklearn.pipeline import make_pipeline\n",
        "from sklearn.preprocessing import StandardScaler\n",
        "from sklearn.ensemble import StackingClassifier\n",
        "from sklearn.impute import SimpleImputer\n",
        "from sklearn.model_selection import cross_val_score\n",
        "from sklearn.model_selection import RepeatedStratifiedKFold\n",
        "from sklearn.model_selection import GridSearchCV\n",
        "\n",
        "import warnings\n",
        "warnings.filterwarnings(\"ignore\")"
      ],
      "execution_count": null,
      "outputs": []
    },
    {
      "cell_type": "code",
      "metadata": {
        "colab": {
          "base_uri": "https://localhost:8080/",
          "height": 215
        },
        "id": "-yp1dTUChu3x",
        "outputId": "f30b815e-d8b5-4a0a-cb84-875ad7e7b615"
      },
      "source": [
        "df = sns.load_dataset(\"titanic\").drop([\"who\", \"adult_male\", \"alive\",\"alone\"], axis=1)\n",
        "print(df.shape)\n",
        "df.head()"
      ],
      "execution_count": null,
      "outputs": [
        {
          "output_type": "stream",
          "text": [
            "(891, 11)\n"
          ],
          "name": "stdout"
        },
        {
          "output_type": "execute_result",
          "data": {
            "text/html": [
              "<div>\n",
              "<style scoped>\n",
              "    .dataframe tbody tr th:only-of-type {\n",
              "        vertical-align: middle;\n",
              "    }\n",
              "\n",
              "    .dataframe tbody tr th {\n",
              "        vertical-align: top;\n",
              "    }\n",
              "\n",
              "    .dataframe thead th {\n",
              "        text-align: right;\n",
              "    }\n",
              "</style>\n",
              "<table border=\"1\" class=\"dataframe\">\n",
              "  <thead>\n",
              "    <tr style=\"text-align: right;\">\n",
              "      <th></th>\n",
              "      <th>survived</th>\n",
              "      <th>pclass</th>\n",
              "      <th>sex</th>\n",
              "      <th>age</th>\n",
              "      <th>sibsp</th>\n",
              "      <th>parch</th>\n",
              "      <th>fare</th>\n",
              "      <th>embarked</th>\n",
              "      <th>class</th>\n",
              "      <th>deck</th>\n",
              "      <th>embark_town</th>\n",
              "    </tr>\n",
              "  </thead>\n",
              "  <tbody>\n",
              "    <tr>\n",
              "      <th>0</th>\n",
              "      <td>0</td>\n",
              "      <td>3</td>\n",
              "      <td>male</td>\n",
              "      <td>22.0</td>\n",
              "      <td>1</td>\n",
              "      <td>0</td>\n",
              "      <td>7.2500</td>\n",
              "      <td>S</td>\n",
              "      <td>Third</td>\n",
              "      <td>NaN</td>\n",
              "      <td>Southampton</td>\n",
              "    </tr>\n",
              "    <tr>\n",
              "      <th>1</th>\n",
              "      <td>1</td>\n",
              "      <td>1</td>\n",
              "      <td>female</td>\n",
              "      <td>38.0</td>\n",
              "      <td>1</td>\n",
              "      <td>0</td>\n",
              "      <td>71.2833</td>\n",
              "      <td>C</td>\n",
              "      <td>First</td>\n",
              "      <td>C</td>\n",
              "      <td>Cherbourg</td>\n",
              "    </tr>\n",
              "    <tr>\n",
              "      <th>2</th>\n",
              "      <td>1</td>\n",
              "      <td>3</td>\n",
              "      <td>female</td>\n",
              "      <td>26.0</td>\n",
              "      <td>0</td>\n",
              "      <td>0</td>\n",
              "      <td>7.9250</td>\n",
              "      <td>S</td>\n",
              "      <td>Third</td>\n",
              "      <td>NaN</td>\n",
              "      <td>Southampton</td>\n",
              "    </tr>\n",
              "    <tr>\n",
              "      <th>3</th>\n",
              "      <td>1</td>\n",
              "      <td>1</td>\n",
              "      <td>female</td>\n",
              "      <td>35.0</td>\n",
              "      <td>1</td>\n",
              "      <td>0</td>\n",
              "      <td>53.1000</td>\n",
              "      <td>S</td>\n",
              "      <td>First</td>\n",
              "      <td>C</td>\n",
              "      <td>Southampton</td>\n",
              "    </tr>\n",
              "    <tr>\n",
              "      <th>4</th>\n",
              "      <td>0</td>\n",
              "      <td>3</td>\n",
              "      <td>male</td>\n",
              "      <td>35.0</td>\n",
              "      <td>0</td>\n",
              "      <td>0</td>\n",
              "      <td>8.0500</td>\n",
              "      <td>S</td>\n",
              "      <td>Third</td>\n",
              "      <td>NaN</td>\n",
              "      <td>Southampton</td>\n",
              "    </tr>\n",
              "  </tbody>\n",
              "</table>\n",
              "</div>"
            ],
            "text/plain": [
              "   survived  pclass     sex   age  sibsp  parch     fare embarked  class deck  \\\n",
              "0         0       3    male  22.0      1      0   7.2500        S  Third  NaN   \n",
              "1         1       1  female  38.0      1      0  71.2833        C  First    C   \n",
              "2         1       3  female  26.0      0      0   7.9250        S  Third  NaN   \n",
              "3         1       1  female  35.0      1      0  53.1000        S  First    C   \n",
              "4         0       3    male  35.0      0      0   8.0500        S  Third  NaN   \n",
              "\n",
              "   embark_town  \n",
              "0  Southampton  \n",
              "1    Cherbourg  \n",
              "2  Southampton  \n",
              "3  Southampton  \n",
              "4  Southampton  "
            ]
          },
          "metadata": {
            "tags": []
          },
          "execution_count": 22
        }
      ]
    },
    {
      "cell_type": "code",
      "metadata": {
        "colab": {
          "base_uri": "https://localhost:8080/",
          "height": 235
        },
        "id": "_wABprA4kd1E",
        "outputId": "db2dd152-87fc-42e4-ecf1-104fcc9dcae5"
      },
      "source": [
        "# Change columns to strings so they will be one hot encoded later on\n",
        "df[\"pclass\"] = df[\"pclass\"].astype(\"str\")\n",
        "df[\"parch\"] = df[\"parch\"].astype(\"str\")\n",
        "df[\"sibsp\"] = df[\"sibsp\"].astype(\"str\")\n",
        "\n",
        "# Scale continuous features and replace in the original df\n",
        "scaler = StandardScaler()\n",
        "scaled_df = pd.DataFrame(scaler.fit_transform(df[[\"age\", \"fare\"]]), columns=[\"age\", \"fare\"])\n",
        "df[\"age\"] = scaled_df[\"age\"]\n",
        "df[\"fare\"] = scaled_df[\"fare\"]\n",
        "\n",
        "# Total columns to be created\n",
        "df.describe(exclude=\"number\").T[\"unique\"].sum()"
      ],
      "execution_count": null,
      "outputs": [
        {
          "output_type": "execute_result",
          "data": {
            "text/plain": [
              "35"
            ]
          },
          "metadata": {
            "tags": []
          },
          "execution_count": 23
        }
      ]
    },
    {
      "cell_type": "code",
      "metadata": {
        "colab": {
          "base_uri": "https://localhost:8080/"
        },
        "id": "N6C89g7njZi4",
        "outputId": "19b3f446-0c45-4dfc-e49d-0f8b3606e4c6"
      },
      "source": [
        "# Create a dictionary holding all Classifiers and preprocessing techniques\n",
        "models = {\n",
        "    \"lr\": make_pipeline(ce.OneHotEncoder(), SimpleImputer(strategy=\"median\"),LogisticRegression()),\n",
        "    \"knn\": make_pipeline(ce.OneHotEncoder(), SimpleImputer(strategy=\"median\"),KNeighborsClassifier()),\n",
        "    \"dt\": make_pipeline(ce.OneHotEncoder(),SimpleImputer(strategy=\"median\") ,DecisionTreeClassifier())\n",
        "}\n",
        "\n",
        "# evaluate a given model using cross-validation\n",
        "def evaluate_model(model, X, y):\n",
        "    cv = RepeatedStratifiedKFold(n_splits=5, n_repeats=2, random_state=9000)\n",
        "    scores = cross_val_score(model, X, y, scoring='accuracy', cv=cv, n_jobs=-1)\n",
        "    return scores\n",
        "\n",
        "# Split data\n",
        "X = df.drop(\"survived\", axis=1)\n",
        "y = df[\"survived\"]\n",
        "\n",
        "# Baseline Score\n",
        "print(\"Model Baseline\")\n",
        "df[\"survived\"].value_counts(normalize=True)[0]"
      ],
      "execution_count": null,
      "outputs": [
        {
          "output_type": "stream",
          "text": [
            "Model Baseline\n"
          ],
          "name": "stdout"
        },
        {
          "output_type": "execute_result",
          "data": {
            "text/plain": [
              "0.6161616161616161"
            ]
          },
          "metadata": {
            "tags": []
          },
          "execution_count": 24
        }
      ]
    },
    {
      "cell_type": "code",
      "metadata": {
        "colab": {
          "base_uri": "https://localhost:8080/"
        },
        "id": "F6JtwSiJkSch",
        "outputId": "3233c35d-f1cf-4445-f4e4-e6b61e5baf02"
      },
      "source": [
        "# Evaluate models on their own\n",
        "\n",
        "result_ls = []\n",
        "model_ls = []\n",
        "\n",
        "# Iterate over models dict and evaluate each seprately\n",
        "for key, value in models.items():\n",
        "\n",
        "    # gather scores KFold cross validation scores\n",
        "    score = evaluate_model(value, X, y)\n",
        "    result_ls.append(score) # save results\n",
        "    model_ls.append(key) # save model name\n",
        "    print(f\"Model: {key}, Score: {np.mean(score)}\")"
      ],
      "execution_count": null,
      "outputs": [
        {
          "output_type": "stream",
          "text": [
            "Model: lr, Score: 0.8136934279078526\n",
            "Model: knn, Score: 0.7945985813822107\n",
            "Model: dt, Score: 0.7873014876655577\n"
          ],
          "name": "stdout"
        }
      ]
    },
    {
      "cell_type": "markdown",
      "metadata": {
        "id": "DyVyC8s3zYbi"
      },
      "source": [
        "#### Looking at our crossval score boxplots we can see that all models are performing pretty much the same. Lets see if we can do better with model stacking"
      ]
    },
    {
      "cell_type": "code",
      "metadata": {
        "colab": {
          "base_uri": "https://localhost:8080/",
          "height": 516
        },
        "id": "PRG8oBx0soTO",
        "outputId": "bd34695e-513f-4edf-bb46-f06350a959b4"
      },
      "source": [
        "plt.style.use(\"seaborn-whitegrid\")\n",
        "plt.figure(figsize=(10,8))\n",
        "plt.boxplot(result_ls, labels=model_ls, showmeans=True)\n",
        "plt.title(\"Cross Val Scores of Each Base Model\")\n",
        "plt.xlabel(\"Model\")\n",
        "plt.axhline(0.6161616161616161, linestyle=\"--\", c=\"r\", label=\"Baseline\")\n",
        "plt.legend()\n",
        "plt.ylabel(\"Accuracy\");"
      ],
      "execution_count": null,
      "outputs": [
        {
          "output_type": "display_data",
          "data": {
            "image/png": "[encoded data removed]",
            "text/plain": [
              "<Figure size 720x576 with 1 Axes>"
            ]
          },
          "metadata": {
            "tags": []
          }
        }
      ]
    },
    {
      "cell_type": "markdown",
      "metadata": {
        "id": "-mzWwC7b3YtG"
      },
      "source": [
        "[Stacking Classifier Docs](https://scikit-learn.org/stable/modules/generated/sklearn.ensemble.StackingClassifier.html)"
      ]
    },
    {
      "cell_type": "code",
      "metadata": {
        "id": "xjEw5TSJuDZ6"
      },
      "source": [
        "# Stacking Classifier is expecting a list\n",
        "stack_ls = [\n",
        "            (\"lr\", make_pipeline(ce.OneHotEncoder(), SimpleImputer(strategy=\"median\"),LogisticRegression())),\n",
        "            (\"knn\", make_pipeline(ce.OneHotEncoder(), SimpleImputer(strategy=\"median\"),KNeighborsClassifier())),\n",
        "            (\"dt\", make_pipeline(ce.OneHotEncoder(),SimpleImputer(strategy=\"median\") ,DecisionTreeClassifier()))\n",
        "            ]\n",
        "\n",
        "# Create Stacked Classifier\n",
        "stack_model = StackingClassifier(stack_ls, cv=5)\n",
        "\n",
        "# Add stack_model to models dictionary\n",
        "models[\"stacked\"] = stack_model"
      ],
      "execution_count": null,
      "outputs": []
    },
    {
      "cell_type": "code",
      "metadata": {
        "colab": {
          "base_uri": "https://localhost:8080/"
        },
        "id": "OoSy_vyU5EGE",
        "outputId": "d536dca8-9ca6-44dc-e51e-582d6c2a9004"
      },
      "source": [
        "# Evaluate All Models\n",
        "result_ls = []\n",
        "model_ls = []\n",
        "\n",
        "# Iterate over models dict and evaluate each seprately\n",
        "for key, value in models.items():\n",
        "\n",
        "    # gather scores KFold cross validation scores\n",
        "    score = evaluate_model(value, X, y)\n",
        "    result_ls.append(score) # save results\n",
        "    model_ls.append(key) # save model name\n",
        "    print(f\"Model: {key}, Score: {np.mean(score)}\")"
      ],
      "execution_count": null,
      "outputs": [
        {
          "output_type": "stream",
          "text": [
            "Model: lr, Score: 0.8136934279078526\n",
            "Model: knn, Score: 0.7945985813822107\n",
            "Model: dt, Score: 0.7822358922854812\n",
            "Model: stacked, Score: 0.821539765237587\n"
          ],
          "name": "stdout"
        }
      ]
    },
    {
      "cell_type": "markdown",
      "metadata": {
        "id": "QRltayzh6HE3"
      },
      "source": [
        "#### In this case our stacked estimator performed better than all base estimators so it is better to use the stacked estimator. If your stacked estimator does not perform better than one of your base estimators then it will be better to use the better performing base estimator"
      ]
    },
    {
      "cell_type": "code",
      "metadata": {
        "colab": {
          "base_uri": "https://localhost:8080/",
          "height": 516
        },
        "id": "dWlmWGk85eN9",
        "outputId": "9d242d96-afce-4205-d908-5e265a44af1e"
      },
      "source": [
        "plt.style.use(\"seaborn-whitegrid\")\n",
        "plt.figure(figsize=(10,8))\n",
        "plt.boxplot(result_ls, labels=model_ls, showmeans=True)\n",
        "plt.title(\"Cross Val Scores of Each Base Model and Stacked Model\")\n",
        "plt.xlabel(\"Model\")\n",
        "plt.axhline(0.6161616161616161, linestyle=\"--\", c=\"r\", label=\"Baseline\")\n",
        "plt.legend()\n",
        "plt.ylabel(\"Accuracy\");"
      ],
      "execution_count": null,
      "outputs": [
        {
          "output_type": "display_data",
          "data": {
            "image/png": "[encoded data removed]",
            "text/plain": [
              "<Figure size 720x576 with 1 Axes>"
            ]
          },
          "metadata": {
            "tags": []
          }
        }
      ]
    },
    {
      "cell_type": "markdown",
      "metadata": {
        "id": "gQxMZOJa7AWO"
      },
      "source": [
        "Grid Search"
      ]
    },
    {
      "cell_type": "code",
      "metadata": {
        "colab": {
          "base_uri": "https://localhost:8080/",
          "height": 235
        },
        "id": "c3oJ_ROT5w9B",
        "outputId": "95251f8d-6c64-496d-8d76-493a609aee08"
      },
      "source": [
        "param_grid = {\n",
        "    \"dt__onehotencoder__drop_invariant\": [True, False],\n",
        "    \"dt__simpleimputer__strategy\": [\"mean\", \"median\"],\n",
        "    \"dt__decisiontreeclassifier__criterion\": [\"gini\", \"entropy\"],\n",
        "    \"dt__decisiontreeclassifier__splitter\": [\"best\", \"random\"],\n",
        "    \"dt__decisiontreeclassifier__max_depth\": [None, 2],\n",
        "    \"dt__decisiontreeclassifier__ccp_alpha\": [0.0,0.030],\n",
        "    \"lr__onehotencoder__drop_invariant\": [True, False],\n",
        "    \"lr__simpleimputer__strategy\": [\"mean\", \"median\"],\n",
        "    \"lr__logisticregression__solver\": [\"lbfgs\", \"liblinear\"],\n",
        "    \"knn__onehotencoder__drop_invariant\": [True, False],\n",
        "    \"knn__kneighborsclassifier__n_neighbors\": [5,10],\n",
        "    \"knn__kneighborsclassifier__metric\": [\"minkowski\", \"euclidean\"],\n",
        "}\n",
        "\n",
        "grid_model = GridSearchCV(stack_model, param_grid=param_grid, cv=5, scoring=\"accuracy\", n_jobs=-1, verbose=2)\n",
        "\n",
        "grid_model.fit(X,y)"
      ],
      "execution_count": null,
      "outputs": [
        {
          "output_type": "stream",
          "text": [
            "Fitting 5 folds for each of 4096 candidates, totalling 20480 fits\n"
          ],
          "name": "stdout"
        },
        {
          "output_type": "stream",
          "text": [
            "[Parallel(n_jobs=-1)]: Using backend LokyBackend with 8 concurrent workers.\n",
            "[Parallel(n_jobs=-1)]: Done  25 tasks      | elapsed:   39.5s\n",
            "[Parallel(n_jobs=-1)]: Done 146 tasks      | elapsed:  3.1min\n",
            "[Parallel(n_jobs=-1)]: Done 349 tasks      | elapsed:  6.6min\n",
            "[Parallel(n_jobs=-1)]: Done 632 tasks      | elapsed: 11.6min\n",
            "[Parallel(n_jobs=-1)]: Done 997 tasks      | elapsed: 18.0min\n",
            "[Parallel(n_jobs=-1)]: Done 1442 tasks      | elapsed: 24.9min\n",
            "[Parallel(n_jobs=-1)]: Done 1969 tasks      | elapsed: 33.8min\n",
            "[Parallel(n_jobs=-1)]: Done 2576 tasks      | elapsed: 43.2min\n",
            "[Parallel(n_jobs=-1)]: Done 3265 tasks      | elapsed: 54.0min\n",
            "[Parallel(n_jobs=-1)]: Done 4034 tasks      | elapsed: 66.7min\n",
            "[Parallel(n_jobs=-1)]: Done 4885 tasks      | elapsed: 79.9min\n",
            "[Parallel(n_jobs=-1)]: Done 5816 tasks      | elapsed: 95.4min\n",
            "[Parallel(n_jobs=-1)]: Done 6829 tasks      | elapsed: 111.7min\n",
            "[Parallel(n_jobs=-1)]: Done 7922 tasks      | elapsed: 129.3min\n",
            "[Parallel(n_jobs=-1)]: Done 9097 tasks      | elapsed: 148.3min\n",
            "[Parallel(n_jobs=-1)]: Done 10352 tasks      | elapsed: 169.3min\n",
            "[Parallel(n_jobs=-1)]: Done 11689 tasks      | elapsed: 191.5min\n",
            "[Parallel(n_jobs=-1)]: Done 13106 tasks      | elapsed: 213.5min\n",
            "[Parallel(n_jobs=-1)]: Done 14605 tasks      | elapsed: 231.4min\n",
            "[Parallel(n_jobs=-1)]: Done 16184 tasks      | elapsed: 250.0min\n",
            "[Parallel(n_jobs=-1)]: Done 17845 tasks      | elapsed: 269.5min\n",
            "[Parallel(n_jobs=-1)]: Done 19586 tasks      | elapsed: 290.0min\n",
            "[Parallel(n_jobs=-1)]: Done 20480 out of 20480 | elapsed: 300.4min finished\n"
          ],
          "name": "stderr"
        },
        {
          "output_type": "execute_result",
          "data": {
            "text/plain": [
              "GridSearchCV(cv=5,\n",
              "             estimator=StackingClassifier(cv=5,\n",
              "                                          estimators=[('lr',\n",
              "                                                       Pipeline(steps=[('onehotencoder',\n",
              "                                                                        OneHotEncoder()),\n",
              "                                                                       ('simpleimputer',\n",
              "                                                                        SimpleImputer(strategy='median')),\n",
              "                                                                       ('logisticregression',\n",
              "                                                                        LogisticRegression())])),\n",
              "                                                      ('knn',\n",
              "                                                       Pipeline(steps=[('onehotencoder',\n",
              "                                                                        OneHotEncoder()),\n",
              "                                                                       ('simpleimputer',\n",
              "                                                                        SimpleImputer(strategy='median')),\n",
              "                                                                       ('kneighborsclassifier',...\n",
              "                         'dt__simpleimputer__strategy': ['mean', 'median'],\n",
              "                         'knn__kneighborsclassifier__metric': ['minkowski',\n",
              "                                                               'euclidean'],\n",
              "                         'knn__kneighborsclassifier__n_neighbors': [5, 10],\n",
              "                         'knn__onehotencoder__drop_invariant': [True, False],\n",
              "                         'lr__logisticregression__solver': ['lbfgs',\n",
              "                                                            'liblinear'],\n",
              "                         'lr__onehotencoder__drop_invariant': [True, False],\n",
              "                         'lr__simpleimputer__strategy': ['mean', 'median']},\n",
              "             scoring='accuracy', verbose=2)"
            ]
          },
          "metadata": {
            "tags": []
          },
          "execution_count": 32
        }
      ]
    },
    {
      "cell_type": "code",
      "metadata": {
        "colab": {
          "base_uri": "https://localhost:8080/"
        },
        "id": "8jgSNEcn7ude",
        "outputId": "52bab315-30ae-4582-98d4-3da03fef0e82"
      },
      "source": [
        "grid_model.best_score_"
      ],
      "execution_count": null,
      "outputs": [
        {
          "output_type": "execute_result",
          "data": {
            "text/plain": [
              "0.8283095850856819"
            ]
          },
          "metadata": {
            "tags": []
          },
          "execution_count": 33
        }
      ]
    },
    {
      "cell_type": "code",
      "metadata": {
        "id": "sqzYG2jo8bix",
        "outputId": "9893fbee-127e-45f3-eb88-58d1cb0402ec"
      },
      "source": [
        "grid_model.best_params_"
      ],
      "execution_count": null,
      "outputs": [
        {
          "output_type": "execute_result",
          "data": {
            "text/plain": [
              "{'dt__decisiontreeclassifier__ccp_alpha': 0.0,\n",
              " 'dt__decisiontreeclassifier__criterion': 'entropy',\n",
              " 'dt__decisiontreeclassifier__max_depth': None,\n",
              " 'dt__decisiontreeclassifier__splitter': 'best',\n",
              " 'dt__onehotencoder__drop_invariant': True,\n",
              " 'dt__simpleimputer__strategy': 'mean',\n",
              " 'knn__kneighborsclassifier__metric': 'euclidean',\n",
              " 'knn__kneighborsclassifier__n_neighbors': 5,\n",
              " 'knn__onehotencoder__drop_invariant': False,\n",
              " 'lr__logisticregression__solver': 'liblinear',\n",
              " 'lr__onehotencoder__drop_invariant': True,\n",
              " 'lr__simpleimputer__strategy': 'mean'}"
            ]
          },
          "metadata": {
            "tags": []
          },
          "execution_count": 34
        }
      ]
    },
    {
      "cell_type": "code",
      "metadata": {
        "id": "Nee5T9LZfRVq"
      },
      "source": [
        "# Pull out best model CV results to plot alongside all models tested\n",
        "grid_df = pd.DataFrame(grid_model.cv_results_)\n",
        "grid_cv_score_best = grid_df[grid_df[\"rank_test_score\"]==1].loc[:,\"split0_test_score\":\"split4_test_score\"].T[1068].values"
      ],
      "execution_count": null,
      "outputs": []
    },
    {
      "cell_type": "code",
      "metadata": {
        "id": "gcUz3maJfRVr"
      },
      "source": [
        "# Add results to running list of other model scores\n",
        "result_ls.append(grid_cv_score_best)\n",
        "model_ls.append(\"grid\")"
      ],
      "execution_count": null,
      "outputs": []
    },
    {
      "cell_type": "code",
      "metadata": {
        "id": "hAgZ0yKFfRVr",
        "outputId": "22ad6f4d-e721-4276-846e-8114c71956fa"
      },
      "source": [
        "# plot results\n",
        "plt.style.use(\"seaborn-whitegrid\")\n",
        "plt.tight_layout()\n",
        "plt.figure(figsize=(10,8))\n",
        "plt.boxplot(result_ls, labels=model_ls, showmeans=True)\n",
        "plt.title(\"Cross Val Scores of Each Base Model, Stacked Model, and Best Tuned Stacked Model\", fontsize=\"xx-large\")\n",
        "plt.xlabel(\"Model\", fontsize=\"x-large\")\n",
        "plt.xticks(fontsize=\"large\")\n",
        "plt.yticks(fontsize=\"large\")\n",
        "plt.axhline(0.6161616161616161, linestyle=\"--\", c=\"r\", label=\"Baseline Model\")\n",
        "plt.legend()\n",
        "plt.ylabel(\"Accuracy\", fontsize=\"x-large\")\n",
        "plt.grid(b=None, axis=\"x\")\n",
        "plt.savefig(\"compare_model.png\", dpi=150);"
      ],
      "execution_count": null,
      "outputs": [
        {
          "output_type": "display_data",
          "data": {
            "text/plain": [
              "<Figure size 800x550 with 0 Axes>"
            ]
          },
          "metadata": {
            "tags": []
          }
        },
        {
          "output_type": "display_data",
          "data": {
            "image/png": "[encoded data removed]",
            "text/plain": [
              "<Figure size 1000x800 with 1 Axes>"
            ]
          },
          "metadata": {
            "tags": []
          }
        }
      ]
    },
    {
      "cell_type": "code",
      "metadata": {
        "id": "mmHzdOBEfRVr"
      },
      "source": [
        ""
      ],
      "execution_count": null,
      "outputs": []
    }
  ]
}