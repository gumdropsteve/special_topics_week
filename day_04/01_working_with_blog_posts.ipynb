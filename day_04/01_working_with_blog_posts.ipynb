{
 "cells": [
  {
   "cell_type": "markdown",
   "metadata": {},
   "source": [
    "OG Notebook: https://github.com/BlazingDB/Welcome_to_BlazingSQL_Notebooks/blob/master/webinars/air_transport/OnTimeFlightPerformance.ipynb\n",
    "    \n",
    "OG Blog: https://blog.blazingdb.com/the-impact-of-covid-19-on-air-travel-4ca5ad1e5caf\n",
    "\n",
    "This Notebook can be run on [app.balzingsql.com](https://app.blazingsql.com)"
   ]
  },
  {
   "cell_type": "markdown",
   "metadata": {},
   "source": [
    "# GPU-Accelerated Data Science: On-time flight performance during COVID\n",
    "\n",
    "When the COVID-19 pandemic hit in 2019 a lot of industries were put on hold. During this time air travel was hit particularly hard. Has it had any impact on the ontime performance of airports and airlines? Let's find out!\n",
    "\n",
    "Sources:\n",
    "1. [Open Flights Data](https://openflights.org/data.html)\n",
    "2. [Bureau of Transportation Statistics](https://www.transtats.bts.gov/DL_SelectFields.asp?Table_ID=236&DB_Short_Name=On-Time). We will look at period 1/1/2020 to 5/31/2020."
   ]
  },
  {
   "cell_type": "markdown",
   "metadata": {},
   "source": [
    "jupyter labextension install @jupyter-widgets/jupyterlab-manager## Imports\n",
    "First, of course, let's import the tools that we need."
   ]
  },
  {
   "cell_type": "code",
   "execution_count": 1,
   "metadata": {},
   "outputs": [],
   "source": [
    "import cudf\n",
    "import s3fs\n",
    "import numpy as np\n",
    "from collections import OrderedDict\n",
    "import matplotlib.pyplot as plt\n",
    "import cartopy.crs as ccrs\n",
    "import cartopy.feature as cfeature"
   ]
  },
  {
   "cell_type": "markdown",
   "metadata": {},
   "source": [
    "### `BlazingContext`\n",
    "You must establish a `BlazingContext` to connect to a BlazingSQL instance to create tables, run queries, and basically do anything with BlazingSQL."
   ]
  },
  {
   "cell_type": "code",
   "execution_count": 2,
   "metadata": {},
   "outputs": [
    {
     "name": "stdout",
     "output_type": "stream",
     "text": [
      "BlazingContext ready\n"
     ]
    }
   ],
   "source": [
    "import blazingsql as bsql\n",
    "\n",
    "bc = bsql.BlazingContext()"
   ]
  },
  {
   "cell_type": "code",
   "execution_count": 3,
   "metadata": {},
   "outputs": [
    {
     "name": "stdout",
     "output_type": "stream",
     "text": [
      "BlazingContext ready\n"
     ]
    }
   ],
   "source": [
    "from blazingsql import BlazingContext\n",
    "\n",
    "bc = BlazingContext()"
   ]
  },
  {
   "cell_type": "markdown",
   "metadata": {},
   "source": [
    "^^ those are the same thing ^^"
   ]
  },
  {
   "cell_type": "markdown",
   "metadata": {},
   "source": [
    "## Data reading and querying\n",
    "\n",
    "There are two ways to load and query data using tools from the RAPIDS ecosystem: load directly into memory using `cudf` or `.create_table()` using `BlazingContext`."
   ]
  },
  {
   "cell_type": "markdown",
   "metadata": {},
   "source": [
    "### Flight data\n",
    "Paths to files"
   ]
  },
  {
   "cell_type": "code",
   "execution_count": 4,
   "metadata": {},
   "outputs": [
    {
     "data": {
      "text/plain": [
       "'s3://bsql/data/air_transport/flight_ontime_2020-0[1-5].parquet'"
      ]
     },
     "execution_count": 4,
     "metadata": {},
     "output_type": "execute_result"
    }
   ],
   "source": [
    "flight_data_path = 's3://bsql/data/air_transport/flight_ontime_2020-0[1-5].parquet'\n",
    "flight_data_path"
   ]
  },
  {
   "cell_type": "markdown",
   "metadata": {},
   "source": [
    "s3fs allows Linux and macOS to mount an S3 bucket via FUSE. s3fs preserves the native object format for files, allowing use of other tools like AWS CLI.\n",
    "\n",
    "https://github.com/s3fs-fuse/s3fs-fuse"
   ]
  },
  {
   "cell_type": "code",
   "execution_count": 5,
   "metadata": {},
   "outputs": [
    {
     "data": {
      "text/plain": [
       "<s3fs.core.S3FileSystem at 0x7f4ce8386d90>"
      ]
     },
     "execution_count": 5,
     "metadata": {},
     "output_type": "execute_result"
    }
   ],
   "source": [
    "s3 = s3fs.S3FileSystem(anon=True)\n",
    "s3"
   ]
  },
  {
   "cell_type": "markdown",
   "metadata": {},
   "source": [
    "Glob makes the files 1-5 for you, the list comprehension adds the `s3://` (same thing as `https://` but for s3 storage buckets)"
   ]
  },
  {
   "cell_type": "code",
   "execution_count": 6,
   "metadata": {},
   "outputs": [
    {
     "data": {
      "text/plain": [
       "['bsql/data/air_transport/flight_ontime_2020-01.parquet',\n",
       " 'bsql/data/air_transport/flight_ontime_2020-02.parquet',\n",
       " 'bsql/data/air_transport/flight_ontime_2020-03.parquet',\n",
       " 'bsql/data/air_transport/flight_ontime_2020-04.parquet',\n",
       " 'bsql/data/air_transport/flight_ontime_2020-05.parquet']"
      ]
     },
     "execution_count": 6,
     "metadata": {},
     "output_type": "execute_result"
    }
   ],
   "source": [
    "s3.glob(flight_data_path)"
   ]
  },
  {
   "cell_type": "code",
   "execution_count": 7,
   "metadata": {},
   "outputs": [
    {
     "data": {
      "text/plain": [
       "['s3://bsql/data/air_transport/flight_ontime_2020-01.parquet',\n",
       " 's3://bsql/data/air_transport/flight_ontime_2020-02.parquet',\n",
       " 's3://bsql/data/air_transport/flight_ontime_2020-03.parquet',\n",
       " 's3://bsql/data/air_transport/flight_ontime_2020-04.parquet',\n",
       " 's3://bsql/data/air_transport/flight_ontime_2020-05.parquet']"
      ]
     },
     "execution_count": 7,
     "metadata": {},
     "output_type": "execute_result"
    }
   ],
   "source": [
    "files = [f's3://{f}' for f in s3.glob(flight_data_path)]\n",
    "files"
   ]
  },
  {
   "cell_type": "markdown",
   "metadata": {},
   "source": [
    "#### Read the data\n",
    "We will use cuDF to read the data. (cuDF is pandas for GPU)"
   ]
  },
  {
   "cell_type": "code",
   "execution_count": 8,
   "metadata": {},
   "outputs": [],
   "source": [
    "# %%time  \n",
    "# # the reason this ^^ is here is because it's really fast\n",
    "# flights = []\n",
    "\n",
    "# # MemoryError: std::bad_alloc: CUDA error at: /opt/conda-environments/rapids-stable/include/rmm/mr/device/cuda_memory_resource.hpp:69: cudaErrorMemoryAllocation out of memory \n",
    "# files = files[:3]\n",
    "\n",
    "# for f in files:\n",
    "#     # add a dataframe of this file to the flights list\n",
    "#     flights.append(cudf.read_parquet(f, storage_options={'anon': True}))\n",
    "    \n",
    "# # join all the dataframes together\n",
    "# flights = cudf.concat(flights)"
   ]
  },
  {
   "cell_type": "markdown",
   "metadata": {},
   "source": [
    "#### This works now because BlazingSQL doesn't hold everything in memory... while cuDF was trying to and was running out of memory"
   ]
  },
  {
   "cell_type": "code",
   "execution_count": 9,
   "metadata": {},
   "outputs": [],
   "source": [
    "flight_data_path = 's3://bsql/data/air_transport/flight_ontime_2020-0[1-5].parquet'  # 's3://bsql/data/air_transport/flight_ontime_*.parquet'\n",
    "\n",
    "s3 = s3fs.S3FileSystem(anon=True)\n",
    "\n",
    "files = [f's3://{f}' for f in s3.glob(flight_data_path)]\n"
   ]
  },
  {
   "cell_type": "code",
   "execution_count": 10,
   "metadata": {},
   "outputs": [
    {
     "data": {
      "text/plain": [
       "['s3://bsql/data/air_transport/flight_ontime_2020-01.parquet',\n",
       " 's3://bsql/data/air_transport/flight_ontime_2020-02.parquet',\n",
       " 's3://bsql/data/air_transport/flight_ontime_2020-03.parquet',\n",
       " 's3://bsql/data/air_transport/flight_ontime_2020-04.parquet',\n",
       " 's3://bsql/data/air_transport/flight_ontime_2020-05.parquet']"
      ]
     },
     "execution_count": 10,
     "metadata": {},
     "output_type": "execute_result"
    }
   ],
   "source": [
    "files"
   ]
  },
  {
   "cell_type": "code",
   "execution_count": 11,
   "metadata": {},
   "outputs": [
    {
     "name": "stdout",
     "output_type": "stream",
     "text": [
      "BlazingContext ready\n"
     ]
    }
   ],
   "source": [
    "bc = bsql.BlazingContext()\n",
    "\n",
    "bc.s3('bsql', bucket_name = 'bsql')\n",
    "\n",
    "bc.create_table('air_transport', files)"
   ]
  },
  {
   "cell_type": "code",
   "execution_count": 12,
   "metadata": {},
   "outputs": [
    {
     "name": "stdout",
     "output_type": "stream",
     "text": [
      "Total number of flights in the dataset:    count(*)\n",
      "0   2508583\n"
     ]
    }
   ],
   "source": [
    "print(f'Total number of flights in the dataset: {bc.sql(\"SELECT COUNT(*) FROM air_transport\")}')"
   ]
  },
  {
   "cell_type": "code",
   "execution_count": 13,
   "metadata": {},
   "outputs": [],
   "source": [
    "# bc.sql('select * from air_transport limit 5')"
   ]
  },
  {
   "cell_type": "markdown",
   "metadata": {},
   "source": [
    "Note: to see all the columns https://stackoverflow.com/questions/47022070/display-all-dataframe-columns-in-a-jupyter-python-notebook/49841608"
   ]
  },
  {
   "cell_type": "code",
   "execution_count": 14,
   "metadata": {},
   "outputs": [],
   "source": [
    "import pandas as pd\n",
    "pd.options.display.max_columns = None"
   ]
  },
  {
   "cell_type": "code",
   "execution_count": 15,
   "metadata": {},
   "outputs": [],
   "source": [
    "# bc.sql('select * from air_transport limit 5')  # kernel restarting b/c no GPU memory"
   ]
  },
  {
   "cell_type": "markdown",
   "metadata": {},
   "source": [
    "Register a table with `BlazingContext`"
   ]
  },
  {
   "cell_type": "code",
   "execution_count": 16,
   "metadata": {},
   "outputs": [],
   "source": [
    "# bc.create_table('flights', flights)"
   ]
  },
  {
   "cell_type": "markdown",
   "metadata": {},
   "source": [
    "#### Columns and data types"
   ]
  },
  {
   "cell_type": "code",
   "execution_count": 17,
   "metadata": {},
   "outputs": [
    {
     "data": {
      "text/plain": [
       "Index(['YEAR', 'QUARTER', 'MONTH', 'DAY_OF_MONTH', 'DAY_OF_WEEK', 'FL_DATE',\n",
       "       'MKT_UNIQUE_CARRIER', 'MKT_CARRIER_FL_NUM', 'OP_UNIQUE_CARRIER',\n",
       "       'TAIL_NUM', 'OP_CARRIER_FL_NUM', 'ORIGIN_AIRPORT_ID',\n",
       "       'ORIGIN_AIRPORT_SEQ_ID', 'ORIGIN_CITY_MARKET_ID', 'ORIGIN',\n",
       "       'ORIGIN_STATE_ABR', 'ORIGIN_WAC', 'DEST_AIRPORT_ID',\n",
       "       'DEST_AIRPORT_SEQ_ID', 'DEST_CITY_MARKET_ID', 'DEST', 'DEST_STATE_ABR',\n",
       "       'DEST_WAC', 'CRS_DEP_TIME', 'DEP_TIME', 'DEP_DELAY', 'DEP_DELAY_NEW',\n",
       "       'DEP_DEL15', 'DEP_DELAY_GROUP', 'DEP_TIME_BLK', 'TAXI_OUT',\n",
       "       'WHEELS_OFF', 'WHEELS_ON', 'TAXI_IN', 'CRS_ARR_TIME', 'ARR_TIME',\n",
       "       'ARR_DELAY', 'ARR_DELAY_NEW', 'ARR_DEL15', 'ARR_DELAY_GROUP',\n",
       "       'ARR_TIME_BLK', 'CANCELLED', 'CANCELLATION_CODE', 'DIVERTED', 'DUP',\n",
       "       'CRS_ELAPSED_TIME', 'ACTUAL_ELAPSED_TIME', 'AIR_TIME', 'DISTANCE',\n",
       "       'CARRIER_DELAY', 'WEATHER_DELAY', 'NAS_DELAY', 'SECURITY_DELAY',\n",
       "       'LATE_AIRCRAFT_DELAY', 'Unnamed: 54'],\n",
       "      dtype='object')"
      ]
     },
     "execution_count": 17,
     "metadata": {},
     "output_type": "execute_result"
    }
   ],
   "source": [
    "bc.sql('select * from air_transport limit 0').columns"
   ]
  },
  {
   "cell_type": "code",
   "execution_count": 18,
   "metadata": {},
   "outputs": [
    {
     "data": {
      "text/plain": [
       "YEAR                       int64\n",
       "QUARTER                    int64\n",
       "MONTH                      int64\n",
       "DAY_OF_MONTH               int64\n",
       "DAY_OF_WEEK                int64\n",
       "FL_DATE                   object\n",
       "MKT_UNIQUE_CARRIER        object\n",
       "MKT_CARRIER_FL_NUM        object\n",
       "OP_UNIQUE_CARRIER         object\n",
       "TAIL_NUM                  object\n",
       "OP_CARRIER_FL_NUM         object\n",
       "ORIGIN_AIRPORT_ID          int64\n",
       "ORIGIN_AIRPORT_SEQ_ID      int64\n",
       "ORIGIN_CITY_MARKET_ID      int64\n",
       "ORIGIN                    object\n",
       "ORIGIN_STATE_ABR          object\n",
       "ORIGIN_WAC                 int64\n",
       "DEST_AIRPORT_ID            int64\n",
       "DEST_AIRPORT_SEQ_ID        int64\n",
       "DEST_CITY_MARKET_ID        int64\n",
       "DEST                      object\n",
       "DEST_STATE_ABR            object\n",
       "DEST_WAC                   int64\n",
       "CRS_DEP_TIME              object\n",
       "DEP_TIME                  object\n",
       "DEP_DELAY                float64\n",
       "DEP_DELAY_NEW            float64\n",
       "DEP_DEL15                float64\n",
       "DEP_DELAY_GROUP          float64\n",
       "DEP_TIME_BLK              object\n",
       "TAXI_OUT                 float64\n",
       "WHEELS_OFF                object\n",
       "WHEELS_ON                 object\n",
       "TAXI_IN                  float64\n",
       "CRS_ARR_TIME              object\n",
       "ARR_TIME                  object\n",
       "ARR_DELAY                float64\n",
       "ARR_DELAY_NEW            float64\n",
       "ARR_DEL15                float64\n",
       "ARR_DELAY_GROUP          float64\n",
       "ARR_TIME_BLK              object\n",
       "CANCELLED                float64\n",
       "CANCELLATION_CODE         object\n",
       "DIVERTED                 float64\n",
       "DUP                       object\n",
       "CRS_ELAPSED_TIME         float64\n",
       "ACTUAL_ELAPSED_TIME      float64\n",
       "AIR_TIME                 float64\n",
       "DISTANCE                 float64\n",
       "CARRIER_DELAY            float64\n",
       "WEATHER_DELAY            float64\n",
       "NAS_DELAY                float64\n",
       "SECURITY_DELAY           float64\n",
       "LATE_AIRCRAFT_DELAY      float64\n",
       "Unnamed: 54                 int8\n",
       "dtype: object"
      ]
     },
     "execution_count": 18,
     "metadata": {},
     "output_type": "execute_result"
    }
   ],
   "source": [
    "bc.sql('select * from air_transport limit 0').dtypes"
   ]
  },
  {
   "cell_type": "markdown",
   "metadata": {},
   "source": [
    "### Airlines and airports data\n",
    "Paths to files"
   ]
  },
  {
   "cell_type": "code",
   "execution_count": 19,
   "metadata": {},
   "outputs": [],
   "source": [
    "airports_path = 's3://bsql/data/air_transport/airports.csv'\n",
    "airlines_path = 's3://bsql/data/air_transport/airlines.csv'"
   ]
  },
  {
   "cell_type": "markdown",
   "metadata": {},
   "source": [
    "#### Read the data"
   ]
  },
  {
   "cell_type": "code",
   "execution_count": 20,
   "metadata": {},
   "outputs": [
    {
     "data": {
      "text/html": [
       "<div>\n",
       "<style scoped>\n",
       "    .dataframe tbody tr th:only-of-type {\n",
       "        vertical-align: middle;\n",
       "    }\n",
       "\n",
       "    .dataframe tbody tr th {\n",
       "        vertical-align: top;\n",
       "    }\n",
       "\n",
       "    .dataframe thead th {\n",
       "        text-align: right;\n",
       "    }\n",
       "</style>\n",
       "<table border=\"1\" class=\"dataframe\">\n",
       "  <thead>\n",
       "    <tr style=\"text-align: right;\">\n",
       "      <th></th>\n",
       "      <th>Airport ID</th>\n",
       "      <th>Name</th>\n",
       "      <th>City</th>\n",
       "      <th>Country</th>\n",
       "      <th>IATA</th>\n",
       "      <th>ICAO</th>\n",
       "      <th>Latitude</th>\n",
       "      <th>Longitude</th>\n",
       "      <th>Altitude</th>\n",
       "      <th>Timezone</th>\n",
       "      <th>DST</th>\n",
       "      <th>Type</th>\n",
       "      <th>Source</th>\n",
       "    </tr>\n",
       "  </thead>\n",
       "  <tbody>\n",
       "    <tr>\n",
       "      <th>7693</th>\n",
       "      <td>14106</td>\n",
       "      <td>Rogachyovo Air Base</td>\n",
       "      <td>Belaya</td>\n",
       "      <td>Russia</td>\n",
       "      <td>\\N</td>\n",
       "      <td>ULDA</td>\n",
       "      <td>71.616699</td>\n",
       "      <td>52.478298</td>\n",
       "      <td>272</td>\n",
       "      <td>\\N</td>\n",
       "      <td>\\N</td>\n",
       "      <td>\\N</td>\n",
       "      <td>airport</td>\n",
       "    </tr>\n",
       "    <tr>\n",
       "      <th>7694</th>\n",
       "      <td>14107</td>\n",
       "      <td>Ulan-Ude East Airport</td>\n",
       "      <td>Ulan Ude</td>\n",
       "      <td>Russia</td>\n",
       "      <td>\\N</td>\n",
       "      <td>XIUW</td>\n",
       "      <td>51.849998</td>\n",
       "      <td>107.737999</td>\n",
       "      <td>1670</td>\n",
       "      <td>\\N</td>\n",
       "      <td>\\N</td>\n",
       "      <td>\\N</td>\n",
       "      <td>airport</td>\n",
       "    </tr>\n",
       "    <tr>\n",
       "      <th>7695</th>\n",
       "      <td>14108</td>\n",
       "      <td>Krechevitsy Air Base</td>\n",
       "      <td>Novgorod</td>\n",
       "      <td>Russia</td>\n",
       "      <td>\\N</td>\n",
       "      <td>ULLK</td>\n",
       "      <td>58.625000</td>\n",
       "      <td>31.385000</td>\n",
       "      <td>85</td>\n",
       "      <td>\\N</td>\n",
       "      <td>\\N</td>\n",
       "      <td>\\N</td>\n",
       "      <td>airport</td>\n",
       "    </tr>\n",
       "    <tr>\n",
       "      <th>7696</th>\n",
       "      <td>14109</td>\n",
       "      <td>Desierto de Atacama Airport</td>\n",
       "      <td>Copiapo</td>\n",
       "      <td>Chile</td>\n",
       "      <td>CPO</td>\n",
       "      <td>SCAT</td>\n",
       "      <td>-27.261200</td>\n",
       "      <td>-70.779198</td>\n",
       "      <td>670</td>\n",
       "      <td>\\N</td>\n",
       "      <td>\\N</td>\n",
       "      <td>\\N</td>\n",
       "      <td>airport</td>\n",
       "    </tr>\n",
       "    <tr>\n",
       "      <th>7697</th>\n",
       "      <td>14110</td>\n",
       "      <td>Melitopol Air Base</td>\n",
       "      <td>Melitopol</td>\n",
       "      <td>Ukraine</td>\n",
       "      <td>\\N</td>\n",
       "      <td>UKDM</td>\n",
       "      <td>46.880001</td>\n",
       "      <td>35.305000</td>\n",
       "      <td>0</td>\n",
       "      <td>\\N</td>\n",
       "      <td>\\N</td>\n",
       "      <td>\\N</td>\n",
       "      <td>airport</td>\n",
       "    </tr>\n",
       "  </tbody>\n",
       "</table>\n",
       "</div>"
      ],
      "text/plain": [
       "      Airport ID                         Name       City  Country IATA  ICAO  \\\n",
       "7693       14106          Rogachyovo Air Base     Belaya   Russia   \\N  ULDA   \n",
       "7694       14107        Ulan-Ude East Airport   Ulan Ude   Russia   \\N  XIUW   \n",
       "7695       14108         Krechevitsy Air Base   Novgorod   Russia   \\N  ULLK   \n",
       "7696       14109  Desierto de Atacama Airport    Copiapo    Chile  CPO  SCAT   \n",
       "7697       14110           Melitopol Air Base  Melitopol  Ukraine   \\N  UKDM   \n",
       "\n",
       "       Latitude   Longitude  Altitude Timezone DST Type   Source  \n",
       "7693  71.616699   52.478298       272       \\N  \\N   \\N  airport  \n",
       "7694  51.849998  107.737999      1670       \\N  \\N   \\N  airport  \n",
       "7695  58.625000   31.385000        85       \\N  \\N   \\N  airport  \n",
       "7696 -27.261200  -70.779198       670       \\N  \\N   \\N  airport  \n",
       "7697  46.880001   35.305000         0       \\N  \\N   \\N  airport  "
      ]
     },
     "execution_count": 20,
     "metadata": {},
     "output_type": "execute_result"
    }
   ],
   "source": [
    "airports_dtypes = OrderedDict([\n",
    "      ('Airport ID', 'int64')\n",
    "    , ('Name', 'str')\n",
    "    , ('City', 'str')\n",
    "    , ('Country', 'str')\n",
    "    , ('IATA', 'str')\n",
    "    , ('ICAO', 'str')\n",
    "    , ('Latitude', 'float64')\n",
    "    , ('Longitude', 'float64')\n",
    "    , ('Altitude', 'int64')\n",
    "    , ('Timezone', 'str')\n",
    "    , ('DST', 'str')\n",
    "    , ('Type', 'str')\n",
    "    , ('Source', 'str')\n",
    "])\n",
    "\n",
    "airports = cudf.read_csv(\n",
    "    airports_path\n",
    "    , names=list(airports_dtypes.keys())\n",
    "    , dtype=list(airports_dtypes.values())\n",
    "    , storage_options={'anon': True}\n",
    ")\n",
    "airports.tail()"
   ]
  },
  {
   "cell_type": "markdown",
   "metadata": {},
   "source": [
    "https://www.geeksforgeeks.org/ordereddict-in-python/"
   ]
  },
  {
   "cell_type": "code",
   "execution_count": 21,
   "metadata": {},
   "outputs": [
    {
     "data": {
      "text/plain": [
       "OrderedDict([('Airline ID', 'int64'),\n",
       "             ('Name', 'str'),\n",
       "             ('Alias', 'str'),\n",
       "             ('IATA', 'str'),\n",
       "             ('ICAO', 'str'),\n",
       "             ('Callsign', 'str'),\n",
       "             ('Country', 'str'),\n",
       "             ('Active', 'str')])"
      ]
     },
     "execution_count": 21,
     "metadata": {},
     "output_type": "execute_result"
    }
   ],
   "source": [
    "airlines_dtypes = OrderedDict([\n",
    "    ('Airline ID', 'int64')\n",
    "    , ('Name', 'str')\n",
    "    , ('Alias', 'str')\n",
    "    , ('IATA', 'str')\n",
    "    , ('ICAO', 'str')\n",
    "    , ('Callsign', 'str')\n",
    "    , ('Country', 'str')\n",
    "    , ('Active', 'str')\n",
    "])\n",
    "airlines_dtypes"
   ]
  },
  {
   "cell_type": "code",
   "execution_count": 22,
   "metadata": {},
   "outputs": [
    {
     "data": {
      "text/html": [
       "<div>\n",
       "<style scoped>\n",
       "    .dataframe tbody tr th:only-of-type {\n",
       "        vertical-align: middle;\n",
       "    }\n",
       "\n",
       "    .dataframe tbody tr th {\n",
       "        vertical-align: top;\n",
       "    }\n",
       "\n",
       "    .dataframe thead th {\n",
       "        text-align: right;\n",
       "    }\n",
       "</style>\n",
       "<table border=\"1\" class=\"dataframe\">\n",
       "  <thead>\n",
       "    <tr style=\"text-align: right;\">\n",
       "      <th></th>\n",
       "      <th>Airline ID</th>\n",
       "      <th>Name</th>\n",
       "      <th>Alias</th>\n",
       "      <th>IATA</th>\n",
       "      <th>ICAO</th>\n",
       "      <th>Callsign</th>\n",
       "      <th>Country</th>\n",
       "      <th>Active</th>\n",
       "    </tr>\n",
       "  </thead>\n",
       "  <tbody>\n",
       "    <tr>\n",
       "      <th>6157</th>\n",
       "      <td>21248</td>\n",
       "      <td>GX Airlines</td>\n",
       "      <td></td>\n",
       "      <td></td>\n",
       "      <td>CBG</td>\n",
       "      <td>SPRAY</td>\n",
       "      <td>China</td>\n",
       "      <td>Y</td>\n",
       "    </tr>\n",
       "    <tr>\n",
       "      <th>6158</th>\n",
       "      <td>21251</td>\n",
       "      <td>Lynx Aviation (L3/SSX)</td>\n",
       "      <td></td>\n",
       "      <td></td>\n",
       "      <td>SSX</td>\n",
       "      <td>Shasta</td>\n",
       "      <td>United States</td>\n",
       "      <td>N</td>\n",
       "    </tr>\n",
       "    <tr>\n",
       "      <th>6159</th>\n",
       "      <td>21268</td>\n",
       "      <td>Jetgo Australia</td>\n",
       "      <td></td>\n",
       "      <td>JG</td>\n",
       "      <td>\\N</td>\n",
       "      <td></td>\n",
       "      <td>Australia</td>\n",
       "      <td>Y</td>\n",
       "    </tr>\n",
       "    <tr>\n",
       "      <th>6160</th>\n",
       "      <td>21270</td>\n",
       "      <td>Air Carnival</td>\n",
       "      <td></td>\n",
       "      <td>2S</td>\n",
       "      <td>\\N</td>\n",
       "      <td></td>\n",
       "      <td>India</td>\n",
       "      <td>Y</td>\n",
       "    </tr>\n",
       "    <tr>\n",
       "      <th>6161</th>\n",
       "      <td>21317</td>\n",
       "      <td>Svyaz Rossiya</td>\n",
       "      <td>Russian Commuter</td>\n",
       "      <td>7R</td>\n",
       "      <td>SJM</td>\n",
       "      <td>RussianConnecty</td>\n",
       "      <td>Russia</td>\n",
       "      <td>Y</td>\n",
       "    </tr>\n",
       "  </tbody>\n",
       "</table>\n",
       "</div>"
      ],
      "text/plain": [
       "      Airline ID                    Name              Alias IATA ICAO  \\\n",
       "6157       21248             GX Airlines                          CBG   \n",
       "6158       21251  Lynx Aviation (L3/SSX)                          SSX   \n",
       "6159       21268         Jetgo Australia                      JG   \\N   \n",
       "6160       21270            Air Carnival                      2S   \\N   \n",
       "6161       21317           Svyaz Rossiya  Russian Commuter    7R  SJM   \n",
       "\n",
       "             Callsign        Country Active  \n",
       "6157            SPRAY          China      Y  \n",
       "6158           Shasta  United States      N  \n",
       "6159                       Australia      Y  \n",
       "6160                           India      Y  \n",
       "6161  RussianConnecty         Russia      Y  "
      ]
     },
     "execution_count": 22,
     "metadata": {},
     "output_type": "execute_result"
    }
   ],
   "source": [
    "airlines = cudf.read_csv(\n",
    "    airlines_path\n",
    "    , names=list(airlines_dtypes.keys())\n",
    "    , dtype=list(airlines_dtypes.values())\n",
    "    , storage_options={'anon': True}\n",
    ")\n",
    "airlines.tail()"
   ]
  },
  {
   "cell_type": "markdown",
   "metadata": {},
   "source": [
    "Register tables with `BlazingContext`"
   ]
  },
  {
   "cell_type": "code",
   "execution_count": 23,
   "metadata": {},
   "outputs": [
    {
     "name": "stdout",
     "output_type": "stream",
     "text": [
      "CPU times: user 4.47 ms, sys: 0 ns, total: 4.47 ms\n",
      "Wall time: 2.93 ms\n"
     ]
    }
   ],
   "source": [
    "%%time\n",
    "bc.create_table('airports', airports)\n",
    "bc.create_table('airlines', airlines)"
   ]
  },
  {
   "cell_type": "markdown",
   "metadata": {},
   "source": [
    "Add state to the `airports` table."
   ]
  },
  {
   "cell_type": "code",
   "execution_count": 24,
   "metadata": {},
   "outputs": [],
   "source": [
    "airports_geo = bc.sql('''\n",
    "    SELECT \n",
    "        DISTINCT A.airport, A.State, \n",
    "        B.Name, B.City\n",
    "    FROM (\n",
    "        SELECT\n",
    "            DISTINCT ORIGIN AS Airport, \n",
    "            ORIGIN_STATE_ABR AS State\n",
    "        FROM \n",
    "            air_transport\n",
    "        UNION ALL\n",
    "            SELECT \n",
    "                DISTINCT DEST AS Airport, \n",
    "                DEST_STATE_ABR AS State\n",
    "            FROM \n",
    "                air_transport AS A\n",
    "        ) AS A\n",
    "    LEFT OUTER JOIN \n",
    "        airports AS B\n",
    "        ON A.Airport = B.IATA\n",
    "    ''')\n",
    "\n",
    "bc.create_table('airports_geo', airports_geo)"
   ]
  },
  {
   "cell_type": "code",
   "execution_count": 25,
   "metadata": {},
   "outputs": [
    {
     "data": {
      "text/html": [
       "<div>\n",
       "<style scoped>\n",
       "    .dataframe tbody tr th:only-of-type {\n",
       "        vertical-align: middle;\n",
       "    }\n",
       "\n",
       "    .dataframe tbody tr th {\n",
       "        vertical-align: top;\n",
       "    }\n",
       "\n",
       "    .dataframe thead th {\n",
       "        text-align: right;\n",
       "    }\n",
       "</style>\n",
       "<table border=\"1\" class=\"dataframe\">\n",
       "  <thead>\n",
       "    <tr style=\"text-align: right;\">\n",
       "      <th></th>\n",
       "      <th>airport</th>\n",
       "      <th>State</th>\n",
       "      <th>Name</th>\n",
       "      <th>City</th>\n",
       "    </tr>\n",
       "  </thead>\n",
       "  <tbody>\n",
       "    <tr>\n",
       "      <th>0</th>\n",
       "      <td>ABE</td>\n",
       "      <td>PA</td>\n",
       "      <td>Lehigh Valley International Airport</td>\n",
       "      <td>Allentown</td>\n",
       "    </tr>\n",
       "    <tr>\n",
       "      <th>1</th>\n",
       "      <td>ABI</td>\n",
       "      <td>TX</td>\n",
       "      <td>Abilene Regional Airport</td>\n",
       "      <td>Abilene</td>\n",
       "    </tr>\n",
       "  </tbody>\n",
       "</table>\n",
       "</div>"
      ],
      "text/plain": [
       "  airport State                                 Name       City\n",
       "0     ABE    PA  Lehigh Valley International Airport  Allentown\n",
       "1     ABI    TX             Abilene Regional Airport    Abilene"
      ]
     },
     "execution_count": 25,
     "metadata": {},
     "output_type": "execute_result"
    }
   ],
   "source": [
    "bc.sql('select * from airports_geo limit 2')"
   ]
  },
  {
   "cell_type": "code",
   "execution_count": 26,
   "metadata": {},
   "outputs": [
    {
     "data": {
      "text/html": [
       "<div>\n",
       "<style scoped>\n",
       "    .dataframe tbody tr th:only-of-type {\n",
       "        vertical-align: middle;\n",
       "    }\n",
       "\n",
       "    .dataframe tbody tr th {\n",
       "        vertical-align: top;\n",
       "    }\n",
       "\n",
       "    .dataframe thead th {\n",
       "        text-align: right;\n",
       "    }\n",
       "</style>\n",
       "<table border=\"1\" class=\"dataframe\">\n",
       "  <thead>\n",
       "    <tr style=\"text-align: right;\">\n",
       "      <th></th>\n",
       "      <th>count(*)</th>\n",
       "    </tr>\n",
       "  </thead>\n",
       "  <tbody>\n",
       "    <tr>\n",
       "      <th>0</th>\n",
       "      <td>371</td>\n",
       "    </tr>\n",
       "  </tbody>\n",
       "</table>\n",
       "</div>"
      ],
      "text/plain": [
       "   count(*)\n",
       "0       371"
      ]
     },
     "execution_count": 26,
     "metadata": {},
     "output_type": "execute_result"
    }
   ],
   "source": [
    "bc.sql('select count(*) from airports_geo')"
   ]
  },
  {
   "cell_type": "code",
   "execution_count": 27,
   "metadata": {},
   "outputs": [
    {
     "name": "stdout",
     "output_type": "stream",
     "text": [
      "CPU times: user 9.1 s, sys: 142 ms, total: 9.24 s\n",
      "Wall time: 5.89 s\n"
     ]
    },
    {
     "data": {
      "text/html": [
       "<div>\n",
       "<style scoped>\n",
       "    .dataframe tbody tr th:only-of-type {\n",
       "        vertical-align: middle;\n",
       "    }\n",
       "\n",
       "    .dataframe tbody tr th {\n",
       "        vertical-align: top;\n",
       "    }\n",
       "\n",
       "    .dataframe thead th {\n",
       "        text-align: right;\n",
       "    }\n",
       "</style>\n",
       "<table border=\"1\" class=\"dataframe\">\n",
       "  <thead>\n",
       "    <tr style=\"text-align: right;\">\n",
       "      <th></th>\n",
       "      <th>FL_DATE</th>\n",
       "      <th>OP_UNIQUE_CARRIER</th>\n",
       "      <th>CARRIER_NAME</th>\n",
       "      <th>ORIGIN</th>\n",
       "      <th>ORIGIN_NAME</th>\n",
       "      <th>ORIGIN_CITY</th>\n",
       "      <th>ORIGIN_STATE</th>\n",
       "      <th>DEST</th>\n",
       "      <th>DEST_NAME</th>\n",
       "      <th>DEST_CITY</th>\n",
       "      <th>Delay</th>\n",
       "    </tr>\n",
       "  </thead>\n",
       "  <tbody>\n",
       "    <tr>\n",
       "      <th>0</th>\n",
       "      <td>2020-01-23</td>\n",
       "      <td>MQ</td>\n",
       "      <td>American Eagle Airlines</td>\n",
       "      <td>DFW</td>\n",
       "      <td>Dallas Fort Worth International Airport</td>\n",
       "      <td>Dallas-Fort Worth</td>\n",
       "      <td>TX</td>\n",
       "      <td>TUL</td>\n",
       "      <td>Tulsa International Airport</td>\n",
       "      <td>Tulsa</td>\n",
       "      <td>17.0</td>\n",
       "    </tr>\n",
       "    <tr>\n",
       "      <th>1</th>\n",
       "      <td>2020-01-24</td>\n",
       "      <td>MQ</td>\n",
       "      <td>American Eagle Airlines</td>\n",
       "      <td>DFW</td>\n",
       "      <td>Dallas Fort Worth International Airport</td>\n",
       "      <td>Dallas-Fort Worth</td>\n",
       "      <td>TX</td>\n",
       "      <td>TUL</td>\n",
       "      <td>Tulsa International Airport</td>\n",
       "      <td>Tulsa</td>\n",
       "      <td>-6.0</td>\n",
       "    </tr>\n",
       "    <tr>\n",
       "      <th>2</th>\n",
       "      <td>2020-01-25</td>\n",
       "      <td>MQ</td>\n",
       "      <td>American Eagle Airlines</td>\n",
       "      <td>DFW</td>\n",
       "      <td>Dallas Fort Worth International Airport</td>\n",
       "      <td>Dallas-Fort Worth</td>\n",
       "      <td>TX</td>\n",
       "      <td>TUL</td>\n",
       "      <td>Tulsa International Airport</td>\n",
       "      <td>Tulsa</td>\n",
       "      <td>-5.0</td>\n",
       "    </tr>\n",
       "    <tr>\n",
       "      <th>3</th>\n",
       "      <td>2020-01-26</td>\n",
       "      <td>MQ</td>\n",
       "      <td>American Eagle Airlines</td>\n",
       "      <td>DFW</td>\n",
       "      <td>Dallas Fort Worth International Airport</td>\n",
       "      <td>Dallas-Fort Worth</td>\n",
       "      <td>TX</td>\n",
       "      <td>TUL</td>\n",
       "      <td>Tulsa International Airport</td>\n",
       "      <td>Tulsa</td>\n",
       "      <td>-4.0</td>\n",
       "    </tr>\n",
       "  </tbody>\n",
       "</table>\n",
       "</div>"
      ],
      "text/plain": [
       "      FL_DATE OP_UNIQUE_CARRIER             CARRIER_NAME ORIGIN  \\\n",
       "0  2020-01-23                MQ  American Eagle Airlines    DFW   \n",
       "1  2020-01-24                MQ  American Eagle Airlines    DFW   \n",
       "2  2020-01-25                MQ  American Eagle Airlines    DFW   \n",
       "3  2020-01-26                MQ  American Eagle Airlines    DFW   \n",
       "\n",
       "                               ORIGIN_NAME        ORIGIN_CITY ORIGIN_STATE  \\\n",
       "0  Dallas Fort Worth International Airport  Dallas-Fort Worth           TX   \n",
       "1  Dallas Fort Worth International Airport  Dallas-Fort Worth           TX   \n",
       "2  Dallas Fort Worth International Airport  Dallas-Fort Worth           TX   \n",
       "3  Dallas Fort Worth International Airport  Dallas-Fort Worth           TX   \n",
       "\n",
       "  DEST                    DEST_NAME DEST_CITY  Delay  \n",
       "0  TUL  Tulsa International Airport     Tulsa   17.0  \n",
       "1  TUL  Tulsa International Airport     Tulsa   -6.0  \n",
       "2  TUL  Tulsa International Airport     Tulsa   -5.0  \n",
       "3  TUL  Tulsa International Airport     Tulsa   -4.0  "
      ]
     },
     "execution_count": 27,
     "metadata": {},
     "output_type": "execute_result"
    }
   ],
   "source": [
    "%%time\n",
    "bc.sql('''\n",
    "    SELECT \n",
    "        A.FL_DATE, \n",
    "        A.OP_UNIQUE_CARRIER, \n",
    "        \n",
    "        B.Name AS CARRIER_NAME, \n",
    "        \n",
    "        A.ORIGIN, \n",
    "        \n",
    "        C.Name AS ORIGIN_NAME, \n",
    "        C.City AS ORIGIN_CITY, \n",
    "        C.State AS ORIGIN_STATE,\n",
    "        \n",
    "        A.DEST, \n",
    "        \n",
    "        D.Name AS DEST_NAME, \n",
    "        D.City AS DEST_CITY, \n",
    "        \n",
    "        A.DEP_DELAY AS Delay\n",
    "        \n",
    "    FROM \n",
    "        air_transport AS A\n",
    "    LEFT OUTER JOIN \n",
    "        airlines AS B\n",
    "        ON A.OP_UNIQUE_CARRIER = B.IATA\n",
    "    LEFT OUTER JOIN \n",
    "        airports_geo AS C\n",
    "        ON A.ORIGIN = C.airport\n",
    "    LEFT OUTER JOIN \n",
    "        airports_geo AS D\n",
    "        ON A.DEST = D.airport\n",
    "    LIMIT 4\n",
    "''')"
   ]
  },
  {
   "cell_type": "markdown",
   "metadata": {},
   "source": [
    "## Questions"
   ]
  },
  {
   "cell_type": "markdown",
   "metadata": {},
   "source": [
    "### 1. How many unique airports are in the dataset?"
   ]
  },
  {
   "cell_type": "code",
   "execution_count": 28,
   "metadata": {},
   "outputs": [
    {
     "data": {
      "text/html": [
       "<div>\n",
       "<style scoped>\n",
       "    .dataframe tbody tr th:only-of-type {\n",
       "        vertical-align: middle;\n",
       "    }\n",
       "\n",
       "    .dataframe tbody tr th {\n",
       "        vertical-align: top;\n",
       "    }\n",
       "\n",
       "    .dataframe thead th {\n",
       "        text-align: right;\n",
       "    }\n",
       "</style>\n",
       "<table border=\"1\" class=\"dataframe\">\n",
       "  <thead>\n",
       "    <tr style=\"text-align: right;\">\n",
       "      <th></th>\n",
       "      <th>count(ORIGIN)</th>\n",
       "    </tr>\n",
       "  </thead>\n",
       "  <tbody>\n",
       "    <tr>\n",
       "      <th>0</th>\n",
       "      <td>371</td>\n",
       "    </tr>\n",
       "  </tbody>\n",
       "</table>\n",
       "</div>"
      ],
      "text/plain": [
       "   count(ORIGIN)\n",
       "0            371"
      ]
     },
     "execution_count": 28,
     "metadata": {},
     "output_type": "execute_result"
    }
   ],
   "source": [
    "bc.sql('SELECT COUNT(DISTINCT ORIGIN) FROM air_transport')"
   ]
  },
  {
   "cell_type": "code",
   "execution_count": 29,
   "metadata": {},
   "outputs": [],
   "source": [
    "# print(f'There are {len(flights[\"ORIGIN\"].unique())} distinct airports in the dataset')"
   ]
  },
  {
   "cell_type": "code",
   "execution_count": 30,
   "metadata": {},
   "outputs": [
    {
     "name": "stdout",
     "output_type": "stream",
     "text": [
      "There are 371 distinct airports in the dataset\n"
     ]
    }
   ],
   "source": [
    "print(f'There are {bc.sql(\"SELECT COUNT(DISTINCT ORIGIN) FROM air_transport\").iloc[0].values[0]} distinct airports in the dataset')"
   ]
  },
  {
   "cell_type": "code",
   "execution_count": 31,
   "metadata": {},
   "outputs": [],
   "source": [
    "# # create flights table for copy/paste purposes\n",
    "# bc.create_table('flights', bc.sql('select * from air_transport'))"
   ]
  },
  {
   "cell_type": "code",
   "execution_count": 33,
   "metadata": {},
   "outputs": [
    {
     "name": "stdout",
     "output_type": "stream",
     "text": [
      "Before pandemic share of delayed flights: 27.55%\n",
      "After pandemic share of delayed flights: 12.06%\n"
     ]
    }
   ],
   "source": [
    "delays_lt_mar20_share = bc.sql('''\n",
    "    SELECT SUM(Delayed) / CAST(COUNT(*) AS FLOAT) AS Delayed_share\n",
    "    FROM (\n",
    "        SELECT CASE WHEN DEP_DELAY > 0 THEN 1 ELSE 0 END AS Delayed\n",
    "        FROM air_transport \n",
    "        WHERE FL_DATE < DATE'2020-03-01'\n",
    "    ) AS A\n",
    "'''\n",
    ")\n",
    "\n",
    "delays_gt_mar20_share = bc.sql('''\n",
    "    SELECT SUM(Delayed) / CAST(COUNT(*) AS FLOAT) AS Delayed_share\n",
    "    FROM (\n",
    "        SELECT CASE WHEN DEP_DELAY > 0 THEN 1 ELSE 0 END AS Delayed\n",
    "        FROM air_transport \n",
    "        WHERE FL_DATE >= DATE'2020-03-01'\n",
    "    ) AS A\n",
    "'''\n",
    ")\n",
    "\n",
    "print(f'Before pandemic share of delayed flights: ' \n",
    "      f'{delays_lt_mar20_share[\"Delayed_share\"][0]:.2%}')\n",
    "print(f'After pandemic share of delayed flights: '\n",
    "      f'{delays_gt_mar20_share[\"Delayed_share\"][0]:.2%}')"
   ]
  },
  {
   "cell_type": "markdown",
   "metadata": {},
   "source": [
    "# optional assignment\n",
    "Continue troubleshooting..."
   ]
  },
  {
   "cell_type": "markdown",
   "metadata": {},
   "source": [
    "### 2. How many flights were delayed and departed early? What is the distribution?"
   ]
  },
  {
   "cell_type": "code",
   "execution_count": null,
   "metadata": {},
   "outputs": [],
   "source": [
    "print(f'{len(flights[flights[\"DEP_DELAY\"] > 0]):,} flights were delayed and {len(flights[flights[\"DEP_DELAY\"] <= 0]):,} left on time or early')"
   ]
  },
  {
   "cell_type": "code",
   "execution_count": null,
   "metadata": {},
   "outputs": [],
   "source": [
    "### calculate the distribution\n",
    "n_bins = 100\n",
    "\n",
    "delays = flights[flights['DEP_DELAY'] >  0]['DEP_DELAY']\n",
    "ontime = flights[flights['DEP_DELAY'] <= 0]['DEP_DELAY']"
   ]
  },
  {
   "cell_type": "code",
   "execution_count": null,
   "metadata": {},
   "outputs": [],
   "source": [
    "%%time\n",
    "del_bins = np.array([i * 15 for i in range(0, n_bins)], dtype='float64')\n",
    "delays_binned = delays.digitize(del_bins)\n",
    "delays_histogram = delays_binned.groupby().count() / len(delays)\n",
    "(\n",
    "    delays_histogram\n",
    "    .set_index(del_bins[delays_histogram.index.to_array()-1])\n",
    "    .to_pandas()\n",
    "    .plot(kind='bar', figsize=(20,9), ylim=[0,1.0], title='Delayed departure distribution')\n",
    ")"
   ]
  },
  {
   "cell_type": "code",
   "execution_count": null,
   "metadata": {},
   "outputs": [],
   "source": [
    "%%time\n",
    "ontime_bins = np.array([i * (-1) for i in range(n_bins,0,-1)], dtype='float64')\n",
    "ontime_binned = ontime.digitize(ontime_bins)\n",
    "ontime_histogram = ontime_binned.groupby().count() / len(ontime)\n",
    "(\n",
    "    ontime_histogram\n",
    "    .set_index(ontime_bins[ontime_histogram.index.to_array()-1])\n",
    "    .to_pandas()\n",
    "    .plot(kind='bar', figsize=(20,9), ylim=[0,1.0], title='Early departure distribution')\n",
    ")"
   ]
  },
  {
   "cell_type": "markdown",
   "metadata": {},
   "source": [
    "### 3. Delays distribution over time"
   ]
  },
  {
   "cell_type": "code",
   "execution_count": null,
   "metadata": {},
   "outputs": [],
   "source": [
    "q10 = lambda x: x.quantile(0.10); q10.__name__ = \"q0.10\"\n",
    "q25 = lambda x: x.quantile(0.25); q25.__name__ = \"q0.25\"\n",
    "q75 = lambda x: x.quantile(0.75); q75.__name__ = \"q0.75\"\n",
    "q90 = lambda x: x.quantile(0.90); q90.__name__ = \"q0.90\"\n",
    "\n",
    "delay_aggs = (\n",
    "    flights[['MONTH', 'DEP_DELAY']]\n",
    "    .groupby(by='MONTH')\n",
    "    .agg({'DEP_DELAY': [q10, q25,'median',q75, q90]})\n",
    ")\n",
    "\n",
    "delay_aggs.columns = ['_'.join(col) for col in delay_aggs.columns]"
   ]
  },
  {
   "cell_type": "code",
   "execution_count": null,
   "metadata": {},
   "outputs": [],
   "source": [
    "host=delay_aggs.to_pandas()\n",
    "host"
   ]
  },
  {
   "cell_type": "code",
   "execution_count": null,
   "metadata": {},
   "outputs": [],
   "source": [
    "x = ['JAN', 'FEB', 'MAR', 'APR', 'MAY']\n",
    "fig, ax = plt.subplots(figsize=(12,9))\n",
    "ax.plot(x, host['DEP_DELAY_median'], 'r--', label='median')\n",
    "ax.fill_between(x, host['DEP_DELAY_q0.10'], host['DEP_DELAY_q0.90']\n",
    "                , alpha=.2, label='Quart10 - Quart90')\n",
    "ax.fill_between(x, host['DEP_DELAY_q0.25'], host['DEP_DELAY_q0.75']\n",
    "                , alpha=.2, label='Quart25 - Quart75')\n",
    "ax.legend()"
   ]
  },
  {
   "cell_type": "markdown",
   "metadata": {},
   "source": [
    "### 4. What are the top 5 airlines and airports with most delays and at least 1000 flights? What is average delay?"
   ]
  },
  {
   "cell_type": "code",
   "execution_count": null,
   "metadata": {},
   "outputs": [],
   "source": [
    "delays = flights[flights['DEP_DELAY'] >  0][['DEP_DELAY', 'ORIGIN', 'DEST', 'OP_UNIQUE_CARRIER']]\n",
    "ontime = flights[flights['DEP_DELAY'] <= 0][['DEP_DELAY', 'ORIGIN', 'DEST', 'OP_UNIQUE_CARRIER']]"
   ]
  },
  {
   "cell_type": "code",
   "execution_count": null,
   "metadata": {},
   "outputs": [],
   "source": [
    "bc.create_table('delays', delays)\n",
    "bc.create_table('ontime', ontime)"
   ]
  },
  {
   "cell_type": "code",
   "execution_count": null,
   "metadata": {},
   "outputs": [],
   "source": [
    "def plot_airports(df, cmap, agg_cols, indicator):\n",
    "    host = df.to_pandas()\n",
    "    \n",
    "    ### figure\n",
    "    fig = plt.figure(figsize=(12,9))\n",
    "    \n",
    "    ### plot on map\n",
    "    ax = fig.add_subplot(1, 1, 1, projection=ccrs.PlateCarree())\n",
    "    ax.set_extent([-125, -70, 22, 55], crs=ccrs.PlateCarree()) ## US Continental\n",
    "    ax.stock_img()\n",
    "    \n",
    "    ### add features\n",
    "    ax.add_feature(cfeature.LAKES)\n",
    "    ax.add_feature(cfeature.STATES)\n",
    "    ax.add_feature(cfeature.COASTLINE)\n",
    "    \n",
    "    ### add data\n",
    "    bubbles = ax.scatter(\n",
    "        host['Longitude']\n",
    "        , host['Latitude']\n",
    "        , s=host[agg_cols['CNT']] / 50, label=\"Flight Count\"\n",
    "        , c=host[agg_cols['AVG']]\n",
    "        , cmap=plt.get_cmap(cmap)\n",
    "        , alpha=0.8\n",
    "    )\n",
    "\n",
    "    ### add colorbar\n",
    "    delays = host[agg_cols['AVG']]\n",
    "    tick_values = np.linspace(delays.min(), delays.max(), 11)\n",
    "    cbar = fig.colorbar(bubbles, shrink=0.7)\n",
    "    cbar.ax.set_yticklabels([f'{round(v)} mins' for v in tick_values], fontsize=14)\n",
    "    cbar.set_label(f'Average {indicator}', fontsize=16)\n",
    "    plt.legend(fontsize=16)"
   ]
  },
  {
   "cell_type": "markdown",
   "metadata": {},
   "source": [
    "### Most delayed\n",
    "#### Origin"
   ]
  },
  {
   "cell_type": "code",
   "execution_count": null,
   "metadata": {},
   "outputs": [],
   "source": [
    "%%time\n",
    "delayed_origin = bc.sql('''\n",
    "    SELECT A.ORIGIN\n",
    "        , B.Name AS ORIGIN_Airport\n",
    "        , B.City AS ORIGIN_City\n",
    "        , B.Country AS ORIGIN_Country\n",
    "        , B.Latitude\n",
    "        , B.Longitude\n",
    "        , COUNT(*) AS DELAY_CNT\n",
    "        , AVG(DEP_DELAY) AS AVG_DELAY\n",
    "    FROM delays AS A\n",
    "    LEFT OUTER JOIN airports AS B\n",
    "        ON A.ORIGIN = B.IATA\n",
    "    GROUP BY A.ORIGIN\n",
    "        , B.Name\n",
    "        , B.City\n",
    "        , B.Country\n",
    "        , B.Latitude\n",
    "        , B.Longitude\n",
    "    HAVING COUNT(*) > 1000\n",
    "        AND B.Country = 'United States'\n",
    "    ORDER BY AVG(DEP_DELAY) DESC\n",
    "    LIMIT 60\n",
    "''')\n",
    "delayed_origin.head()"
   ]
  },
  {
   "cell_type": "code",
   "execution_count": null,
   "metadata": {},
   "outputs": [],
   "source": [
    "### plot\n",
    "plot_airports(\n",
    "    delayed_origin\n",
    "    , 'YlOrRd'\n",
    "    , {'CNT': 'DELAY_CNT', 'AVG': 'AVG_DELAY'}\n",
    "    , 'delays'\n",
    ")"
   ]
  },
  {
   "cell_type": "markdown",
   "metadata": {},
   "source": [
    "#### Destination"
   ]
  },
  {
   "cell_type": "code",
   "execution_count": null,
   "metadata": {},
   "outputs": [],
   "source": [
    "%%time\n",
    "delayed_destination = bc.sql('''\n",
    "    SELECT A.DEST\n",
    "        , B.Name AS DEST_Airport\n",
    "        , B.City AS DEST_City\n",
    "        , B.Country AS DEST_Country\n",
    "        , B.Latitude\n",
    "        , B.Longitude\n",
    "        , COUNT(*) AS DELAY_CNT\n",
    "        , AVG(DEP_DELAY) AS AVG_DELAY\n",
    "    FROM delays AS A\n",
    "    LEFT OUTER JOIN airports AS B\n",
    "        ON A.DEST = B.IATA\n",
    "    GROUP BY A.DEST\n",
    "        , B.Name\n",
    "        , B.City\n",
    "        , B.Country\n",
    "        , B.Latitude\n",
    "        , B.Longitude\n",
    "    HAVING COUNT(*) > 1000\n",
    "        AND B.Country = 'United States'\n",
    "    ORDER BY AVG(DEP_DELAY) DESC\n",
    "    LIMIT 60\n",
    "''')\n",
    "delayed_destination.head()"
   ]
  },
  {
   "cell_type": "code",
   "execution_count": null,
   "metadata": {},
   "outputs": [],
   "source": [
    "### plot\n",
    "plot_airports(\n",
    "    delayed_destination\n",
    "    , 'YlOrRd'\n",
    "    , {'CNT': 'DELAY_CNT', 'AVG': 'AVG_DELAY'}\n",
    "    , 'delays'\n",
    ")"
   ]
  },
  {
   "cell_type": "markdown",
   "metadata": {},
   "source": [
    "#### Airlines"
   ]
  },
  {
   "cell_type": "code",
   "execution_count": null,
   "metadata": {},
   "outputs": [],
   "source": [
    "%%time\n",
    "bc.sql('''\n",
    "    SELECT A.OP_UNIQUE_CARRIER AS CARRIER\n",
    "        , B.Name AS CARRIER_Name\n",
    "        , B.Country AS CARRIER_Country\n",
    "        , COUNT(*) AS DELAY_CNT\n",
    "        , AVG(DEP_DELAY) AS AVG_DELAY\n",
    "    FROM delays AS A\n",
    "    LEFT OUTER JOIN airlines AS B\n",
    "        ON A.OP_UNIQUE_CARRIER = B.IATA\n",
    "    GROUP BY A.OP_UNIQUE_CARRIER\n",
    "        , B.Name\n",
    "        , B.Country\n",
    "    HAVING COUNT(*) > 1000\n",
    "    ORDER BY AVG(DEP_DELAY) DESC\n",
    "    LIMIT 5\n",
    "''')"
   ]
  },
  {
   "cell_type": "markdown",
   "metadata": {},
   "source": [
    "### Most punctual"
   ]
  },
  {
   "cell_type": "markdown",
   "metadata": {},
   "source": [
    "#### Origin"
   ]
  },
  {
   "cell_type": "code",
   "execution_count": null,
   "metadata": {},
   "outputs": [],
   "source": [
    "%%time\n",
    "ontime_origin = bc.sql('''\n",
    "    SELECT A.ORIGIN\n",
    "        , B.Name AS ORIGIN_Airport\n",
    "        , B.City AS ORIGIN_City\n",
    "        , B.Country AS ORIGIN_Country\n",
    "        , B.Latitude\n",
    "        , B.Longitude\n",
    "        , COUNT(*) AS ONTIME_CNT\n",
    "        , AVG(DEP_DELAY) AS AVG_ONTIME\n",
    "    FROM ontime AS A\n",
    "    LEFT OUTER JOIN airports AS B\n",
    "        ON A.ORIGIN = B.IATA\n",
    "    GROUP BY A.ORIGIN\n",
    "        , B.Name\n",
    "        , B.City\n",
    "        , B.Country\n",
    "        , B.Latitude\n",
    "        , B.Longitude\n",
    "    HAVING COUNT(*) > 1000\n",
    "        AND B.Country = 'United States'\n",
    "    ORDER BY AVG(DEP_DELAY) DESC\n",
    "    LIMIT 60\n",
    "''')\n",
    "ontime_origin.head()"
   ]
  },
  {
   "cell_type": "code",
   "execution_count": null,
   "metadata": {},
   "outputs": [],
   "source": [
    "### plot\n",
    "plot_airports(\n",
    "    ontime_origin\n",
    "    , 'Greens'\n",
    "    , {'CNT': 'ONTIME_CNT', 'AVG': 'AVG_ONTIME'}\n",
    "    , 'ontime'\n",
    ")"
   ]
  },
  {
   "cell_type": "markdown",
   "metadata": {},
   "source": [
    "#### Destination"
   ]
  },
  {
   "cell_type": "code",
   "execution_count": null,
   "metadata": {},
   "outputs": [],
   "source": [
    "%%time\n",
    "ontime_destination = bc.sql('''\n",
    "    SELECT A.DEST\n",
    "        , B.Name AS DEST_Airport\n",
    "        , B.City AS DEST_City\n",
    "        , B.Country AS DEST_Country\n",
    "        , B.Latitude\n",
    "        , B.Longitude\n",
    "        , COUNT(*) AS ONTIME_CNT\n",
    "        , AVG(DEP_DELAY) AS AVG_ONTIME\n",
    "    FROM ontime AS A\n",
    "    LEFT OUTER JOIN airports AS B\n",
    "        ON A.DEST = B.IATA\n",
    "    GROUP BY A.DEST\n",
    "        , B.Name\n",
    "        , B.City\n",
    "        , B.Country\n",
    "        , B.Latitude\n",
    "        , B.Longitude\n",
    "    HAVING COUNT(*) > 1000\n",
    "        AND B.Country = 'United States'\n",
    "    ORDER BY AVG(DEP_DELAY) DESC\n",
    "    LIMIT 30\n",
    "''')\n",
    "ontime_destination.head(5)"
   ]
  },
  {
   "cell_type": "code",
   "execution_count": null,
   "metadata": {},
   "outputs": [],
   "source": [
    "### plot\n",
    "plot_airports(\n",
    "    ontime_destination\n",
    "    , 'Greens'\n",
    "    , {'CNT': 'ONTIME_CNT', 'AVG': 'AVG_ONTIME'}\n",
    "    , 'ontime'\n",
    ")"
   ]
  },
  {
   "cell_type": "markdown",
   "metadata": {},
   "source": [
    "#### Airline"
   ]
  },
  {
   "cell_type": "code",
   "execution_count": null,
   "metadata": {},
   "outputs": [],
   "source": [
    "%%time\n",
    "bc.sql('''\n",
    "    SELECT A.OP_UNIQUE_CARRIER AS CARRIER\n",
    "        , B.Name AS CARRIER_Name\n",
    "        , B.Country AS CARRIER_Country\n",
    "        , AVG(DEP_DELAY) AS AVG_ONTIME\n",
    "    FROM ontime AS A\n",
    "    LEFT OUTER JOIN airlines AS B\n",
    "        ON A.OP_UNIQUE_CARRIER = B.IATA\n",
    "    GROUP BY A.OP_UNIQUE_CARRIER\n",
    "        , B.Name\n",
    "        , B.Country\n",
    "    HAVING COUNT(*) > 1000\n",
    "    ORDER BY AVG(DEP_DELAY) DESC\n",
    "    LIMIT 5\n",
    "''')"
   ]
  },
  {
   "cell_type": "markdown",
   "metadata": {},
   "source": [
    "### 5. What flights departing SEA experienced significant delays?"
   ]
  },
  {
   "cell_type": "code",
   "execution_count": null,
   "metadata": {},
   "outputs": [],
   "source": [
    "%%time\n",
    "destinations = bc.sql('''\n",
    "    SELECT ORIGIN\n",
    "        , ORIGIN_LAT\n",
    "        , ORIGIN_LON\n",
    "        , DEST\n",
    "        , DEST_LAT\n",
    "        , DEST_LON\n",
    "        , COUNT(*) AS DELAY_CNT\n",
    "        , AVG(Delay) AS AVG_DELAY\n",
    "    FROM (\n",
    "        SELECT A.ORIGIN\n",
    "            , B.Latitude AS ORIGIN_LAT\n",
    "            , B.Longitude AS ORIGIN_LON\n",
    "            , A.DEST\n",
    "            , C.Latitude AS DEST_LAT\n",
    "            , C.Longitude AS DEST_LON\n",
    "            , A.DEP_DELAY AS Delay\n",
    "        FROM flights AS A\n",
    "        LEFT OUTER JOIN airports AS B\n",
    "            ON A.ORIGIN = B.IATA\n",
    "        LEFT OUTER JOIN airports AS C\n",
    "            ON A.DEST = C.IATA\n",
    "        WHERE ORIGIN = 'SEA'\n",
    "            AND C.Country = 'United States'\n",
    "            AND DEP_DELAY > 60  -- DELAYED BY MORE THAN HOUR\n",
    "    ) AS A\n",
    "    GROUP BY ORIGIN\n",
    "        , ORIGIN_LAT\n",
    "        , ORIGIN_LON\n",
    "        , DEST\n",
    "        , DEST_LAT\n",
    "        , DEST_LON\n",
    "    HAVING COUNT(*) > 50\n",
    "    ORDER BY AVG_DELAY DESC\n",
    "    LIMIT 30\n",
    "''')\n",
    "destinations.head(5)"
   ]
  },
  {
   "cell_type": "markdown",
   "metadata": {},
   "source": [
    "Plot the results on the map"
   ]
  },
  {
   "cell_type": "code",
   "execution_count": null,
   "metadata": {},
   "outputs": [],
   "source": [
    "def add_lines(ax, host):\n",
    "    lines = host[['ORIGIN_LON', 'ORIGIN_LAT', 'DEST_LON', 'DEST_LAT']].to_dict('list')\n",
    "    \n",
    "    sea = (lines['ORIGIN_LON'][0], lines['ORIGIN_LAT'][0])\n",
    "    for dest in zip(lines['DEST_LON'], lines['DEST_LAT']):\n",
    "        ax.arrow(*dest\n",
    "                 , sea[0]-dest[0], sea[1]-dest[1]\n",
    "                 , head_width=0.0, head_length=0.0\n",
    "                 , fc='k', ec='k')\n",
    "\n",
    "host = destinations.to_pandas()\n",
    "    \n",
    "### figure\n",
    "fig = plt.figure(figsize=(12,9))\n",
    "\n",
    "### plot on map\n",
    "ax = fig.add_subplot(1, 1, 1, projection=ccrs.PlateCarree())\n",
    "ax.set_extent([-125, -70, 22, 55], crs=ccrs.PlateCarree()) ## US Continental\n",
    "ax.stock_img()\n",
    "\n",
    "### add features\n",
    "ax.add_feature(cfeature.LAKES)\n",
    "ax.add_feature(cfeature.STATES)\n",
    "ax.add_feature(cfeature.COASTLINE)\n",
    "\n",
    "### add data\n",
    "bubbles = ax.scatter(\n",
    "    host['DEST_LON']\n",
    "    , host['DEST_LAT']\n",
    "    , s=host['DELAY_CNT'] * 2, label=\"Flight Count\"\n",
    "    , c=host['AVG_DELAY']\n",
    "    , cmap=plt.get_cmap('jet')\n",
    "    , alpha=0.8\n",
    ")\n",
    "\n",
    "add_lines(ax, host)\n",
    "\n",
    "### add colorbar\n",
    "delays = host['AVG_DELAY']\n",
    "tick_values = np.linspace(delays.min(), delays.max(), 11)\n",
    "cbar = fig.colorbar(bubbles, shrink=0.7)\n",
    "cbar.ax.set_yticklabels([f'{round(v)} mins' for v in tick_values], fontsize=14)\n",
    "cbar.set_label(f'Average delays', fontsize=16)\n",
    "plt.legend(fontsize=16)"
   ]
  },
  {
   "cell_type": "markdown",
   "metadata": {},
   "source": [
    "### 6. Are there any specifc aircrafts (tail number) that are less reliable?"
   ]
  },
  {
   "cell_type": "code",
   "execution_count": null,
   "metadata": {},
   "outputs": [],
   "source": [
    "tail_numbers = bc.sql('''\n",
    "    SELECT TAIL_NUM\n",
    "        , B.Name AS AirlineName\n",
    "        , DEP_DELAY\n",
    "    FROM flights AS A\n",
    "    LEFT OUTER JOIN airlines AS B\n",
    "        ON A.OP_UNIQUE_CARRIER = B.IATA\n",
    "    WHERE TAIL_NUM <> ''\n",
    "        AND DEP_DELAY > 0\n",
    "''')"
   ]
  },
  {
   "cell_type": "code",
   "execution_count": null,
   "metadata": {},
   "outputs": [],
   "source": [
    "aircraft_aggs = (\n",
    "    tail_numbers\n",
    "    .groupby(by=['TAIL_NUM', 'AirlineName'])\n",
    "    .agg({'DEP_DELAY': ['count', q25,'median',q75, 'max']})\n",
    ")\n",
    "\n",
    "aircraft_aggs.columns = ['_'.join(col) for col in aircraft_aggs.columns]\n",
    "aircraft_aggs = (\n",
    "    aircraft_aggs\n",
    "    .query('DEP_DELAY_count > 100')\n",
    "    .sort_values(by='DEP_DELAY_median', ascending=False)\n",
    ")"
   ]
  },
  {
   "cell_type": "code",
   "execution_count": null,
   "metadata": {},
   "outputs": [],
   "source": [
    "aircraft_aggs.head(10)"
   ]
  }
 ],
 "metadata": {
  "kernelspec": {
   "display_name": "RAPIDS Stable",
   "language": "python",
   "name": "python3"
  },
  "language_info": {
   "codemirror_mode": {
    "name": "ipython",
    "version": 3
   },
   "file_extension": ".py",
   "mimetype": "text/x-python",
   "name": "python",
   "nbconvert_exporter": "python",
   "pygments_lexer": "ipython3",
   "version": "3.8.5"
  }
 },
 "nbformat": 4,
 "nbformat_minor": 4
}
