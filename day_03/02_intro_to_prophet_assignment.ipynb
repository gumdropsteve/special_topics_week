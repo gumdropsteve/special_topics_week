{
  "nbformat": 4,
  "nbformat_minor": 0,
  "metadata": {
    "colab": {
      "name": "02_intro_to_prophet_assignment.ipynb",
      "provenance": [],
      "authorship_tag": "ABX9TyPQVM5rv+4WJBYPO94HMH7r",
      "include_colab_link": true
    },
    "kernelspec": {
      "name": "python3",
      "display_name": "Python 3"
    }
  },
  "cells": [
    {
      "cell_type": "markdown",
      "metadata": {
        "id": "view-in-github",
        "colab_type": "text"
      },
      "source": [
        "<a href=\"https://colab.research.google.com/github/gumdropsteve/special_topics_week/blob/main/day_03/02_intro_to_prophet_assignment.ipynb\" target=\"_parent\"><img src=\"https://colab.research.google.com/assets/colab-badge.svg\" alt=\"Open In Colab\"/></a>"
      ]
    },
    {
      "cell_type": "markdown",
      "metadata": {
        "id": "rfnTLGwusp0n"
      },
      "source": [
        "# Intro to Prophet Assignment\r\n",
        "\r\n",
        "#### Deleverables\r\n",
        "- Pick a timeseries dataset\r\n",
        "    - Ideas\r\n",
        "        - [Yellow cab averages](https://raw.githubusercontent.com/gumdropsteve/datasets/master/yellow_cab_ymd_averages.csv)\r\n",
        "            - some columns here have wacky values\r\n",
        "        - [warobson Medium views](https://raw.githubusercontent.com/gumdropsteve/datasets/master/views.csv)\r\n",
        "        - [$BRK-B stock](https://github.com/gumdropsteve/datasets/blob/master/stocks/BRK-B.csv)\r\n",
        "    - Adjust the dataset so it's ready for Prophet\r\n",
        "        - i.e. make sure you have columns `ds` (date) and `y` (target)  \r\n",
        "- Make a basic Prophet model\r\n",
        "- Forecast n periods\r\n",
        "    - Pick n based on what makes sense for your data\r\n",
        "- Visualize your forecast\r\n",
        "- Examine your components\r\n",
        "    - What's going on?\r\n",
        "- Cross validate your forecast\r\n",
        "\r\n",
        "#### Resources\r\n",
        "- [Intro to Prophet repo](https://github.com/gumdropsteve/intro_to_prophet \r\n",
        ")\r\n",
        "- [warobson Prophet blog posts](https://gumdropsteve.github.io/blog/docs/ds/prophet \r\n",
        ")\r\n",
        "- [Prophet docs](https://facebook.github.io/prophet \r\n",
        ")\r\n",
        "- [Prophet paper](https://peerj.com/preprints/3190/ \r\n",
        ")"
      ]
    },
    {
      "cell_type": "code",
      "metadata": {
        "id": "Vn4Ex5s0spbe"
      },
      "source": [
        "# your stuff here"
      ],
      "execution_count": null,
      "outputs": []
    }
  ]
}