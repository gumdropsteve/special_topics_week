{
  "nbformat": 4,
  "nbformat_minor": 0,
  "metadata": {
    "colab": {
      "name": "intro_to_prophet.ipynb",
      "provenance": [],
      "toc_visible": true,
      "authorship_tag": "ABX9TyOu7cwbqeeN+QBQ+IL+1+ow",
      "include_colab_link": true
    },
    "kernelspec": {
      "name": "python3",
      "display_name": "Python 3"
    },
    "widgets": {
      "application/vnd.jupyter.widget-state+json": {
        "9aa766abf9364c28906bbe8535c4b0d8": {
          "model_module": "@jupyter-widgets/controls",
          "model_name": "HBoxModel",
          "state": {
            "_view_name": "HBoxView",
            "_dom_classes": [],
            "_model_name": "HBoxModel",
            "_view_module": "@jupyter-widgets/controls",
            "_model_module_version": "1.5.0",
            "_view_count": null,
            "_view_module_version": "1.5.0",
            "box_style": "",
            "layout": "IPY_MODEL_0e0151f2315342a59b45cf5c5daac48d",
            "_model_module": "@jupyter-widgets/controls",
            "children": [
              "IPY_MODEL_7bd76a5246214b4b9f3c81d767622b50",
              "IPY_MODEL_b2a4321876154208b5b9476607316012"
            ]
          }
        },
        "0e0151f2315342a59b45cf5c5daac48d": {
          "model_module": "@jupyter-widgets/base",
          "model_name": "LayoutModel",
          "state": {
            "_view_name": "LayoutView",
            "grid_template_rows": null,
            "right": null,
            "justify_content": null,
            "_view_module": "@jupyter-widgets/base",
            "overflow": null,
            "_model_module_version": "1.2.0",
            "_view_count": null,
            "flex_flow": null,
            "width": null,
            "min_width": null,
            "border": null,
            "align_items": null,
            "bottom": null,
            "_model_module": "@jupyter-widgets/base",
            "top": null,
            "grid_column": null,
            "overflow_y": null,
            "overflow_x": null,
            "grid_auto_flow": null,
            "grid_area": null,
            "grid_template_columns": null,
            "flex": null,
            "_model_name": "LayoutModel",
            "justify_items": null,
            "grid_row": null,
            "max_height": null,
            "align_content": null,
            "visibility": null,
            "align_self": null,
            "height": null,
            "min_height": null,
            "padding": null,
            "grid_auto_rows": null,
            "grid_gap": null,
            "max_width": null,
            "order": null,
            "_view_module_version": "1.2.0",
            "grid_template_areas": null,
            "object_position": null,
            "object_fit": null,
            "grid_auto_columns": null,
            "margin": null,
            "display": null,
            "left": null
          }
        },
        "7bd76a5246214b4b9f3c81d767622b50": {
          "model_module": "@jupyter-widgets/controls",
          "model_name": "FloatProgressModel",
          "state": {
            "_view_name": "ProgressView",
            "style": "IPY_MODEL_04351dfe836049aabc9e59a9cfbcd00e",
            "_dom_classes": [],
            "description": "100%",
            "_model_name": "FloatProgressModel",
            "bar_style": "success",
            "max": 4,
            "_view_module": "@jupyter-widgets/controls",
            "_model_module_version": "1.5.0",
            "value": 4,
            "_view_count": null,
            "_view_module_version": "1.5.0",
            "orientation": "horizontal",
            "min": 0,
            "description_tooltip": null,
            "_model_module": "@jupyter-widgets/controls",
            "layout": "IPY_MODEL_1f425a80c25b4ea1ab4421d0c46981ec"
          }
        },
        "b2a4321876154208b5b9476607316012": {
          "model_module": "@jupyter-widgets/controls",
          "model_name": "HTMLModel",
          "state": {
            "_view_name": "HTMLView",
            "style": "IPY_MODEL_cd737b9ef5c54f81985380900fe42263",
            "_dom_classes": [],
            "description": "",
            "_model_name": "HTMLModel",
            "placeholder": "​",
            "_view_module": "@jupyter-widgets/controls",
            "_model_module_version": "1.5.0",
            "value": " 4/4 [00:15&lt;00:00,  3.92s/it]",
            "_view_count": null,
            "_view_module_version": "1.5.0",
            "description_tooltip": null,
            "_model_module": "@jupyter-widgets/controls",
            "layout": "IPY_MODEL_3e94e870174a44e9b4d9cdfa345dac57"
          }
        },
        "04351dfe836049aabc9e59a9cfbcd00e": {
          "model_module": "@jupyter-widgets/controls",
          "model_name": "ProgressStyleModel",
          "state": {
            "_view_name": "StyleView",
            "_model_name": "ProgressStyleModel",
            "description_width": "initial",
            "_view_module": "@jupyter-widgets/base",
            "_model_module_version": "1.5.0",
            "_view_count": null,
            "_view_module_version": "1.2.0",
            "bar_color": null,
            "_model_module": "@jupyter-widgets/controls"
          }
        },
        "1f425a80c25b4ea1ab4421d0c46981ec": {
          "model_module": "@jupyter-widgets/base",
          "model_name": "LayoutModel",
          "state": {
            "_view_name": "LayoutView",
            "grid_template_rows": null,
            "right": null,
            "justify_content": null,
            "_view_module": "@jupyter-widgets/base",
            "overflow": null,
            "_model_module_version": "1.2.0",
            "_view_count": null,
            "flex_flow": null,
            "width": null,
            "min_width": null,
            "border": null,
            "align_items": null,
            "bottom": null,
            "_model_module": "@jupyter-widgets/base",
            "top": null,
            "grid_column": null,
            "overflow_y": null,
            "overflow_x": null,
            "grid_auto_flow": null,
            "grid_area": null,
            "grid_template_columns": null,
            "flex": null,
            "_model_name": "LayoutModel",
            "justify_items": null,
            "grid_row": null,
            "max_height": null,
            "align_content": null,
            "visibility": null,
            "align_self": null,
            "height": null,
            "min_height": null,
            "padding": null,
            "grid_auto_rows": null,
            "grid_gap": null,
            "max_width": null,
            "order": null,
            "_view_module_version": "1.2.0",
            "grid_template_areas": null,
            "object_position": null,
            "object_fit": null,
            "grid_auto_columns": null,
            "margin": null,
            "display": null,
            "left": null
          }
        },
        "cd737b9ef5c54f81985380900fe42263": {
          "model_module": "@jupyter-widgets/controls",
          "model_name": "DescriptionStyleModel",
          "state": {
            "_view_name": "StyleView",
            "_model_name": "DescriptionStyleModel",
            "description_width": "",
            "_view_module": "@jupyter-widgets/base",
            "_model_module_version": "1.5.0",
            "_view_count": null,
            "_view_module_version": "1.2.0",
            "_model_module": "@jupyter-widgets/controls"
          }
        },
        "3e94e870174a44e9b4d9cdfa345dac57": {
          "model_module": "@jupyter-widgets/base",
          "model_name": "LayoutModel",
          "state": {
            "_view_name": "LayoutView",
            "grid_template_rows": null,
            "right": null,
            "justify_content": null,
            "_view_module": "@jupyter-widgets/base",
            "overflow": null,
            "_model_module_version": "1.2.0",
            "_view_count": null,
            "flex_flow": null,
            "width": null,
            "min_width": null,
            "border": null,
            "align_items": null,
            "bottom": null,
            "_model_module": "@jupyter-widgets/base",
            "top": null,
            "grid_column": null,
            "overflow_y": null,
            "overflow_x": null,
            "grid_auto_flow": null,
            "grid_area": null,
            "grid_template_columns": null,
            "flex": null,
            "_model_name": "LayoutModel",
            "justify_items": null,
            "grid_row": null,
            "max_height": null,
            "align_content": null,
            "visibility": null,
            "align_self": null,
            "height": null,
            "min_height": null,
            "padding": null,
            "grid_auto_rows": null,
            "grid_gap": null,
            "max_width": null,
            "order": null,
            "_view_module_version": "1.2.0",
            "grid_template_areas": null,
            "object_position": null,
            "object_fit": null,
            "grid_auto_columns": null,
            "margin": null,
            "display": null,
            "left": null
          }
        },
        "6a95d5edf59244d0b249bda5af280562": {
          "model_module": "@jupyter-widgets/controls",
          "model_name": "HBoxModel",
          "state": {
            "_view_name": "HBoxView",
            "_dom_classes": [],
            "_model_name": "HBoxModel",
            "_view_module": "@jupyter-widgets/controls",
            "_model_module_version": "1.5.0",
            "_view_count": null,
            "_view_module_version": "1.5.0",
            "box_style": "",
            "layout": "IPY_MODEL_99792f067b1941228c6a518b9eaf4661",
            "_model_module": "@jupyter-widgets/controls",
            "children": [
              "IPY_MODEL_878acf87462a48b79f613724ad9fa461",
              "IPY_MODEL_54379f3037fd4df18f04a62deb8f14c9"
            ]
          }
        },
        "99792f067b1941228c6a518b9eaf4661": {
          "model_module": "@jupyter-widgets/base",
          "model_name": "LayoutModel",
          "state": {
            "_view_name": "LayoutView",
            "grid_template_rows": null,
            "right": null,
            "justify_content": null,
            "_view_module": "@jupyter-widgets/base",
            "overflow": null,
            "_model_module_version": "1.2.0",
            "_view_count": null,
            "flex_flow": null,
            "width": null,
            "min_width": null,
            "border": null,
            "align_items": null,
            "bottom": null,
            "_model_module": "@jupyter-widgets/base",
            "top": null,
            "grid_column": null,
            "overflow_y": null,
            "overflow_x": null,
            "grid_auto_flow": null,
            "grid_area": null,
            "grid_template_columns": null,
            "flex": null,
            "_model_name": "LayoutModel",
            "justify_items": null,
            "grid_row": null,
            "max_height": null,
            "align_content": null,
            "visibility": null,
            "align_self": null,
            "height": null,
            "min_height": null,
            "padding": null,
            "grid_auto_rows": null,
            "grid_gap": null,
            "max_width": null,
            "order": null,
            "_view_module_version": "1.2.0",
            "grid_template_areas": null,
            "object_position": null,
            "object_fit": null,
            "grid_auto_columns": null,
            "margin": null,
            "display": null,
            "left": null
          }
        },
        "878acf87462a48b79f613724ad9fa461": {
          "model_module": "@jupyter-widgets/controls",
          "model_name": "FloatProgressModel",
          "state": {
            "_view_name": "ProgressView",
            "style": "IPY_MODEL_a39c5ac96edd4883a761dc5aa2c2c1f3",
            "_dom_classes": [],
            "description": "100%",
            "_model_name": "FloatProgressModel",
            "bar_style": "success",
            "max": 4,
            "_view_module": "@jupyter-widgets/controls",
            "_model_module_version": "1.5.0",
            "value": 4,
            "_view_count": null,
            "_view_module_version": "1.5.0",
            "orientation": "horizontal",
            "min": 0,
            "description_tooltip": null,
            "_model_module": "@jupyter-widgets/controls",
            "layout": "IPY_MODEL_b1d91c211e534f6894ea5c061e07a3a8"
          }
        },
        "54379f3037fd4df18f04a62deb8f14c9": {
          "model_module": "@jupyter-widgets/controls",
          "model_name": "HTMLModel",
          "state": {
            "_view_name": "HTMLView",
            "style": "IPY_MODEL_18dcc223e4d24eb489c68b6ef3a0a188",
            "_dom_classes": [],
            "description": "",
            "_model_name": "HTMLModel",
            "placeholder": "​",
            "_view_module": "@jupyter-widgets/controls",
            "_model_module_version": "1.5.0",
            "value": " 4/4 [00:25&lt;00:00,  6.41s/it]",
            "_view_count": null,
            "_view_module_version": "1.5.0",
            "description_tooltip": null,
            "_model_module": "@jupyter-widgets/controls",
            "layout": "IPY_MODEL_dd0f3eecb86a4dc7ab5915841c938a4c"
          }
        },
        "a39c5ac96edd4883a761dc5aa2c2c1f3": {
          "model_module": "@jupyter-widgets/controls",
          "model_name": "ProgressStyleModel",
          "state": {
            "_view_name": "StyleView",
            "_model_name": "ProgressStyleModel",
            "description_width": "initial",
            "_view_module": "@jupyter-widgets/base",
            "_model_module_version": "1.5.0",
            "_view_count": null,
            "_view_module_version": "1.2.0",
            "bar_color": null,
            "_model_module": "@jupyter-widgets/controls"
          }
        },
        "b1d91c211e534f6894ea5c061e07a3a8": {
          "model_module": "@jupyter-widgets/base",
          "model_name": "LayoutModel",
          "state": {
            "_view_name": "LayoutView",
            "grid_template_rows": null,
            "right": null,
            "justify_content": null,
            "_view_module": "@jupyter-widgets/base",
            "overflow": null,
            "_model_module_version": "1.2.0",
            "_view_count": null,
            "flex_flow": null,
            "width": null,
            "min_width": null,
            "border": null,
            "align_items": null,
            "bottom": null,
            "_model_module": "@jupyter-widgets/base",
            "top": null,
            "grid_column": null,
            "overflow_y": null,
            "overflow_x": null,
            "grid_auto_flow": null,
            "grid_area": null,
            "grid_template_columns": null,
            "flex": null,
            "_model_name": "LayoutModel",
            "justify_items": null,
            "grid_row": null,
            "max_height": null,
            "align_content": null,
            "visibility": null,
            "align_self": null,
            "height": null,
            "min_height": null,
            "padding": null,
            "grid_auto_rows": null,
            "grid_gap": null,
            "max_width": null,
            "order": null,
            "_view_module_version": "1.2.0",
            "grid_template_areas": null,
            "object_position": null,
            "object_fit": null,
            "grid_auto_columns": null,
            "margin": null,
            "display": null,
            "left": null
          }
        },
        "18dcc223e4d24eb489c68b6ef3a0a188": {
          "model_module": "@jupyter-widgets/controls",
          "model_name": "DescriptionStyleModel",
          "state": {
            "_view_name": "StyleView",
            "_model_name": "DescriptionStyleModel",
            "description_width": "",
            "_view_module": "@jupyter-widgets/base",
            "_model_module_version": "1.5.0",
            "_view_count": null,
            "_view_module_version": "1.2.0",
            "_model_module": "@jupyter-widgets/controls"
          }
        },
        "dd0f3eecb86a4dc7ab5915841c938a4c": {
          "model_module": "@jupyter-widgets/base",
          "model_name": "LayoutModel",
          "state": {
            "_view_name": "LayoutView",
            "grid_template_rows": null,
            "right": null,
            "justify_content": null,
            "_view_module": "@jupyter-widgets/base",
            "overflow": null,
            "_model_module_version": "1.2.0",
            "_view_count": null,
            "flex_flow": null,
            "width": null,
            "min_width": null,
            "border": null,
            "align_items": null,
            "bottom": null,
            "_model_module": "@jupyter-widgets/base",
            "top": null,
            "grid_column": null,
            "overflow_y": null,
            "overflow_x": null,
            "grid_auto_flow": null,
            "grid_area": null,
            "grid_template_columns": null,
            "flex": null,
            "_model_name": "LayoutModel",
            "justify_items": null,
            "grid_row": null,
            "max_height": null,
            "align_content": null,
            "visibility": null,
            "align_self": null,
            "height": null,
            "min_height": null,
            "padding": null,
            "grid_auto_rows": null,
            "grid_gap": null,
            "max_width": null,
            "order": null,
            "_view_module_version": "1.2.0",
            "grid_template_areas": null,
            "object_position": null,
            "object_fit": null,
            "grid_auto_columns": null,
            "margin": null,
            "display": null,
            "left": null
          }
        },
        "a83720d4d8cd4925a549b5224682d827": {
          "model_module": "@jupyter-widgets/controls",
          "model_name": "HBoxModel",
          "state": {
            "_view_name": "HBoxView",
            "_dom_classes": [],
            "_model_name": "HBoxModel",
            "_view_module": "@jupyter-widgets/controls",
            "_model_module_version": "1.5.0",
            "_view_count": null,
            "_view_module_version": "1.5.0",
            "box_style": "",
            "layout": "IPY_MODEL_d61db71063924c1289faa8acc91e7f9d",
            "_model_module": "@jupyter-widgets/controls",
            "children": [
              "IPY_MODEL_ff8f59dbccab4d9484bc780ffe1137ff",
              "IPY_MODEL_f2ac9145dee44197b635d9f630947f7b"
            ]
          }
        },
        "d61db71063924c1289faa8acc91e7f9d": {
          "model_module": "@jupyter-widgets/base",
          "model_name": "LayoutModel",
          "state": {
            "_view_name": "LayoutView",
            "grid_template_rows": null,
            "right": null,
            "justify_content": null,
            "_view_module": "@jupyter-widgets/base",
            "overflow": null,
            "_model_module_version": "1.2.0",
            "_view_count": null,
            "flex_flow": null,
            "width": null,
            "min_width": null,
            "border": null,
            "align_items": null,
            "bottom": null,
            "_model_module": "@jupyter-widgets/base",
            "top": null,
            "grid_column": null,
            "overflow_y": null,
            "overflow_x": null,
            "grid_auto_flow": null,
            "grid_area": null,
            "grid_template_columns": null,
            "flex": null,
            "_model_name": "LayoutModel",
            "justify_items": null,
            "grid_row": null,
            "max_height": null,
            "align_content": null,
            "visibility": null,
            "align_self": null,
            "height": null,
            "min_height": null,
            "padding": null,
            "grid_auto_rows": null,
            "grid_gap": null,
            "max_width": null,
            "order": null,
            "_view_module_version": "1.2.0",
            "grid_template_areas": null,
            "object_position": null,
            "object_fit": null,
            "grid_auto_columns": null,
            "margin": null,
            "display": null,
            "left": null
          }
        },
        "ff8f59dbccab4d9484bc780ffe1137ff": {
          "model_module": "@jupyter-widgets/controls",
          "model_name": "FloatProgressModel",
          "state": {
            "_view_name": "ProgressView",
            "style": "IPY_MODEL_726dc6d59f504b479b5cdd8fa37bbc03",
            "_dom_classes": [],
            "description": "100%",
            "_model_name": "FloatProgressModel",
            "bar_style": "success",
            "max": 9,
            "_view_module": "@jupyter-widgets/controls",
            "_model_module_version": "1.5.0",
            "value": 9,
            "_view_count": null,
            "_view_module_version": "1.5.0",
            "orientation": "horizontal",
            "min": 0,
            "description_tooltip": null,
            "_model_module": "@jupyter-widgets/controls",
            "layout": "IPY_MODEL_3a0598ab3b94460f86d65e092b9a4853"
          }
        },
        "f2ac9145dee44197b635d9f630947f7b": {
          "model_module": "@jupyter-widgets/controls",
          "model_name": "HTMLModel",
          "state": {
            "_view_name": "HTMLView",
            "style": "IPY_MODEL_4aa1642083424ac68afae73d62d5136a",
            "_dom_classes": [],
            "description": "",
            "_model_name": "HTMLModel",
            "placeholder": "​",
            "_view_module": "@jupyter-widgets/controls",
            "_model_module_version": "1.5.0",
            "value": " 9/9 [00:34&lt;00:00,  3.79s/it]",
            "_view_count": null,
            "_view_module_version": "1.5.0",
            "description_tooltip": null,
            "_model_module": "@jupyter-widgets/controls",
            "layout": "IPY_MODEL_75f1b33ce27440b39536f93d1c02dbb5"
          }
        },
        "726dc6d59f504b479b5cdd8fa37bbc03": {
          "model_module": "@jupyter-widgets/controls",
          "model_name": "ProgressStyleModel",
          "state": {
            "_view_name": "StyleView",
            "_model_name": "ProgressStyleModel",
            "description_width": "initial",
            "_view_module": "@jupyter-widgets/base",
            "_model_module_version": "1.5.0",
            "_view_count": null,
            "_view_module_version": "1.2.0",
            "bar_color": null,
            "_model_module": "@jupyter-widgets/controls"
          }
        },
        "3a0598ab3b94460f86d65e092b9a4853": {
          "model_module": "@jupyter-widgets/base",
          "model_name": "LayoutModel",
          "state": {
            "_view_name": "LayoutView",
            "grid_template_rows": null,
            "right": null,
            "justify_content": null,
            "_view_module": "@jupyter-widgets/base",
            "overflow": null,
            "_model_module_version": "1.2.0",
            "_view_count": null,
            "flex_flow": null,
            "width": null,
            "min_width": null,
            "border": null,
            "align_items": null,
            "bottom": null,
            "_model_module": "@jupyter-widgets/base",
            "top": null,
            "grid_column": null,
            "overflow_y": null,
            "overflow_x": null,
            "grid_auto_flow": null,
            "grid_area": null,
            "grid_template_columns": null,
            "flex": null,
            "_model_name": "LayoutModel",
            "justify_items": null,
            "grid_row": null,
            "max_height": null,
            "align_content": null,
            "visibility": null,
            "align_self": null,
            "height": null,
            "min_height": null,
            "padding": null,
            "grid_auto_rows": null,
            "grid_gap": null,
            "max_width": null,
            "order": null,
            "_view_module_version": "1.2.0",
            "grid_template_areas": null,
            "object_position": null,
            "object_fit": null,
            "grid_auto_columns": null,
            "margin": null,
            "display": null,
            "left": null
          }
        },
        "4aa1642083424ac68afae73d62d5136a": {
          "model_module": "@jupyter-widgets/controls",
          "model_name": "DescriptionStyleModel",
          "state": {
            "_view_name": "StyleView",
            "_model_name": "DescriptionStyleModel",
            "description_width": "",
            "_view_module": "@jupyter-widgets/base",
            "_model_module_version": "1.5.0",
            "_view_count": null,
            "_view_module_version": "1.2.0",
            "_model_module": "@jupyter-widgets/controls"
          }
        },
        "75f1b33ce27440b39536f93d1c02dbb5": {
          "model_module": "@jupyter-widgets/base",
          "model_name": "LayoutModel",
          "state": {
            "_view_name": "LayoutView",
            "grid_template_rows": null,
            "right": null,
            "justify_content": null,
            "_view_module": "@jupyter-widgets/base",
            "overflow": null,
            "_model_module_version": "1.2.0",
            "_view_count": null,
            "flex_flow": null,
            "width": null,
            "min_width": null,
            "border": null,
            "align_items": null,
            "bottom": null,
            "_model_module": "@jupyter-widgets/base",
            "top": null,
            "grid_column": null,
            "overflow_y": null,
            "overflow_x": null,
            "grid_auto_flow": null,
            "grid_area": null,
            "grid_template_columns": null,
            "flex": null,
            "_model_name": "LayoutModel",
            "justify_items": null,
            "grid_row": null,
            "max_height": null,
            "align_content": null,
            "visibility": null,
            "align_self": null,
            "height": null,
            "min_height": null,
            "padding": null,
            "grid_auto_rows": null,
            "grid_gap": null,
            "max_width": null,
            "order": null,
            "_view_module_version": "1.2.0",
            "grid_template_areas": null,
            "object_position": null,
            "object_fit": null,
            "grid_auto_columns": null,
            "margin": null,
            "display": null,
            "left": null
          }
        }
      }
    }
  },
  "cells": [
    {
      "cell_type": "markdown",
      "metadata": {
        "id": "view-in-github",
        "colab_type": "text"
      },
      "source": [
        "<a href=\"https://colab.research.google.com/github/gumdropsteve/special_topics_week/blob/main/day_03/01_intro_to_prophet.ipynb\" target=\"_parent\"><img src=\"https://colab.research.google.com/assets/colab-badge.svg\" alt=\"Open In Colab\"/></a>"
      ]
    },
    {
      "cell_type": "markdown",
      "metadata": {
        "id": "V9E6lFaaTDQS"
      },
      "source": [
        "# Intro to Prophet\r\n",
        "\r\n",
        "Step 1: import prophet & set up model"
      ]
    },
    {
      "cell_type": "code",
      "metadata": {
        "id": "E8jbv9LjTRBT"
      },
      "source": [
        "from fbprophet import Prophet\r\n",
        "\r\n",
        "m = Prophet()"
      ],
      "execution_count": null,
      "outputs": []
    },
    {
      "cell_type": "markdown",
      "metadata": {
        "id": "LRMU43A9VVvd"
      },
      "source": [
        "Step 1.5: import and set up your data"
      ]
    },
    {
      "cell_type": "code",
      "metadata": {
        "colab": {
          "base_uri": "https://localhost:8080/",
          "height": 402
        },
        "id": "hGluyXSmTlfg",
        "outputId": "06dbdf43-d036-4a39-af6c-c70ee09a2288"
      },
      "source": [
        "import pandas as pd\r\n",
        "\r\n",
        "df = pd.read_csv('https://raw.githubusercontent.com/gumdropsteve/datasets/master/views.csv')\r\n",
        "\r\n",
        "df"
      ],
      "execution_count": null,
      "outputs": [
        {
          "output_type": "execute_result",
          "data": {
            "text/html": [
              "<div>\n",
              "<style scoped>\n",
              "    .dataframe tbody tr th:only-of-type {\n",
              "        vertical-align: middle;\n",
              "    }\n",
              "\n",
              "    .dataframe tbody tr th {\n",
              "        vertical-align: top;\n",
              "    }\n",
              "\n",
              "    .dataframe thead th {\n",
              "        text-align: right;\n",
              "    }\n",
              "</style>\n",
              "<table border=\"1\" class=\"dataframe\">\n",
              "  <thead>\n",
              "    <tr style=\"text-align: right;\">\n",
              "      <th></th>\n",
              "      <th>Date</th>\n",
              "      <th>Views</th>\n",
              "    </tr>\n",
              "  </thead>\n",
              "  <tbody>\n",
              "    <tr>\n",
              "      <th>0</th>\n",
              "      <td>2019-05-03</td>\n",
              "      <td>5</td>\n",
              "    </tr>\n",
              "    <tr>\n",
              "      <th>1</th>\n",
              "      <td>2019-05-04</td>\n",
              "      <td>21</td>\n",
              "    </tr>\n",
              "    <tr>\n",
              "      <th>2</th>\n",
              "      <td>2019-05-05</td>\n",
              "      <td>10</td>\n",
              "    </tr>\n",
              "    <tr>\n",
              "      <th>3</th>\n",
              "      <td>2019-05-06</td>\n",
              "      <td>5</td>\n",
              "    </tr>\n",
              "    <tr>\n",
              "      <th>4</th>\n",
              "      <td>2019-05-07</td>\n",
              "      <td>2</td>\n",
              "    </tr>\n",
              "    <tr>\n",
              "      <th>...</th>\n",
              "      <td>...</td>\n",
              "      <td>...</td>\n",
              "    </tr>\n",
              "    <tr>\n",
              "      <th>537</th>\n",
              "      <td>2020-10-21</td>\n",
              "      <td>243</td>\n",
              "    </tr>\n",
              "    <tr>\n",
              "      <th>538</th>\n",
              "      <td>2020-10-22</td>\n",
              "      <td>185</td>\n",
              "    </tr>\n",
              "    <tr>\n",
              "      <th>539</th>\n",
              "      <td>2020-10-23</td>\n",
              "      <td>116</td>\n",
              "    </tr>\n",
              "    <tr>\n",
              "      <th>540</th>\n",
              "      <td>2020-10-24</td>\n",
              "      <td>139</td>\n",
              "    </tr>\n",
              "    <tr>\n",
              "      <th>541</th>\n",
              "      <td>2020-10-25</td>\n",
              "      <td>168</td>\n",
              "    </tr>\n",
              "  </tbody>\n",
              "</table>\n",
              "<p>542 rows × 2 columns</p>\n",
              "</div>"
            ],
            "text/plain": [
              "           Date  Views\n",
              "0    2019-05-03      5\n",
              "1    2019-05-04     21\n",
              "2    2019-05-05     10\n",
              "3    2019-05-06      5\n",
              "4    2019-05-07      2\n",
              "..          ...    ...\n",
              "537  2020-10-21    243\n",
              "538  2020-10-22    185\n",
              "539  2020-10-23    116\n",
              "540  2020-10-24    139\n",
              "541  2020-10-25    168\n",
              "\n",
              "[542 rows x 2 columns]"
            ]
          },
          "metadata": {
            "tags": []
          },
          "execution_count": 40
        }
      ]
    },
    {
      "cell_type": "code",
      "metadata": {
        "colab": {
          "base_uri": "https://localhost:8080/",
          "height": 402
        },
        "id": "GVeMXFHaU6Mw",
        "outputId": "ad47ac2e-316d-4916-dabb-c9838841724f"
      },
      "source": [
        "# change column names to be what prophet expects\r\n",
        "df.columns = ['ds', 'y']\r\n",
        "\r\n",
        "df"
      ],
      "execution_count": null,
      "outputs": [
        {
          "output_type": "execute_result",
          "data": {
            "text/html": [
              "<div>\n",
              "<style scoped>\n",
              "    .dataframe tbody tr th:only-of-type {\n",
              "        vertical-align: middle;\n",
              "    }\n",
              "\n",
              "    .dataframe tbody tr th {\n",
              "        vertical-align: top;\n",
              "    }\n",
              "\n",
              "    .dataframe thead th {\n",
              "        text-align: right;\n",
              "    }\n",
              "</style>\n",
              "<table border=\"1\" class=\"dataframe\">\n",
              "  <thead>\n",
              "    <tr style=\"text-align: right;\">\n",
              "      <th></th>\n",
              "      <th>ds</th>\n",
              "      <th>y</th>\n",
              "    </tr>\n",
              "  </thead>\n",
              "  <tbody>\n",
              "    <tr>\n",
              "      <th>0</th>\n",
              "      <td>2019-05-03</td>\n",
              "      <td>5</td>\n",
              "    </tr>\n",
              "    <tr>\n",
              "      <th>1</th>\n",
              "      <td>2019-05-04</td>\n",
              "      <td>21</td>\n",
              "    </tr>\n",
              "    <tr>\n",
              "      <th>2</th>\n",
              "      <td>2019-05-05</td>\n",
              "      <td>10</td>\n",
              "    </tr>\n",
              "    <tr>\n",
              "      <th>3</th>\n",
              "      <td>2019-05-06</td>\n",
              "      <td>5</td>\n",
              "    </tr>\n",
              "    <tr>\n",
              "      <th>4</th>\n",
              "      <td>2019-05-07</td>\n",
              "      <td>2</td>\n",
              "    </tr>\n",
              "    <tr>\n",
              "      <th>...</th>\n",
              "      <td>...</td>\n",
              "      <td>...</td>\n",
              "    </tr>\n",
              "    <tr>\n",
              "      <th>537</th>\n",
              "      <td>2020-10-21</td>\n",
              "      <td>243</td>\n",
              "    </tr>\n",
              "    <tr>\n",
              "      <th>538</th>\n",
              "      <td>2020-10-22</td>\n",
              "      <td>185</td>\n",
              "    </tr>\n",
              "    <tr>\n",
              "      <th>539</th>\n",
              "      <td>2020-10-23</td>\n",
              "      <td>116</td>\n",
              "    </tr>\n",
              "    <tr>\n",
              "      <th>540</th>\n",
              "      <td>2020-10-24</td>\n",
              "      <td>139</td>\n",
              "    </tr>\n",
              "    <tr>\n",
              "      <th>541</th>\n",
              "      <td>2020-10-25</td>\n",
              "      <td>168</td>\n",
              "    </tr>\n",
              "  </tbody>\n",
              "</table>\n",
              "<p>542 rows × 2 columns</p>\n",
              "</div>"
            ],
            "text/plain": [
              "             ds    y\n",
              "0    2019-05-03    5\n",
              "1    2019-05-04   21\n",
              "2    2019-05-05   10\n",
              "3    2019-05-06    5\n",
              "4    2019-05-07    2\n",
              "..          ...  ...\n",
              "537  2020-10-21  243\n",
              "538  2020-10-22  185\n",
              "539  2020-10-23  116\n",
              "540  2020-10-24  139\n",
              "541  2020-10-25  168\n",
              "\n",
              "[542 rows x 2 columns]"
            ]
          },
          "metadata": {
            "tags": []
          },
          "execution_count": 41
        }
      ]
    },
    {
      "cell_type": "markdown",
      "metadata": {
        "id": "I3xvXIUCVHxE"
      },
      "source": [
        "Step 2: fit the model"
      ]
    },
    {
      "cell_type": "code",
      "metadata": {
        "colab": {
          "base_uri": "https://localhost:8080/"
        },
        "id": "tZZUn8lNVGHI",
        "outputId": "9b51e44f-a96b-49fa-ef66-bc9626bdf9c1"
      },
      "source": [
        "m.fit(df)"
      ],
      "execution_count": null,
      "outputs": [
        {
          "output_type": "stream",
          "text": [
            "INFO:fbprophet:Disabling yearly seasonality. Run prophet with yearly_seasonality=True to override this.\n",
            "INFO:fbprophet:Disabling daily seasonality. Run prophet with daily_seasonality=True to override this.\n"
          ],
          "name": "stderr"
        },
        {
          "output_type": "execute_result",
          "data": {
            "text/plain": [
              "<fbprophet.forecaster.Prophet at 0x7fc59d697a58>"
            ]
          },
          "metadata": {
            "tags": []
          },
          "execution_count": 42
        }
      ]
    },
    {
      "cell_type": "markdown",
      "metadata": {
        "id": "_T07-652VzVj"
      },
      "source": [
        "Step 3: make a dataframe to hold your future value predictions"
      ]
    },
    {
      "cell_type": "code",
      "metadata": {
        "colab": {
          "base_uri": "https://localhost:8080/",
          "height": 195
        },
        "id": "Elnqu_3JVbdk",
        "outputId": "76bb2e99-de1e-48d9-b549-636319a29440"
      },
      "source": [
        "future = m.make_future_dataframe(periods=365)\r\n",
        "\r\n",
        "future.tail()"
      ],
      "execution_count": null,
      "outputs": [
        {
          "output_type": "execute_result",
          "data": {
            "text/html": [
              "<div>\n",
              "<style scoped>\n",
              "    .dataframe tbody tr th:only-of-type {\n",
              "        vertical-align: middle;\n",
              "    }\n",
              "\n",
              "    .dataframe tbody tr th {\n",
              "        vertical-align: top;\n",
              "    }\n",
              "\n",
              "    .dataframe thead th {\n",
              "        text-align: right;\n",
              "    }\n",
              "</style>\n",
              "<table border=\"1\" class=\"dataframe\">\n",
              "  <thead>\n",
              "    <tr style=\"text-align: right;\">\n",
              "      <th></th>\n",
              "      <th>ds</th>\n",
              "    </tr>\n",
              "  </thead>\n",
              "  <tbody>\n",
              "    <tr>\n",
              "      <th>902</th>\n",
              "      <td>2021-10-21</td>\n",
              "    </tr>\n",
              "    <tr>\n",
              "      <th>903</th>\n",
              "      <td>2021-10-22</td>\n",
              "    </tr>\n",
              "    <tr>\n",
              "      <th>904</th>\n",
              "      <td>2021-10-23</td>\n",
              "    </tr>\n",
              "    <tr>\n",
              "      <th>905</th>\n",
              "      <td>2021-10-24</td>\n",
              "    </tr>\n",
              "    <tr>\n",
              "      <th>906</th>\n",
              "      <td>2021-10-25</td>\n",
              "    </tr>\n",
              "  </tbody>\n",
              "</table>\n",
              "</div>"
            ],
            "text/plain": [
              "            ds\n",
              "902 2021-10-21\n",
              "903 2021-10-22\n",
              "904 2021-10-23\n",
              "905 2021-10-24\n",
              "906 2021-10-25"
            ]
          },
          "metadata": {
            "tags": []
          },
          "execution_count": 43
        }
      ]
    },
    {
      "cell_type": "code",
      "metadata": {
        "colab": {
          "base_uri": "https://localhost:8080/",
          "height": 402
        },
        "id": "BDSdmFdiXWPN",
        "outputId": "11d1b0e1-2720-4485-e7e0-ff4c3afe8e5e"
      },
      "source": [
        "# note: future dataframe includes OG dates\r\n",
        "future"
      ],
      "execution_count": null,
      "outputs": [
        {
          "output_type": "execute_result",
          "data": {
            "text/html": [
              "<div>\n",
              "<style scoped>\n",
              "    .dataframe tbody tr th:only-of-type {\n",
              "        vertical-align: middle;\n",
              "    }\n",
              "\n",
              "    .dataframe tbody tr th {\n",
              "        vertical-align: top;\n",
              "    }\n",
              "\n",
              "    .dataframe thead th {\n",
              "        text-align: right;\n",
              "    }\n",
              "</style>\n",
              "<table border=\"1\" class=\"dataframe\">\n",
              "  <thead>\n",
              "    <tr style=\"text-align: right;\">\n",
              "      <th></th>\n",
              "      <th>ds</th>\n",
              "    </tr>\n",
              "  </thead>\n",
              "  <tbody>\n",
              "    <tr>\n",
              "      <th>0</th>\n",
              "      <td>2019-05-03</td>\n",
              "    </tr>\n",
              "    <tr>\n",
              "      <th>1</th>\n",
              "      <td>2019-05-04</td>\n",
              "    </tr>\n",
              "    <tr>\n",
              "      <th>2</th>\n",
              "      <td>2019-05-05</td>\n",
              "    </tr>\n",
              "    <tr>\n",
              "      <th>3</th>\n",
              "      <td>2019-05-06</td>\n",
              "    </tr>\n",
              "    <tr>\n",
              "      <th>4</th>\n",
              "      <td>2019-05-07</td>\n",
              "    </tr>\n",
              "    <tr>\n",
              "      <th>...</th>\n",
              "      <td>...</td>\n",
              "    </tr>\n",
              "    <tr>\n",
              "      <th>902</th>\n",
              "      <td>2021-10-21</td>\n",
              "    </tr>\n",
              "    <tr>\n",
              "      <th>903</th>\n",
              "      <td>2021-10-22</td>\n",
              "    </tr>\n",
              "    <tr>\n",
              "      <th>904</th>\n",
              "      <td>2021-10-23</td>\n",
              "    </tr>\n",
              "    <tr>\n",
              "      <th>905</th>\n",
              "      <td>2021-10-24</td>\n",
              "    </tr>\n",
              "    <tr>\n",
              "      <th>906</th>\n",
              "      <td>2021-10-25</td>\n",
              "    </tr>\n",
              "  </tbody>\n",
              "</table>\n",
              "<p>907 rows × 1 columns</p>\n",
              "</div>"
            ],
            "text/plain": [
              "            ds\n",
              "0   2019-05-03\n",
              "1   2019-05-04\n",
              "2   2019-05-05\n",
              "3   2019-05-06\n",
              "4   2019-05-07\n",
              "..         ...\n",
              "902 2021-10-21\n",
              "903 2021-10-22\n",
              "904 2021-10-23\n",
              "905 2021-10-24\n",
              "906 2021-10-25\n",
              "\n",
              "[907 rows x 1 columns]"
            ]
          },
          "metadata": {
            "tags": []
          },
          "execution_count": 44
        }
      ]
    },
    {
      "cell_type": "code",
      "metadata": {
        "colab": {
          "base_uri": "https://localhost:8080/"
        },
        "id": "7EGVgeRqXPgb",
        "outputId": "a1047ec9-92c2-440c-9c1d-b56f581b268a"
      },
      "source": [
        "type(future)"
      ],
      "execution_count": null,
      "outputs": [
        {
          "output_type": "execute_result",
          "data": {
            "text/plain": [
              "pandas.core.frame.DataFrame"
            ]
          },
          "metadata": {
            "tags": []
          },
          "execution_count": 45
        }
      ]
    },
    {
      "cell_type": "code",
      "metadata": {
        "colab": {
          "base_uri": "https://localhost:8080/"
        },
        "id": "idaJfxQxXTAz",
        "outputId": "b150a45c-1b00-4e20-ca40-8ea08f296532"
      },
      "source": [
        "future.shape"
      ],
      "execution_count": null,
      "outputs": [
        {
          "output_type": "execute_result",
          "data": {
            "text/plain": [
              "(907, 1)"
            ]
          },
          "metadata": {
            "tags": []
          },
          "execution_count": 46
        }
      ]
    },
    {
      "cell_type": "markdown",
      "metadata": {
        "id": "aFPITP9KWJNX"
      },
      "source": [
        "Step 4: make a forecast (make some predictions)"
      ]
    },
    {
      "cell_type": "code",
      "metadata": {
        "colab": {
          "base_uri": "https://localhost:8080/",
          "height": 590
        },
        "id": "uX9taFkrV_yp",
        "outputId": "7612a42f-286c-45d4-c971-885f0cac83aa"
      },
      "source": [
        "m.predict(future)"
      ],
      "execution_count": null,
      "outputs": [
        {
          "output_type": "execute_result",
          "data": {
            "text/html": [
              "<div>\n",
              "<style scoped>\n",
              "    .dataframe tbody tr th:only-of-type {\n",
              "        vertical-align: middle;\n",
              "    }\n",
              "\n",
              "    .dataframe tbody tr th {\n",
              "        vertical-align: top;\n",
              "    }\n",
              "\n",
              "    .dataframe thead th {\n",
              "        text-align: right;\n",
              "    }\n",
              "</style>\n",
              "<table border=\"1\" class=\"dataframe\">\n",
              "  <thead>\n",
              "    <tr style=\"text-align: right;\">\n",
              "      <th></th>\n",
              "      <th>ds</th>\n",
              "      <th>trend</th>\n",
              "      <th>yhat_lower</th>\n",
              "      <th>yhat_upper</th>\n",
              "      <th>trend_lower</th>\n",
              "      <th>trend_upper</th>\n",
              "      <th>additive_terms</th>\n",
              "      <th>additive_terms_lower</th>\n",
              "      <th>additive_terms_upper</th>\n",
              "      <th>weekly</th>\n",
              "      <th>weekly_lower</th>\n",
              "      <th>weekly_upper</th>\n",
              "      <th>multiplicative_terms</th>\n",
              "      <th>multiplicative_terms_lower</th>\n",
              "      <th>multiplicative_terms_upper</th>\n",
              "      <th>yhat</th>\n",
              "    </tr>\n",
              "  </thead>\n",
              "  <tbody>\n",
              "    <tr>\n",
              "      <th>0</th>\n",
              "      <td>2019-05-03</td>\n",
              "      <td>12.334128</td>\n",
              "      <td>-54.474680</td>\n",
              "      <td>71.906738</td>\n",
              "      <td>12.334128</td>\n",
              "      <td>12.334128</td>\n",
              "      <td>-3.763182</td>\n",
              "      <td>-3.763182</td>\n",
              "      <td>-3.763182</td>\n",
              "      <td>-3.763182</td>\n",
              "      <td>-3.763182</td>\n",
              "      <td>-3.763182</td>\n",
              "      <td>0.0</td>\n",
              "      <td>0.0</td>\n",
              "      <td>0.0</td>\n",
              "      <td>8.570946</td>\n",
              "    </tr>\n",
              "    <tr>\n",
              "      <th>1</th>\n",
              "      <td>2019-05-04</td>\n",
              "      <td>12.849350</td>\n",
              "      <td>-48.343076</td>\n",
              "      <td>76.769616</td>\n",
              "      <td>12.849350</td>\n",
              "      <td>12.849350</td>\n",
              "      <td>-3.039072</td>\n",
              "      <td>-3.039072</td>\n",
              "      <td>-3.039072</td>\n",
              "      <td>-3.039072</td>\n",
              "      <td>-3.039072</td>\n",
              "      <td>-3.039072</td>\n",
              "      <td>0.0</td>\n",
              "      <td>0.0</td>\n",
              "      <td>0.0</td>\n",
              "      <td>9.810278</td>\n",
              "    </tr>\n",
              "    <tr>\n",
              "      <th>2</th>\n",
              "      <td>2019-05-05</td>\n",
              "      <td>13.364572</td>\n",
              "      <td>-50.191684</td>\n",
              "      <td>80.054807</td>\n",
              "      <td>13.364572</td>\n",
              "      <td>13.364572</td>\n",
              "      <td>-1.830340</td>\n",
              "      <td>-1.830340</td>\n",
              "      <td>-1.830340</td>\n",
              "      <td>-1.830340</td>\n",
              "      <td>-1.830340</td>\n",
              "      <td>-1.830340</td>\n",
              "      <td>0.0</td>\n",
              "      <td>0.0</td>\n",
              "      <td>0.0</td>\n",
              "      <td>11.534232</td>\n",
              "    </tr>\n",
              "    <tr>\n",
              "      <th>3</th>\n",
              "      <td>2019-05-06</td>\n",
              "      <td>13.879794</td>\n",
              "      <td>-54.910508</td>\n",
              "      <td>72.164828</td>\n",
              "      <td>13.879794</td>\n",
              "      <td>13.879794</td>\n",
              "      <td>-3.620190</td>\n",
              "      <td>-3.620190</td>\n",
              "      <td>-3.620190</td>\n",
              "      <td>-3.620190</td>\n",
              "      <td>-3.620190</td>\n",
              "      <td>-3.620190</td>\n",
              "      <td>0.0</td>\n",
              "      <td>0.0</td>\n",
              "      <td>0.0</td>\n",
              "      <td>10.259604</td>\n",
              "    </tr>\n",
              "    <tr>\n",
              "      <th>4</th>\n",
              "      <td>2019-05-07</td>\n",
              "      <td>14.395017</td>\n",
              "      <td>-43.628900</td>\n",
              "      <td>83.721582</td>\n",
              "      <td>14.395017</td>\n",
              "      <td>14.395017</td>\n",
              "      <td>5.969887</td>\n",
              "      <td>5.969887</td>\n",
              "      <td>5.969887</td>\n",
              "      <td>5.969887</td>\n",
              "      <td>5.969887</td>\n",
              "      <td>5.969887</td>\n",
              "      <td>0.0</td>\n",
              "      <td>0.0</td>\n",
              "      <td>0.0</td>\n",
              "      <td>20.364904</td>\n",
              "    </tr>\n",
              "    <tr>\n",
              "      <th>...</th>\n",
              "      <td>...</td>\n",
              "      <td>...</td>\n",
              "      <td>...</td>\n",
              "      <td>...</td>\n",
              "      <td>...</td>\n",
              "      <td>...</td>\n",
              "      <td>...</td>\n",
              "      <td>...</td>\n",
              "      <td>...</td>\n",
              "      <td>...</td>\n",
              "      <td>...</td>\n",
              "      <td>...</td>\n",
              "      <td>...</td>\n",
              "      <td>...</td>\n",
              "      <td>...</td>\n",
              "      <td>...</td>\n",
              "    </tr>\n",
              "    <tr>\n",
              "      <th>902</th>\n",
              "      <td>2021-10-21</td>\n",
              "      <td>227.380800</td>\n",
              "      <td>161.228307</td>\n",
              "      <td>301.411280</td>\n",
              "      <td>201.109863</td>\n",
              "      <td>250.339666</td>\n",
              "      <td>1.836968</td>\n",
              "      <td>1.836968</td>\n",
              "      <td>1.836968</td>\n",
              "      <td>1.836968</td>\n",
              "      <td>1.836968</td>\n",
              "      <td>1.836968</td>\n",
              "      <td>0.0</td>\n",
              "      <td>0.0</td>\n",
              "      <td>0.0</td>\n",
              "      <td>229.217768</td>\n",
              "    </tr>\n",
              "    <tr>\n",
              "      <th>903</th>\n",
              "      <td>2021-10-22</td>\n",
              "      <td>227.483908</td>\n",
              "      <td>157.432596</td>\n",
              "      <td>288.699493</td>\n",
              "      <td>201.137186</td>\n",
              "      <td>250.489799</td>\n",
              "      <td>-3.763182</td>\n",
              "      <td>-3.763182</td>\n",
              "      <td>-3.763182</td>\n",
              "      <td>-3.763182</td>\n",
              "      <td>-3.763182</td>\n",
              "      <td>-3.763182</td>\n",
              "      <td>0.0</td>\n",
              "      <td>0.0</td>\n",
              "      <td>0.0</td>\n",
              "      <td>223.720726</td>\n",
              "    </tr>\n",
              "    <tr>\n",
              "      <th>904</th>\n",
              "      <td>2021-10-23</td>\n",
              "      <td>227.587016</td>\n",
              "      <td>154.249608</td>\n",
              "      <td>293.947152</td>\n",
              "      <td>201.167264</td>\n",
              "      <td>250.711685</td>\n",
              "      <td>-3.039072</td>\n",
              "      <td>-3.039072</td>\n",
              "      <td>-3.039072</td>\n",
              "      <td>-3.039072</td>\n",
              "      <td>-3.039072</td>\n",
              "      <td>-3.039072</td>\n",
              "      <td>0.0</td>\n",
              "      <td>0.0</td>\n",
              "      <td>0.0</td>\n",
              "      <td>224.547944</td>\n",
              "    </tr>\n",
              "    <tr>\n",
              "      <th>905</th>\n",
              "      <td>2021-10-24</td>\n",
              "      <td>227.690124</td>\n",
              "      <td>153.813125</td>\n",
              "      <td>288.998594</td>\n",
              "      <td>201.197341</td>\n",
              "      <td>250.951316</td>\n",
              "      <td>-1.830340</td>\n",
              "      <td>-1.830340</td>\n",
              "      <td>-1.830340</td>\n",
              "      <td>-1.830340</td>\n",
              "      <td>-1.830340</td>\n",
              "      <td>-1.830340</td>\n",
              "      <td>0.0</td>\n",
              "      <td>0.0</td>\n",
              "      <td>0.0</td>\n",
              "      <td>225.859784</td>\n",
              "    </tr>\n",
              "    <tr>\n",
              "      <th>906</th>\n",
              "      <td>2021-10-25</td>\n",
              "      <td>227.793232</td>\n",
              "      <td>156.140893</td>\n",
              "      <td>292.698178</td>\n",
              "      <td>201.228186</td>\n",
              "      <td>251.209176</td>\n",
              "      <td>-3.620190</td>\n",
              "      <td>-3.620190</td>\n",
              "      <td>-3.620190</td>\n",
              "      <td>-3.620190</td>\n",
              "      <td>-3.620190</td>\n",
              "      <td>-3.620190</td>\n",
              "      <td>0.0</td>\n",
              "      <td>0.0</td>\n",
              "      <td>0.0</td>\n",
              "      <td>224.173042</td>\n",
              "    </tr>\n",
              "  </tbody>\n",
              "</table>\n",
              "<p>907 rows × 16 columns</p>\n",
              "</div>"
            ],
            "text/plain": [
              "            ds       trend  ...  multiplicative_terms_upper        yhat\n",
              "0   2019-05-03   12.334128  ...                         0.0    8.570946\n",
              "1   2019-05-04   12.849350  ...                         0.0    9.810278\n",
              "2   2019-05-05   13.364572  ...                         0.0   11.534232\n",
              "3   2019-05-06   13.879794  ...                         0.0   10.259604\n",
              "4   2019-05-07   14.395017  ...                         0.0   20.364904\n",
              "..         ...         ...  ...                         ...         ...\n",
              "902 2021-10-21  227.380800  ...                         0.0  229.217768\n",
              "903 2021-10-22  227.483908  ...                         0.0  223.720726\n",
              "904 2021-10-23  227.587016  ...                         0.0  224.547944\n",
              "905 2021-10-24  227.690124  ...                         0.0  225.859784\n",
              "906 2021-10-25  227.793232  ...                         0.0  224.173042\n",
              "\n",
              "[907 rows x 16 columns]"
            ]
          },
          "metadata": {
            "tags": []
          },
          "execution_count": 47
        }
      ]
    },
    {
      "cell_type": "code",
      "metadata": {
        "colab": {
          "base_uri": "https://localhost:8080/",
          "height": 195
        },
        "id": "jhl1GiNzWO26",
        "outputId": "356c4a08-e254-4db1-caee-efa4fa523222"
      },
      "source": [
        "forecast = m.predict(future)\r\n",
        "\r\n",
        "forecast[['ds', 'yhat', 'yhat_lower', 'yhat_upper']].tail()"
      ],
      "execution_count": null,
      "outputs": [
        {
          "output_type": "execute_result",
          "data": {
            "text/html": [
              "<div>\n",
              "<style scoped>\n",
              "    .dataframe tbody tr th:only-of-type {\n",
              "        vertical-align: middle;\n",
              "    }\n",
              "\n",
              "    .dataframe tbody tr th {\n",
              "        vertical-align: top;\n",
              "    }\n",
              "\n",
              "    .dataframe thead th {\n",
              "        text-align: right;\n",
              "    }\n",
              "</style>\n",
              "<table border=\"1\" class=\"dataframe\">\n",
              "  <thead>\n",
              "    <tr style=\"text-align: right;\">\n",
              "      <th></th>\n",
              "      <th>ds</th>\n",
              "      <th>yhat</th>\n",
              "      <th>yhat_lower</th>\n",
              "      <th>yhat_upper</th>\n",
              "    </tr>\n",
              "  </thead>\n",
              "  <tbody>\n",
              "    <tr>\n",
              "      <th>902</th>\n",
              "      <td>2021-10-21</td>\n",
              "      <td>229.217768</td>\n",
              "      <td>163.816553</td>\n",
              "      <td>297.462523</td>\n",
              "    </tr>\n",
              "    <tr>\n",
              "      <th>903</th>\n",
              "      <td>2021-10-22</td>\n",
              "      <td>223.720726</td>\n",
              "      <td>155.328764</td>\n",
              "      <td>290.838742</td>\n",
              "    </tr>\n",
              "    <tr>\n",
              "      <th>904</th>\n",
              "      <td>2021-10-23</td>\n",
              "      <td>224.547944</td>\n",
              "      <td>156.633257</td>\n",
              "      <td>291.858378</td>\n",
              "    </tr>\n",
              "    <tr>\n",
              "      <th>905</th>\n",
              "      <td>2021-10-24</td>\n",
              "      <td>225.859784</td>\n",
              "      <td>153.400388</td>\n",
              "      <td>291.499640</td>\n",
              "    </tr>\n",
              "    <tr>\n",
              "      <th>906</th>\n",
              "      <td>2021-10-25</td>\n",
              "      <td>224.173042</td>\n",
              "      <td>159.061131</td>\n",
              "      <td>293.808483</td>\n",
              "    </tr>\n",
              "  </tbody>\n",
              "</table>\n",
              "</div>"
            ],
            "text/plain": [
              "            ds        yhat  yhat_lower  yhat_upper\n",
              "902 2021-10-21  229.217768  163.816553  297.462523\n",
              "903 2021-10-22  223.720726  155.328764  290.838742\n",
              "904 2021-10-23  224.547944  156.633257  291.858378\n",
              "905 2021-10-24  225.859784  153.400388  291.499640\n",
              "906 2021-10-25  224.173042  159.061131  293.808483"
            ]
          },
          "metadata": {
            "tags": []
          },
          "execution_count": 48
        }
      ]
    },
    {
      "cell_type": "markdown",
      "metadata": {
        "id": "kHvOnjkvYveK"
      },
      "source": [
        "Step 5: visualize the forecast"
      ]
    },
    {
      "cell_type": "code",
      "metadata": {
        "colab": {
          "base_uri": "https://localhost:8080/",
          "height": 441
        },
        "id": "pU678qCrWlB6",
        "outputId": "c50d98bf-cea3-4350-8875-860e2e6383b1"
      },
      "source": [
        "m.plot(forecast);"
      ],
      "execution_count": null,
      "outputs": [
        {
          "output_type": "display_data",
          "data": {
            "image/png": "[encoded data removed]",
            "text/plain": [
              "<Figure size 720x432 with 1 Axes>"
            ]
          },
          "metadata": {
            "tags": []
          }
        }
      ]
    },
    {
      "cell_type": "code",
      "metadata": {
        "colab": {
          "base_uri": "https://localhost:8080/",
          "height": 77
        },
        "id": "R5FMgIpAbEBx",
        "outputId": "8c611266-9341-4e3a-efba-7299219664f0"
      },
      "source": [
        "# sidetrack - what story was that outlier with 500+ views?\r\n",
        "df.loc[df.y>500]  # doesn't look like anything was written that day.. odd.."
      ],
      "execution_count": null,
      "outputs": [
        {
          "output_type": "execute_result",
          "data": {
            "text/html": [
              "<div>\n",
              "<style scoped>\n",
              "    .dataframe tbody tr th:only-of-type {\n",
              "        vertical-align: middle;\n",
              "    }\n",
              "\n",
              "    .dataframe tbody tr th {\n",
              "        vertical-align: top;\n",
              "    }\n",
              "\n",
              "    .dataframe thead th {\n",
              "        text-align: right;\n",
              "    }\n",
              "</style>\n",
              "<table border=\"1\" class=\"dataframe\">\n",
              "  <thead>\n",
              "    <tr style=\"text-align: right;\">\n",
              "      <th></th>\n",
              "      <th>ds</th>\n",
              "      <th>y</th>\n",
              "    </tr>\n",
              "  </thead>\n",
              "  <tbody>\n",
              "    <tr>\n",
              "      <th>167</th>\n",
              "      <td>2019-10-17</td>\n",
              "      <td>531</td>\n",
              "    </tr>\n",
              "  </tbody>\n",
              "</table>\n",
              "</div>"
            ],
            "text/plain": [
              "             ds    y\n",
              "167  2019-10-17  531"
            ]
          },
          "metadata": {
            "tags": []
          },
          "execution_count": 50
        }
      ]
    },
    {
      "cell_type": "markdown",
      "metadata": {
        "id": "rEQ8eyauY9Q8"
      },
      "source": [
        "- Black dots: actual values\r\n",
        "- Blue lines: upper, actual (dark blue), lower windows for yhat\r\n",
        "- Blue blob: prediction window (yhat window)"
      ]
    },
    {
      "cell_type": "code",
      "metadata": {
        "colab": {
          "base_uri": "https://localhost:8080/",
          "height": 441
        },
        "id": "-mu2f3eLY37F",
        "outputId": "85facf59-068d-4dd9-c21f-b917f5ca04da"
      },
      "source": [
        "m.plot_components(forecast);"
      ],
      "execution_count": null,
      "outputs": [
        {
          "output_type": "display_data",
          "data": {
            "image/png": "[encoded data removed]",
            "text/plain": [
              "<Figure size 648x432 with 2 Axes>"
            ]
          },
          "metadata": {
            "tags": []
          }
        }
      ]
    },
    {
      "cell_type": "code",
      "metadata": {
        "colab": {
          "base_uri": "https://localhost:8080/",
          "height": 617
        },
        "id": "bkF1epYSaRV_",
        "outputId": "29ed1a67-649b-4d04-8cf8-8f169e2a9e1f"
      },
      "source": [
        "from fbprophet.plot import plot_plotly, plot_components_plotly\r\n",
        "\r\n",
        "plot_plotly(m, forecast)"
      ],
      "execution_count": null,
      "outputs": [
        {
          "output_type": "display_data",
          "data": {
            "text/html": [
              "<html>\n",
              "<head><meta charset=\"utf-8\" /></head>\n",
              "<body>\n",
              "    <div>\n",
              "            <script src=\"https://cdnjs.cloudflare.com/ajax/libs/mathjax/2.7.5/MathJax.js?config=TeX-AMS-MML_SVG\"></script><script type=\"text/javascript\">if (window.MathJax) {MathJax.Hub.Config({SVG: {font: \"STIX-Web\"}});}</script>\n",
              "                <script type=\"text/javascript\">window.PlotlyConfig = {MathJaxConfig: 'local'};</script>\n",
              "        <script src=\"https://cdn.plot.ly/plotly-latest.min.js\"></script>    \n",
              "            <div id=\"0a20e0cc-fe34-49f9-9983-8e00a1e8ec4f\" class=\"plotly-graph-div\" style=\"height:600px; width:900px;\"></div>\n",
              "            <script type=\"text/javascript\">\n",
              "                \n",
              "                    window.PLOTLYENV=window.PLOTLYENV || {};\n",
              "                    \n",
              "                if (document.getElementById(\"0a20e0cc-fe34-49f9-9983-8e00a1e8ec4f\")) {\n",
              "                    Plotly.newPlot(\n",
              "                        '0a20e0cc-fe34-49f9-9983-8e00a1e8ec4f',\n",
              "                        [{\"marker\": {\"color\": \"black\", \"size\": 4}, \"mode\": \"markers\", \"name\": \"Actual\", \"type\": \"scatter\", \"x\": [\"2019-05-03T00:00:00\", \"2019-05-04T00:00:00\", \"2019-05-05T00:00:00\", \"2019-05-06T00:00:00\", \"2019-05-07T00:00:00\", \"2019-05-08T00:00:00\", \"2019-05-09T00:00:00\", \"2019-05-10T00:00:00\", \"2019-05-11T00:00:00\", \"2019-05-12T00:00:00\", \"2019-05-13T00:00:00\", \"2019-05-14T00:00:00\", \"2019-05-15T00:00:00\", \"2019-05-16T00:00:00\", \"2019-05-17T00:00:00\", \"2019-05-18T00:00:00\", \"2019-05-19T00:00:00\", \"2019-05-20T00:00:00\", \"2019-05-21T00:00:00\", \"2019-05-22T00:00:00\", \"2019-05-23T00:00:00\", \"2019-05-24T00:00:00\", \"2019-05-25T00:00:00\", \"2019-05-26T00:00:00\", \"2019-05-27T00:00:00\", \"2019-05-28T00:00:00\", \"2019-05-29T00:00:00\", \"2019-05-30T00:00:00\", \"2019-05-31T00:00:00\", \"2019-06-01T00:00:00\", \"2019-06-02T00:00:00\", \"2019-06-03T00:00:00\", \"2019-06-04T00:00:00\", \"2019-06-05T00:00:00\", \"2019-06-06T00:00:00\", \"2019-06-07T00:00:00\", \"2019-06-08T00:00:00\", \"2019-06-09T00:00:00\", \"2019-06-10T00:00:00\", \"2019-06-11T00:00:00\", \"2019-06-12T00:00:00\", \"2019-06-13T00:00:00\", \"2019-06-14T00:00:00\", \"2019-06-15T00:00:00\", \"2019-06-16T00:00:00\", \"2019-06-17T00:00:00\", \"2019-06-18T00:00:00\", \"2019-06-19T00:00:00\", \"2019-06-20T00:00:00\", \"2019-06-21T00:00:00\", \"2019-06-22T00:00:00\", \"2019-06-23T00:00:00\", \"2019-06-24T00:00:00\", \"2019-06-25T00:00:00\", \"2019-06-26T00:00:00\", \"2019-06-27T00:00:00\", \"2019-06-28T00:00:00\", \"2019-06-29T00:00:00\", \"2019-06-30T00:00:00\", \"2019-07-01T00:00:00\", \"2019-07-02T00:00:00\", \"2019-07-03T00:00:00\", \"2019-07-04T00:00:00\", \"2019-07-05T00:00:00\", \"2019-07-06T00:00:00\", \"2019-07-07T00:00:00\", \"2019-07-08T00:00:00\", \"2019-07-09T00:00:00\", \"2019-07-10T00:00:00\", \"2019-07-11T00:00:00\", \"2019-07-12T00:00:00\", \"2019-07-13T00:00:00\", \"2019-07-14T00:00:00\", \"2019-07-15T00:00:00\", \"2019-07-16T00:00:00\", \"2019-07-17T00:00:00\", \"2019-07-18T00:00:00\", \"2019-07-19T00:00:00\", \"2019-07-20T00:00:00\", \"2019-07-21T00:00:00\", \"2019-07-22T00:00:00\", \"2019-07-23T00:00:00\", \"2019-07-24T00:00:00\", \"2019-07-25T00:00:00\", \"2019-07-26T00:00:00\", \"2019-07-27T00:00:00\", \"2019-07-28T00:00:00\", \"2019-07-29T00:00:00\", \"2019-07-30T00:00:00\", \"2019-07-31T00:00:00\", \"2019-08-01T00:00:00\", \"2019-08-02T00:00:00\", \"2019-08-03T00:00:00\", \"2019-08-04T00:00:00\", \"2019-08-05T00:00:00\", \"2019-08-06T00:00:00\", \"2019-08-07T00:00:00\", \"2019-08-08T00:00:00\", \"2019-08-09T00:00:00\", \"2019-08-10T00:00:00\", \"2019-08-11T00:00:00\", \"2019-08-12T00:00:00\", \"2019-08-13T00:00:00\", \"2019-08-14T00:00:00\", \"2019-08-15T00:00:00\", \"2019-08-16T00:00:00\", \"2019-08-17T00:00:00\", \"2019-08-18T00:00:00\", \"2019-08-19T00:00:00\", \"2019-08-20T00:00:00\", \"2019-08-21T00:00:00\", \"2019-08-22T00:00:00\", \"2019-08-23T00:00:00\", \"2019-08-24T00:00:00\", \"2019-08-25T00:00:00\", \"2019-08-26T00:00:00\", \"2019-08-27T00:00:00\", \"2019-08-28T00:00:00\", \"2019-08-29T00:00:00\", \"2019-08-30T00:00:00\", \"2019-08-31T00:00:00\", \"2019-09-01T00:00:00\", \"2019-09-02T00:00:00\", \"2019-09-03T00:00:00\", \"2019-09-04T00:00:00\", \"2019-09-05T00:00:00\", \"2019-09-06T00:00:00\", \"2019-09-07T00:00:00\", \"2019-09-08T00:00:00\", \"2019-09-09T00:00:00\", \"2019-09-10T00:00:00\", \"2019-09-11T00:00:00\", \"2019-09-12T00:00:00\", \"2019-09-13T00:00:00\", \"2019-09-14T00:00:00\", \"2019-09-15T00:00:00\", \"2019-09-16T00:00:00\", \"2019-09-17T00:00:00\", \"2019-09-18T00:00:00\", \"2019-09-19T00:00:00\", \"2019-09-20T00:00:00\", \"2019-09-21T00:00:00\", \"2019-09-22T00:00:00\", \"2019-09-23T00:00:00\", \"2019-09-24T00:00:00\", \"2019-09-25T00:00:00\", \"2019-09-26T00:00:00\", \"2019-09-27T00:00:00\", \"2019-09-28T00:00:00\", \"2019-09-29T00:00:00\", \"2019-09-30T00:00:00\", \"2019-10-01T00:00:00\", \"2019-10-02T00:00:00\", \"2019-10-03T00:00:00\", \"2019-10-04T00:00:00\", \"2019-10-05T00:00:00\", \"2019-10-06T00:00:00\", \"2019-10-07T00:00:00\", \"2019-10-08T00:00:00\", \"2019-10-09T00:00:00\", \"2019-10-10T00:00:00\", \"2019-10-11T00:00:00\", \"2019-10-12T00:00:00\", \"2019-10-13T00:00:00\", \"2019-10-14T00:00:00\", \"2019-10-15T00:00:00\", \"2019-10-16T00:00:00\", \"2019-10-17T00:00:00\", \"2019-10-18T00:00:00\", \"2019-10-19T00:00:00\", \"2019-10-20T00:00:00\", \"2019-10-21T00:00:00\", \"2019-10-22T00:00:00\", \"2019-10-23T00:00:00\", \"2019-10-24T00:00:00\", \"2019-10-25T00:00:00\", \"2019-10-26T00:00:00\", \"2019-10-27T00:00:00\", \"2019-10-28T00:00:00\", \"2019-10-29T00:00:00\", \"2019-10-30T00:00:00\", \"2019-10-31T00:00:00\", \"2019-11-01T00:00:00\", \"2019-11-02T00:00:00\", \"2019-11-03T00:00:00\", \"2019-11-04T00:00:00\", \"2019-11-05T00:00:00\", \"2019-11-06T00:00:00\", \"2019-11-07T00:00:00\", \"2019-11-08T00:00:00\", \"2019-11-09T00:00:00\", \"2019-11-10T00:00:00\", \"2019-11-11T00:00:00\", \"2019-11-12T00:00:00\", \"2019-11-13T00:00:00\", \"2019-11-14T00:00:00\", \"2019-11-15T00:00:00\", \"2019-11-16T00:00:00\", \"2019-11-17T00:00:00\", \"2019-11-18T00:00:00\", \"2019-11-19T00:00:00\", \"2019-11-20T00:00:00\", \"2019-11-21T00:00:00\", \"2019-11-22T00:00:00\", \"2019-11-23T00:00:00\", \"2019-11-24T00:00:00\", \"2019-11-25T00:00:00\", \"2019-11-26T00:00:00\", \"2019-11-27T00:00:00\", \"2019-11-28T00:00:00\", \"2019-11-29T00:00:00\", \"2019-11-30T00:00:00\", \"2019-12-01T00:00:00\", \"2019-12-02T00:00:00\", \"2019-12-03T00:00:00\", \"2019-12-04T00:00:00\", \"2019-12-05T00:00:00\", \"2019-12-06T00:00:00\", \"2019-12-07T00:00:00\", \"2019-12-08T00:00:00\", \"2019-12-09T00:00:00\", \"2019-12-10T00:00:00\", \"2019-12-11T00:00:00\", \"2019-12-12T00:00:00\", \"2019-12-13T00:00:00\", \"2019-12-14T00:00:00\", \"2019-12-15T00:00:00\", \"2019-12-16T00:00:00\", \"2019-12-17T00:00:00\", \"2019-12-18T00:00:00\", \"2019-12-19T00:00:00\", \"2019-12-20T00:00:00\", \"2019-12-21T00:00:00\", \"2019-12-22T00:00:00\", \"2019-12-23T00:00:00\", \"2019-12-24T00:00:00\", \"2019-12-25T00:00:00\", \"2019-12-26T00:00:00\", \"2019-12-27T00:00:00\", \"2019-12-28T00:00:00\", \"2019-12-29T00:00:00\", \"2019-12-30T00:00:00\", \"2019-12-31T00:00:00\", \"2020-01-01T00:00:00\", \"2020-01-02T00:00:00\", \"2020-01-03T00:00:00\", \"2020-01-04T00:00:00\", \"2020-01-05T00:00:00\", \"2020-01-06T00:00:00\", \"2020-01-07T00:00:00\", \"2020-01-08T00:00:00\", \"2020-01-09T00:00:00\", \"2020-01-10T00:00:00\", \"2020-01-11T00:00:00\", \"2020-01-12T00:00:00\", \"2020-01-13T00:00:00\", \"2020-01-14T00:00:00\", \"2020-01-15T00:00:00\", \"2020-01-16T00:00:00\", \"2020-01-17T00:00:00\", \"2020-01-18T00:00:00\", \"2020-01-19T00:00:00\", \"2020-01-20T00:00:00\", \"2020-01-21T00:00:00\", \"2020-01-22T00:00:00\", \"2020-01-23T00:00:00\", \"2020-01-24T00:00:00\", \"2020-01-25T00:00:00\", \"2020-01-26T00:00:00\", \"2020-01-27T00:00:00\", \"2020-01-28T00:00:00\", \"2020-01-29T00:00:00\", \"2020-01-30T00:00:00\", \"2020-01-31T00:00:00\", \"2020-02-01T00:00:00\", \"2020-02-02T00:00:00\", \"2020-02-03T00:00:00\", \"2020-02-04T00:00:00\", \"2020-02-05T00:00:00\", \"2020-02-06T00:00:00\", \"2020-02-07T00:00:00\", \"2020-02-08T00:00:00\", \"2020-02-09T00:00:00\", \"2020-02-10T00:00:00\", \"2020-02-11T00:00:00\", \"2020-02-12T00:00:00\", \"2020-02-13T00:00:00\", \"2020-02-14T00:00:00\", \"2020-02-15T00:00:00\", \"2020-02-16T00:00:00\", \"2020-02-17T00:00:00\", \"2020-02-18T00:00:00\", \"2020-02-19T00:00:00\", \"2020-02-20T00:00:00\", \"2020-02-21T00:00:00\", \"2020-02-22T00:00:00\", \"2020-02-23T00:00:00\", \"2020-02-24T00:00:00\", \"2020-02-25T00:00:00\", \"2020-02-26T00:00:00\", \"2020-02-27T00:00:00\", \"2020-02-28T00:00:00\", \"2020-02-29T00:00:00\", \"2020-03-01T00:00:00\", \"2020-03-02T00:00:00\", \"2020-03-03T00:00:00\", \"2020-03-04T00:00:00\", \"2020-03-05T00:00:00\", \"2020-03-06T00:00:00\", \"2020-03-07T00:00:00\", \"2020-03-08T00:00:00\", \"2020-03-09T00:00:00\", \"2020-03-10T00:00:00\", \"2020-03-11T00:00:00\", \"2020-03-12T00:00:00\", \"2020-03-13T00:00:00\", \"2020-03-14T00:00:00\", \"2020-03-15T00:00:00\", \"2020-03-16T00:00:00\", \"2020-03-17T00:00:00\", \"2020-03-18T00:00:00\", \"2020-03-19T00:00:00\", \"2020-03-20T00:00:00\", \"2020-03-21T00:00:00\", \"2020-03-22T00:00:00\", \"2020-03-23T00:00:00\", \"2020-03-24T00:00:00\", \"2020-03-25T00:00:00\", \"2020-03-26T00:00:00\", \"2020-03-27T00:00:00\", \"2020-03-28T00:00:00\", \"2020-03-29T00:00:00\", \"2020-03-30T00:00:00\", \"2020-03-31T00:00:00\", \"2020-04-01T00:00:00\", \"2020-04-02T00:00:00\", \"2020-04-03T00:00:00\", \"2020-04-04T00:00:00\", \"2020-04-05T00:00:00\", \"2020-04-06T00:00:00\", \"2020-04-07T00:00:00\", \"2020-04-08T00:00:00\", \"2020-04-09T00:00:00\", \"2020-04-10T00:00:00\", \"2020-04-11T00:00:00\", \"2020-04-12T00:00:00\", \"2020-04-13T00:00:00\", \"2020-04-14T00:00:00\", \"2020-04-15T00:00:00\", \"2020-04-16T00:00:00\", \"2020-04-17T00:00:00\", \"2020-04-18T00:00:00\", \"2020-04-19T00:00:00\", \"2020-04-20T00:00:00\", \"2020-04-21T00:00:00\", \"2020-04-22T00:00:00\", \"2020-04-23T00:00:00\", \"2020-04-24T00:00:00\", \"2020-04-25T00:00:00\", \"2020-04-26T00:00:00\", \"2020-04-27T00:00:00\", \"2020-04-28T00:00:00\", \"2020-04-29T00:00:00\", \"2020-04-30T00:00:00\", \"2020-05-01T00:00:00\", \"2020-05-02T00:00:00\", \"2020-05-03T00:00:00\", \"2020-05-04T00:00:00\", \"2020-05-05T00:00:00\", \"2020-05-06T00:00:00\", \"2020-05-07T00:00:00\", \"2020-05-08T00:00:00\", \"2020-05-09T00:00:00\", \"2020-05-10T00:00:00\", \"2020-05-11T00:00:00\", \"2020-05-12T00:00:00\", \"2020-05-13T00:00:00\", \"2020-05-14T00:00:00\", \"2020-05-15T00:00:00\", \"2020-05-16T00:00:00\", \"2020-05-17T00:00:00\", \"2020-05-18T00:00:00\", \"2020-05-19T00:00:00\", \"2020-05-20T00:00:00\", \"2020-05-21T00:00:00\", \"2020-05-22T00:00:00\", \"2020-05-23T00:00:00\", \"2020-05-24T00:00:00\", \"2020-05-25T00:00:00\", \"2020-05-26T00:00:00\", \"2020-05-27T00:00:00\", \"2020-05-28T00:00:00\", \"2020-05-29T00:00:00\", \"2020-05-30T00:00:00\", \"2020-05-31T00:00:00\", \"2020-06-01T00:00:00\", \"2020-06-02T00:00:00\", \"2020-06-03T00:00:00\", \"2020-06-04T00:00:00\", \"2020-06-05T00:00:00\", \"2020-06-06T00:00:00\", \"2020-06-07T00:00:00\", \"2020-06-08T00:00:00\", \"2020-06-09T00:00:00\", \"2020-06-10T00:00:00\", \"2020-06-11T00:00:00\", \"2020-06-12T00:00:00\", \"2020-06-13T00:00:00\", \"2020-06-14T00:00:00\", \"2020-06-15T00:00:00\", \"2020-06-16T00:00:00\", \"2020-06-17T00:00:00\", \"2020-06-18T00:00:00\", \"2020-06-19T00:00:00\", \"2020-06-20T00:00:00\", \"2020-06-21T00:00:00\", \"2020-06-22T00:00:00\", \"2020-06-23T00:00:00\", \"2020-06-24T00:00:00\", \"2020-06-25T00:00:00\", \"2020-06-26T00:00:00\", \"2020-06-27T00:00:00\", \"2020-06-28T00:00:00\", \"2020-06-29T00:00:00\", \"2020-06-30T00:00:00\", \"2020-07-01T00:00:00\", \"2020-07-02T00:00:00\", \"2020-07-03T00:00:00\", \"2020-07-04T00:00:00\", \"2020-07-05T00:00:00\", \"2020-07-06T00:00:00\", \"2020-07-07T00:00:00\", \"2020-07-08T00:00:00\", \"2020-07-09T00:00:00\", \"2020-07-10T00:00:00\", \"2020-07-11T00:00:00\", \"2020-07-12T00:00:00\", \"2020-07-13T00:00:00\", \"2020-07-14T00:00:00\", \"2020-07-15T00:00:00\", \"2020-07-16T00:00:00\", \"2020-07-17T00:00:00\", \"2020-07-18T00:00:00\", \"2020-07-19T00:00:00\", \"2020-07-20T00:00:00\", \"2020-07-21T00:00:00\", \"2020-07-22T00:00:00\", \"2020-07-23T00:00:00\", \"2020-07-24T00:00:00\", \"2020-07-25T00:00:00\", \"2020-07-26T00:00:00\", \"2020-07-27T00:00:00\", \"2020-07-28T00:00:00\", \"2020-07-29T00:00:00\", \"2020-07-30T00:00:00\", \"2020-07-31T00:00:00\", \"2020-08-01T00:00:00\", \"2020-08-02T00:00:00\", \"2020-08-03T00:00:00\", \"2020-08-04T00:00:00\", \"2020-08-05T00:00:00\", \"2020-08-06T00:00:00\", \"2020-08-07T00:00:00\", \"2020-08-08T00:00:00\", \"2020-08-09T00:00:00\", \"2020-08-10T00:00:00\", \"2020-08-11T00:00:00\", \"2020-08-12T00:00:00\", \"2020-08-13T00:00:00\", \"2020-08-14T00:00:00\", \"2020-08-15T00:00:00\", \"2020-08-16T00:00:00\", \"2020-08-17T00:00:00\", \"2020-08-18T00:00:00\", \"2020-08-19T00:00:00\", \"2020-08-20T00:00:00\", \"2020-08-21T00:00:00\", \"2020-08-22T00:00:00\", \"2020-08-23T00:00:00\", \"2020-08-24T00:00:00\", \"2020-08-25T00:00:00\", \"2020-08-26T00:00:00\", \"2020-08-27T00:00:00\", \"2020-08-28T00:00:00\", \"2020-08-29T00:00:00\", \"2020-08-30T00:00:00\", \"2020-08-31T00:00:00\", \"2020-09-01T00:00:00\", \"2020-09-02T00:00:00\", \"2020-09-03T00:00:00\", \"2020-09-04T00:00:00\", \"2020-09-05T00:00:00\", \"2020-09-06T00:00:00\", \"2020-09-07T00:00:00\", \"2020-09-08T00:00:00\", \"2020-09-09T00:00:00\", \"2020-09-10T00:00:00\", \"2020-09-11T00:00:00\", \"2020-09-12T00:00:00\", \"2020-09-13T00:00:00\", \"2020-09-14T00:00:00\", \"2020-09-15T00:00:00\", \"2020-09-16T00:00:00\", \"2020-09-17T00:00:00\", \"2020-09-18T00:00:00\", \"2020-09-19T00:00:00\", \"2020-09-20T00:00:00\", \"2020-09-21T00:00:00\", \"2020-09-22T00:00:00\", \"2020-09-23T00:00:00\", \"2020-09-24T00:00:00\", \"2020-09-25T00:00:00\", \"2020-09-26T00:00:00\", \"2020-09-27T00:00:00\", \"2020-09-28T00:00:00\", \"2020-09-29T00:00:00\", \"2020-09-30T00:00:00\", \"2020-10-01T00:00:00\", \"2020-10-02T00:00:00\", \"2020-10-03T00:00:00\", \"2020-10-04T00:00:00\", \"2020-10-05T00:00:00\", \"2020-10-06T00:00:00\", \"2020-10-07T00:00:00\", \"2020-10-08T00:00:00\", \"2020-10-09T00:00:00\", \"2020-10-10T00:00:00\", \"2020-10-11T00:00:00\", \"2020-10-12T00:00:00\", \"2020-10-13T00:00:00\", \"2020-10-14T00:00:00\", \"2020-10-15T00:00:00\", \"2020-10-16T00:00:00\", \"2020-10-17T00:00:00\", \"2020-10-18T00:00:00\", \"2020-10-19T00:00:00\", \"2020-10-20T00:00:00\", \"2020-10-21T00:00:00\", \"2020-10-22T00:00:00\", \"2020-10-23T00:00:00\", \"2020-10-24T00:00:00\", \"2020-10-25T00:00:00\"], \"y\": [5, 21, 10, 5, 2, 2, 3, 14, 3, 6, 5, 4, 17, 5, 2, 10, 29, 6, 12, 5, 16, 21, 12, 25, 6, 4, 6, 7, 15, 17, 24, 17, 22, 23, 25, 21, 15, 9, 17, 20, 36, 29, 38, 19, 13, 23, 34, 31, 79, 170, 14, 35, 1, 7, 3, 5, 9, 2, 4, 4, 48, 36, 31, 54, 46, 62, 56, 44, 21, 20, 44, 64, 46, 41, 60, 32, 50, 47, 56, 61, 81, 133, 112, 200, 133, 41, 47, 119, 42, 25, 59, 38, 60, 24, 30, 28, 41, 44, 78, 95, 29, 18, 38, 47, 55, 66, 36, 45, 24, 37, 53, 36, 57, 58, 63, 15, 41, 45, 49, 62, 113, 179, 165, 128, 168, 92, 84, 101, 110, 138, 70, 110, 34, 41, 38, 88, 68, 70, 71, 32, 36, 54, 54, 47, 51, 75, 41, 27, 31, 40, 184, 125, 115, 179, 134, 165, 61, 107, 111, 132, 141, 121, 171, 110, 92, 177, 137, 531, 131, 130, 114, 78, 126, 159, 189, 133, 154, 96, 71, 137, 125, 75, 69, 109, 107, 103, 161, 121, 81, 51, 138, 166, 118, 114, 156, 124, 108, 93, 132, 130, 129, 143, 101, 67, 104, 129, 195, 213, 198, 6, 107, 72, 55, 82, 71, 59, 85, 103, 92, 121, 98, 142, 96, 114, 156, 131, 130, 197, 108, 71, 98, 121, 142, 139, 130, 63, 54, 80, 105, 163, 8, 96, 121, 152, 114, 133, 142, 106, 77, 116, 170, 206, 138, 176, 103, 55, 132, 151, 108, 176, 112, 70, 65, 112, 149, 141, 139, 128, 56, 62, 121, 1, 73, 119, 68, 135, 167, 192, 218, 173, 221, 78, 149, 180, 261, 223, 197, 133, 85, 162, 198, 219, 262, 316, 145, 143, 216, 244, 270, 266, 202, 98, 5, 141, 140, 165, 175, 107, 88, 129, 167, 167, 136, 210, 105, 86, 89, 157, 131, 155, 146, 120, 91, 139, 203, 213, 184, 148, 114, 124, 182, 202, 185, 188, 3, 166, 182, 216, 240, 208, 212, 184, 226, 285, 192, 202, 204, 192, 166, 186, 217, 299, 237, 263, 150, 127, 205, 182, 192, 157, 184, 137, 106, 123, 149, 155, 169, 183, 217, 172, 227, 180, 149, 143, 186, 185, 189, 249, 297, 199, 200, 188, 192, 231, 248, 233, 204, 179, 161, 213, 238, 224, 226, 160, 174, 211, 149, 132, 82, 167, 181, 183, 208, 153, 93, 129, 148, 186, 151, 144, 156, 110, 98, 115, 151, 101, 178, 176, 193, 152, 224, 222, 234, 214, 297, 200, 175, 235, 222, 152, 127, 173, 180, 157, 197, 203, 116, 93, 122, 168, 145, 160, 145, 132, 98, 141, 136, 181, 133, 158, 125, 59, 122, 125, 142, 108, 200, 226, 165, 170, 160, 124, 144, 187, 225, 218, 303, 317, 175, 121, 271, 235, 192, 206, 211, 151, 131, 143, 168, 165, 178, 184, 106, 82, 151, 211, 133, 96, 163, 154, 207, 188, 221, 124, 162, 188, 218, 222, 243, 216, 132, 134, 160, 169, 252, 216, 197, 119, 110, 160, 190, 220, 201, 211, 142, 237, 348, 256, 177, 140, 188, 254, 280, 236, 239, 165, 169, 203, 201, 199, 227, 195, 136, 124, 170, 267, 233, 243, 185, 116, 139, 168]}, {\"hoverinfo\": \"skip\", \"line\": {\"width\": 0}, \"mode\": \"lines\", \"type\": \"scatter\", \"x\": [\"2019-05-03T00:00:00\", \"2019-05-04T00:00:00\", \"2019-05-05T00:00:00\", \"2019-05-06T00:00:00\", \"2019-05-07T00:00:00\", \"2019-05-08T00:00:00\", \"2019-05-09T00:00:00\", \"2019-05-10T00:00:00\", \"2019-05-11T00:00:00\", \"2019-05-12T00:00:00\", \"2019-05-13T00:00:00\", \"2019-05-14T00:00:00\", \"2019-05-15T00:00:00\", \"2019-05-16T00:00:00\", \"2019-05-17T00:00:00\", \"2019-05-18T00:00:00\", \"2019-05-19T00:00:00\", \"2019-05-20T00:00:00\", \"2019-05-21T00:00:00\", \"2019-05-22T00:00:00\", \"2019-05-23T00:00:00\", \"2019-05-24T00:00:00\", \"2019-05-25T00:00:00\", \"2019-05-26T00:00:00\", \"2019-05-27T00:00:00\", \"2019-05-28T00:00:00\", \"2019-05-29T00:00:00\", \"2019-05-30T00:00:00\", \"2019-05-31T00:00:00\", \"2019-06-01T00:00:00\", \"2019-06-02T00:00:00\", \"2019-06-03T00:00:00\", \"2019-06-04T00:00:00\", \"2019-06-05T00:00:00\", \"2019-06-06T00:00:00\", \"2019-06-07T00:00:00\", \"2019-06-08T00:00:00\", \"2019-06-09T00:00:00\", \"2019-06-10T00:00:00\", \"2019-06-11T00:00:00\", \"2019-06-12T00:00:00\", \"2019-06-13T00:00:00\", \"2019-06-14T00:00:00\", \"2019-06-15T00:00:00\", \"2019-06-16T00:00:00\", \"2019-06-17T00:00:00\", \"2019-06-18T00:00:00\", \"2019-06-19T00:00:00\", \"2019-06-20T00:00:00\", \"2019-06-21T00:00:00\", \"2019-06-22T00:00:00\", \"2019-06-23T00:00:00\", \"2019-06-24T00:00:00\", \"2019-06-25T00:00:00\", \"2019-06-26T00:00:00\", \"2019-06-27T00:00:00\", \"2019-06-28T00:00:00\", \"2019-06-29T00:00:00\", \"2019-06-30T00:00:00\", \"2019-07-01T00:00:00\", \"2019-07-02T00:00:00\", \"2019-07-03T00:00:00\", \"2019-07-04T00:00:00\", \"2019-07-05T00:00:00\", \"2019-07-06T00:00:00\", \"2019-07-07T00:00:00\", \"2019-07-08T00:00:00\", \"2019-07-09T00:00:00\", \"2019-07-10T00:00:00\", \"2019-07-11T00:00:00\", \"2019-07-12T00:00:00\", \"2019-07-13T00:00:00\", \"2019-07-14T00:00:00\", \"2019-07-15T00:00:00\", \"2019-07-16T00:00:00\", \"2019-07-17T00:00:00\", \"2019-07-18T00:00:00\", \"2019-07-19T00:00:00\", \"2019-07-20T00:00:00\", \"2019-07-21T00:00:00\", \"2019-07-22T00:00:00\", \"2019-07-23T00:00:00\", \"2019-07-24T00:00:00\", \"2019-07-25T00:00:00\", \"2019-07-26T00:00:00\", \"2019-07-27T00:00:00\", \"2019-07-28T00:00:00\", \"2019-07-29T00:00:00\", \"2019-07-30T00:00:00\", \"2019-07-31T00:00:00\", \"2019-08-01T00:00:00\", \"2019-08-02T00:00:00\", \"2019-08-03T00:00:00\", \"2019-08-04T00:00:00\", \"2019-08-05T00:00:00\", \"2019-08-06T00:00:00\", \"2019-08-07T00:00:00\", \"2019-08-08T00:00:00\", \"2019-08-09T00:00:00\", \"2019-08-10T00:00:00\", \"2019-08-11T00:00:00\", \"2019-08-12T00:00:00\", \"2019-08-13T00:00:00\", \"2019-08-14T00:00:00\", \"2019-08-15T00:00:00\", \"2019-08-16T00:00:00\", \"2019-08-17T00:00:00\", \"2019-08-18T00:00:00\", \"2019-08-19T00:00:00\", \"2019-08-20T00:00:00\", \"2019-08-21T00:00:00\", \"2019-08-22T00:00:00\", \"2019-08-23T00:00:00\", \"2019-08-24T00:00:00\", \"2019-08-25T00:00:00\", \"2019-08-26T00:00:00\", \"2019-08-27T00:00:00\", \"2019-08-28T00:00:00\", \"2019-08-29T00:00:00\", \"2019-08-30T00:00:00\", \"2019-08-31T00:00:00\", \"2019-09-01T00:00:00\", \"2019-09-02T00:00:00\", \"2019-09-03T00:00:00\", \"2019-09-04T00:00:00\", \"2019-09-05T00:00:00\", \"2019-09-06T00:00:00\", \"2019-09-07T00:00:00\", \"2019-09-08T00:00:00\", \"2019-09-09T00:00:00\", \"2019-09-10T00:00:00\", \"2019-09-11T00:00:00\", \"2019-09-12T00:00:00\", \"2019-09-13T00:00:00\", \"2019-09-14T00:00:00\", \"2019-09-15T00:00:00\", \"2019-09-16T00:00:00\", \"2019-09-17T00:00:00\", \"2019-09-18T00:00:00\", \"2019-09-19T00:00:00\", \"2019-09-20T00:00:00\", \"2019-09-21T00:00:00\", \"2019-09-22T00:00:00\", \"2019-09-23T00:00:00\", \"2019-09-24T00:00:00\", \"2019-09-25T00:00:00\", \"2019-09-26T00:00:00\", \"2019-09-27T00:00:00\", \"2019-09-28T00:00:00\", \"2019-09-29T00:00:00\", \"2019-09-30T00:00:00\", \"2019-10-01T00:00:00\", \"2019-10-02T00:00:00\", \"2019-10-03T00:00:00\", \"2019-10-04T00:00:00\", \"2019-10-05T00:00:00\", \"2019-10-06T00:00:00\", \"2019-10-07T00:00:00\", \"2019-10-08T00:00:00\", \"2019-10-09T00:00:00\", \"2019-10-10T00:00:00\", \"2019-10-11T00:00:00\", \"2019-10-12T00:00:00\", \"2019-10-13T00:00:00\", \"2019-10-14T00:00:00\", \"2019-10-15T00:00:00\", \"2019-10-16T00:00:00\", \"2019-10-17T00:00:00\", \"2019-10-18T00:00:00\", \"2019-10-19T00:00:00\", \"2019-10-20T00:00:00\", \"2019-10-21T00:00:00\", \"2019-10-22T00:00:00\", \"2019-10-23T00:00:00\", \"2019-10-24T00:00:00\", \"2019-10-25T00:00:00\", \"2019-10-26T00:00:00\", \"2019-10-27T00:00:00\", \"2019-10-28T00:00:00\", \"2019-10-29T00:00:00\", \"2019-10-30T00:00:00\", \"2019-10-31T00:00:00\", \"2019-11-01T00:00:00\", \"2019-11-02T00:00:00\", \"2019-11-03T00:00:00\", \"2019-11-04T00:00:00\", \"2019-11-05T00:00:00\", \"2019-11-06T00:00:00\", \"2019-11-07T00:00:00\", \"2019-11-08T00:00:00\", \"2019-11-09T00:00:00\", \"2019-11-10T00:00:00\", \"2019-11-11T00:00:00\", \"2019-11-12T00:00:00\", \"2019-11-13T00:00:00\", \"2019-11-14T00:00:00\", \"2019-11-15T00:00:00\", \"2019-11-16T00:00:00\", \"2019-11-17T00:00:00\", \"2019-11-18T00:00:00\", \"2019-11-19T00:00:00\", \"2019-11-20T00:00:00\", \"2019-11-21T00:00:00\", \"2019-11-22T00:00:00\", \"2019-11-23T00:00:00\", \"2019-11-24T00:00:00\", \"2019-11-25T00:00:00\", \"2019-11-26T00:00:00\", \"2019-11-27T00:00:00\", \"2019-11-28T00:00:00\", \"2019-11-29T00:00:00\", \"2019-11-30T00:00:00\", \"2019-12-01T00:00:00\", \"2019-12-02T00:00:00\", \"2019-12-03T00:00:00\", \"2019-12-04T00:00:00\", \"2019-12-05T00:00:00\", \"2019-12-06T00:00:00\", \"2019-12-07T00:00:00\", \"2019-12-08T00:00:00\", \"2019-12-09T00:00:00\", \"2019-12-10T00:00:00\", \"2019-12-11T00:00:00\", \"2019-12-12T00:00:00\", \"2019-12-13T00:00:00\", \"2019-12-14T00:00:00\", \"2019-12-15T00:00:00\", \"2019-12-16T00:00:00\", \"2019-12-17T00:00:00\", \"2019-12-18T00:00:00\", \"2019-12-19T00:00:00\", \"2019-12-20T00:00:00\", \"2019-12-21T00:00:00\", \"2019-12-22T00:00:00\", \"2019-12-23T00:00:00\", \"2019-12-24T00:00:00\", \"2019-12-25T00:00:00\", \"2019-12-26T00:00:00\", \"2019-12-27T00:00:00\", \"2019-12-28T00:00:00\", \"2019-12-29T00:00:00\", \"2019-12-30T00:00:00\", \"2019-12-31T00:00:00\", \"2020-01-01T00:00:00\", \"2020-01-02T00:00:00\", \"2020-01-03T00:00:00\", \"2020-01-04T00:00:00\", \"2020-01-05T00:00:00\", \"2020-01-06T00:00:00\", \"2020-01-07T00:00:00\", \"2020-01-08T00:00:00\", \"2020-01-09T00:00:00\", \"2020-01-10T00:00:00\", \"2020-01-11T00:00:00\", \"2020-01-12T00:00:00\", \"2020-01-13T00:00:00\", \"2020-01-14T00:00:00\", \"2020-01-15T00:00:00\", \"2020-01-16T00:00:00\", \"2020-01-17T00:00:00\", \"2020-01-18T00:00:00\", \"2020-01-19T00:00:00\", \"2020-01-20T00:00:00\", \"2020-01-21T00:00:00\", \"2020-01-22T00:00:00\", \"2020-01-23T00:00:00\", \"2020-01-24T00:00:00\", \"2020-01-25T00:00:00\", \"2020-01-26T00:00:00\", \"2020-01-27T00:00:00\", \"2020-01-28T00:00:00\", \"2020-01-29T00:00:00\", \"2020-01-30T00:00:00\", \"2020-01-31T00:00:00\", \"2020-02-01T00:00:00\", \"2020-02-02T00:00:00\", \"2020-02-03T00:00:00\", \"2020-02-04T00:00:00\", \"2020-02-05T00:00:00\", \"2020-02-06T00:00:00\", \"2020-02-07T00:00:00\", \"2020-02-08T00:00:00\", \"2020-02-09T00:00:00\", \"2020-02-10T00:00:00\", \"2020-02-11T00:00:00\", \"2020-02-12T00:00:00\", \"2020-02-13T00:00:00\", \"2020-02-14T00:00:00\", \"2020-02-15T00:00:00\", \"2020-02-16T00:00:00\", \"2020-02-17T00:00:00\", \"2020-02-18T00:00:00\", \"2020-02-19T00:00:00\", \"2020-02-20T00:00:00\", \"2020-02-21T00:00:00\", \"2020-02-22T00:00:00\", \"2020-02-23T00:00:00\", \"2020-02-24T00:00:00\", \"2020-02-25T00:00:00\", \"2020-02-26T00:00:00\", \"2020-02-27T00:00:00\", \"2020-02-28T00:00:00\", \"2020-02-29T00:00:00\", \"2020-03-01T00:00:00\", \"2020-03-02T00:00:00\", \"2020-03-03T00:00:00\", \"2020-03-04T00:00:00\", \"2020-03-05T00:00:00\", \"2020-03-06T00:00:00\", \"2020-03-07T00:00:00\", \"2020-03-08T00:00:00\", \"2020-03-09T00:00:00\", \"2020-03-10T00:00:00\", \"2020-03-11T00:00:00\", \"2020-03-12T00:00:00\", \"2020-03-13T00:00:00\", \"2020-03-14T00:00:00\", \"2020-03-15T00:00:00\", \"2020-03-16T00:00:00\", \"2020-03-17T00:00:00\", \"2020-03-18T00:00:00\", \"2020-03-19T00:00:00\", \"2020-03-20T00:00:00\", \"2020-03-21T00:00:00\", \"2020-03-22T00:00:00\", \"2020-03-23T00:00:00\", \"2020-03-24T00:00:00\", \"2020-03-25T00:00:00\", \"2020-03-26T00:00:00\", \"2020-03-27T00:00:00\", \"2020-03-28T00:00:00\", \"2020-03-29T00:00:00\", \"2020-03-30T00:00:00\", \"2020-03-31T00:00:00\", \"2020-04-01T00:00:00\", \"2020-04-02T00:00:00\", \"2020-04-03T00:00:00\", \"2020-04-04T00:00:00\", \"2020-04-05T00:00:00\", \"2020-04-06T00:00:00\", \"2020-04-07T00:00:00\", \"2020-04-08T00:00:00\", \"2020-04-09T00:00:00\", \"2020-04-10T00:00:00\", \"2020-04-11T00:00:00\", \"2020-04-12T00:00:00\", \"2020-04-13T00:00:00\", \"2020-04-14T00:00:00\", \"2020-04-15T00:00:00\", \"2020-04-16T00:00:00\", \"2020-04-17T00:00:00\", \"2020-04-18T00:00:00\", \"2020-04-19T00:00:00\", \"2020-04-20T00:00:00\", \"2020-04-21T00:00:00\", \"2020-04-22T00:00:00\", \"2020-04-23T00:00:00\", \"2020-04-24T00:00:00\", \"2020-04-25T00:00:00\", \"2020-04-26T00:00:00\", \"2020-04-27T00:00:00\", \"2020-04-28T00:00:00\", \"2020-04-29T00:00:00\", \"2020-04-30T00:00:00\", \"2020-05-01T00:00:00\", \"2020-05-02T00:00:00\", \"2020-05-03T00:00:00\", \"2020-05-04T00:00:00\", \"2020-05-05T00:00:00\", \"2020-05-06T00:00:00\", \"2020-05-07T00:00:00\", \"2020-05-08T00:00:00\", \"2020-05-09T00:00:00\", \"2020-05-10T00:00:00\", \"2020-05-11T00:00:00\", \"2020-05-12T00:00:00\", \"2020-05-13T00:00:00\", \"2020-05-14T00:00:00\", \"2020-05-15T00:00:00\", \"2020-05-16T00:00:00\", \"2020-05-17T00:00:00\", \"2020-05-18T00:00:00\", \"2020-05-19T00:00:00\", \"2020-05-20T00:00:00\", \"2020-05-21T00:00:00\", \"2020-05-22T00:00:00\", \"2020-05-23T00:00:00\", \"2020-05-24T00:00:00\", \"2020-05-25T00:00:00\", \"2020-05-26T00:00:00\", \"2020-05-27T00:00:00\", \"2020-05-28T00:00:00\", \"2020-05-29T00:00:00\", \"2020-05-30T00:00:00\", \"2020-05-31T00:00:00\", \"2020-06-01T00:00:00\", \"2020-06-02T00:00:00\", \"2020-06-03T00:00:00\", \"2020-06-04T00:00:00\", \"2020-06-05T00:00:00\", \"2020-06-06T00:00:00\", \"2020-06-07T00:00:00\", \"2020-06-08T00:00:00\", \"2020-06-09T00:00:00\", \"2020-06-10T00:00:00\", \"2020-06-11T00:00:00\", \"2020-06-12T00:00:00\", \"2020-06-13T00:00:00\", \"2020-06-14T00:00:00\", \"2020-06-15T00:00:00\", \"2020-06-16T00:00:00\", \"2020-06-17T00:00:00\", \"2020-06-18T00:00:00\", \"2020-06-19T00:00:00\", \"2020-06-20T00:00:00\", \"2020-06-21T00:00:00\", \"2020-06-22T00:00:00\", \"2020-06-23T00:00:00\", \"2020-06-24T00:00:00\", \"2020-06-25T00:00:00\", \"2020-06-26T00:00:00\", \"2020-06-27T00:00:00\", \"2020-06-28T00:00:00\", \"2020-06-29T00:00:00\", \"2020-06-30T00:00:00\", \"2020-07-01T00:00:00\", \"2020-07-02T00:00:00\", \"2020-07-03T00:00:00\", \"2020-07-04T00:00:00\", \"2020-07-05T00:00:00\", \"2020-07-06T00:00:00\", \"2020-07-07T00:00:00\", \"2020-07-08T00:00:00\", \"2020-07-09T00:00:00\", \"2020-07-10T00:00:00\", \"2020-07-11T00:00:00\", \"2020-07-12T00:00:00\", \"2020-07-13T00:00:00\", \"2020-07-14T00:00:00\", \"2020-07-15T00:00:00\", \"2020-07-16T00:00:00\", \"2020-07-17T00:00:00\", \"2020-07-18T00:00:00\", \"2020-07-19T00:00:00\", \"2020-07-20T00:00:00\", \"2020-07-21T00:00:00\", \"2020-07-22T00:00:00\", \"2020-07-23T00:00:00\", \"2020-07-24T00:00:00\", \"2020-07-25T00:00:00\", \"2020-07-26T00:00:00\", \"2020-07-27T00:00:00\", \"2020-07-28T00:00:00\", \"2020-07-29T00:00:00\", \"2020-07-30T00:00:00\", \"2020-07-31T00:00:00\", \"2020-08-01T00:00:00\", \"2020-08-02T00:00:00\", \"2020-08-03T00:00:00\", \"2020-08-04T00:00:00\", \"2020-08-05T00:00:00\", \"2020-08-06T00:00:00\", \"2020-08-07T00:00:00\", \"2020-08-08T00:00:00\", \"2020-08-09T00:00:00\", \"2020-08-10T00:00:00\", \"2020-08-11T00:00:00\", \"2020-08-12T00:00:00\", \"2020-08-13T00:00:00\", \"2020-08-14T00:00:00\", \"2020-08-15T00:00:00\", \"2020-08-16T00:00:00\", \"2020-08-17T00:00:00\", \"2020-08-18T00:00:00\", \"2020-08-19T00:00:00\", \"2020-08-20T00:00:00\", \"2020-08-21T00:00:00\", \"2020-08-22T00:00:00\", \"2020-08-23T00:00:00\", \"2020-08-24T00:00:00\", \"2020-08-25T00:00:00\", \"2020-08-26T00:00:00\", \"2020-08-27T00:00:00\", \"2020-08-28T00:00:00\", \"2020-08-29T00:00:00\", \"2020-08-30T00:00:00\", \"2020-08-31T00:00:00\", \"2020-09-01T00:00:00\", \"2020-09-02T00:00:00\", \"2020-09-03T00:00:00\", \"2020-09-04T00:00:00\", \"2020-09-05T00:00:00\", \"2020-09-06T00:00:00\", \"2020-09-07T00:00:00\", \"2020-09-08T00:00:00\", \"2020-09-09T00:00:00\", \"2020-09-10T00:00:00\", \"2020-09-11T00:00:00\", \"2020-09-12T00:00:00\", \"2020-09-13T00:00:00\", \"2020-09-14T00:00:00\", \"2020-09-15T00:00:00\", \"2020-09-16T00:00:00\", \"2020-09-17T00:00:00\", \"2020-09-18T00:00:00\", \"2020-09-19T00:00:00\", \"2020-09-20T00:00:00\", \"2020-09-21T00:00:00\", \"2020-09-22T00:00:00\", \"2020-09-23T00:00:00\", \"2020-09-24T00:00:00\", \"2020-09-25T00:00:00\", \"2020-09-26T00:00:00\", \"2020-09-27T00:00:00\", \"2020-09-28T00:00:00\", \"2020-09-29T00:00:00\", \"2020-09-30T00:00:00\", \"2020-10-01T00:00:00\", \"2020-10-02T00:00:00\", \"2020-10-03T00:00:00\", \"2020-10-04T00:00:00\", \"2020-10-05T00:00:00\", \"2020-10-06T00:00:00\", \"2020-10-07T00:00:00\", \"2020-10-08T00:00:00\", \"2020-10-09T00:00:00\", \"2020-10-10T00:00:00\", \"2020-10-11T00:00:00\", \"2020-10-12T00:00:00\", \"2020-10-13T00:00:00\", \"2020-10-14T00:00:00\", \"2020-10-15T00:00:00\", \"2020-10-16T00:00:00\", \"2020-10-17T00:00:00\", \"2020-10-18T00:00:00\", \"2020-10-19T00:00:00\", \"2020-10-20T00:00:00\", \"2020-10-21T00:00:00\", \"2020-10-22T00:00:00\", \"2020-10-23T00:00:00\", \"2020-10-24T00:00:00\", \"2020-10-25T00:00:00\", \"2020-10-26T00:00:00\", \"2020-10-27T00:00:00\", \"2020-10-28T00:00:00\", \"2020-10-29T00:00:00\", \"2020-10-30T00:00:00\", \"2020-10-31T00:00:00\", \"2020-11-01T00:00:00\", \"2020-11-02T00:00:00\", \"2020-11-03T00:00:00\", \"2020-11-04T00:00:00\", \"2020-11-05T00:00:00\", \"2020-11-06T00:00:00\", \"2020-11-07T00:00:00\", \"2020-11-08T00:00:00\", \"2020-11-09T00:00:00\", \"2020-11-10T00:00:00\", \"2020-11-11T00:00:00\", \"2020-11-12T00:00:00\", \"2020-11-13T00:00:00\", \"2020-11-14T00:00:00\", \"2020-11-15T00:00:00\", \"2020-11-16T00:00:00\", \"2020-11-17T00:00:00\", \"2020-11-18T00:00:00\", \"2020-11-19T00:00:00\", \"2020-11-20T00:00:00\", \"2020-11-21T00:00:00\", \"2020-11-22T00:00:00\", \"2020-11-23T00:00:00\", \"2020-11-24T00:00:00\", \"2020-11-25T00:00:00\", \"2020-11-26T00:00:00\", \"2020-11-27T00:00:00\", \"2020-11-28T00:00:00\", \"2020-11-29T00:00:00\", \"2020-11-30T00:00:00\", \"2020-12-01T00:00:00\", \"2020-12-02T00:00:00\", \"2020-12-03T00:00:00\", \"2020-12-04T00:00:00\", \"2020-12-05T00:00:00\", \"2020-12-06T00:00:00\", \"2020-12-07T00:00:00\", \"2020-12-08T00:00:00\", \"2020-12-09T00:00:00\", \"2020-12-10T00:00:00\", \"2020-12-11T00:00:00\", \"2020-12-12T00:00:00\", \"2020-12-13T00:00:00\", \"2020-12-14T00:00:00\", \"2020-12-15T00:00:00\", \"2020-12-16T00:00:00\", \"2020-12-17T00:00:00\", \"2020-12-18T00:00:00\", \"2020-12-19T00:00:00\", \"2020-12-20T00:00:00\", \"2020-12-21T00:00:00\", \"2020-12-22T00:00:00\", \"2020-12-23T00:00:00\", \"2020-12-24T00:00:00\", \"2020-12-25T00:00:00\", \"2020-12-26T00:00:00\", \"2020-12-27T00:00:00\", \"2020-12-28T00:00:00\", \"2020-12-29T00:00:00\", \"2020-12-30T00:00:00\", \"2020-12-31T00:00:00\", \"2021-01-01T00:00:00\", \"2021-01-02T00:00:00\", \"2021-01-03T00:00:00\", \"2021-01-04T00:00:00\", \"2021-01-05T00:00:00\", \"2021-01-06T00:00:00\", \"2021-01-07T00:00:00\", \"2021-01-08T00:00:00\", \"2021-01-09T00:00:00\", \"2021-01-10T00:00:00\", \"2021-01-11T00:00:00\", \"2021-01-12T00:00:00\", \"2021-01-13T00:00:00\", \"2021-01-14T00:00:00\", \"2021-01-15T00:00:00\", \"2021-01-16T00:00:00\", \"2021-01-17T00:00:00\", \"2021-01-18T00:00:00\", \"2021-01-19T00:00:00\", \"2021-01-20T00:00:00\", \"2021-01-21T00:00:00\", \"2021-01-22T00:00:00\", \"2021-01-23T00:00:00\", \"2021-01-24T00:00:00\", \"2021-01-25T00:00:00\", \"2021-01-26T00:00:00\", \"2021-01-27T00:00:00\", \"2021-01-28T00:00:00\", \"2021-01-29T00:00:00\", \"2021-01-30T00:00:00\", \"2021-01-31T00:00:00\", \"2021-02-01T00:00:00\", \"2021-02-02T00:00:00\", \"2021-02-03T00:00:00\", \"2021-02-04T00:00:00\", \"2021-02-05T00:00:00\", \"2021-02-06T00:00:00\", \"2021-02-07T00:00:00\", \"2021-02-08T00:00:00\", \"2021-02-09T00:00:00\", \"2021-02-10T00:00:00\", \"2021-02-11T00:00:00\", \"2021-02-12T00:00:00\", \"2021-02-13T00:00:00\", \"2021-02-14T00:00:00\", \"2021-02-15T00:00:00\", \"2021-02-16T00:00:00\", \"2021-02-17T00:00:00\", \"2021-02-18T00:00:00\", \"2021-02-19T00:00:00\", \"2021-02-20T00:00:00\", \"2021-02-21T00:00:00\", \"2021-02-22T00:00:00\", \"2021-02-23T00:00:00\", \"2021-02-24T00:00:00\", \"2021-02-25T00:00:00\", \"2021-02-26T00:00:00\", \"2021-02-27T00:00:00\", \"2021-02-28T00:00:00\", \"2021-03-01T00:00:00\", \"2021-03-02T00:00:00\", \"2021-03-03T00:00:00\", \"2021-03-04T00:00:00\", \"2021-03-05T00:00:00\", \"2021-03-06T00:00:00\", \"2021-03-07T00:00:00\", \"2021-03-08T00:00:00\", \"2021-03-09T00:00:00\", \"2021-03-10T00:00:00\", \"2021-03-11T00:00:00\", \"2021-03-12T00:00:00\", \"2021-03-13T00:00:00\", \"2021-03-14T00:00:00\", \"2021-03-15T00:00:00\", \"2021-03-16T00:00:00\", \"2021-03-17T00:00:00\", \"2021-03-18T00:00:00\", \"2021-03-19T00:00:00\", \"2021-03-20T00:00:00\", \"2021-03-21T00:00:00\", \"2021-03-22T00:00:00\", \"2021-03-23T00:00:00\", \"2021-03-24T00:00:00\", \"2021-03-25T00:00:00\", \"2021-03-26T00:00:00\", \"2021-03-27T00:00:00\", \"2021-03-28T00:00:00\", \"2021-03-29T00:00:00\", \"2021-03-30T00:00:00\", \"2021-03-31T00:00:00\", \"2021-04-01T00:00:00\", \"2021-04-02T00:00:00\", \"2021-04-03T00:00:00\", \"2021-04-04T00:00:00\", \"2021-04-05T00:00:00\", \"2021-04-06T00:00:00\", \"2021-04-07T00:00:00\", \"2021-04-08T00:00:00\", \"2021-04-09T00:00:00\", \"2021-04-10T00:00:00\", \"2021-04-11T00:00:00\", \"2021-04-12T00:00:00\", \"2021-04-13T00:00:00\", \"2021-04-14T00:00:00\", \"2021-04-15T00:00:00\", \"2021-04-16T00:00:00\", \"2021-04-17T00:00:00\", \"2021-04-18T00:00:00\", \"2021-04-19T00:00:00\", \"2021-04-20T00:00:00\", \"2021-04-21T00:00:00\", \"2021-04-22T00:00:00\", \"2021-04-23T00:00:00\", \"2021-04-24T00:00:00\", \"2021-04-25T00:00:00\", \"2021-04-26T00:00:00\", \"2021-04-27T00:00:00\", \"2021-04-28T00:00:00\", \"2021-04-29T00:00:00\", \"2021-04-30T00:00:00\", \"2021-05-01T00:00:00\", \"2021-05-02T00:00:00\", \"2021-05-03T00:00:00\", \"2021-05-04T00:00:00\", \"2021-05-05T00:00:00\", \"2021-05-06T00:00:00\", \"2021-05-07T00:00:00\", \"2021-05-08T00:00:00\", \"2021-05-09T00:00:00\", \"2021-05-10T00:00:00\", \"2021-05-11T00:00:00\", \"2021-05-12T00:00:00\", \"2021-05-13T00:00:00\", \"2021-05-14T00:00:00\", \"2021-05-15T00:00:00\", \"2021-05-16T00:00:00\", \"2021-05-17T00:00:00\", \"2021-05-18T00:00:00\", \"2021-05-19T00:00:00\", \"2021-05-20T00:00:00\", \"2021-05-21T00:00:00\", \"2021-05-22T00:00:00\", \"2021-05-23T00:00:00\", \"2021-05-24T00:00:00\", \"2021-05-25T00:00:00\", \"2021-05-26T00:00:00\", \"2021-05-27T00:00:00\", \"2021-05-28T00:00:00\", \"2021-05-29T00:00:00\", \"2021-05-30T00:00:00\", \"2021-05-31T00:00:00\", \"2021-06-01T00:00:00\", \"2021-06-02T00:00:00\", \"2021-06-03T00:00:00\", \"2021-06-04T00:00:00\", \"2021-06-05T00:00:00\", \"2021-06-06T00:00:00\", \"2021-06-07T00:00:00\", \"2021-06-08T00:00:00\", \"2021-06-09T00:00:00\", \"2021-06-10T00:00:00\", \"2021-06-11T00:00:00\", \"2021-06-12T00:00:00\", \"2021-06-13T00:00:00\", \"2021-06-14T00:00:00\", \"2021-06-15T00:00:00\", \"2021-06-16T00:00:00\", \"2021-06-17T00:00:00\", \"2021-06-18T00:00:00\", \"2021-06-19T00:00:00\", \"2021-06-20T00:00:00\", \"2021-06-21T00:00:00\", \"2021-06-22T00:00:00\", \"2021-06-23T00:00:00\", \"2021-06-24T00:00:00\", \"2021-06-25T00:00:00\", \"2021-06-26T00:00:00\", \"2021-06-27T00:00:00\", \"2021-06-28T00:00:00\", \"2021-06-29T00:00:00\", \"2021-06-30T00:00:00\", \"2021-07-01T00:00:00\", \"2021-07-02T00:00:00\", \"2021-07-03T00:00:00\", \"2021-07-04T00:00:00\", \"2021-07-05T00:00:00\", \"2021-07-06T00:00:00\", \"2021-07-07T00:00:00\", \"2021-07-08T00:00:00\", \"2021-07-09T00:00:00\", \"2021-07-10T00:00:00\", \"2021-07-11T00:00:00\", \"2021-07-12T00:00:00\", \"2021-07-13T00:00:00\", \"2021-07-14T00:00:00\", \"2021-07-15T00:00:00\", \"2021-07-16T00:00:00\", \"2021-07-17T00:00:00\", \"2021-07-18T00:00:00\", \"2021-07-19T00:00:00\", \"2021-07-20T00:00:00\", \"2021-07-21T00:00:00\", \"2021-07-22T00:00:00\", \"2021-07-23T00:00:00\", \"2021-07-24T00:00:00\", \"2021-07-25T00:00:00\", \"2021-07-26T00:00:00\", \"2021-07-27T00:00:00\", \"2021-07-28T00:00:00\", \"2021-07-29T00:00:00\", \"2021-07-30T00:00:00\", \"2021-07-31T00:00:00\", \"2021-08-01T00:00:00\", \"2021-08-02T00:00:00\", \"2021-08-03T00:00:00\", \"2021-08-04T00:00:00\", \"2021-08-05T00:00:00\", \"2021-08-06T00:00:00\", \"2021-08-07T00:00:00\", \"2021-08-08T00:00:00\", \"2021-08-09T00:00:00\", \"2021-08-10T00:00:00\", \"2021-08-11T00:00:00\", \"2021-08-12T00:00:00\", \"2021-08-13T00:00:00\", \"2021-08-14T00:00:00\", \"2021-08-15T00:00:00\", \"2021-08-16T00:00:00\", \"2021-08-17T00:00:00\", \"2021-08-18T00:00:00\", \"2021-08-19T00:00:00\", \"2021-08-20T00:00:00\", \"2021-08-21T00:00:00\", \"2021-08-22T00:00:00\", \"2021-08-23T00:00:00\", \"2021-08-24T00:00:00\", \"2021-08-25T00:00:00\", \"2021-08-26T00:00:00\", \"2021-08-27T00:00:00\", \"2021-08-28T00:00:00\", \"2021-08-29T00:00:00\", \"2021-08-30T00:00:00\", \"2021-08-31T00:00:00\", \"2021-09-01T00:00:00\", \"2021-09-02T00:00:00\", \"2021-09-03T00:00:00\", \"2021-09-04T00:00:00\", \"2021-09-05T00:00:00\", \"2021-09-06T00:00:00\", \"2021-09-07T00:00:00\", \"2021-09-08T00:00:00\", \"2021-09-09T00:00:00\", \"2021-09-10T00:00:00\", \"2021-09-11T00:00:00\", \"2021-09-12T00:00:00\", \"2021-09-13T00:00:00\", \"2021-09-14T00:00:00\", \"2021-09-15T00:00:00\", \"2021-09-16T00:00:00\", \"2021-09-17T00:00:00\", \"2021-09-18T00:00:00\", \"2021-09-19T00:00:00\", \"2021-09-20T00:00:00\", \"2021-09-21T00:00:00\", \"2021-09-22T00:00:00\", \"2021-09-23T00:00:00\", \"2021-09-24T00:00:00\", \"2021-09-25T00:00:00\", \"2021-09-26T00:00:00\", \"2021-09-27T00:00:00\", \"2021-09-28T00:00:00\", \"2021-09-29T00:00:00\", \"2021-09-30T00:00:00\", \"2021-10-01T00:00:00\", \"2021-10-02T00:00:00\", \"2021-10-03T00:00:00\", \"2021-10-04T00:00:00\", \"2021-10-05T00:00:00\", \"2021-10-06T00:00:00\", \"2021-10-07T00:00:00\", \"2021-10-08T00:00:00\", \"2021-10-09T00:00:00\", \"2021-10-10T00:00:00\", \"2021-10-11T00:00:00\", \"2021-10-12T00:00:00\", \"2021-10-13T00:00:00\", \"2021-10-14T00:00:00\", \"2021-10-15T00:00:00\", \"2021-10-16T00:00:00\", \"2021-10-17T00:00:00\", \"2021-10-18T00:00:00\", \"2021-10-19T00:00:00\", \"2021-10-20T00:00:00\", \"2021-10-21T00:00:00\", \"2021-10-22T00:00:00\", \"2021-10-23T00:00:00\", \"2021-10-24T00:00:00\", \"2021-10-25T00:00:00\"], \"y\": [-50.79306091930605, -50.84073793955736, -54.45635149380174, -55.02911603633562, -38.977843554864386, -40.924435308138335, -44.845918368602206, -53.7481381311696, -48.57384228951713, -42.93208118099112, -48.96688702394065, -39.82535812458626, -42.6682325141467, -42.140279351070156, -47.64561243947231, -46.02674271705824, -43.30610706260416, -44.59781121484093, -39.23563978255497, -37.68277277818578, -36.99474181357262, -45.263156866017056, -46.16032763533555, -44.325492565626384, -42.39971801502705, -30.42772960716917, -33.39207424644293, -38.00784360738287, -39.494375990663045, -39.930757824680846, -35.286561073352956, -40.75272468733725, -30.639887469276676, -28.549624903230605, -37.52780027392207, -35.85557439488985, -38.54258593152294, -29.300331531854834, -36.13523865344161, -31.5151953560557, -30.658036703812236, -27.158572798728287, -35.822259292127086, -31.384475382117664, -28.564447308039746, -32.24844091814502, -21.989985385064937, -18.46331343349503, -23.765908883139865, -22.883889206781276, -24.979306130829237, -28.196694654636623, -25.903484834785285, -21.844280439643153, -21.764004114738057, -23.70000744661195, -23.203060866083554, -24.379330275574315, -21.061234528686573, -21.288243831724778, -18.02425840176113, -16.56715898029713, -18.197926416433976, -23.51052941107264, -16.832511272120563, -21.800823783482436, -20.087004461038212, -10.353950503316177, -10.095768581604393, -10.381076810299223, -18.356731398874647, -15.33286691335766, -14.55554573592147, -22.16511422815969, -2.239950182618257, -12.333061805198426, -11.115006950238964, -14.231065742396039, -10.766658309164331, -17.695059082940215, -14.655213007762528, -0.8999183271313518, -3.812280995263829, -10.69222861309615, -8.160427515096266, -12.573998071328699, -9.011710615084313, -6.6057749164054975, -1.0901034077241578, -1.892589149987001, -1.8834819124930324, -6.1925803235364665, -8.209428516261589, -6.444231891872565, -3.892027567494445, -1.8662167520457507, -0.14636709360484612, 2.447479550680551, -4.7772362049587915, -1.2494664273330909, 2.956624418727505, -3.238421583690819, 11.265855097306844, 4.378063087283114, 6.815889675366012, -3.2747228694816943, 1.4284562009536748, 4.257372111647667, 0.5668165932454026, 8.52845934157245, 11.546433699095738, 6.510984102004724, 2.9295471792001884, 7.359298665467763, 8.8268303155647, 3.6641807741478316, 9.122757638089015, 10.209920761279017, 8.477522785291345, 9.129166289864548, 6.647890904144756, 8.65556761477288, 9.28307279930527, 12.162266400936309, 15.97848334718277, 13.372593542652849, 9.709152947004547, 6.479841156891025, 5.3241351669347186, 10.5823263448674, 21.588495168159096, 16.771814111947634, 15.616354965874681, 16.86154662637433, 14.266215436656857, 15.708077940075032, 18.771760523404904, 21.173077186810627, 26.341030978937617, 24.319773717336243, 14.922480162793605, 13.04458191737775, 18.37754896681995, 21.91228915919831, 27.403133575216128, 29.22876908729198, 25.87932261415581, 21.156210451467466, 19.911207984141928, 26.996380059962878, 18.268723815798413, 34.557857725556474, 26.695347468302373, 25.7489314532064, 20.128827940087696, 26.034723580773495, 30.437546642298848, 31.004953918180046, 39.92918632639127, 32.36275922156849, 35.838752609401226, 26.843597039175215, 25.517276135588535, 28.760057628512506, 31.350814846138864, 44.0816729757884, 41.75449604949015, 39.67650479985788, 31.809989367296566, 36.2184138243382, 29.990319240500078, 30.857813861800533, 46.04115527395857, 41.29178075796987, 40.381822796453285, 33.6752212649736, 35.59837434134329, 38.91628549505268, 38.52094109361033, 43.359249402723364, 44.66606025528015, 40.53215006343231, 35.11140164106411, 41.15760435332426, 43.63481992665701, 35.82307904873544, 50.43122387613448, 49.41960209722364, 46.38198802661188, 30.462648958649922, 38.90159653766904, 44.67251761128407, 41.725080218866225, 54.93839400978008, 55.24625273554991, 50.95796418990605, 50.05363883942003, 48.16618998944987, 42.03256620031802, 44.87979119938263, 60.061414039410224, 51.101653329208524, 56.16346857297162, 48.07678823019827, 44.43857656181636, 51.801655717846685, 42.63378851624687, 56.10483515298695, 57.80306495898236, 59.143755240716864, 50.7517496536276, 50.750804331127156, 55.584159110760815, 55.53644208096845, 58.4505304500886, 56.96529004772123, 60.61454156987409, 52.72068048095165, 54.06348818134, 62.96458218775609, 58.656440324292205, 62.1503275547899, 70.2686331401633, 62.761036468557585, 56.05845459280622, 57.8942127009259, 60.30134502808462, 53.92500241411261, 66.13666770395393, 71.04106947375674, 65.32430908807821, 57.245612443937674, 58.46899943951681, 64.57775133099688, 60.535008368069235, 66.21140112911195, 73.73958735070103, 64.54586299789166, 58.25846531755682, 61.22871853246388, 66.80039074453246, 61.500232382742354, 73.2401957907008, 70.05856614181991, 64.09426025590726, 66.07526246647762, 63.74983626099511, 68.9676841521583, 64.67475123465783, 78.16446565248746, 76.81859491076345, 77.25627514949468, 68.74658852996046, 65.28424517671519, 69.46186990026128, 64.68259669279348, 77.69319051424075, 78.5789490171964, 71.81782924459156, 70.17346920089882, 72.4036106399041, 72.39854550086233, 72.32292748409779, 87.00743033279616, 81.84656971691223, 81.07163716164158, 76.10457773219201, 69.73537989649911, 73.27631420964234, 75.13208467275571, 88.31351902107228, 84.32374420550285, 83.85758996131187, 73.04142491604085, 81.53700295332293, 75.62529225229846, 81.90529693082796, 84.80057982009863, 85.73526108763444, 87.22348345712152, 80.09522412187161, 76.25038105459005, 79.35930539839882, 80.98272029858873, 88.31250043511754, 91.89657064809894, 90.61419387183314, 82.28782322091571, 83.13182059009243, 85.06722186052542, 81.27151470699508, 95.1464557405196, 89.83594660032588, 87.2778402274937, 86.39869546819526, 91.172912432978, 88.66181652468843, 86.67713844195417, 96.43565958866954, 93.28195842126163, 95.86972816201059, 87.01585757947005, 90.97879692896262, 89.93117435822951, 84.65774335511294, 98.55567508042347, 94.40089212019984, 98.24680762212033, 89.32395001457225, 90.01600345709775, 93.0071790710825, 91.11544386247459, 102.79264050741783, 102.75589836740255, 92.52464884472019, 92.69543764850494, 92.041406558419, 98.70160438168003, 93.39661343155473, 105.15111709918492, 97.56462182281948, 98.73807995520141, 96.53214459658078, 97.07732920299999, 96.57797710273161, 96.00531322987453, 105.30356271574703, 101.68197188820973, 106.17331036269445, 98.31834984436233, 100.7622528066917, 93.44651837026686, 92.65637887967605, 106.24815359384081, 105.68054501341528, 106.3415591681119, 96.36438731883325, 97.1349021685876, 100.9504932080502, 104.57004629331101, 111.01999654513293, 105.65684413153885, 106.59513983132372, 102.83330743104091, 99.22258194795222, 103.3025300419797, 101.71375450629968, 109.98133982808584, 110.76928938678006, 100.38597555846471, 99.22458520803384, 102.26894524850456, 105.627412642403, 104.1418644635002, 111.12299789959208, 115.43848339358294, 106.96584291221104, 104.34916188107326, 105.3493670497122, 103.50147894828523, 108.9285884851738, 115.32787940353545, 111.0323689212012, 102.01933730458288, 102.33655338825584, 107.55574513248959, 109.19929074719983, 107.45328059704299, 114.97522888102687, 111.73819660322447, 113.72496772050822, 106.58654903298752, 107.25779521090162, 110.67269419052154, 100.50054612343271, 118.24835737743035, 116.43310946218232, 112.93931171080882, 102.90856204777708, 111.43971597609857, 104.49429298281294, 105.32291490069672, 117.46710574721979, 116.59837759513928, 113.55545851727967, 106.0050620314842, 111.69064197321394, 113.03637598738402, 110.56596201210073, 112.36438517653185, 110.59735051544007, 114.14112729860197, 105.45634567380675, 109.60844938354758, 106.98539451753992, 109.44620696005873, 118.12965424224905, 117.28801876111702, 115.57481645637677, 111.05546652357057, 108.2769165180666, 111.63385252086631, 108.04195434957076, 117.51249042738252, 116.87046710011944, 110.69200127618844, 109.02493041107022, 111.42269812210449, 115.3996870751794, 106.15390935217937, 123.20691899755809, 121.9840272427907, 113.85668869434133, 111.30715304509596, 110.09977415956745, 108.52046574241446, 109.52826989393449, 122.3729254098688, 118.73088045387053, 112.79059524286886, 111.00496108408271, 115.4051948468931, 115.76154662188725, 108.72971021742889, 118.44083332492495, 118.97249378034407, 117.70271238396981, 111.97759909287817, 111.16771999036666, 110.61469796624365, 111.02328847831846, 122.52385796595888, 119.62905320347548, 121.34121347785214, 114.15451361174411, 110.30451100375234, 111.93560810052877, 107.09723160652013, 123.944966615477, 119.83567857754217, 117.40471707796102, 109.23250435248283, 116.71794639087979, 113.8346189897545, 110.22846131887886, 124.11701526762131, 119.93673177770745, 120.0296365432582, 109.81677238603926, 115.58935469249386, 114.27112503917373, 114.76340181566266, 125.035476887213, 116.94352144784173, 115.75867231424641, 113.99564070132669, 119.976897612985, 116.1056936981396, 114.4803174172015, 127.07846316203904, 126.341789719954, 117.30354937320263, 117.40466825555396, 115.39524457944495, 116.99206901763208, 119.33919222969263, 118.8695066905732, 125.5316130478453, 119.02436629925269, 119.85317913309501, 118.27814323066443, 120.26962846925333, 113.80295229741513, 123.6197754478836, 124.51299882794557, 124.7402449030871, 120.7241053025596, 115.4774980826977, 112.20548846923363, 116.13979243016243, 128.5632696581333, 123.75431757686518, 120.35296914807432, 117.46017597269017, 117.29219690010558, 116.48064367915435, 116.4413056755247, 128.51959001657724, 127.72100316580908, 126.01663471744743, 115.53302282806636, 118.47186556571266, 120.02859006893534, 119.86744478215988, 126.71351918191134, 123.74159863467071, 120.62053363970124, 121.59878795495702, 118.58396971401473, 121.36427776404027, 120.14580482937973, 130.56190816136723, 130.12823066915433, 127.2866824484918, 125.34513238918754, 120.91003609151663, 122.51234997427342, 119.70318591830284, 133.49033549015752, 128.4135989680958, 123.12328988843362, 121.44484672921836, 117.71559693596541, 120.92850616167783, 122.71814483431588, 126.32809280327584, 124.96789563922846, 120.21665836464331, 119.86919693129832, 122.45514949190327, 125.3732505307987, 123.64637750957627, 128.20144563661162, 125.89030159024095, 125.24151132633999, 116.2864705946156, 123.87022290079008, 123.27196347104785, 122.26194506546614, 133.2939998836916, 125.07786295450614, 132.0471143067451, 118.39001840035394, 125.94533763146674, 125.7448875518257, 124.41306271578807, 129.15622302317956, 131.1186341923345, 126.78941999734492, 124.3309193311938, 116.70541557028983, 125.31611602244172, 117.83485616095545, 133.23195383321695, 132.08323162472317, 128.24485044165363, 123.70062782583653, 124.82383980250634, 121.90323898827852, 121.15176526872028, 134.3051543636158, 134.24012431417802, 133.6846932382562, 123.74562770374068, 127.22036780153857, 129.41657053593684, 126.13275437645534, 132.978555479161, 127.28881729889888, 130.36453729517305, 124.89784546661978, 127.70497930097437, 127.07089104407079, 122.88942640194493, 134.70321136985228, 127.45888612672479, 132.2097594139925, 122.8446524553689, 125.07044140192572, 123.45247531974913, 123.07262421030552, 145.41156502843464, 135.34764873731575, 132.6180865518742, 126.88044020843057, 131.30567064071678, 125.78404449073088, 127.68659693867778, 139.17789766654974, 139.17770329003733, 129.67968709480232, 125.65149241931243, 126.52416298668271, 126.43227186388214, 124.14131526402291, 136.61273538965108, 130.9999933873023, 137.3468453833435, 128.47010520148166, 129.23784318511093, 129.00439000565615, 124.17132175153112, 135.9609954180793, 134.50856937755555, 138.09701906627865, 129.13910791479734, 132.43279755161345, 131.9372542630332, 127.29702898261817, 136.70914282284272, 140.65954606889505, 133.1612734799896, 129.80820962610082, 131.95183573163345, 132.20547379517663, 127.22165540564674, 138.73384686600707, 135.99977927572058, 136.59843493530616, 127.96157883842844, 131.72407219990444, 134.84910092429422, 131.8022403929286, 138.50724001124016, 140.8141243188577, 138.07522285444477, 127.23996609086285, 133.1134167130826, 130.2706075592178, 132.20466252213242, 139.6774601465448, 137.90296928456397, 135.93081748957812, 126.8936089234503, 132.24506409349564, 134.3194939831975, 130.6568254409393, 137.46202956810953, 140.00544359041172, 138.27195643637805, 129.72432068613656, 131.56876366548812, 130.4937851819101, 130.00805930607675, 139.64162593957477, 137.40017281788926, 139.99321952011547, 137.04985720586228, 135.99417200693145, 132.84633417231015, 132.89024429090674, 145.10647761261512, 142.4908358573372, 136.08469281645358, 131.93935666789213, 133.7924363939711, 132.0816816573706, 134.4881737856684, 142.77468209328327, 138.96360666970332, 141.54862667254568, 134.26000871158473, 133.06673990388902, 137.65983570050574, 136.3130636660987, 138.99705447443165, 143.34722632855122, 139.28699565918924, 140.28046433437848, 131.94093434800465, 133.49796153834598, 136.4297991645241, 145.11852890366112, 138.99871895648585, 135.5769804690886, 139.385706691241, 136.59549731026735, 136.17816580916875, 133.9708825847014, 144.5247290019602, 147.3707602746558, 140.71716358391706, 133.514290954949, 137.24493933774627, 139.75767044485488, 134.8902802782465, 146.63851438885683, 145.419065935775, 142.4112680567533, 138.70566107664615, 139.8570638788779, 141.57584272849368, 132.32604231657447, 145.7301159683179, 142.85008100098293, 143.55722782160683, 137.7862559394049, 145.4832524399641, 143.2497595651071, 140.03524478069667, 148.15380526178538, 147.63040232747096, 141.46509436238986, 138.78309101172434, 140.72852974735832, 139.8901969103681, 136.46096139992332, 149.78206198766856, 140.74651025856684, 145.54868118087447, 139.48290819457304, 139.02312273729615, 142.30335404504075, 140.29883965877394, 151.0521677493689, 145.50453289579505, 139.02705548623047, 140.1729516176139, 141.475058871039, 139.1511033709141, 142.1108009881211, 148.92953950648482, 143.66357705775195, 140.0659841385061, 143.7246475020338, 140.8876680390528, 147.55337199698326, 135.57268916392505, 152.45172075139521, 148.31390970728035, 147.60898051777525, 143.1980611124056, 142.82967910188987, 140.3446390019444, 139.20550796585027, 149.05065605387352, 148.3365457949987, 142.0886387223043, 139.30460746661115, 142.2919626012202, 143.3649542783129, 139.02680617183543, 150.79639937991828, 147.67035193304966, 144.63284582799648, 144.30207047215322, 144.09298843349913, 139.2888050865696, 142.77894977388672, 154.22535554247463, 154.3726111062063, 152.2892690849075, 137.5085276456054, 142.58584317363582, 145.82295531896222, 145.17443335051823, 155.2528342189452, 150.70182161375968, 142.24476994017283, 147.4111243190016, 142.36493655421413, 147.09418816078283, 142.0113640891526, 150.3065535718607, 152.7243687977355, 148.5206939447464, 144.0661522650676, 143.95173089436454, 142.44585774254412, 144.65897114228216, 151.68420402508858, 151.2192232404356, 148.64729266724976, 141.9929952895206, 142.3780561355236, 145.29206886412354, 141.4605277300438, 159.5451910997132, 154.63342386862232, 146.66232123605838, 146.57628127204143, 152.7084567986802, 144.63084484103055, 142.2351413469711, 153.76967868197636, 155.04297206105707, 150.4683423142593, 147.8323804305081, 150.60756933807585, 148.6455536284254, 148.35085769922358, 158.33513285297175, 162.15468154964015, 152.0733587656202, 145.28026344740957, 148.47484460921908, 146.11185029996128, 144.29161868968976, 153.309183322149, 150.92406104678673, 150.0964971210576, 145.18868475634596, 147.40030154398036, 148.09450861189075, 145.35337689949245, 157.03803220339967, 153.8975138294507, 151.9776666703781, 146.18970297560645, 147.75855292252453, 149.77004321321874, 148.62724580548905, 161.32836590903872, 158.24201375764807, 156.1095135576354, 144.8146290905953, 148.9921401515632, 153.21658452030823, 148.02092781256377, 156.41097038694375, 155.40781397981613, 151.8688304514764, 147.79139874341965, 147.90669978888062, 149.72191160847365, 149.83705482885142, 160.41536161679412, 158.32521051457312, 154.34786060881436, 150.51048956148438, 148.2236243329861, 155.42915313511688, 148.17478844931404, 159.33736643558495, 154.5703861296911, 154.5679971745416, 152.15720400926284, 156.24934947154327, 150.5915713868023, 149.95232118306362, 158.5832557953244, 161.78317949184662, 156.69912867268363, 151.65890440549126, 148.95833968978445, 153.39451698013536, 151.7991397975643, 155.67414370728292, 160.2315172954875, 153.23646083918695, 149.03698871998716, 156.81774116642183, 152.94545715759222, 151.2893516355532, 159.81573841901692, 159.9772557602741, 161.8948023545811, 150.8799200630983, 144.78756213484877, 153.35370194847056, 150.556483116832, 160.0070135694538, 160.7929190226409, 154.78098603877757, 151.72082388163867, 152.7251611673419, 151.75339385894938, 152.55126355375424, 159.31974498568167, 164.2283784508015, 164.14870832087533, 152.87320103635344, 156.21402233411652, 156.83991142143267, 154.666203233227, 167.3212008832563, 160.87353816198967, 160.8895987673671, 153.64803747383553, 156.9735134383973, 154.75819297589373, 151.7525964540018, 165.39562276396018, 161.17274554115346, 158.16066792225425, 144.0023128957161, 153.05889139805646, 155.47630875623145, 158.8379726141149, 165.2918468551578, 162.79979647197152, 158.5024693181758, 148.09436889166366, 153.59328803351266, 161.8575691470972, 158.1211881543117, 162.8728082278165, 163.71847597266267, 159.46244689313468, 153.46090766952346, 157.43382836768313, 154.68773366943492, 154.81191255066858, 162.4639060858217, 163.86805136851686, 160.1829223164693, 152.0091302260424, 150.41381067869216, 158.26142450579107, 158.01983790052446, 167.784928874404, 157.19070374723302, 163.81655275103944, 155.3287642423495, 156.6332571237566, 153.40038792675847, 159.0611307408158]}, {\"fill\": \"tonexty\", \"fillcolor\": \"rgba(0, 114, 178, 0.2)\", \"line\": {\"color\": \"#0072B2\", \"width\": 2}, \"mode\": \"lines\", \"name\": \"Predicted\", \"type\": \"scatter\", \"x\": [\"2019-05-03T00:00:00\", \"2019-05-04T00:00:00\", \"2019-05-05T00:00:00\", \"2019-05-06T00:00:00\", \"2019-05-07T00:00:00\", \"2019-05-08T00:00:00\", \"2019-05-09T00:00:00\", \"2019-05-10T00:00:00\", \"2019-05-11T00:00:00\", \"2019-05-12T00:00:00\", \"2019-05-13T00:00:00\", \"2019-05-14T00:00:00\", \"2019-05-15T00:00:00\", \"2019-05-16T00:00:00\", \"2019-05-17T00:00:00\", \"2019-05-18T00:00:00\", \"2019-05-19T00:00:00\", \"2019-05-20T00:00:00\", \"2019-05-21T00:00:00\", \"2019-05-22T00:00:00\", \"2019-05-23T00:00:00\", \"2019-05-24T00:00:00\", \"2019-05-25T00:00:00\", \"2019-05-26T00:00:00\", \"2019-05-27T00:00:00\", \"2019-05-28T00:00:00\", \"2019-05-29T00:00:00\", \"2019-05-30T00:00:00\", \"2019-05-31T00:00:00\", \"2019-06-01T00:00:00\", \"2019-06-02T00:00:00\", \"2019-06-03T00:00:00\", \"2019-06-04T00:00:00\", \"2019-06-05T00:00:00\", \"2019-06-06T00:00:00\", \"2019-06-07T00:00:00\", \"2019-06-08T00:00:00\", \"2019-06-09T00:00:00\", \"2019-06-10T00:00:00\", \"2019-06-11T00:00:00\", \"2019-06-12T00:00:00\", \"2019-06-13T00:00:00\", \"2019-06-14T00:00:00\", \"2019-06-15T00:00:00\", \"2019-06-16T00:00:00\", \"2019-06-17T00:00:00\", \"2019-06-18T00:00:00\", \"2019-06-19T00:00:00\", \"2019-06-20T00:00:00\", \"2019-06-21T00:00:00\", \"2019-06-22T00:00:00\", \"2019-06-23T00:00:00\", \"2019-06-24T00:00:00\", \"2019-06-25T00:00:00\", \"2019-06-26T00:00:00\", \"2019-06-27T00:00:00\", \"2019-06-28T00:00:00\", \"2019-06-29T00:00:00\", \"2019-06-30T00:00:00\", \"2019-07-01T00:00:00\", \"2019-07-02T00:00:00\", \"2019-07-03T00:00:00\", \"2019-07-04T00:00:00\", \"2019-07-05T00:00:00\", \"2019-07-06T00:00:00\", \"2019-07-07T00:00:00\", \"2019-07-08T00:00:00\", \"2019-07-09T00:00:00\", \"2019-07-10T00:00:00\", \"2019-07-11T00:00:00\", \"2019-07-12T00:00:00\", \"2019-07-13T00:00:00\", \"2019-07-14T00:00:00\", \"2019-07-15T00:00:00\", \"2019-07-16T00:00:00\", \"2019-07-17T00:00:00\", \"2019-07-18T00:00:00\", \"2019-07-19T00:00:00\", \"2019-07-20T00:00:00\", \"2019-07-21T00:00:00\", \"2019-07-22T00:00:00\", \"2019-07-23T00:00:00\", \"2019-07-24T00:00:00\", \"2019-07-25T00:00:00\", \"2019-07-26T00:00:00\", \"2019-07-27T00:00:00\", \"2019-07-28T00:00:00\", \"2019-07-29T00:00:00\", \"2019-07-30T00:00:00\", \"2019-07-31T00:00:00\", \"2019-08-01T00:00:00\", \"2019-08-02T00:00:00\", \"2019-08-03T00:00:00\", \"2019-08-04T00:00:00\", \"2019-08-05T00:00:00\", \"2019-08-06T00:00:00\", \"2019-08-07T00:00:00\", \"2019-08-08T00:00:00\", \"2019-08-09T00:00:00\", \"2019-08-10T00:00:00\", \"2019-08-11T00:00:00\", \"2019-08-12T00:00:00\", \"2019-08-13T00:00:00\", \"2019-08-14T00:00:00\", \"2019-08-15T00:00:00\", \"2019-08-16T00:00:00\", \"2019-08-17T00:00:00\", \"2019-08-18T00:00:00\", \"2019-08-19T00:00:00\", \"2019-08-20T00:00:00\", \"2019-08-21T00:00:00\", \"2019-08-22T00:00:00\", \"2019-08-23T00:00:00\", \"2019-08-24T00:00:00\", \"2019-08-25T00:00:00\", \"2019-08-26T00:00:00\", \"2019-08-27T00:00:00\", \"2019-08-28T00:00:00\", \"2019-08-29T00:00:00\", \"2019-08-30T00:00:00\", \"2019-08-31T00:00:00\", \"2019-09-01T00:00:00\", \"2019-09-02T00:00:00\", \"2019-09-03T00:00:00\", \"2019-09-04T00:00:00\", \"2019-09-05T00:00:00\", \"2019-09-06T00:00:00\", \"2019-09-07T00:00:00\", \"2019-09-08T00:00:00\", \"2019-09-09T00:00:00\", \"2019-09-10T00:00:00\", \"2019-09-11T00:00:00\", \"2019-09-12T00:00:00\", \"2019-09-13T00:00:00\", \"2019-09-14T00:00:00\", \"2019-09-15T00:00:00\", \"2019-09-16T00:00:00\", \"2019-09-17T00:00:00\", \"2019-09-18T00:00:00\", \"2019-09-19T00:00:00\", \"2019-09-20T00:00:00\", \"2019-09-21T00:00:00\", \"2019-09-22T00:00:00\", \"2019-09-23T00:00:00\", \"2019-09-24T00:00:00\", \"2019-09-25T00:00:00\", \"2019-09-26T00:00:00\", \"2019-09-27T00:00:00\", \"2019-09-28T00:00:00\", \"2019-09-29T00:00:00\", \"2019-09-30T00:00:00\", \"2019-10-01T00:00:00\", \"2019-10-02T00:00:00\", \"2019-10-03T00:00:00\", \"2019-10-04T00:00:00\", \"2019-10-05T00:00:00\", \"2019-10-06T00:00:00\", \"2019-10-07T00:00:00\", \"2019-10-08T00:00:00\", \"2019-10-09T00:00:00\", \"2019-10-10T00:00:00\", \"2019-10-11T00:00:00\", \"2019-10-12T00:00:00\", \"2019-10-13T00:00:00\", \"2019-10-14T00:00:00\", \"2019-10-15T00:00:00\", \"2019-10-16T00:00:00\", \"2019-10-17T00:00:00\", \"2019-10-18T00:00:00\", \"2019-10-19T00:00:00\", \"2019-10-20T00:00:00\", \"2019-10-21T00:00:00\", \"2019-10-22T00:00:00\", \"2019-10-23T00:00:00\", \"2019-10-24T00:00:00\", \"2019-10-25T00:00:00\", \"2019-10-26T00:00:00\", \"2019-10-27T00:00:00\", \"2019-10-28T00:00:00\", \"2019-10-29T00:00:00\", \"2019-10-30T00:00:00\", \"2019-10-31T00:00:00\", \"2019-11-01T00:00:00\", \"2019-11-02T00:00:00\", \"2019-11-03T00:00:00\", \"2019-11-04T00:00:00\", \"2019-11-05T00:00:00\", \"2019-11-06T00:00:00\", \"2019-11-07T00:00:00\", \"2019-11-08T00:00:00\", \"2019-11-09T00:00:00\", \"2019-11-10T00:00:00\", \"2019-11-11T00:00:00\", \"2019-11-12T00:00:00\", \"2019-11-13T00:00:00\", \"2019-11-14T00:00:00\", \"2019-11-15T00:00:00\", \"2019-11-16T00:00:00\", \"2019-11-17T00:00:00\", \"2019-11-18T00:00:00\", \"2019-11-19T00:00:00\", \"2019-11-20T00:00:00\", \"2019-11-21T00:00:00\", \"2019-11-22T00:00:00\", \"2019-11-23T00:00:00\", \"2019-11-24T00:00:00\", \"2019-11-25T00:00:00\", \"2019-11-26T00:00:00\", \"2019-11-27T00:00:00\", \"2019-11-28T00:00:00\", \"2019-11-29T00:00:00\", \"2019-11-30T00:00:00\", \"2019-12-01T00:00:00\", \"2019-12-02T00:00:00\", \"2019-12-03T00:00:00\", \"2019-12-04T00:00:00\", \"2019-12-05T00:00:00\", \"2019-12-06T00:00:00\", \"2019-12-07T00:00:00\", \"2019-12-08T00:00:00\", \"2019-12-09T00:00:00\", \"2019-12-10T00:00:00\", \"2019-12-11T00:00:00\", \"2019-12-12T00:00:00\", \"2019-12-13T00:00:00\", \"2019-12-14T00:00:00\", \"2019-12-15T00:00:00\", \"2019-12-16T00:00:00\", \"2019-12-17T00:00:00\", \"2019-12-18T00:00:00\", \"2019-12-19T00:00:00\", \"2019-12-20T00:00:00\", \"2019-12-21T00:00:00\", \"2019-12-22T00:00:00\", \"2019-12-23T00:00:00\", \"2019-12-24T00:00:00\", \"2019-12-25T00:00:00\", \"2019-12-26T00:00:00\", \"2019-12-27T00:00:00\", \"2019-12-28T00:00:00\", \"2019-12-29T00:00:00\", \"2019-12-30T00:00:00\", \"2019-12-31T00:00:00\", \"2020-01-01T00:00:00\", \"2020-01-02T00:00:00\", \"2020-01-03T00:00:00\", \"2020-01-04T00:00:00\", \"2020-01-05T00:00:00\", \"2020-01-06T00:00:00\", \"2020-01-07T00:00:00\", \"2020-01-08T00:00:00\", \"2020-01-09T00:00:00\", \"2020-01-10T00:00:00\", \"2020-01-11T00:00:00\", \"2020-01-12T00:00:00\", \"2020-01-13T00:00:00\", \"2020-01-14T00:00:00\", \"2020-01-15T00:00:00\", \"2020-01-16T00:00:00\", \"2020-01-17T00:00:00\", \"2020-01-18T00:00:00\", \"2020-01-19T00:00:00\", \"2020-01-20T00:00:00\", \"2020-01-21T00:00:00\", \"2020-01-22T00:00:00\", \"2020-01-23T00:00:00\", \"2020-01-24T00:00:00\", \"2020-01-25T00:00:00\", \"2020-01-26T00:00:00\", \"2020-01-27T00:00:00\", \"2020-01-28T00:00:00\", \"2020-01-29T00:00:00\", \"2020-01-30T00:00:00\", \"2020-01-31T00:00:00\", \"2020-02-01T00:00:00\", \"2020-02-02T00:00:00\", \"2020-02-03T00:00:00\", \"2020-02-04T00:00:00\", \"2020-02-05T00:00:00\", \"2020-02-06T00:00:00\", \"2020-02-07T00:00:00\", \"2020-02-08T00:00:00\", \"2020-02-09T00:00:00\", \"2020-02-10T00:00:00\", \"2020-02-11T00:00:00\", \"2020-02-12T00:00:00\", \"2020-02-13T00:00:00\", \"2020-02-14T00:00:00\", \"2020-02-15T00:00:00\", \"2020-02-16T00:00:00\", \"2020-02-17T00:00:00\", \"2020-02-18T00:00:00\", \"2020-02-19T00:00:00\", \"2020-02-20T00:00:00\", \"2020-02-21T00:00:00\", \"2020-02-22T00:00:00\", \"2020-02-23T00:00:00\", \"2020-02-24T00:00:00\", \"2020-02-25T00:00:00\", \"2020-02-26T00:00:00\", \"2020-02-27T00:00:00\", \"2020-02-28T00:00:00\", \"2020-02-29T00:00:00\", \"2020-03-01T00:00:00\", \"2020-03-02T00:00:00\", \"2020-03-03T00:00:00\", \"2020-03-04T00:00:00\", \"2020-03-05T00:00:00\", \"2020-03-06T00:00:00\", \"2020-03-07T00:00:00\", \"2020-03-08T00:00:00\", \"2020-03-09T00:00:00\", \"2020-03-10T00:00:00\", \"2020-03-11T00:00:00\", \"2020-03-12T00:00:00\", \"2020-03-13T00:00:00\", \"2020-03-14T00:00:00\", \"2020-03-15T00:00:00\", \"2020-03-16T00:00:00\", \"2020-03-17T00:00:00\", \"2020-03-18T00:00:00\", \"2020-03-19T00:00:00\", \"2020-03-20T00:00:00\", \"2020-03-21T00:00:00\", \"2020-03-22T00:00:00\", \"2020-03-23T00:00:00\", \"2020-03-24T00:00:00\", \"2020-03-25T00:00:00\", \"2020-03-26T00:00:00\", \"2020-03-27T00:00:00\", \"2020-03-28T00:00:00\", \"2020-03-29T00:00:00\", \"2020-03-30T00:00:00\", \"2020-03-31T00:00:00\", \"2020-04-01T00:00:00\", \"2020-04-02T00:00:00\", \"2020-04-03T00:00:00\", \"2020-04-04T00:00:00\", \"2020-04-05T00:00:00\", \"2020-04-06T00:00:00\", \"2020-04-07T00:00:00\", \"2020-04-08T00:00:00\", \"2020-04-09T00:00:00\", \"2020-04-10T00:00:00\", \"2020-04-11T00:00:00\", \"2020-04-12T00:00:00\", \"2020-04-13T00:00:00\", \"2020-04-14T00:00:00\", \"2020-04-15T00:00:00\", \"2020-04-16T00:00:00\", \"2020-04-17T00:00:00\", \"2020-04-18T00:00:00\", \"2020-04-19T00:00:00\", \"2020-04-20T00:00:00\", \"2020-04-21T00:00:00\", \"2020-04-22T00:00:00\", \"2020-04-23T00:00:00\", \"2020-04-24T00:00:00\", \"2020-04-25T00:00:00\", \"2020-04-26T00:00:00\", \"2020-04-27T00:00:00\", \"2020-04-28T00:00:00\", \"2020-04-29T00:00:00\", \"2020-04-30T00:00:00\", \"2020-05-01T00:00:00\", \"2020-05-02T00:00:00\", \"2020-05-03T00:00:00\", \"2020-05-04T00:00:00\", \"2020-05-05T00:00:00\", \"2020-05-06T00:00:00\", \"2020-05-07T00:00:00\", \"2020-05-08T00:00:00\", \"2020-05-09T00:00:00\", \"2020-05-10T00:00:00\", \"2020-05-11T00:00:00\", \"2020-05-12T00:00:00\", \"2020-05-13T00:00:00\", \"2020-05-14T00:00:00\", \"2020-05-15T00:00:00\", \"2020-05-16T00:00:00\", \"2020-05-17T00:00:00\", \"2020-05-18T00:00:00\", \"2020-05-19T00:00:00\", \"2020-05-20T00:00:00\", \"2020-05-21T00:00:00\", \"2020-05-22T00:00:00\", \"2020-05-23T00:00:00\", \"2020-05-24T00:00:00\", \"2020-05-25T00:00:00\", \"2020-05-26T00:00:00\", \"2020-05-27T00:00:00\", \"2020-05-28T00:00:00\", \"2020-05-29T00:00:00\", \"2020-05-30T00:00:00\", \"2020-05-31T00:00:00\", \"2020-06-01T00:00:00\", \"2020-06-02T00:00:00\", \"2020-06-03T00:00:00\", \"2020-06-04T00:00:00\", \"2020-06-05T00:00:00\", \"2020-06-06T00:00:00\", \"2020-06-07T00:00:00\", \"2020-06-08T00:00:00\", \"2020-06-09T00:00:00\", \"2020-06-10T00:00:00\", \"2020-06-11T00:00:00\", \"2020-06-12T00:00:00\", \"2020-06-13T00:00:00\", \"2020-06-14T00:00:00\", \"2020-06-15T00:00:00\", \"2020-06-16T00:00:00\", \"2020-06-17T00:00:00\", \"2020-06-18T00:00:00\", \"2020-06-19T00:00:00\", \"2020-06-20T00:00:00\", \"2020-06-21T00:00:00\", \"2020-06-22T00:00:00\", \"2020-06-23T00:00:00\", \"2020-06-24T00:00:00\", \"2020-06-25T00:00:00\", \"2020-06-26T00:00:00\", \"2020-06-27T00:00:00\", \"2020-06-28T00:00:00\", \"2020-06-29T00:00:00\", \"2020-06-30T00:00:00\", \"2020-07-01T00:00:00\", \"2020-07-02T00:00:00\", \"2020-07-03T00:00:00\", \"2020-07-04T00:00:00\", \"2020-07-05T00:00:00\", \"2020-07-06T00:00:00\", \"2020-07-07T00:00:00\", \"2020-07-08T00:00:00\", \"2020-07-09T00:00:00\", \"2020-07-10T00:00:00\", \"2020-07-11T00:00:00\", \"2020-07-12T00:00:00\", \"2020-07-13T00:00:00\", \"2020-07-14T00:00:00\", \"2020-07-15T00:00:00\", \"2020-07-16T00:00:00\", \"2020-07-17T00:00:00\", \"2020-07-18T00:00:00\", \"2020-07-19T00:00:00\", \"2020-07-20T00:00:00\", \"2020-07-21T00:00:00\", \"2020-07-22T00:00:00\", \"2020-07-23T00:00:00\", \"2020-07-24T00:00:00\", \"2020-07-25T00:00:00\", \"2020-07-26T00:00:00\", \"2020-07-27T00:00:00\", \"2020-07-28T00:00:00\", \"2020-07-29T00:00:00\", \"2020-07-30T00:00:00\", \"2020-07-31T00:00:00\", \"2020-08-01T00:00:00\", \"2020-08-02T00:00:00\", \"2020-08-03T00:00:00\", \"2020-08-04T00:00:00\", \"2020-08-05T00:00:00\", \"2020-08-06T00:00:00\", \"2020-08-07T00:00:00\", \"2020-08-08T00:00:00\", \"2020-08-09T00:00:00\", \"2020-08-10T00:00:00\", \"2020-08-11T00:00:00\", \"2020-08-12T00:00:00\", \"2020-08-13T00:00:00\", \"2020-08-14T00:00:00\", \"2020-08-15T00:00:00\", \"2020-08-16T00:00:00\", \"2020-08-17T00:00:00\", \"2020-08-18T00:00:00\", \"2020-08-19T00:00:00\", \"2020-08-20T00:00:00\", \"2020-08-21T00:00:00\", \"2020-08-22T00:00:00\", \"2020-08-23T00:00:00\", \"2020-08-24T00:00:00\", \"2020-08-25T00:00:00\", \"2020-08-26T00:00:00\", \"2020-08-27T00:00:00\", \"2020-08-28T00:00:00\", \"2020-08-29T00:00:00\", \"2020-08-30T00:00:00\", \"2020-08-31T00:00:00\", \"2020-09-01T00:00:00\", \"2020-09-02T00:00:00\", \"2020-09-03T00:00:00\", \"2020-09-04T00:00:00\", \"2020-09-05T00:00:00\", \"2020-09-06T00:00:00\", \"2020-09-07T00:00:00\", \"2020-09-08T00:00:00\", \"2020-09-09T00:00:00\", \"2020-09-10T00:00:00\", \"2020-09-11T00:00:00\", \"2020-09-12T00:00:00\", \"2020-09-13T00:00:00\", \"2020-09-14T00:00:00\", \"2020-09-15T00:00:00\", \"2020-09-16T00:00:00\", \"2020-09-17T00:00:00\", \"2020-09-18T00:00:00\", \"2020-09-19T00:00:00\", \"2020-09-20T00:00:00\", \"2020-09-21T00:00:00\", \"2020-09-22T00:00:00\", \"2020-09-23T00:00:00\", \"2020-09-24T00:00:00\", \"2020-09-25T00:00:00\", \"2020-09-26T00:00:00\", \"2020-09-27T00:00:00\", \"2020-09-28T00:00:00\", \"2020-09-29T00:00:00\", \"2020-09-30T00:00:00\", \"2020-10-01T00:00:00\", \"2020-10-02T00:00:00\", \"2020-10-03T00:00:00\", \"2020-10-04T00:00:00\", \"2020-10-05T00:00:00\", \"2020-10-06T00:00:00\", \"2020-10-07T00:00:00\", \"2020-10-08T00:00:00\", \"2020-10-09T00:00:00\", \"2020-10-10T00:00:00\", \"2020-10-11T00:00:00\", \"2020-10-12T00:00:00\", \"2020-10-13T00:00:00\", \"2020-10-14T00:00:00\", \"2020-10-15T00:00:00\", \"2020-10-16T00:00:00\", \"2020-10-17T00:00:00\", \"2020-10-18T00:00:00\", \"2020-10-19T00:00:00\", \"2020-10-20T00:00:00\", \"2020-10-21T00:00:00\", \"2020-10-22T00:00:00\", \"2020-10-23T00:00:00\", \"2020-10-24T00:00:00\", \"2020-10-25T00:00:00\", \"2020-10-26T00:00:00\", \"2020-10-27T00:00:00\", \"2020-10-28T00:00:00\", \"2020-10-29T00:00:00\", \"2020-10-30T00:00:00\", \"2020-10-31T00:00:00\", \"2020-11-01T00:00:00\", \"2020-11-02T00:00:00\", \"2020-11-03T00:00:00\", \"2020-11-04T00:00:00\", \"2020-11-05T00:00:00\", \"2020-11-06T00:00:00\", \"2020-11-07T00:00:00\", \"2020-11-08T00:00:00\", \"2020-11-09T00:00:00\", \"2020-11-10T00:00:00\", \"2020-11-11T00:00:00\", \"2020-11-12T00:00:00\", \"2020-11-13T00:00:00\", \"2020-11-14T00:00:00\", \"2020-11-15T00:00:00\", \"2020-11-16T00:00:00\", \"2020-11-17T00:00:00\", \"2020-11-18T00:00:00\", \"2020-11-19T00:00:00\", \"2020-11-20T00:00:00\", \"2020-11-21T00:00:00\", \"2020-11-22T00:00:00\", \"2020-11-23T00:00:00\", \"2020-11-24T00:00:00\", \"2020-11-25T00:00:00\", \"2020-11-26T00:00:00\", \"2020-11-27T00:00:00\", \"2020-11-28T00:00:00\", \"2020-11-29T00:00:00\", \"2020-11-30T00:00:00\", \"2020-12-01T00:00:00\", \"2020-12-02T00:00:00\", \"2020-12-03T00:00:00\", \"2020-12-04T00:00:00\", \"2020-12-05T00:00:00\", \"2020-12-06T00:00:00\", \"2020-12-07T00:00:00\", \"2020-12-08T00:00:00\", \"2020-12-09T00:00:00\", \"2020-12-10T00:00:00\", \"2020-12-11T00:00:00\", \"2020-12-12T00:00:00\", \"2020-12-13T00:00:00\", \"2020-12-14T00:00:00\", \"2020-12-15T00:00:00\", \"2020-12-16T00:00:00\", \"2020-12-17T00:00:00\", \"2020-12-18T00:00:00\", \"2020-12-19T00:00:00\", \"2020-12-20T00:00:00\", \"2020-12-21T00:00:00\", \"2020-12-22T00:00:00\", \"2020-12-23T00:00:00\", \"2020-12-24T00:00:00\", \"2020-12-25T00:00:00\", \"2020-12-26T00:00:00\", \"2020-12-27T00:00:00\", \"2020-12-28T00:00:00\", \"2020-12-29T00:00:00\", \"2020-12-30T00:00:00\", \"2020-12-31T00:00:00\", \"2021-01-01T00:00:00\", \"2021-01-02T00:00:00\", \"2021-01-03T00:00:00\", \"2021-01-04T00:00:00\", \"2021-01-05T00:00:00\", \"2021-01-06T00:00:00\", \"2021-01-07T00:00:00\", \"2021-01-08T00:00:00\", \"2021-01-09T00:00:00\", \"2021-01-10T00:00:00\", \"2021-01-11T00:00:00\", \"2021-01-12T00:00:00\", \"2021-01-13T00:00:00\", \"2021-01-14T00:00:00\", \"2021-01-15T00:00:00\", \"2021-01-16T00:00:00\", \"2021-01-17T00:00:00\", \"2021-01-18T00:00:00\", \"2021-01-19T00:00:00\", \"2021-01-20T00:00:00\", \"2021-01-21T00:00:00\", \"2021-01-22T00:00:00\", \"2021-01-23T00:00:00\", \"2021-01-24T00:00:00\", \"2021-01-25T00:00:00\", \"2021-01-26T00:00:00\", \"2021-01-27T00:00:00\", \"2021-01-28T00:00:00\", \"2021-01-29T00:00:00\", \"2021-01-30T00:00:00\", \"2021-01-31T00:00:00\", \"2021-02-01T00:00:00\", \"2021-02-02T00:00:00\", \"2021-02-03T00:00:00\", \"2021-02-04T00:00:00\", \"2021-02-05T00:00:00\", \"2021-02-06T00:00:00\", \"2021-02-07T00:00:00\", \"2021-02-08T00:00:00\", \"2021-02-09T00:00:00\", \"2021-02-10T00:00:00\", \"2021-02-11T00:00:00\", \"2021-02-12T00:00:00\", \"2021-02-13T00:00:00\", \"2021-02-14T00:00:00\", \"2021-02-15T00:00:00\", \"2021-02-16T00:00:00\", \"2021-02-17T00:00:00\", \"2021-02-18T00:00:00\", \"2021-02-19T00:00:00\", \"2021-02-20T00:00:00\", \"2021-02-21T00:00:00\", \"2021-02-22T00:00:00\", \"2021-02-23T00:00:00\", \"2021-02-24T00:00:00\", \"2021-02-25T00:00:00\", \"2021-02-26T00:00:00\", \"2021-02-27T00:00:00\", \"2021-02-28T00:00:00\", \"2021-03-01T00:00:00\", \"2021-03-02T00:00:00\", \"2021-03-03T00:00:00\", \"2021-03-04T00:00:00\", \"2021-03-05T00:00:00\", \"2021-03-06T00:00:00\", \"2021-03-07T00:00:00\", \"2021-03-08T00:00:00\", \"2021-03-09T00:00:00\", \"2021-03-10T00:00:00\", \"2021-03-11T00:00:00\", \"2021-03-12T00:00:00\", \"2021-03-13T00:00:00\", \"2021-03-14T00:00:00\", \"2021-03-15T00:00:00\", \"2021-03-16T00:00:00\", \"2021-03-17T00:00:00\", \"2021-03-18T00:00:00\", \"2021-03-19T00:00:00\", \"2021-03-20T00:00:00\", \"2021-03-21T00:00:00\", \"2021-03-22T00:00:00\", \"2021-03-23T00:00:00\", \"2021-03-24T00:00:00\", \"2021-03-25T00:00:00\", \"2021-03-26T00:00:00\", \"2021-03-27T00:00:00\", \"2021-03-28T00:00:00\", \"2021-03-29T00:00:00\", \"2021-03-30T00:00:00\", \"2021-03-31T00:00:00\", \"2021-04-01T00:00:00\", \"2021-04-02T00:00:00\", \"2021-04-03T00:00:00\", \"2021-04-04T00:00:00\", \"2021-04-05T00:00:00\", \"2021-04-06T00:00:00\", \"2021-04-07T00:00:00\", \"2021-04-08T00:00:00\", \"2021-04-09T00:00:00\", \"2021-04-10T00:00:00\", \"2021-04-11T00:00:00\", \"2021-04-12T00:00:00\", \"2021-04-13T00:00:00\", \"2021-04-14T00:00:00\", \"2021-04-15T00:00:00\", \"2021-04-16T00:00:00\", \"2021-04-17T00:00:00\", \"2021-04-18T00:00:00\", \"2021-04-19T00:00:00\", \"2021-04-20T00:00:00\", \"2021-04-21T00:00:00\", \"2021-04-22T00:00:00\", \"2021-04-23T00:00:00\", \"2021-04-24T00:00:00\", \"2021-04-25T00:00:00\", \"2021-04-26T00:00:00\", \"2021-04-27T00:00:00\", \"2021-04-28T00:00:00\", \"2021-04-29T00:00:00\", \"2021-04-30T00:00:00\", \"2021-05-01T00:00:00\", \"2021-05-02T00:00:00\", \"2021-05-03T00:00:00\", \"2021-05-04T00:00:00\", \"2021-05-05T00:00:00\", \"2021-05-06T00:00:00\", \"2021-05-07T00:00:00\", \"2021-05-08T00:00:00\", \"2021-05-09T00:00:00\", \"2021-05-10T00:00:00\", \"2021-05-11T00:00:00\", \"2021-05-12T00:00:00\", \"2021-05-13T00:00:00\", \"2021-05-14T00:00:00\", \"2021-05-15T00:00:00\", \"2021-05-16T00:00:00\", \"2021-05-17T00:00:00\", \"2021-05-18T00:00:00\", \"2021-05-19T00:00:00\", \"2021-05-20T00:00:00\", \"2021-05-21T00:00:00\", \"2021-05-22T00:00:00\", \"2021-05-23T00:00:00\", \"2021-05-24T00:00:00\", \"2021-05-25T00:00:00\", \"2021-05-26T00:00:00\", \"2021-05-27T00:00:00\", \"2021-05-28T00:00:00\", \"2021-05-29T00:00:00\", \"2021-05-30T00:00:00\", \"2021-05-31T00:00:00\", \"2021-06-01T00:00:00\", \"2021-06-02T00:00:00\", \"2021-06-03T00:00:00\", \"2021-06-04T00:00:00\", \"2021-06-05T00:00:00\", \"2021-06-06T00:00:00\", \"2021-06-07T00:00:00\", \"2021-06-08T00:00:00\", \"2021-06-09T00:00:00\", \"2021-06-10T00:00:00\", \"2021-06-11T00:00:00\", \"2021-06-12T00:00:00\", \"2021-06-13T00:00:00\", \"2021-06-14T00:00:00\", \"2021-06-15T00:00:00\", \"2021-06-16T00:00:00\", \"2021-06-17T00:00:00\", \"2021-06-18T00:00:00\", \"2021-06-19T00:00:00\", \"2021-06-20T00:00:00\", \"2021-06-21T00:00:00\", \"2021-06-22T00:00:00\", \"2021-06-23T00:00:00\", \"2021-06-24T00:00:00\", \"2021-06-25T00:00:00\", \"2021-06-26T00:00:00\", \"2021-06-27T00:00:00\", \"2021-06-28T00:00:00\", \"2021-06-29T00:00:00\", \"2021-06-30T00:00:00\", \"2021-07-01T00:00:00\", \"2021-07-02T00:00:00\", \"2021-07-03T00:00:00\", \"2021-07-04T00:00:00\", \"2021-07-05T00:00:00\", \"2021-07-06T00:00:00\", \"2021-07-07T00:00:00\", \"2021-07-08T00:00:00\", \"2021-07-09T00:00:00\", \"2021-07-10T00:00:00\", \"2021-07-11T00:00:00\", \"2021-07-12T00:00:00\", \"2021-07-13T00:00:00\", \"2021-07-14T00:00:00\", \"2021-07-15T00:00:00\", \"2021-07-16T00:00:00\", \"2021-07-17T00:00:00\", \"2021-07-18T00:00:00\", \"2021-07-19T00:00:00\", \"2021-07-20T00:00:00\", \"2021-07-21T00:00:00\", \"2021-07-22T00:00:00\", \"2021-07-23T00:00:00\", \"2021-07-24T00:00:00\", \"2021-07-25T00:00:00\", \"2021-07-26T00:00:00\", \"2021-07-27T00:00:00\", \"2021-07-28T00:00:00\", \"2021-07-29T00:00:00\", \"2021-07-30T00:00:00\", \"2021-07-31T00:00:00\", \"2021-08-01T00:00:00\", \"2021-08-02T00:00:00\", \"2021-08-03T00:00:00\", \"2021-08-04T00:00:00\", \"2021-08-05T00:00:00\", \"2021-08-06T00:00:00\", \"2021-08-07T00:00:00\", \"2021-08-08T00:00:00\", \"2021-08-09T00:00:00\", \"2021-08-10T00:00:00\", \"2021-08-11T00:00:00\", \"2021-08-12T00:00:00\", \"2021-08-13T00:00:00\", \"2021-08-14T00:00:00\", \"2021-08-15T00:00:00\", \"2021-08-16T00:00:00\", \"2021-08-17T00:00:00\", \"2021-08-18T00:00:00\", \"2021-08-19T00:00:00\", \"2021-08-20T00:00:00\", \"2021-08-21T00:00:00\", \"2021-08-22T00:00:00\", \"2021-08-23T00:00:00\", \"2021-08-24T00:00:00\", \"2021-08-25T00:00:00\", \"2021-08-26T00:00:00\", \"2021-08-27T00:00:00\", \"2021-08-28T00:00:00\", \"2021-08-29T00:00:00\", \"2021-08-30T00:00:00\", \"2021-08-31T00:00:00\", \"2021-09-01T00:00:00\", \"2021-09-02T00:00:00\", \"2021-09-03T00:00:00\", \"2021-09-04T00:00:00\", \"2021-09-05T00:00:00\", \"2021-09-06T00:00:00\", \"2021-09-07T00:00:00\", \"2021-09-08T00:00:00\", \"2021-09-09T00:00:00\", \"2021-09-10T00:00:00\", \"2021-09-11T00:00:00\", \"2021-09-12T00:00:00\", \"2021-09-13T00:00:00\", \"2021-09-14T00:00:00\", \"2021-09-15T00:00:00\", \"2021-09-16T00:00:00\", \"2021-09-17T00:00:00\", \"2021-09-18T00:00:00\", \"2021-09-19T00:00:00\", \"2021-09-20T00:00:00\", \"2021-09-21T00:00:00\", \"2021-09-22T00:00:00\", \"2021-09-23T00:00:00\", \"2021-09-24T00:00:00\", \"2021-09-25T00:00:00\", \"2021-09-26T00:00:00\", \"2021-09-27T00:00:00\", \"2021-09-28T00:00:00\", \"2021-09-29T00:00:00\", \"2021-09-30T00:00:00\", \"2021-10-01T00:00:00\", \"2021-10-02T00:00:00\", \"2021-10-03T00:00:00\", \"2021-10-04T00:00:00\", \"2021-10-05T00:00:00\", \"2021-10-06T00:00:00\", \"2021-10-07T00:00:00\", \"2021-10-08T00:00:00\", \"2021-10-09T00:00:00\", \"2021-10-10T00:00:00\", \"2021-10-11T00:00:00\", \"2021-10-12T00:00:00\", \"2021-10-13T00:00:00\", \"2021-10-14T00:00:00\", \"2021-10-15T00:00:00\", \"2021-10-16T00:00:00\", \"2021-10-17T00:00:00\", \"2021-10-18T00:00:00\", \"2021-10-19T00:00:00\", \"2021-10-20T00:00:00\", \"2021-10-21T00:00:00\", \"2021-10-22T00:00:00\", \"2021-10-23T00:00:00\", \"2021-10-24T00:00:00\", \"2021-10-25T00:00:00\"], \"y\": [8.570945803362054, 9.81027805947692, 11.53423174640572, 10.259604233283014, 20.364904071983695, 19.356166923371077, 17.262429406615013, 12.177501629907344, 13.416833886003442, 15.1407875729393, 13.866160059821137, 23.97145989851867, 22.96272274992367, 20.868985233150525, 15.784057456452635, 17.023389712557368, 18.747343399496813, 17.472715886363503, 27.578015727350316, 26.56927858103482, 24.47554106655024, 19.390613292135704, 20.629945550531975, 22.353899239737068, 21.079271728898963, 31.18457156988864, 30.17583442356225, 28.082096909079212, 22.99716913466012, 24.23650139304807, 25.960455082272826, 24.685827571434423, 34.79112741242696, 33.78239026610673, 31.688652751616708, 26.60372497721016, 27.843057226235587, 29.567010906082487, 28.292383385889117, 38.397683217510874, 37.38894606184656, 35.29520853799821, 30.210280754230276, 31.449613003262733, 33.173566683128456, 31.898939162928144, 42.0042389945467, 40.995501838871334, 38.901764315022184, 33.81683653126567, 35.05616878029142, 36.78012246015051, 35.50549493995473, 45.61079476421222, 44.602057601167246, 42.50832006994939, 37.423392278807476, 38.662724520470164, 40.386678192952616, 39.11205066540384, 49.21735048964588, 48.20861332660804, 46.114875795394305, 41.02994800426494, 42.26928024592262, 43.99323391840866, 42.71860639083852, 52.823906215091625, 51.81516905204885, 49.7214315208175, 44.6365037196006, 45.87583595116749, 47.599789613552254, 46.3251620758947, 56.43046189005649, 55.42172471690663, 53.32798717560238, 48.243059374371185, 49.48239160593301, 51.20634526832219, 49.931717730658136, 60.03701754481675, 59.028280371685305, 56.93454283038726, 51.84961502914177, 53.088947260698525, 54.81290092309212, 53.53827337142073, 63.64357317157911, 62.6348359844317, 60.54109842912779, 55.45617061388702, 56.69550283144579, 58.4194564798284, 57.14482892816111, 67.25012872831613, 66.24139154116378, 64.14765398586633, 59.062726170610134, 60.30205838816214, 62.02601203655362, 60.75138448488905, 70.85668428505316, 69.84794709790103, 67.75420954259167, 62.66928171720874, 63.90861392460563, 65.63256756283769, 64.35794000102074, 74.46323979102733, 73.45450259373234, 71.360765028277, 66.27583720287936, 67.51516941028481, 69.23912304852313, 67.96449548670402, 78.06979527671363, 77.0610580794128, 74.9673205139406, 69.8823926885516, 71.12172489596244, 72.84567853420671, 71.57104012828019, 81.67632907418533, 80.66758103277772, 78.57383262321052, 73.48889395370009, 74.72821531699715, 76.45215811112915, 75.17751970521338, 85.28280865110918, 84.27406060970884, 82.18031220013489, 77.09537353063423, 78.33469489393993, 80.05863768807554, 78.78399928214462, 88.88928822804537, 87.88054018663996, 85.78480926385002, 80.6978880811499, 81.93522693125347, 83.65718721216102, 82.38056629303163, 92.4838727257138, 91.47314217110045, 89.37741124832293, 84.29049006560737, 85.52782891570418, 87.24978919662985, 85.97316827750015, 96.07647471017309, 95.065744155578, 92.9700132327935, 87.8830920500905, 89.12043090018227, 90.84239118109866, 89.54676061404427, 99.63105739881208, 98.6013171962899, 96.48657662558837, 91.38064579496697, 92.59897499714792, 94.30192563015586, 93.00629506310561, 103.09059184787003, 102.06085164533697, 99.94611107463467, 94.84018024402465, 96.0585094461989, 97.7614600792002, 96.46582951214629, 106.55012629692786, 105.52038609440109, 103.36597025054837, 98.2203641467892, 99.39901807581265, 101.06229343566159, 99.72698759547069, 109.77160910709927, 108.70219363142796, 106.5477777875853, 101.40217168382503, 102.58082561285713, 104.24410097270965, 102.90879513250559, 112.95341664413704, 111.88400116846078, 109.72958532461371, 104.58397922084887, 105.76263314987267, 107.40041669336222, 106.03961903679732, 116.05874873206007, 114.96384144000136, 112.783933779806, 107.61283585965532, 108.76599797231617, 110.40378151579645, 109.04298385923126, 119.06211355448463, 117.96720626244432, 115.78729860224198, 110.6162006820902, 111.76936279474597, 113.4071463382343, 112.0463486816632, 122.06547837692156, 120.96888844894252, 118.78729815280084, 113.614517596742, 114.7659970734772, 116.4020979810301, 115.03961768853726, 125.05706474786442, 123.96047481988576, 121.77888452375622, 116.60610396767113, 117.75758344439953, 119.39368435195948, 118.0312040594712, 128.0486511188074, 126.95206119082899, 124.77047089468755, 119.59769033862587, 120.74916981534926, 122.38526931115386, 121.0227876068951, 131.04023325446698, 129.94364191473855, 127.76205020684411, 122.58926823901058, 123.74074630398232, 125.37684579978517, 124.01436409553536, 134.03180974311007, 132.93521840337078, 130.7536266954779, 125.58084472763815, 126.73232279262, 128.36842228842576, 127.00594058416742, 137.02338623175308, 135.92679452426043, 133.74520244861117, 128.57242011302947, 129.723897810235, 131.35999693828268, 129.9975148662806, 140.0149601460903, 138.91836843861103, 136.73677636296097, 131.5639940273787, 132.71547172460325, 134.3515708526527, 132.98908878064552, 143.006534060452, 141.90994235297802, 139.72835027731085, 134.55556794173836, 135.70704561412572, 137.34314471736383, 135.98066262054277, 145.99810787553977, 144.90151614323665, 142.71992404275028, 137.54714168235552, 138.69861935476519, 140.33471845799764, 138.97223636117886, 148.9896816161725, 147.89308988387037, 145.71149778338219, 140.53871542300323, 141.6901930954046, 143.32629219862778, 141.96381010179235, 151.9658074139494, 150.8537677387805, 148.65672769545125, 143.46849739219707, 144.60452712173748, 146.22517828212293, 144.84724824243753, 154.8492455545671, 153.73720587941148, 151.54016583609226, 146.35193553283702, 147.487965262386, 149.1086164227511, 147.73068638307032, 157.73268369520878, 156.6206440200543, 154.4236039767224, 149.23537367347691, 150.31617783614814, 151.88160342966214, 150.44844782310653, 160.3952195683721, 159.22795432633694, 156.97568871617185, 151.73223284602918, 152.81303700870902, 154.3784626022063, 152.9453069956578, 162.8920787409261, 161.72481349889648, 159.47254788870347, 154.22909201856783, 155.30989618124255, 156.8753217747469, 155.4421661681927, 165.3390401123428, 164.1218770691708, 161.8197136578444, 156.52635998658386, 157.55726634811612, 159.0727941404737, 157.5897407327818, 167.4866146769346, 166.2694516337578, 163.9672882224355, 158.6739345511635, 159.704840912701, 161.22036870506304, 159.73731529737708, 169.63418924152666, 168.4170261983491, 166.11486278700488, 160.7593549162629, 161.7281070783048, 163.1814806711806, 161.6362730639975, 171.47099280864126, 170.19167556599248, 167.82735795516172, 162.47185008440505, 163.4406022464524, 164.89397583932828, 163.3487682321585, 173.18348797679892, 171.9041707341452, 169.5398531233077, 164.18434525257442, 165.1530974146168, 166.60647100749443, 165.06126340031955, 174.8191459904126, 173.46299159321, 171.02183682784823, 165.58949180254072, 166.48140681003397, 167.85794324837477, 166.23589848666666, 175.9937810767384, 174.63762667954904, 172.1964719141865, 166.76412688887515, 167.6560418963907, 169.03257833472213, 167.41053357299737, 177.16841616308824, 175.81226176590002, 173.37110700053563, 167.890028933694, 168.73321089963838, 170.0610142964313, 168.39023649316013, 178.09938604170796, 176.69449860296265, 174.20461079605133, 168.72353272920586, 169.5667146951725, 170.89451809195614, 169.22374028869092, 178.9328898372352, 177.52800239849543, 175.03811459156705, 169.5570365247314, 170.40021849067924, 171.7280218874699, 170.0412802697849, 179.73446600394658, 178.31361475079407, 175.80776312945102, 170.31072124821716, 171.13793939976577, 172.44977898214285, 170.76303736446013, 180.45622309861844, 179.03537184546101, 176.5295202241485, 171.0324783428904, 171.8596964944443, 173.17153607681215, 171.48479445912915, 181.17798019329032, 179.75712894012196, 177.25127731343983, 171.75423542683077, 172.58145357302163, 173.8932931500496, 172.20655152700832, 181.8997372557902, 180.47888599728904, 177.9730343706051, 172.47599248399496, 173.30321063019443, 174.61505020720568, 172.92830858417153, 182.62149431295614, 181.20064305444427, 178.69479142775947, 173.19774954115914, 174.02496768735048, 175.33680726438024, 173.65006563311113, 183.34325135366277, 181.92240008691002, 179.41654845202103, 173.91950655717426, 174.7467246951307, 176.05856426392407, 174.3718226326657, 184.06500835322, 182.6441570864728, 180.13830545156674, 174.6412635567161, 175.46848169468112, 176.7803212634678, 175.09357963220384, 184.78676535277742, 183.36591408602527, 180.86006242322946, 175.36302050049747, 176.1902386105636, 177.5020781514582, 175.815336492289, 185.50852218497155, 184.0876708903206, 181.5818192275289, 176.0847773047855, 176.91199541485383, 178.22383495574488, 176.53709329659262, 186.23027898927185, 184.8094276946203, 182.30357603180664, 176.80653410908386, 177.6337522191471, 178.9455917600426, 177.25885010088382, 186.9520357935478, 185.5311844989216, 183.0253328361061, 177.52829091338222, 178.35550902344042, 179.66734856433288, 177.9806069051875, 187.67379259784803, 186.252941303211, 183.74708964039465, 178.2500477176806, 179.0772658277474, 180.38910536864162, 178.70236370949112, 188.39554940214836, 186.9746981075063, 184.46884644470967, 178.97180452196858, 179.799022632027, 181.1108621729283, 179.42412051378233, 189.11730620642447, 187.69645491180168, 185.1906032489983, 179.69356132625333, 180.520779436334, 181.832618977226, 180.14587731806958, 189.8390630107246, 188.418211716097, 185.9123600532977, 180.41531813056534, 181.2425362406242, 182.55437578152373, 180.86763412236698, 190.56081981502504, 189.1399685203864, 186.63411685757544, 181.13707493485006, 181.96429304491753, 183.27613258582144, 181.58939092667057, 191.28257661932517, 189.86172532469203, 187.35587366190128, 181.8588317391484, 182.6860498492108, 183.9978893901081, 182.31114773094538, 192.00433342362527, 190.58348212898738, 188.07763046618987, 182.5805885434468, 183.4078066535178, 184.7196461944205, 183.03290453524906, 192.72609022792574, 191.3052389332827, 188.79938727048935, 183.30234534774843, 184.1295634578248, 185.4414029987072, 183.75466133954646, 193.44784703222584, 192.02699573757212, 189.52114407476705, 184.02410215203315, 184.8513202621044, 186.16315980300487, 184.4764181438439, 194.16960383650198, 192.7487525418734, 190.24290087906653, 184.74585895634516, 185.5730770664114, 186.8849166073062, 185.19817494814131, 194.89136064080208, 193.4705093461731, 190.9646576833551, 185.46761576062988, 186.2948338707016, 187.60667341160394, 185.91993175244494, 195.61311744510252, 194.1922661504625, 191.6864144876701, 186.18937256492825, 187.01659067499494, 188.32843021589062, 186.64168855673614, 196.33487424940265, 194.9140229547638, 192.4081712919587, 186.91112936921297, 187.73834747928822, 189.05018702017725, 187.3634453610234, 197.05663105370292, 195.63577975905315, 193.12992809625814, 187.63288617352498, 188.46010428359213, 189.77194382448604, 188.08520216532082, 197.77838785797906, 196.3575365633485, 193.85168490053587, 188.354642977813, 189.1818610878717, 190.4937006287727, 188.80695896962445, 198.50014466227935, 197.07929336764823, 194.5734417048353, 189.07639978211134, 189.90361789217872, 191.21545743307038, 189.52871577391565, 199.22190146657945, 197.8010501719495, 195.2951985091348, 189.79815658640973, 190.62537469647202, 191.9372142373717, 190.2504725782193, 199.94365827087987, 198.5228069762389, 196.0169553134125, 190.5199133907114, 191.34713150077903, 192.65897104166947, 190.9722293825065, 200.66541507518, 199.24456378053424, 196.73871211773837, 191.24167019499612, 192.06888830505864, 193.38072784595613, 191.6939861867977, 201.3871718794561, 199.96632058482956, 197.46046892202696, 191.9634269993081, 192.79064510936564, 194.1024846502649, 192.41574299110135, 202.10892868375623, 200.68807738912489, 198.18222572632638, 192.68518380359282, 193.51240191365582, 194.82424145455155, 193.13749979539878, 202.8306854880567, 201.4098341934143, 198.90398253063054, 193.40694060787757, 194.23415871794913, 195.54599825884927, 193.8592565996962, 203.5524422923568, 202.13159099772588, 199.62573933493, 194.1286974121759, 194.9559155222424, 196.26775506313953, 194.5810134039772, 204.27419909665693, 202.8533478020153, 200.3474961392186, 194.8504542164743, 195.67767232654944, 196.98951186744833, 195.30277020828086, 204.99595590095737, 203.57510460631065, 201.06925294350717, 195.57221102077597, 196.39942913082902, 197.71126867173496, 196.02452701257826, 205.71771270525747, 204.29686141061032, 201.79100974779575, 196.29396782506066, 197.12118593513605, 198.4330254760327, 196.74628381687572, 206.4394695095336, 205.01861821491158, 202.5127665520952, 197.01572462937264, 197.84294273943996, 199.15478228033402, 197.46804062117315, 207.16122631383388, 205.74037501920102, 203.2345233563729, 197.7374814336574, 198.56469954373324, 199.87653908463176, 198.18979742547677, 207.88298311813418, 206.4621318234904, 203.95628016069878, 198.45923823795576, 199.28645634802655, 200.59829588891841, 198.91155422976794, 208.60473992241015, 207.18388862779167, 204.67803696498743, 199.1809950422541, 200.00821315231985, 201.32005269322718, 199.6333110340552, 209.32649672671042, 207.90564543208106, 205.39979376928684, 199.9027518465558, 200.72996995662376, 202.04180949751384, 200.3550678383526, 210.0482535310107, 208.6274022363764, 206.12155057356458, 200.6245086508405, 201.45172676090334, 202.76356630180052, 201.07682464265, 210.77001033531099, 209.34915904068205, 206.843307377864, 201.34626545513888, 202.17348356521035, 203.48532310609824, 201.79858144693105, 211.49176713961108, 210.07091584497738, 207.56506418216347, 202.0680222594372, 202.89524036950365, 204.20707991039956, 202.5203382512347, 212.21352394391153, 210.79267264926676, 208.28682098644117, 202.78977906373888, 203.61699717379693, 204.92883671469727, 203.24209505552588, 212.93528074821165, 211.51442945356214, 209.00857779076708, 203.5115358680236, 204.3387539780902, 205.65059351898392, 203.9638518598295, 213.6570375524878, 212.23618625785744, 209.73033459505567, 204.2332926723356, 205.06051078239724, 206.3723503232963, 204.68560866413316, 214.37879435678803, 212.9579430621528, 210.45209139934423, 204.95504947662036, 205.78226758668748, 207.094107127583, 205.40736546843058, 215.10055116108833, 213.67969986644218, 211.17384820365922, 205.67680628090508, 206.50402439098076, 207.81586393188073, 206.12912227272798, 215.82230796538846, 214.4014566707538, 211.8956050079587, 206.39856308521706, 207.22578119527407, 208.53762073617844, 206.850879077009, 216.5440647696886, 215.12321347504317, 212.61736181224728, 207.12031988950181, 207.94753799958107, 209.25937754047615, 207.57263588131266, 217.265821573989, 215.84497027933855, 213.33911861653584, 207.84207669380345, 208.66929480385755, 209.9811343447628, 208.29439268560384, 217.98757837828916, 216.5667270836442, 214.06087542082446, 208.56383349808817, 209.39105160816456, 210.70289114906052, 209.01614948990746, 218.70933518256527, 217.2884838879395, 214.78263222512393, 209.28559030240018, 210.11280841247157, 211.42464795336184, 209.7379062942049, 219.4310919868655, 218.0102406922289, 215.50438902940164, 210.0073471066849, 210.83456521675117, 212.14640475765955, 210.45966309850232, 220.15284879116578, 218.7319974965183, 216.22614583372746, 210.72910391098657, 211.55632202105815, 212.86816156194624, 211.18141990279975, 220.87460559544178, 219.45375430081955, 216.9479026380161, 211.4508607152849, 212.27807882535146, 213.589918366255, 211.903176707087, 221.59636239974222, 220.17551110510897, 217.66965944230466, 212.1726175195833, 212.99983562965537, 214.31167517054163, 212.62493351138443, 222.31811920404232, 220.89726790940432, 218.39141624659322, 212.89437432386802, 213.72159243393494, 215.03343197482835, 213.34669031568183, 223.03987600834265, 221.61902471370996, 219.11317305091913, 213.61613112818, 214.44334923824195, 215.7551887791371, 214.06844711996285, 223.76163281264274, 222.34078151800531, 219.8349298552186, 214.33788793246475, 215.16510604253529, 216.47694558342735, 214.79020392426648, 224.48338961694316, 223.0625383222947, 220.55668665949628, 215.05964473676642, 215.88686284682856, 217.1987023877251, 215.51196072855768, 225.20514642124328, 223.78429512659596, 221.27844346379575, 215.78140154106475, 216.60861965112187, 217.92045919201178, 216.2337175328613, 225.92690322551942, 224.50605193088535, 222.00020026808434, 216.50315834536312, 217.33037645542885, 218.64221599632415, 216.95547433716496, 226.6486600298197, 225.22780873519102, 222.7219570723729, 217.2249151496478, 218.05213325970539, 219.36397280061078, 217.67723114145616, 227.37041683411996, 225.94956553948043, 223.4437138766879, 217.9466719539326, 218.77389006401236, 220.08572960490855, 218.39898794575979, 228.0921736384201, 226.6713223437817, 224.1654706809874, 218.6684287582446, 219.49564686830567, 220.80748640920623, 219.1207447500408, 228.81393044272053, 227.39307914807105, 224.8872274852651, 219.3901855625293, 220.2174036726096, 221.52924321350392, 219.84250155434447, 229.53568724699647, 228.11483595236643, 225.60898428956455, 220.111942366831, 220.93916047688919, 222.25100001779063, 220.56425835863564, 230.2574440512966, 228.83659275667208, 226.33074109385313, 220.83369917112933, 221.6609172811962, 222.9727568220994, 221.2860151629393, 230.97920085559693, 229.5583495609674, 227.0524978981526, 221.55545597542766, 222.3826740855032, 223.69451362638966, 222.00777196723675, 231.70095765989717, 230.28010636525684, 227.7742547024303, 222.27721277971568, 223.10443088978278, 224.41627043068738, 222.72952877151775, 232.42271446419747, 231.0018631695581, 228.49601150675622, 222.9989695840277, 223.82618769408975, 225.13802723497406, 223.45128557581515, 233.14447126847344, 231.72361997384746, 229.21776831104478, 223.72072638831244, 224.54794449838306, 225.8597840392828, 224.17304238011877]}, {\"fill\": \"tonexty\", \"fillcolor\": \"rgba(0, 114, 178, 0.2)\", \"hoverinfo\": \"skip\", \"line\": {\"width\": 0}, \"mode\": \"lines\", \"type\": \"scatter\", \"x\": [\"2019-05-03T00:00:00\", \"2019-05-04T00:00:00\", \"2019-05-05T00:00:00\", \"2019-05-06T00:00:00\", \"2019-05-07T00:00:00\", \"2019-05-08T00:00:00\", \"2019-05-09T00:00:00\", \"2019-05-10T00:00:00\", \"2019-05-11T00:00:00\", \"2019-05-12T00:00:00\", \"2019-05-13T00:00:00\", \"2019-05-14T00:00:00\", \"2019-05-15T00:00:00\", \"2019-05-16T00:00:00\", \"2019-05-17T00:00:00\", \"2019-05-18T00:00:00\", \"2019-05-19T00:00:00\", \"2019-05-20T00:00:00\", \"2019-05-21T00:00:00\", \"2019-05-22T00:00:00\", \"2019-05-23T00:00:00\", \"2019-05-24T00:00:00\", \"2019-05-25T00:00:00\", \"2019-05-26T00:00:00\", \"2019-05-27T00:00:00\", \"2019-05-28T00:00:00\", \"2019-05-29T00:00:00\", \"2019-05-30T00:00:00\", \"2019-05-31T00:00:00\", \"2019-06-01T00:00:00\", \"2019-06-02T00:00:00\", \"2019-06-03T00:00:00\", \"2019-06-04T00:00:00\", \"2019-06-05T00:00:00\", \"2019-06-06T00:00:00\", \"2019-06-07T00:00:00\", \"2019-06-08T00:00:00\", \"2019-06-09T00:00:00\", \"2019-06-10T00:00:00\", \"2019-06-11T00:00:00\", \"2019-06-12T00:00:00\", \"2019-06-13T00:00:00\", \"2019-06-14T00:00:00\", \"2019-06-15T00:00:00\", \"2019-06-16T00:00:00\", \"2019-06-17T00:00:00\", \"2019-06-18T00:00:00\", \"2019-06-19T00:00:00\", \"2019-06-20T00:00:00\", \"2019-06-21T00:00:00\", \"2019-06-22T00:00:00\", \"2019-06-23T00:00:00\", \"2019-06-24T00:00:00\", \"2019-06-25T00:00:00\", \"2019-06-26T00:00:00\", \"2019-06-27T00:00:00\", \"2019-06-28T00:00:00\", \"2019-06-29T00:00:00\", \"2019-06-30T00:00:00\", \"2019-07-01T00:00:00\", \"2019-07-02T00:00:00\", \"2019-07-03T00:00:00\", \"2019-07-04T00:00:00\", \"2019-07-05T00:00:00\", \"2019-07-06T00:00:00\", \"2019-07-07T00:00:00\", \"2019-07-08T00:00:00\", \"2019-07-09T00:00:00\", \"2019-07-10T00:00:00\", \"2019-07-11T00:00:00\", \"2019-07-12T00:00:00\", \"2019-07-13T00:00:00\", \"2019-07-14T00:00:00\", \"2019-07-15T00:00:00\", \"2019-07-16T00:00:00\", \"2019-07-17T00:00:00\", \"2019-07-18T00:00:00\", \"2019-07-19T00:00:00\", \"2019-07-20T00:00:00\", \"2019-07-21T00:00:00\", \"2019-07-22T00:00:00\", \"2019-07-23T00:00:00\", \"2019-07-24T00:00:00\", \"2019-07-25T00:00:00\", \"2019-07-26T00:00:00\", \"2019-07-27T00:00:00\", \"2019-07-28T00:00:00\", \"2019-07-29T00:00:00\", \"2019-07-30T00:00:00\", \"2019-07-31T00:00:00\", \"2019-08-01T00:00:00\", \"2019-08-02T00:00:00\", \"2019-08-03T00:00:00\", \"2019-08-04T00:00:00\", \"2019-08-05T00:00:00\", \"2019-08-06T00:00:00\", \"2019-08-07T00:00:00\", \"2019-08-08T00:00:00\", \"2019-08-09T00:00:00\", \"2019-08-10T00:00:00\", \"2019-08-11T00:00:00\", \"2019-08-12T00:00:00\", \"2019-08-13T00:00:00\", \"2019-08-14T00:00:00\", \"2019-08-15T00:00:00\", \"2019-08-16T00:00:00\", \"2019-08-17T00:00:00\", \"2019-08-18T00:00:00\", \"2019-08-19T00:00:00\", \"2019-08-20T00:00:00\", \"2019-08-21T00:00:00\", \"2019-08-22T00:00:00\", \"2019-08-23T00:00:00\", \"2019-08-24T00:00:00\", \"2019-08-25T00:00:00\", \"2019-08-26T00:00:00\", \"2019-08-27T00:00:00\", \"2019-08-28T00:00:00\", \"2019-08-29T00:00:00\", \"2019-08-30T00:00:00\", \"2019-08-31T00:00:00\", \"2019-09-01T00:00:00\", \"2019-09-02T00:00:00\", \"2019-09-03T00:00:00\", \"2019-09-04T00:00:00\", \"2019-09-05T00:00:00\", \"2019-09-06T00:00:00\", \"2019-09-07T00:00:00\", \"2019-09-08T00:00:00\", \"2019-09-09T00:00:00\", \"2019-09-10T00:00:00\", \"2019-09-11T00:00:00\", \"2019-09-12T00:00:00\", \"2019-09-13T00:00:00\", \"2019-09-14T00:00:00\", \"2019-09-15T00:00:00\", \"2019-09-16T00:00:00\", \"2019-09-17T00:00:00\", \"2019-09-18T00:00:00\", \"2019-09-19T00:00:00\", \"2019-09-20T00:00:00\", \"2019-09-21T00:00:00\", \"2019-09-22T00:00:00\", \"2019-09-23T00:00:00\", \"2019-09-24T00:00:00\", \"2019-09-25T00:00:00\", \"2019-09-26T00:00:00\", \"2019-09-27T00:00:00\", \"2019-09-28T00:00:00\", \"2019-09-29T00:00:00\", \"2019-09-30T00:00:00\", \"2019-10-01T00:00:00\", \"2019-10-02T00:00:00\", \"2019-10-03T00:00:00\", \"2019-10-04T00:00:00\", \"2019-10-05T00:00:00\", \"2019-10-06T00:00:00\", \"2019-10-07T00:00:00\", \"2019-10-08T00:00:00\", \"2019-10-09T00:00:00\", \"2019-10-10T00:00:00\", \"2019-10-11T00:00:00\", \"2019-10-12T00:00:00\", \"2019-10-13T00:00:00\", \"2019-10-14T00:00:00\", \"2019-10-15T00:00:00\", \"2019-10-16T00:00:00\", \"2019-10-17T00:00:00\", \"2019-10-18T00:00:00\", \"2019-10-19T00:00:00\", \"2019-10-20T00:00:00\", \"2019-10-21T00:00:00\", \"2019-10-22T00:00:00\", \"2019-10-23T00:00:00\", \"2019-10-24T00:00:00\", \"2019-10-25T00:00:00\", \"2019-10-26T00:00:00\", \"2019-10-27T00:00:00\", \"2019-10-28T00:00:00\", \"2019-10-29T00:00:00\", \"2019-10-30T00:00:00\", \"2019-10-31T00:00:00\", \"2019-11-01T00:00:00\", \"2019-11-02T00:00:00\", \"2019-11-03T00:00:00\", \"2019-11-04T00:00:00\", \"2019-11-05T00:00:00\", \"2019-11-06T00:00:00\", \"2019-11-07T00:00:00\", \"2019-11-08T00:00:00\", \"2019-11-09T00:00:00\", \"2019-11-10T00:00:00\", \"2019-11-11T00:00:00\", \"2019-11-12T00:00:00\", \"2019-11-13T00:00:00\", \"2019-11-14T00:00:00\", \"2019-11-15T00:00:00\", \"2019-11-16T00:00:00\", \"2019-11-17T00:00:00\", \"2019-11-18T00:00:00\", \"2019-11-19T00:00:00\", \"2019-11-20T00:00:00\", \"2019-11-21T00:00:00\", \"2019-11-22T00:00:00\", \"2019-11-23T00:00:00\", \"2019-11-24T00:00:00\", \"2019-11-25T00:00:00\", \"2019-11-26T00:00:00\", \"2019-11-27T00:00:00\", \"2019-11-28T00:00:00\", \"2019-11-29T00:00:00\", \"2019-11-30T00:00:00\", \"2019-12-01T00:00:00\", \"2019-12-02T00:00:00\", \"2019-12-03T00:00:00\", \"2019-12-04T00:00:00\", \"2019-12-05T00:00:00\", \"2019-12-06T00:00:00\", \"2019-12-07T00:00:00\", \"2019-12-08T00:00:00\", \"2019-12-09T00:00:00\", \"2019-12-10T00:00:00\", \"2019-12-11T00:00:00\", \"2019-12-12T00:00:00\", \"2019-12-13T00:00:00\", \"2019-12-14T00:00:00\", \"2019-12-15T00:00:00\", \"2019-12-16T00:00:00\", \"2019-12-17T00:00:00\", \"2019-12-18T00:00:00\", \"2019-12-19T00:00:00\", \"2019-12-20T00:00:00\", \"2019-12-21T00:00:00\", \"2019-12-22T00:00:00\", \"2019-12-23T00:00:00\", \"2019-12-24T00:00:00\", \"2019-12-25T00:00:00\", \"2019-12-26T00:00:00\", \"2019-12-27T00:00:00\", \"2019-12-28T00:00:00\", \"2019-12-29T00:00:00\", \"2019-12-30T00:00:00\", \"2019-12-31T00:00:00\", \"2020-01-01T00:00:00\", \"2020-01-02T00:00:00\", \"2020-01-03T00:00:00\", \"2020-01-04T00:00:00\", \"2020-01-05T00:00:00\", \"2020-01-06T00:00:00\", \"2020-01-07T00:00:00\", \"2020-01-08T00:00:00\", \"2020-01-09T00:00:00\", \"2020-01-10T00:00:00\", \"2020-01-11T00:00:00\", \"2020-01-12T00:00:00\", \"2020-01-13T00:00:00\", \"2020-01-14T00:00:00\", \"2020-01-15T00:00:00\", \"2020-01-16T00:00:00\", \"2020-01-17T00:00:00\", \"2020-01-18T00:00:00\", \"2020-01-19T00:00:00\", \"2020-01-20T00:00:00\", \"2020-01-21T00:00:00\", \"2020-01-22T00:00:00\", \"2020-01-23T00:00:00\", \"2020-01-24T00:00:00\", \"2020-01-25T00:00:00\", \"2020-01-26T00:00:00\", \"2020-01-27T00:00:00\", \"2020-01-28T00:00:00\", \"2020-01-29T00:00:00\", \"2020-01-30T00:00:00\", \"2020-01-31T00:00:00\", \"2020-02-01T00:00:00\", \"2020-02-02T00:00:00\", \"2020-02-03T00:00:00\", \"2020-02-04T00:00:00\", \"2020-02-05T00:00:00\", \"2020-02-06T00:00:00\", \"2020-02-07T00:00:00\", \"2020-02-08T00:00:00\", \"2020-02-09T00:00:00\", \"2020-02-10T00:00:00\", \"2020-02-11T00:00:00\", \"2020-02-12T00:00:00\", \"2020-02-13T00:00:00\", \"2020-02-14T00:00:00\", \"2020-02-15T00:00:00\", \"2020-02-16T00:00:00\", \"2020-02-17T00:00:00\", \"2020-02-18T00:00:00\", \"2020-02-19T00:00:00\", \"2020-02-20T00:00:00\", \"2020-02-21T00:00:00\", \"2020-02-22T00:00:00\", \"2020-02-23T00:00:00\", \"2020-02-24T00:00:00\", \"2020-02-25T00:00:00\", \"2020-02-26T00:00:00\", \"2020-02-27T00:00:00\", \"2020-02-28T00:00:00\", \"2020-02-29T00:00:00\", \"2020-03-01T00:00:00\", \"2020-03-02T00:00:00\", \"2020-03-03T00:00:00\", \"2020-03-04T00:00:00\", \"2020-03-05T00:00:00\", \"2020-03-06T00:00:00\", \"2020-03-07T00:00:00\", \"2020-03-08T00:00:00\", \"2020-03-09T00:00:00\", \"2020-03-10T00:00:00\", \"2020-03-11T00:00:00\", \"2020-03-12T00:00:00\", \"2020-03-13T00:00:00\", \"2020-03-14T00:00:00\", \"2020-03-15T00:00:00\", \"2020-03-16T00:00:00\", \"2020-03-17T00:00:00\", \"2020-03-18T00:00:00\", \"2020-03-19T00:00:00\", \"2020-03-20T00:00:00\", \"2020-03-21T00:00:00\", \"2020-03-22T00:00:00\", \"2020-03-23T00:00:00\", \"2020-03-24T00:00:00\", \"2020-03-25T00:00:00\", \"2020-03-26T00:00:00\", \"2020-03-27T00:00:00\", \"2020-03-28T00:00:00\", \"2020-03-29T00:00:00\", \"2020-03-30T00:00:00\", \"2020-03-31T00:00:00\", \"2020-04-01T00:00:00\", \"2020-04-02T00:00:00\", \"2020-04-03T00:00:00\", \"2020-04-04T00:00:00\", \"2020-04-05T00:00:00\", \"2020-04-06T00:00:00\", \"2020-04-07T00:00:00\", \"2020-04-08T00:00:00\", \"2020-04-09T00:00:00\", \"2020-04-10T00:00:00\", \"2020-04-11T00:00:00\", \"2020-04-12T00:00:00\", \"2020-04-13T00:00:00\", \"2020-04-14T00:00:00\", \"2020-04-15T00:00:00\", \"2020-04-16T00:00:00\", \"2020-04-17T00:00:00\", \"2020-04-18T00:00:00\", \"2020-04-19T00:00:00\", \"2020-04-20T00:00:00\", \"2020-04-21T00:00:00\", \"2020-04-22T00:00:00\", \"2020-04-23T00:00:00\", \"2020-04-24T00:00:00\", \"2020-04-25T00:00:00\", \"2020-04-26T00:00:00\", \"2020-04-27T00:00:00\", \"2020-04-28T00:00:00\", \"2020-04-29T00:00:00\", \"2020-04-30T00:00:00\", \"2020-05-01T00:00:00\", \"2020-05-02T00:00:00\", \"2020-05-03T00:00:00\", \"2020-05-04T00:00:00\", \"2020-05-05T00:00:00\", \"2020-05-06T00:00:00\", \"2020-05-07T00:00:00\", \"2020-05-08T00:00:00\", \"2020-05-09T00:00:00\", \"2020-05-10T00:00:00\", \"2020-05-11T00:00:00\", \"2020-05-12T00:00:00\", \"2020-05-13T00:00:00\", \"2020-05-14T00:00:00\", \"2020-05-15T00:00:00\", \"2020-05-16T00:00:00\", \"2020-05-17T00:00:00\", \"2020-05-18T00:00:00\", \"2020-05-19T00:00:00\", \"2020-05-20T00:00:00\", \"2020-05-21T00:00:00\", \"2020-05-22T00:00:00\", \"2020-05-23T00:00:00\", \"2020-05-24T00:00:00\", \"2020-05-25T00:00:00\", \"2020-05-26T00:00:00\", \"2020-05-27T00:00:00\", \"2020-05-28T00:00:00\", \"2020-05-29T00:00:00\", \"2020-05-30T00:00:00\", \"2020-05-31T00:00:00\", \"2020-06-01T00:00:00\", \"2020-06-02T00:00:00\", \"2020-06-03T00:00:00\", \"2020-06-04T00:00:00\", \"2020-06-05T00:00:00\", \"2020-06-06T00:00:00\", \"2020-06-07T00:00:00\", \"2020-06-08T00:00:00\", \"2020-06-09T00:00:00\", \"2020-06-10T00:00:00\", \"2020-06-11T00:00:00\", \"2020-06-12T00:00:00\", \"2020-06-13T00:00:00\", \"2020-06-14T00:00:00\", \"2020-06-15T00:00:00\", \"2020-06-16T00:00:00\", \"2020-06-17T00:00:00\", \"2020-06-18T00:00:00\", \"2020-06-19T00:00:00\", \"2020-06-20T00:00:00\", \"2020-06-21T00:00:00\", \"2020-06-22T00:00:00\", \"2020-06-23T00:00:00\", \"2020-06-24T00:00:00\", \"2020-06-25T00:00:00\", \"2020-06-26T00:00:00\", \"2020-06-27T00:00:00\", \"2020-06-28T00:00:00\", \"2020-06-29T00:00:00\", \"2020-06-30T00:00:00\", \"2020-07-01T00:00:00\", \"2020-07-02T00:00:00\", \"2020-07-03T00:00:00\", \"2020-07-04T00:00:00\", \"2020-07-05T00:00:00\", \"2020-07-06T00:00:00\", \"2020-07-07T00:00:00\", \"2020-07-08T00:00:00\", \"2020-07-09T00:00:00\", \"2020-07-10T00:00:00\", \"2020-07-11T00:00:00\", \"2020-07-12T00:00:00\", \"2020-07-13T00:00:00\", \"2020-07-14T00:00:00\", \"2020-07-15T00:00:00\", \"2020-07-16T00:00:00\", \"2020-07-17T00:00:00\", \"2020-07-18T00:00:00\", \"2020-07-19T00:00:00\", \"2020-07-20T00:00:00\", \"2020-07-21T00:00:00\", \"2020-07-22T00:00:00\", \"2020-07-23T00:00:00\", \"2020-07-24T00:00:00\", \"2020-07-25T00:00:00\", \"2020-07-26T00:00:00\", \"2020-07-27T00:00:00\", \"2020-07-28T00:00:00\", \"2020-07-29T00:00:00\", \"2020-07-30T00:00:00\", \"2020-07-31T00:00:00\", \"2020-08-01T00:00:00\", \"2020-08-02T00:00:00\", \"2020-08-03T00:00:00\", \"2020-08-04T00:00:00\", \"2020-08-05T00:00:00\", \"2020-08-06T00:00:00\", \"2020-08-07T00:00:00\", \"2020-08-08T00:00:00\", \"2020-08-09T00:00:00\", \"2020-08-10T00:00:00\", \"2020-08-11T00:00:00\", \"2020-08-12T00:00:00\", \"2020-08-13T00:00:00\", \"2020-08-14T00:00:00\", \"2020-08-15T00:00:00\", \"2020-08-16T00:00:00\", \"2020-08-17T00:00:00\", \"2020-08-18T00:00:00\", \"2020-08-19T00:00:00\", \"2020-08-20T00:00:00\", \"2020-08-21T00:00:00\", \"2020-08-22T00:00:00\", \"2020-08-23T00:00:00\", \"2020-08-24T00:00:00\", \"2020-08-25T00:00:00\", \"2020-08-26T00:00:00\", \"2020-08-27T00:00:00\", \"2020-08-28T00:00:00\", \"2020-08-29T00:00:00\", \"2020-08-30T00:00:00\", \"2020-08-31T00:00:00\", \"2020-09-01T00:00:00\", \"2020-09-02T00:00:00\", \"2020-09-03T00:00:00\", \"2020-09-04T00:00:00\", \"2020-09-05T00:00:00\", \"2020-09-06T00:00:00\", \"2020-09-07T00:00:00\", \"2020-09-08T00:00:00\", \"2020-09-09T00:00:00\", \"2020-09-10T00:00:00\", \"2020-09-11T00:00:00\", \"2020-09-12T00:00:00\", \"2020-09-13T00:00:00\", \"2020-09-14T00:00:00\", \"2020-09-15T00:00:00\", \"2020-09-16T00:00:00\", \"2020-09-17T00:00:00\", \"2020-09-18T00:00:00\", \"2020-09-19T00:00:00\", \"2020-09-20T00:00:00\", \"2020-09-21T00:00:00\", \"2020-09-22T00:00:00\", \"2020-09-23T00:00:00\", \"2020-09-24T00:00:00\", \"2020-09-25T00:00:00\", \"2020-09-26T00:00:00\", \"2020-09-27T00:00:00\", \"2020-09-28T00:00:00\", \"2020-09-29T00:00:00\", \"2020-09-30T00:00:00\", \"2020-10-01T00:00:00\", \"2020-10-02T00:00:00\", \"2020-10-03T00:00:00\", \"2020-10-04T00:00:00\", \"2020-10-05T00:00:00\", \"2020-10-06T00:00:00\", \"2020-10-07T00:00:00\", \"2020-10-08T00:00:00\", \"2020-10-09T00:00:00\", \"2020-10-10T00:00:00\", \"2020-10-11T00:00:00\", \"2020-10-12T00:00:00\", \"2020-10-13T00:00:00\", \"2020-10-14T00:00:00\", \"2020-10-15T00:00:00\", \"2020-10-16T00:00:00\", \"2020-10-17T00:00:00\", \"2020-10-18T00:00:00\", \"2020-10-19T00:00:00\", \"2020-10-20T00:00:00\", \"2020-10-21T00:00:00\", \"2020-10-22T00:00:00\", \"2020-10-23T00:00:00\", \"2020-10-24T00:00:00\", \"2020-10-25T00:00:00\", \"2020-10-26T00:00:00\", \"2020-10-27T00:00:00\", \"2020-10-28T00:00:00\", \"2020-10-29T00:00:00\", \"2020-10-30T00:00:00\", \"2020-10-31T00:00:00\", \"2020-11-01T00:00:00\", \"2020-11-02T00:00:00\", \"2020-11-03T00:00:00\", \"2020-11-04T00:00:00\", \"2020-11-05T00:00:00\", \"2020-11-06T00:00:00\", \"2020-11-07T00:00:00\", \"2020-11-08T00:00:00\", \"2020-11-09T00:00:00\", \"2020-11-10T00:00:00\", \"2020-11-11T00:00:00\", \"2020-11-12T00:00:00\", \"2020-11-13T00:00:00\", \"2020-11-14T00:00:00\", \"2020-11-15T00:00:00\", \"2020-11-16T00:00:00\", \"2020-11-17T00:00:00\", \"2020-11-18T00:00:00\", \"2020-11-19T00:00:00\", \"2020-11-20T00:00:00\", \"2020-11-21T00:00:00\", \"2020-11-22T00:00:00\", \"2020-11-23T00:00:00\", \"2020-11-24T00:00:00\", \"2020-11-25T00:00:00\", \"2020-11-26T00:00:00\", \"2020-11-27T00:00:00\", \"2020-11-28T00:00:00\", \"2020-11-29T00:00:00\", \"2020-11-30T00:00:00\", \"2020-12-01T00:00:00\", \"2020-12-02T00:00:00\", \"2020-12-03T00:00:00\", \"2020-12-04T00:00:00\", \"2020-12-05T00:00:00\", \"2020-12-06T00:00:00\", \"2020-12-07T00:00:00\", \"2020-12-08T00:00:00\", \"2020-12-09T00:00:00\", \"2020-12-10T00:00:00\", \"2020-12-11T00:00:00\", \"2020-12-12T00:00:00\", \"2020-12-13T00:00:00\", \"2020-12-14T00:00:00\", \"2020-12-15T00:00:00\", \"2020-12-16T00:00:00\", \"2020-12-17T00:00:00\", \"2020-12-18T00:00:00\", \"2020-12-19T00:00:00\", \"2020-12-20T00:00:00\", \"2020-12-21T00:00:00\", \"2020-12-22T00:00:00\", \"2020-12-23T00:00:00\", \"2020-12-24T00:00:00\", \"2020-12-25T00:00:00\", \"2020-12-26T00:00:00\", \"2020-12-27T00:00:00\", \"2020-12-28T00:00:00\", \"2020-12-29T00:00:00\", \"2020-12-30T00:00:00\", \"2020-12-31T00:00:00\", \"2021-01-01T00:00:00\", \"2021-01-02T00:00:00\", \"2021-01-03T00:00:00\", \"2021-01-04T00:00:00\", \"2021-01-05T00:00:00\", \"2021-01-06T00:00:00\", \"2021-01-07T00:00:00\", \"2021-01-08T00:00:00\", \"2021-01-09T00:00:00\", \"2021-01-10T00:00:00\", \"2021-01-11T00:00:00\", \"2021-01-12T00:00:00\", \"2021-01-13T00:00:00\", \"2021-01-14T00:00:00\", \"2021-01-15T00:00:00\", \"2021-01-16T00:00:00\", \"2021-01-17T00:00:00\", \"2021-01-18T00:00:00\", \"2021-01-19T00:00:00\", \"2021-01-20T00:00:00\", \"2021-01-21T00:00:00\", \"2021-01-22T00:00:00\", \"2021-01-23T00:00:00\", \"2021-01-24T00:00:00\", \"2021-01-25T00:00:00\", \"2021-01-26T00:00:00\", \"2021-01-27T00:00:00\", \"2021-01-28T00:00:00\", \"2021-01-29T00:00:00\", \"2021-01-30T00:00:00\", \"2021-01-31T00:00:00\", \"2021-02-01T00:00:00\", \"2021-02-02T00:00:00\", \"2021-02-03T00:00:00\", \"2021-02-04T00:00:00\", \"2021-02-05T00:00:00\", \"2021-02-06T00:00:00\", \"2021-02-07T00:00:00\", \"2021-02-08T00:00:00\", \"2021-02-09T00:00:00\", \"2021-02-10T00:00:00\", \"2021-02-11T00:00:00\", \"2021-02-12T00:00:00\", \"2021-02-13T00:00:00\", \"2021-02-14T00:00:00\", \"2021-02-15T00:00:00\", \"2021-02-16T00:00:00\", \"2021-02-17T00:00:00\", \"2021-02-18T00:00:00\", \"2021-02-19T00:00:00\", \"2021-02-20T00:00:00\", \"2021-02-21T00:00:00\", \"2021-02-22T00:00:00\", \"2021-02-23T00:00:00\", \"2021-02-24T00:00:00\", \"2021-02-25T00:00:00\", \"2021-02-26T00:00:00\", \"2021-02-27T00:00:00\", \"2021-02-28T00:00:00\", \"2021-03-01T00:00:00\", \"2021-03-02T00:00:00\", \"2021-03-03T00:00:00\", \"2021-03-04T00:00:00\", \"2021-03-05T00:00:00\", \"2021-03-06T00:00:00\", \"2021-03-07T00:00:00\", \"2021-03-08T00:00:00\", \"2021-03-09T00:00:00\", \"2021-03-10T00:00:00\", \"2021-03-11T00:00:00\", \"2021-03-12T00:00:00\", \"2021-03-13T00:00:00\", \"2021-03-14T00:00:00\", \"2021-03-15T00:00:00\", \"2021-03-16T00:00:00\", \"2021-03-17T00:00:00\", \"2021-03-18T00:00:00\", \"2021-03-19T00:00:00\", \"2021-03-20T00:00:00\", \"2021-03-21T00:00:00\", \"2021-03-22T00:00:00\", \"2021-03-23T00:00:00\", \"2021-03-24T00:00:00\", \"2021-03-25T00:00:00\", \"2021-03-26T00:00:00\", \"2021-03-27T00:00:00\", \"2021-03-28T00:00:00\", \"2021-03-29T00:00:00\", \"2021-03-30T00:00:00\", \"2021-03-31T00:00:00\", \"2021-04-01T00:00:00\", \"2021-04-02T00:00:00\", \"2021-04-03T00:00:00\", \"2021-04-04T00:00:00\", \"2021-04-05T00:00:00\", \"2021-04-06T00:00:00\", \"2021-04-07T00:00:00\", \"2021-04-08T00:00:00\", \"2021-04-09T00:00:00\", \"2021-04-10T00:00:00\", \"2021-04-11T00:00:00\", \"2021-04-12T00:00:00\", \"2021-04-13T00:00:00\", \"2021-04-14T00:00:00\", \"2021-04-15T00:00:00\", \"2021-04-16T00:00:00\", \"2021-04-17T00:00:00\", \"2021-04-18T00:00:00\", \"2021-04-19T00:00:00\", \"2021-04-20T00:00:00\", \"2021-04-21T00:00:00\", \"2021-04-22T00:00:00\", \"2021-04-23T00:00:00\", \"2021-04-24T00:00:00\", \"2021-04-25T00:00:00\", \"2021-04-26T00:00:00\", \"2021-04-27T00:00:00\", \"2021-04-28T00:00:00\", \"2021-04-29T00:00:00\", \"2021-04-30T00:00:00\", \"2021-05-01T00:00:00\", \"2021-05-02T00:00:00\", \"2021-05-03T00:00:00\", \"2021-05-04T00:00:00\", \"2021-05-05T00:00:00\", \"2021-05-06T00:00:00\", \"2021-05-07T00:00:00\", \"2021-05-08T00:00:00\", \"2021-05-09T00:00:00\", \"2021-05-10T00:00:00\", \"2021-05-11T00:00:00\", \"2021-05-12T00:00:00\", \"2021-05-13T00:00:00\", \"2021-05-14T00:00:00\", \"2021-05-15T00:00:00\", \"2021-05-16T00:00:00\", \"2021-05-17T00:00:00\", \"2021-05-18T00:00:00\", \"2021-05-19T00:00:00\", \"2021-05-20T00:00:00\", \"2021-05-21T00:00:00\", \"2021-05-22T00:00:00\", \"2021-05-23T00:00:00\", \"2021-05-24T00:00:00\", \"2021-05-25T00:00:00\", \"2021-05-26T00:00:00\", \"2021-05-27T00:00:00\", \"2021-05-28T00:00:00\", \"2021-05-29T00:00:00\", \"2021-05-30T00:00:00\", \"2021-05-31T00:00:00\", \"2021-06-01T00:00:00\", \"2021-06-02T00:00:00\", \"2021-06-03T00:00:00\", \"2021-06-04T00:00:00\", \"2021-06-05T00:00:00\", \"2021-06-06T00:00:00\", \"2021-06-07T00:00:00\", \"2021-06-08T00:00:00\", \"2021-06-09T00:00:00\", \"2021-06-10T00:00:00\", \"2021-06-11T00:00:00\", \"2021-06-12T00:00:00\", \"2021-06-13T00:00:00\", \"2021-06-14T00:00:00\", \"2021-06-15T00:00:00\", \"2021-06-16T00:00:00\", \"2021-06-17T00:00:00\", \"2021-06-18T00:00:00\", \"2021-06-19T00:00:00\", \"2021-06-20T00:00:00\", \"2021-06-21T00:00:00\", \"2021-06-22T00:00:00\", \"2021-06-23T00:00:00\", \"2021-06-24T00:00:00\", \"2021-06-25T00:00:00\", \"2021-06-26T00:00:00\", \"2021-06-27T00:00:00\", \"2021-06-28T00:00:00\", \"2021-06-29T00:00:00\", \"2021-06-30T00:00:00\", \"2021-07-01T00:00:00\", \"2021-07-02T00:00:00\", \"2021-07-03T00:00:00\", \"2021-07-04T00:00:00\", \"2021-07-05T00:00:00\", \"2021-07-06T00:00:00\", \"2021-07-07T00:00:00\", \"2021-07-08T00:00:00\", \"2021-07-09T00:00:00\", \"2021-07-10T00:00:00\", \"2021-07-11T00:00:00\", \"2021-07-12T00:00:00\", \"2021-07-13T00:00:00\", \"2021-07-14T00:00:00\", \"2021-07-15T00:00:00\", \"2021-07-16T00:00:00\", \"2021-07-17T00:00:00\", \"2021-07-18T00:00:00\", \"2021-07-19T00:00:00\", \"2021-07-20T00:00:00\", \"2021-07-21T00:00:00\", \"2021-07-22T00:00:00\", \"2021-07-23T00:00:00\", \"2021-07-24T00:00:00\", \"2021-07-25T00:00:00\", \"2021-07-26T00:00:00\", \"2021-07-27T00:00:00\", \"2021-07-28T00:00:00\", \"2021-07-29T00:00:00\", \"2021-07-30T00:00:00\", \"2021-07-31T00:00:00\", \"2021-08-01T00:00:00\", \"2021-08-02T00:00:00\", \"2021-08-03T00:00:00\", \"2021-08-04T00:00:00\", \"2021-08-05T00:00:00\", \"2021-08-06T00:00:00\", \"2021-08-07T00:00:00\", \"2021-08-08T00:00:00\", \"2021-08-09T00:00:00\", \"2021-08-10T00:00:00\", \"2021-08-11T00:00:00\", \"2021-08-12T00:00:00\", \"2021-08-13T00:00:00\", \"2021-08-14T00:00:00\", \"2021-08-15T00:00:00\", \"2021-08-16T00:00:00\", \"2021-08-17T00:00:00\", \"2021-08-18T00:00:00\", \"2021-08-19T00:00:00\", \"2021-08-20T00:00:00\", \"2021-08-21T00:00:00\", \"2021-08-22T00:00:00\", \"2021-08-23T00:00:00\", \"2021-08-24T00:00:00\", \"2021-08-25T00:00:00\", \"2021-08-26T00:00:00\", \"2021-08-27T00:00:00\", \"2021-08-28T00:00:00\", \"2021-08-29T00:00:00\", \"2021-08-30T00:00:00\", \"2021-08-31T00:00:00\", \"2021-09-01T00:00:00\", \"2021-09-02T00:00:00\", \"2021-09-03T00:00:00\", \"2021-09-04T00:00:00\", \"2021-09-05T00:00:00\", \"2021-09-06T00:00:00\", \"2021-09-07T00:00:00\", \"2021-09-08T00:00:00\", \"2021-09-09T00:00:00\", \"2021-09-10T00:00:00\", \"2021-09-11T00:00:00\", \"2021-09-12T00:00:00\", \"2021-09-13T00:00:00\", \"2021-09-14T00:00:00\", \"2021-09-15T00:00:00\", \"2021-09-16T00:00:00\", \"2021-09-17T00:00:00\", \"2021-09-18T00:00:00\", \"2021-09-19T00:00:00\", \"2021-09-20T00:00:00\", \"2021-09-21T00:00:00\", \"2021-09-22T00:00:00\", \"2021-09-23T00:00:00\", \"2021-09-24T00:00:00\", \"2021-09-25T00:00:00\", \"2021-09-26T00:00:00\", \"2021-09-27T00:00:00\", \"2021-09-28T00:00:00\", \"2021-09-29T00:00:00\", \"2021-09-30T00:00:00\", \"2021-10-01T00:00:00\", \"2021-10-02T00:00:00\", \"2021-10-03T00:00:00\", \"2021-10-04T00:00:00\", \"2021-10-05T00:00:00\", \"2021-10-06T00:00:00\", \"2021-10-07T00:00:00\", \"2021-10-08T00:00:00\", \"2021-10-09T00:00:00\", \"2021-10-10T00:00:00\", \"2021-10-11T00:00:00\", \"2021-10-12T00:00:00\", \"2021-10-13T00:00:00\", \"2021-10-14T00:00:00\", \"2021-10-15T00:00:00\", \"2021-10-16T00:00:00\", \"2021-10-17T00:00:00\", \"2021-10-18T00:00:00\", \"2021-10-19T00:00:00\", \"2021-10-20T00:00:00\", \"2021-10-21T00:00:00\", \"2021-10-22T00:00:00\", \"2021-10-23T00:00:00\", \"2021-10-24T00:00:00\", \"2021-10-25T00:00:00\"], \"y\": [71.47974929370821, 77.22230113715592, 76.57604393706892, 73.4807323279837, 83.5154829913184, 83.33868025875856, 83.84997636076498, 77.4903109256496, 77.01796528847399, 76.65989840443206, 73.38081326198811, 88.80162498552885, 86.25020973621632, 89.27689472750717, 74.61335495027087, 80.48642456386044, 89.36668007157554, 80.1706063018298, 93.39163918889416, 89.33182829823525, 85.48553763000996, 86.03306807933726, 81.37494665607821, 79.18335760386064, 81.5542846356982, 101.53889891580027, 90.81622328026629, 91.73467354170285, 84.66237180510862, 82.92256600837341, 86.84856082125742, 89.16726708502281, 98.50344532625043, 97.52006558362241, 91.98103800396754, 92.99927018311301, 91.88526665181145, 87.94979500062851, 90.2067557545464, 104.14200041726333, 98.45039546459752, 100.80953366632036, 94.79194406780954, 100.66653168070751, 96.37377780165086, 95.07434779164755, 108.32249551061142, 106.28197078559049, 102.29383625128276, 92.75986200521619, 92.43660069875159, 103.5956511040392, 97.80292072588107, 106.00641408873383, 109.37214472427571, 104.26299166936607, 104.36853756430204, 101.2699398420683, 106.43267994190445, 98.4138666855837, 110.49741933473481, 108.00250179507576, 107.72604746418509, 102.83882024916261, 109.11136304580647, 104.889741973842, 107.72241967706833, 117.1335694708861, 113.73125855413754, 111.09999972160296, 109.27143550555941, 105.07957848069975, 115.57565932864875, 110.31007483563855, 119.31921797514073, 122.00587427382946, 115.89907939048909, 110.97671705073972, 112.71528191986802, 111.3487216281957, 108.99568149362133, 128.319983959939, 119.56925744485136, 119.34706297522916, 113.8642695059111, 115.45933944591589, 122.29821418446797, 118.454013304887, 125.01156861486093, 125.61097590730726, 121.97399377711761, 115.96746386639961, 118.3527282712893, 123.9504246991728, 118.62598644280328, 134.05845352892388, 129.21345222692304, 128.9605303558472, 123.16398371214736, 121.33880824302152, 128.71054755384293, 128.06266717653696, 139.25810845584175, 136.7177879495806, 129.35778525778477, 120.16533038165042, 127.12974420796492, 129.61337864514928, 123.0901497957164, 133.67787825168278, 132.41790891454855, 135.72991102522442, 133.29925778864992, 131.86297876434995, 134.01531619663626, 132.1486362808251, 140.55899062639, 140.2980308643361, 138.2520337597281, 136.29441242058527, 136.88003886643756, 133.12631106579195, 132.7485336541506, 146.25425809158784, 146.58077629647934, 143.11696615587582, 136.5686564671843, 142.0804193928866, 138.39694893881375, 135.24170558797573, 145.62241824020526, 149.52722662078804, 148.85972635933575, 138.56230227736643, 137.0525695287842, 144.4779690190532, 140.93342101119632, 153.9634382531751, 151.5346409522255, 152.6128845015749, 142.98357423626896, 145.45764748892404, 157.07426423169676, 147.6957573834088, 154.7673193647117, 156.77633493352945, 152.19606097358937, 150.73825293812638, 147.93333008387873, 154.71312216918895, 155.4208410556127, 163.2170394475158, 160.0113355739981, 154.37326668293528, 150.9351128798136, 149.54184063575659, 152.78715097479954, 156.89654640225748, 162.73445451115415, 165.84221012707812, 159.8658647391584, 155.03543929247823, 160.27428718724417, 158.36702777878543, 158.41606667494887, 165.11239761734478, 168.91865506203402, 167.36254804840885, 158.01452605535877, 165.8328471223433, 163.75110012698292, 157.89485281863534, 173.18415116858156, 171.39249173291367, 165.53511091386665, 164.0410923715855, 159.8376037821569, 164.7046561003649, 168.41672389783335, 178.6356454183021, 174.41098388932264, 161.74285668525073, 164.4099263616191, 163.46028697538094, 167.8585898575451, 168.59751129549798, 176.92719135081703, 177.72803606536183, 174.65976557332013, 168.12267122201686, 167.7453955880784, 169.97872705267724, 170.30494366568752, 185.7863621027402, 180.87346418290358, 176.63306643905818, 172.7939917060377, 170.53835361347768, 172.01481499036885, 170.36027912263484, 185.83639073515934, 179.93757148113053, 181.4129635475964, 172.10915706668177, 174.64893063824812, 175.19933581064254, 177.77072492885134, 181.35254539402936, 184.9108118898412, 180.11131378163412, 179.63874661896133, 184.76591229002258, 180.63952223597735, 182.1872548649515, 187.0533497684672, 180.89327779744877, 183.56268983992243, 183.18718812589813, 180.62107887185013, 183.94024387206244, 185.22995289031687, 186.4866851224764, 189.2620022986343, 188.1090932522058, 184.34206646867707, 182.65190077060913, 186.98286733800725, 180.29084006891017, 196.28211271462536, 194.49912467251173, 195.3122492425285, 185.49842943984194, 184.34243681887455, 192.04730994173354, 189.40260082685947, 198.44303074974607, 194.5862243233666, 191.52395411766145, 187.68480806894007, 190.22074481398826, 193.65266888459828, 187.45500407314304, 199.70040457275744, 201.38611274822924, 199.82764629949583, 191.6107713233373, 192.33383662431416, 202.03467935983497, 196.93324982116297, 204.01182479522302, 201.7526548529065, 202.42887453440125, 192.2272659612261, 197.8279310435263, 196.25298041795074, 196.0045805294572, 206.5207196718427, 206.84127876029964, 204.76933816773496, 198.5651138765003, 199.75184116772527, 202.16094856594336, 195.00291479363403, 209.76207755521966, 209.14741580329112, 205.2794700481045, 196.7055388202829, 201.63689799748786, 208.23947194842887, 207.95311234367304, 214.56046643026227, 213.2661024964067, 208.44435806062964, 205.45599062439584, 202.6189886958208, 201.4339240200616, 205.2701181950417, 210.25034683954547, 213.1123187922567, 209.2541084922264, 209.35318353212114, 207.54464036137796, 210.949248535699, 204.5775446802411, 219.03993842878276, 215.29770337072057, 216.04351873889095, 214.142018120286, 207.73602727561325, 212.73872083576063, 208.49795986626913, 222.84262327674955, 216.85916437149146, 217.38898889635848, 211.11101963362495, 212.88529729525584, 215.41781908461698, 215.56960471733925, 222.62319418894063, 220.93613842940923, 224.55315408134328, 213.44765634646004, 215.63274013855744, 217.29865055417713, 217.5076757696925, 224.5697461563353, 224.94450808655674, 221.66896430030266, 213.37770679289045, 218.6288440143383, 224.35161216178759, 219.48219161619315, 230.94077265456687, 225.91853174492002, 219.72272351365035, 219.62506388936197, 216.28850102031527, 221.88733939621883, 222.56174939083166, 234.47068337891116, 227.86090257279693, 232.62560236629173, 220.37779121194504, 228.79511577898745, 227.52400002565543, 225.10308417182617, 236.4197768291007, 232.19400965230795, 234.4231137043289, 228.24527241733153, 225.54806886794643, 228.82436228534723, 224.04945206013699, 233.6139327641529, 234.7168363665291, 230.56812914423392, 222.21791287792092, 231.46971864883534, 229.59731077483676, 226.24361374092612, 238.35563843539543, 239.79992741068915, 229.34747400973296, 226.84442862538194, 229.5994704920623, 229.1979791598499, 223.22556583890588, 240.49384744191036, 237.13061498313408, 234.32487085156873, 225.4562551057786, 225.84045267027793, 227.9588912311906, 227.81192911285572, 239.90553831474494, 242.7967624586157, 234.70410284038437, 232.94632033551642, 233.8250662570557, 237.10961815049947, 228.52999498996653, 240.62643749602847, 235.1221002411039, 238.07744165705648, 227.87726281549237, 226.9217381331674, 233.80695875826373, 228.66685753431724, 243.27385628172647, 238.72374976227383, 236.35877117155812, 232.72323803353746, 231.30478311448763, 234.67550312130862, 232.13949736277996, 243.36019871733953, 243.9003597262077, 246.72787026232888, 233.71606734254243, 240.19783318382378, 239.90107118283152, 233.41406047765986, 243.71163318766025, 242.61661696711462, 242.08843621851597, 234.63269836583217, 230.6571917978338, 241.69451740528132, 235.42271518985848, 242.10670133020574, 243.9705794511154, 240.07848631431136, 233.22734576262616, 235.15501196272584, 239.66242995333448, 235.82964703516373, 241.40230955168272, 243.9525695821797, 243.7301255195355, 237.13885796873083, 234.25319800978258, 239.3504149835669, 236.70822542984325, 246.8806369029918, 241.4033347781098, 238.129019128665, 232.2974658679177, 234.98961859943066, 234.80540644635698, 238.78567556774883, 242.95317609470848, 247.07575328960124, 239.1310575561447, 241.74181297053062, 239.05020933589174, 238.72212708430865, 239.53197068507558, 245.73900710663494, 242.63133663380796, 247.14974154831225, 237.6676868111755, 237.24745700976646, 239.92241645842915, 239.568311256458, 250.14036465403584, 249.062739300848, 244.35603738886152, 241.61867419472426, 236.84899066716994, 239.6313962709479, 237.75891539011354, 243.95333416416543, 250.38794434329523, 246.80363351634088, 235.4328986371022, 242.5664109576883, 242.40670868325034, 243.76878956166004, 245.3412610278138, 249.34020198933746, 240.1785454917656, 243.50661267263465, 240.19280053471772, 239.99392861338657, 239.68063015075813, 254.62156784525922, 252.84483836424977, 243.49761912563147, 237.33363624176826, 243.43216337241304, 239.96306477616025, 239.68135638432264, 251.0753120165478, 249.20712319999106, 245.08333756269593, 244.34669338517907, 246.1514225343506, 251.50627669005283, 243.26221673975857, 252.59508272864818, 248.3138453709646, 245.82386837618498, 245.11273686121754, 243.335804501526, 243.50388614346704, 236.92095343518554, 251.20046250511223, 253.4027377756998, 249.6057517020783, 244.70968230894078, 245.20461047739303, 247.18992400742783, 239.86570112826368, 255.10361332425268, 252.29073167573222, 248.2308125212528, 244.61895227141858, 239.02529799828653, 243.05337748991641, 238.93107090686698, 254.34537336728653, 251.78645785049247, 249.9093990795472, 247.89590946141848, 238.5587249066155, 240.99791087743017, 244.3020246945572, 254.13902715074073, 251.806572695884, 252.13446266653582, 242.01952070450747, 243.42634142044642, 244.32513135403713, 248.1443079917257, 252.1776457484345, 252.26646584326983, 250.11494756608806, 248.29113675531983, 252.3212962233698, 247.86654830536753, 247.46990855152097, 256.5999418636686, 259.852021027947, 249.77312014603962, 245.68011576356696, 244.09929493833616, 250.42917645424816, 242.51743614649575, 255.1506259629996, 249.8897156741269, 257.39365720312844, 247.96328334593213, 246.45237343300738, 249.1684828842104, 247.83523087376517, 259.2840446946759, 250.2624543440227, 251.54677340873715, 251.39353804956247, 250.06343911920746, 254.3316693202931, 246.79235575937793, 261.9477069777484, 258.79415524656395, 257.0867491190895, 247.9780475879444, 254.33375815462205, 251.0616376192154, 244.72064759331045, 259.6247204019342, 257.8643995561722, 254.6890800596319, 245.939408164803, 251.41829965447465, 257.0052297013153, 249.79743943318638, 258.2438586638447, 255.30880992667207, 253.4083481053847, 251.15831415677056, 249.46080131345173, 253.03787085992417, 252.37017038598802, 256.11209118166715, 257.3759169418453, 257.3423945031216, 250.34177188041866, 248.7359500879006, 253.6459814902421, 252.06820764945968, 262.242536547791, 261.42801322144226, 254.8796391226449, 250.95546458675142, 253.50915632804487, 249.57820847803006, 251.4043014820474, 261.129626087911, 261.0685813610155, 259.6705727447456, 257.06331729338734, 256.2703828515372, 253.4991076774093, 251.04419769267432, 258.68588448328114, 261.044811405825, 259.39376469356955, 251.49716835814834, 255.67702771489917, 256.82752950164445, 254.92296085040334, 261.1861150599633, 258.1652881396226, 259.71637219407785, 256.90848412404455, 257.2086319769846, 258.4759556733667, 254.90518099846318, 262.0649408959682, 263.37634139912234, 256.04219689960615, 254.50586054631097, 252.00276941292333, 259.63359107687546, 255.85991570606373, 266.828129663057, 260.2076731029254, 260.5279494441344, 251.30900056507593, 253.1631350543979, 256.4876450973595, 255.93010099227135, 260.2182864700536, 262.54730151847014, 261.335524118366, 259.86614631305656, 261.08216057195517, 254.37960004841463, 252.95250185635726, 264.9008805331503, 262.8890067312864, 261.8056559655542, 256.23713361607315, 253.32838918947672, 256.65567436724075, 251.75857019975956, 264.85310710039903, 264.48555614505136, 260.7270106597272, 253.08747360818396, 255.7450415000535, 259.7675164844202, 258.3492170928853, 269.0409122258885, 261.00122674920715, 267.4099903626952, 257.9598751960489, 255.6960769268085, 253.80503340216745, 259.2818432433419, 267.488648875854, 266.46778706426585, 265.3977153549817, 255.38137508816754, 255.95923192262302, 262.0405549760011, 256.8344131085424, 267.8757073071701, 269.64778102631044, 263.44792851143023, 259.9451652212608, 261.77432621693765, 261.8955031623803, 261.9387147928768, 264.97409559751105, 269.3958885439486, 264.7315388983882, 261.5492170345902, 261.0488343741457, 261.7412701417036, 260.0096571038966, 267.2469369404422, 268.2839988337377, 265.81476297842175, 261.49844877864086, 261.3897848900272, 258.9144731816272, 253.7841614419286, 275.3575581243005, 265.796283440059, 263.3995359189217, 257.29699403937343, 263.18608338505675, 266.3963550532249, 258.4642046549143, 270.73287536306043, 268.0921509912234, 270.48636866531945, 264.40917315175403, 263.5160686127771, 266.90686249100406, 263.92923249111715, 271.5413149027328, 270.56048839859307, 267.67308259939404, 262.7397600489216, 267.3399258060175, 265.48216263826487, 265.4988136021824, 270.3126577332852, 270.4079323836227, 268.72226084059594, 261.0115102654406, 267.0256691078131, 267.0651174387562, 265.56490879698003, 274.91986455251333, 274.34060470337505, 269.71412528828563, 262.38834123091544, 262.8088417018547, 268.13681954794674, 271.7143579737433, 271.2353154842119, 275.24203777321605, 263.85845735444866, 263.0858441457977, 270.4076017515854, 268.4722444009361, 265.93460383813454, 277.2397110389746, 274.5434931315983, 270.95386972083264, 265.12256332948937, 266.6710120212831, 266.53435149041013, 271.5452072940413, 279.14991378371866, 273.16081997651264, 274.7902770790424, 266.06680761434586, 267.5071766554365, 272.0620804293615, 268.9070682388891, 279.22502052886375, 277.9375445981443, 272.0136585737893, 267.33549701509776, 271.2933727788423, 267.2691600871562, 266.50536742423446, 277.8012197746725, 276.144295663239, 274.4914063843356, 269.03038362604104, 269.7372893802585, 268.86056255309734, 271.86862662559565, 277.38386290620105, 278.4719754579775, 275.9743000341974, 262.78620521145945, 267.61341314461856, 268.34336821915207, 269.52883555968367, 278.51668759760855, 275.92745408429346, 270.10977873087614, 273.5466996450881, 271.2086173931642, 270.517172328423, 272.1147079527151, 282.4402919168071, 279.06107637405165, 270.77129680801863, 274.24083279610056, 269.72145882650744, 274.90173792533574, 273.67804135004303, 281.2420977967635, 283.4449177781493, 280.0687978915006, 269.98714624305927, 275.4082812351894, 272.0433910876444, 274.85041819339136, 281.83718470375106, 278.5467681797467, 276.73285010673055, 270.8912993281513, 272.0856599033633, 269.8922080171142, 272.60069284366483, 286.32982247566554, 279.5657806993411, 275.1904880676537, 269.6925227059059, 271.006271980811, 270.1638329211502, 274.27141299504035, 285.2383002160716, 280.6825059879567, 276.37025689674215, 274.61799101295657, 276.020147216853, 277.0003512690302, 275.52113600155025, 285.3301949386386, 289.12085282049696, 276.32961325488037, 273.9268888317619, 275.1806296103599, 273.8853110744361, 277.8631341644906, 287.58240788538006, 283.21189712222576, 281.48232163852526, 273.6334415814542, 270.1064051870982, 278.4453658217161, 277.1639030249469, 284.84561562833517, 287.76660420061484, 284.0672258888789, 276.7410334455426, 276.7001649343256, 277.5088790176532, 274.70379992403264, 287.88846995644985, 285.83265068781367, 281.95498154126983, 280.98626143092343, 279.38438174044046, 277.4938090486105, 277.2453066609941, 288.79875981617107, 286.22939029908804, 282.8742970988783, 278.82898297155765, 281.10223846810374, 278.02844111000076, 279.80126396456, 288.2849123851129, 287.00302786718765, 285.93581964382315, 282.08132030067316, 277.0533516080203, 280.2151914443196, 280.2546881287672, 284.4094044688165, 282.20369672224643, 286.6820929089279, 277.55685296411383, 276.1151073142753, 283.2057026767299, 280.89669667984435, 291.33234732687094, 284.49796845748847, 287.64213170228004, 285.0308334990748, 280.29796547626586, 282.39660310935, 277.41710947031396, 291.1303284816221, 286.822120611648, 284.0107635323695, 283.7612303356642, 286.73688427375447, 284.3081485863197, 280.9046747399464, 289.65240304843053, 292.33389494693796, 289.51686407110265, 285.4057834363731, 285.9122593043338, 282.15732078051235, 283.80449970450354, 287.8828677961052, 291.7967816066617, 283.1691925845812, 285.3717657739215, 287.7677754444216, 285.48910098843356, 284.2678483057769, 290.4503728233886, 294.5115811185013, 292.680982814961, 283.4757644863333, 288.9642279392434, 286.28850580583367, 285.28199564861694, 289.5882875014111, 293.6515187105613, 290.44715837619975, 282.39221912726526, 288.2186945899114, 284.76358019827376, 286.54361768375855, 292.56890652837757, 293.23097628227157, 291.4243120859448, 281.1822490765943, 286.34953740558313, 286.81766794526004, 286.30113963780326, 298.3891565671197, 293.5490259841642, 292.04543226495423, 289.65504828520875, 284.16105416626874, 282.68339889148416, 281.9317056993485, 296.3844161596358, 292.884346256285, 297.7408629440599, 288.49107502730936, 283.21131675739565, 288.89459701593415, 288.3957764276938, 298.5339507072134, 297.74126959802373, 294.35811078294273, 289.2199429753962, 295.6972570046087, 292.43530985612284, 291.25502721099974, 294.2022060540722, 295.28671762858437, 299.1151853372375, 288.2633040849831, 291.6696180321528, 293.2707961129102, 290.3353229152009, 298.0167730275232, 298.53185599353424, 294.08843291949114, 292.8101125320547, 293.373094742477, 297.33886521097713, 294.9598705400041, 305.0308528414702, 300.10730413573566, 297.4625226162712, 290.83874244434264, 291.858377796437, 291.49963969145506, 293.8084828941437]}],\n",
              "                        {\"height\": 600, \"showlegend\": false, \"template\": {\"data\": {\"bar\": [{\"error_x\": {\"color\": \"#2a3f5f\"}, \"error_y\": {\"color\": \"#2a3f5f\"}, \"marker\": {\"line\": {\"color\": \"#E5ECF6\", \"width\": 0.5}}, \"type\": \"bar\"}], \"barpolar\": [{\"marker\": {\"line\": {\"color\": \"#E5ECF6\", \"width\": 0.5}}, \"type\": \"barpolar\"}], \"carpet\": [{\"aaxis\": {\"endlinecolor\": \"#2a3f5f\", \"gridcolor\": \"white\", \"linecolor\": \"white\", \"minorgridcolor\": \"white\", \"startlinecolor\": \"#2a3f5f\"}, \"baxis\": {\"endlinecolor\": \"#2a3f5f\", \"gridcolor\": \"white\", \"linecolor\": \"white\", \"minorgridcolor\": \"white\", \"startlinecolor\": \"#2a3f5f\"}, \"type\": \"carpet\"}], \"choropleth\": [{\"colorbar\": {\"outlinewidth\": 0, \"ticks\": \"\"}, \"type\": \"choropleth\"}], \"contour\": [{\"colorbar\": {\"outlinewidth\": 0, \"ticks\": \"\"}, \"colorscale\": [[0.0, \"#0d0887\"], [0.1111111111111111, \"#46039f\"], [0.2222222222222222, \"#7201a8\"], [0.3333333333333333, \"#9c179e\"], [0.4444444444444444, \"#bd3786\"], [0.5555555555555556, \"#d8576b\"], [0.6666666666666666, \"#ed7953\"], [0.7777777777777778, \"#fb9f3a\"], [0.8888888888888888, \"#fdca26\"], [1.0, \"#f0f921\"]], \"type\": \"contour\"}], \"contourcarpet\": [{\"colorbar\": {\"outlinewidth\": 0, \"ticks\": \"\"}, \"type\": \"contourcarpet\"}], \"heatmap\": [{\"colorbar\": {\"outlinewidth\": 0, \"ticks\": \"\"}, \"colorscale\": [[0.0, \"#0d0887\"], [0.1111111111111111, \"#46039f\"], [0.2222222222222222, \"#7201a8\"], [0.3333333333333333, \"#9c179e\"], [0.4444444444444444, \"#bd3786\"], [0.5555555555555556, \"#d8576b\"], [0.6666666666666666, \"#ed7953\"], [0.7777777777777778, \"#fb9f3a\"], [0.8888888888888888, \"#fdca26\"], [1.0, \"#f0f921\"]], \"type\": \"heatmap\"}], \"heatmapgl\": [{\"colorbar\": {\"outlinewidth\": 0, \"ticks\": \"\"}, \"colorscale\": [[0.0, \"#0d0887\"], [0.1111111111111111, \"#46039f\"], [0.2222222222222222, \"#7201a8\"], [0.3333333333333333, \"#9c179e\"], [0.4444444444444444, \"#bd3786\"], [0.5555555555555556, \"#d8576b\"], [0.6666666666666666, \"#ed7953\"], [0.7777777777777778, \"#fb9f3a\"], [0.8888888888888888, \"#fdca26\"], [1.0, \"#f0f921\"]], \"type\": \"heatmapgl\"}], \"histogram\": [{\"marker\": {\"colorbar\": {\"outlinewidth\": 0, \"ticks\": \"\"}}, \"type\": \"histogram\"}], \"histogram2d\": [{\"colorbar\": {\"outlinewidth\": 0, \"ticks\": \"\"}, \"colorscale\": [[0.0, \"#0d0887\"], [0.1111111111111111, \"#46039f\"], [0.2222222222222222, \"#7201a8\"], [0.3333333333333333, \"#9c179e\"], [0.4444444444444444, \"#bd3786\"], [0.5555555555555556, \"#d8576b\"], [0.6666666666666666, \"#ed7953\"], [0.7777777777777778, \"#fb9f3a\"], [0.8888888888888888, \"#fdca26\"], [1.0, \"#f0f921\"]], \"type\": \"histogram2d\"}], \"histogram2dcontour\": [{\"colorbar\": {\"outlinewidth\": 0, \"ticks\": \"\"}, \"colorscale\": [[0.0, \"#0d0887\"], [0.1111111111111111, \"#46039f\"], [0.2222222222222222, \"#7201a8\"], [0.3333333333333333, \"#9c179e\"], [0.4444444444444444, \"#bd3786\"], [0.5555555555555556, \"#d8576b\"], [0.6666666666666666, \"#ed7953\"], [0.7777777777777778, \"#fb9f3a\"], [0.8888888888888888, \"#fdca26\"], [1.0, \"#f0f921\"]], \"type\": \"histogram2dcontour\"}], \"mesh3d\": [{\"colorbar\": {\"outlinewidth\": 0, \"ticks\": \"\"}, \"type\": \"mesh3d\"}], \"parcoords\": [{\"line\": {\"colorbar\": {\"outlinewidth\": 0, \"ticks\": \"\"}}, \"type\": \"parcoords\"}], \"pie\": [{\"automargin\": true, \"type\": \"pie\"}], \"scatter\": [{\"marker\": {\"colorbar\": {\"outlinewidth\": 0, \"ticks\": \"\"}}, \"type\": \"scatter\"}], \"scatter3d\": [{\"line\": {\"colorbar\": {\"outlinewidth\": 0, \"ticks\": \"\"}}, \"marker\": {\"colorbar\": {\"outlinewidth\": 0, \"ticks\": \"\"}}, \"type\": \"scatter3d\"}], \"scattercarpet\": [{\"marker\": {\"colorbar\": {\"outlinewidth\": 0, \"ticks\": \"\"}}, \"type\": \"scattercarpet\"}], \"scattergeo\": [{\"marker\": {\"colorbar\": {\"outlinewidth\": 0, \"ticks\": \"\"}}, \"type\": \"scattergeo\"}], \"scattergl\": [{\"marker\": {\"colorbar\": {\"outlinewidth\": 0, \"ticks\": \"\"}}, \"type\": \"scattergl\"}], \"scattermapbox\": [{\"marker\": {\"colorbar\": {\"outlinewidth\": 0, \"ticks\": \"\"}}, \"type\": \"scattermapbox\"}], \"scatterpolar\": [{\"marker\": {\"colorbar\": {\"outlinewidth\": 0, \"ticks\": \"\"}}, \"type\": \"scatterpolar\"}], \"scatterpolargl\": [{\"marker\": {\"colorbar\": {\"outlinewidth\": 0, \"ticks\": \"\"}}, \"type\": \"scatterpolargl\"}], \"scatterternary\": [{\"marker\": {\"colorbar\": {\"outlinewidth\": 0, \"ticks\": \"\"}}, \"type\": \"scatterternary\"}], \"surface\": [{\"colorbar\": {\"outlinewidth\": 0, \"ticks\": \"\"}, \"colorscale\": [[0.0, \"#0d0887\"], [0.1111111111111111, \"#46039f\"], [0.2222222222222222, \"#7201a8\"], [0.3333333333333333, \"#9c179e\"], [0.4444444444444444, \"#bd3786\"], [0.5555555555555556, \"#d8576b\"], [0.6666666666666666, \"#ed7953\"], [0.7777777777777778, \"#fb9f3a\"], [0.8888888888888888, \"#fdca26\"], [1.0, \"#f0f921\"]], \"type\": \"surface\"}], \"table\": [{\"cells\": {\"fill\": {\"color\": \"#EBF0F8\"}, \"line\": {\"color\": \"white\"}}, \"header\": {\"fill\": {\"color\": \"#C8D4E3\"}, \"line\": {\"color\": \"white\"}}, \"type\": \"table\"}]}, \"layout\": {\"annotationdefaults\": {\"arrowcolor\": \"#2a3f5f\", \"arrowhead\": 0, \"arrowwidth\": 1}, \"coloraxis\": {\"colorbar\": {\"outlinewidth\": 0, \"ticks\": \"\"}}, \"colorscale\": {\"diverging\": [[0, \"#8e0152\"], [0.1, \"#c51b7d\"], [0.2, \"#de77ae\"], [0.3, \"#f1b6da\"], [0.4, \"#fde0ef\"], [0.5, \"#f7f7f7\"], [0.6, \"#e6f5d0\"], [0.7, \"#b8e186\"], [0.8, \"#7fbc41\"], [0.9, \"#4d9221\"], [1, \"#276419\"]], \"sequential\": [[0.0, \"#0d0887\"], [0.1111111111111111, \"#46039f\"], [0.2222222222222222, \"#7201a8\"], [0.3333333333333333, \"#9c179e\"], [0.4444444444444444, \"#bd3786\"], [0.5555555555555556, \"#d8576b\"], [0.6666666666666666, \"#ed7953\"], [0.7777777777777778, \"#fb9f3a\"], [0.8888888888888888, \"#fdca26\"], [1.0, \"#f0f921\"]], \"sequentialminus\": [[0.0, \"#0d0887\"], [0.1111111111111111, \"#46039f\"], [0.2222222222222222, \"#7201a8\"], [0.3333333333333333, \"#9c179e\"], [0.4444444444444444, \"#bd3786\"], [0.5555555555555556, \"#d8576b\"], [0.6666666666666666, \"#ed7953\"], [0.7777777777777778, \"#fb9f3a\"], [0.8888888888888888, \"#fdca26\"], [1.0, \"#f0f921\"]]}, \"colorway\": [\"#636efa\", \"#EF553B\", \"#00cc96\", \"#ab63fa\", \"#FFA15A\", \"#19d3f3\", \"#FF6692\", \"#B6E880\", \"#FF97FF\", \"#FECB52\"], \"font\": {\"color\": \"#2a3f5f\"}, \"geo\": {\"bgcolor\": \"white\", \"lakecolor\": \"white\", \"landcolor\": \"#E5ECF6\", \"showlakes\": true, \"showland\": true, \"subunitcolor\": \"white\"}, \"hoverlabel\": {\"align\": \"left\"}, \"hovermode\": \"closest\", \"mapbox\": {\"style\": \"light\"}, \"paper_bgcolor\": \"white\", \"plot_bgcolor\": \"#E5ECF6\", \"polar\": {\"angularaxis\": {\"gridcolor\": \"white\", \"linecolor\": \"white\", \"ticks\": \"\"}, \"bgcolor\": \"#E5ECF6\", \"radialaxis\": {\"gridcolor\": \"white\", \"linecolor\": \"white\", \"ticks\": \"\"}}, \"scene\": {\"xaxis\": {\"backgroundcolor\": \"#E5ECF6\", \"gridcolor\": \"white\", \"gridwidth\": 2, \"linecolor\": \"white\", \"showbackground\": true, \"ticks\": \"\", \"zerolinecolor\": \"white\"}, \"yaxis\": {\"backgroundcolor\": \"#E5ECF6\", \"gridcolor\": \"white\", \"gridwidth\": 2, \"linecolor\": \"white\", \"showbackground\": true, \"ticks\": \"\", \"zerolinecolor\": \"white\"}, \"zaxis\": {\"backgroundcolor\": \"#E5ECF6\", \"gridcolor\": \"white\", \"gridwidth\": 2, \"linecolor\": \"white\", \"showbackground\": true, \"ticks\": \"\", \"zerolinecolor\": \"white\"}}, \"shapedefaults\": {\"line\": {\"color\": \"#2a3f5f\"}}, \"ternary\": {\"aaxis\": {\"gridcolor\": \"white\", \"linecolor\": \"white\", \"ticks\": \"\"}, \"baxis\": {\"gridcolor\": \"white\", \"linecolor\": \"white\", \"ticks\": \"\"}, \"bgcolor\": \"#E5ECF6\", \"caxis\": {\"gridcolor\": \"white\", \"linecolor\": \"white\", \"ticks\": \"\"}}, \"title\": {\"x\": 0.05}, \"xaxis\": {\"automargin\": true, \"gridcolor\": \"white\", \"linecolor\": \"white\", \"ticks\": \"\", \"title\": {\"standoff\": 15}, \"zerolinecolor\": \"white\", \"zerolinewidth\": 2}, \"yaxis\": {\"automargin\": true, \"gridcolor\": \"white\", \"linecolor\": \"white\", \"ticks\": \"\", \"title\": {\"standoff\": 15}, \"zerolinecolor\": \"white\", \"zerolinewidth\": 2}}}, \"width\": 900, \"xaxis\": {\"rangeselector\": {\"buttons\": [{\"count\": 7, \"label\": \"1w\", \"step\": \"day\", \"stepmode\": \"backward\"}, {\"count\": 1, \"label\": \"1m\", \"step\": \"month\", \"stepmode\": \"backward\"}, {\"count\": 6, \"label\": \"6m\", \"step\": \"month\", \"stepmode\": \"backward\"}, {\"count\": 1, \"label\": \"1y\", \"step\": \"year\", \"stepmode\": \"backward\"}, {\"step\": \"all\"}]}, \"rangeslider\": {\"visible\": true}, \"title\": {\"text\": \"ds\"}, \"type\": \"date\"}, \"yaxis\": {\"title\": {\"text\": \"y\"}}},\n",
              "                        {\"responsive\": true}\n",
              "                    ).then(function(){\n",
              "                            \n",
              "var gd = document.getElementById('0a20e0cc-fe34-49f9-9983-8e00a1e8ec4f');\n",
              "var x = new MutationObserver(function (mutations, observer) {{\n",
              "        var display = window.getComputedStyle(gd).display;\n",
              "        if (!display || display === 'none') {{\n",
              "            console.log([gd, 'removed!']);\n",
              "            Plotly.purge(gd);\n",
              "            observer.disconnect();\n",
              "        }}\n",
              "}});\n",
              "\n",
              "// Listen for the removal of the full notebook cells\n",
              "var notebookContainer = gd.closest('#notebook-container');\n",
              "if (notebookContainer) {{\n",
              "    x.observe(notebookContainer, {childList: true});\n",
              "}}\n",
              "\n",
              "// Listen for the clearing of the current output cell\n",
              "var outputEl = gd.closest('.output');\n",
              "if (outputEl) {{\n",
              "    x.observe(outputEl, {childList: true});\n",
              "}}\n",
              "\n",
              "                        })\n",
              "                };\n",
              "                \n",
              "            </script>\n",
              "        </div>\n",
              "</body>\n",
              "</html>"
            ]
          },
          "metadata": {
            "tags": []
          }
        }
      ]
    },
    {
      "cell_type": "markdown",
      "metadata": {
        "id": "LfdHqz7wcaFO"
      },
      "source": [
        "Step 6: model evaluation\r\n",
        "\r\n",
        "https://facebook.github.io/prophet/docs/diagnostics.html\r\n",
        "\r\n",
        "- initial: how much data to consider before making any predictions\r\n",
        "    - e.g. 10 years = `'3650 days'`\r\n",
        "- period: how frequently to make predictions \r\n",
        "    - e.g. every 6 months = `'180 days'`\r\n",
        "    - should be about 1/2 of your `horizon`\r\n",
        "- horizon: how many periods to predict\r\n",
        "    - e.g. 1 year = `'365 days'`\r\n",
        "    - should be about 2x your `period`"
      ]
    },
    {
      "cell_type": "code",
      "metadata": {
        "colab": {
          "base_uri": "https://localhost:8080/",
          "height": 467,
          "referenced_widgets": [
            "9aa766abf9364c28906bbe8535c4b0d8",
            "0e0151f2315342a59b45cf5c5daac48d",
            "7bd76a5246214b4b9f3c81d767622b50",
            "b2a4321876154208b5b9476607316012",
            "04351dfe836049aabc9e59a9cfbcd00e",
            "1f425a80c25b4ea1ab4421d0c46981ec",
            "cd737b9ef5c54f81985380900fe42263",
            "3e94e870174a44e9b4d9cdfa345dac57"
          ]
        },
        "id": "a07vo6B_b9pz",
        "outputId": "0dbab664-e534-4625-ad92-22afe9958876"
      },
      "source": [
        "from fbprophet.diagnostics import cross_validation\r\n",
        "\r\n",
        "cross_validation(m, initial='90 days', period='90 days', horizon='180 days')"
      ],
      "execution_count": null,
      "outputs": [
        {
          "output_type": "stream",
          "text": [
            "INFO:fbprophet:Making 4 forecasts with cutoffs between 2019-08-02 00:00:00 and 2020-04-28 00:00:00\n"
          ],
          "name": "stderr"
        },
        {
          "output_type": "display_data",
          "data": {
            "application/vnd.jupyter.widget-view+json": {
              "model_id": "9aa766abf9364c28906bbe8535c4b0d8",
              "version_minor": 0,
              "version_major": 2
            },
            "text/plain": [
              "HBox(children=(FloatProgress(value=0.0, max=4.0), HTML(value='')))"
            ]
          },
          "metadata": {
            "tags": []
          }
        },
        {
          "output_type": "stream",
          "text": [
            "\n"
          ],
          "name": "stdout"
        },
        {
          "output_type": "execute_result",
          "data": {
            "text/html": [
              "<div>\n",
              "<style scoped>\n",
              "    .dataframe tbody tr th:only-of-type {\n",
              "        vertical-align: middle;\n",
              "    }\n",
              "\n",
              "    .dataframe tbody tr th {\n",
              "        vertical-align: top;\n",
              "    }\n",
              "\n",
              "    .dataframe thead th {\n",
              "        text-align: right;\n",
              "    }\n",
              "</style>\n",
              "<table border=\"1\" class=\"dataframe\">\n",
              "  <thead>\n",
              "    <tr style=\"text-align: right;\">\n",
              "      <th></th>\n",
              "      <th>ds</th>\n",
              "      <th>yhat</th>\n",
              "      <th>yhat_lower</th>\n",
              "      <th>yhat_upper</th>\n",
              "      <th>y</th>\n",
              "      <th>cutoff</th>\n",
              "    </tr>\n",
              "  </thead>\n",
              "  <tbody>\n",
              "    <tr>\n",
              "      <th>0</th>\n",
              "      <td>2019-08-03</td>\n",
              "      <td>63.922390</td>\n",
              "      <td>30.136508</td>\n",
              "      <td>100.699311</td>\n",
              "      <td>60</td>\n",
              "      <td>2019-08-02</td>\n",
              "    </tr>\n",
              "    <tr>\n",
              "      <th>1</th>\n",
              "      <td>2019-08-04</td>\n",
              "      <td>67.845408</td>\n",
              "      <td>31.932380</td>\n",
              "      <td>103.356646</td>\n",
              "      <td>24</td>\n",
              "      <td>2019-08-02</td>\n",
              "    </tr>\n",
              "    <tr>\n",
              "      <th>2</th>\n",
              "      <td>2019-08-05</td>\n",
              "      <td>68.614533</td>\n",
              "      <td>28.041012</td>\n",
              "      <td>105.195811</td>\n",
              "      <td>30</td>\n",
              "      <td>2019-08-02</td>\n",
              "    </tr>\n",
              "    <tr>\n",
              "      <th>3</th>\n",
              "      <td>2019-08-06</td>\n",
              "      <td>72.537509</td>\n",
              "      <td>36.356263</td>\n",
              "      <td>108.084955</td>\n",
              "      <td>28</td>\n",
              "      <td>2019-08-02</td>\n",
              "    </tr>\n",
              "    <tr>\n",
              "      <th>4</th>\n",
              "      <td>2019-08-07</td>\n",
              "      <td>66.152638</td>\n",
              "      <td>29.807034</td>\n",
              "      <td>101.755070</td>\n",
              "      <td>41</td>\n",
              "      <td>2019-08-02</td>\n",
              "    </tr>\n",
              "    <tr>\n",
              "      <th>...</th>\n",
              "      <td>...</td>\n",
              "      <td>...</td>\n",
              "      <td>...</td>\n",
              "      <td>...</td>\n",
              "      <td>...</td>\n",
              "      <td>...</td>\n",
              "    </tr>\n",
              "    <tr>\n",
              "      <th>715</th>\n",
              "      <td>2020-10-21</td>\n",
              "      <td>271.282298</td>\n",
              "      <td>212.765230</td>\n",
              "      <td>342.063684</td>\n",
              "      <td>243</td>\n",
              "      <td>2020-04-28</td>\n",
              "    </tr>\n",
              "    <tr>\n",
              "      <th>716</th>\n",
              "      <td>2020-10-22</td>\n",
              "      <td>275.152552</td>\n",
              "      <td>214.996266</td>\n",
              "      <td>339.654313</td>\n",
              "      <td>185</td>\n",
              "      <td>2020-04-28</td>\n",
              "    </tr>\n",
              "    <tr>\n",
              "      <th>717</th>\n",
              "      <td>2020-10-23</td>\n",
              "      <td>266.195236</td>\n",
              "      <td>201.818098</td>\n",
              "      <td>329.836203</td>\n",
              "      <td>116</td>\n",
              "      <td>2020-04-28</td>\n",
              "    </tr>\n",
              "    <tr>\n",
              "      <th>718</th>\n",
              "      <td>2020-10-24</td>\n",
              "      <td>264.622471</td>\n",
              "      <td>204.977263</td>\n",
              "      <td>333.130201</td>\n",
              "      <td>139</td>\n",
              "      <td>2020-04-28</td>\n",
              "    </tr>\n",
              "    <tr>\n",
              "      <th>719</th>\n",
              "      <td>2020-10-25</td>\n",
              "      <td>267.070755</td>\n",
              "      <td>202.298607</td>\n",
              "      <td>333.595488</td>\n",
              "      <td>168</td>\n",
              "      <td>2020-04-28</td>\n",
              "    </tr>\n",
              "  </tbody>\n",
              "</table>\n",
              "<p>720 rows × 6 columns</p>\n",
              "</div>"
            ],
            "text/plain": [
              "            ds        yhat  yhat_lower  yhat_upper    y     cutoff\n",
              "0   2019-08-03   63.922390   30.136508  100.699311   60 2019-08-02\n",
              "1   2019-08-04   67.845408   31.932380  103.356646   24 2019-08-02\n",
              "2   2019-08-05   68.614533   28.041012  105.195811   30 2019-08-02\n",
              "3   2019-08-06   72.537509   36.356263  108.084955   28 2019-08-02\n",
              "4   2019-08-07   66.152638   29.807034  101.755070   41 2019-08-02\n",
              "..         ...         ...         ...         ...  ...        ...\n",
              "715 2020-10-21  271.282298  212.765230  342.063684  243 2020-04-28\n",
              "716 2020-10-22  275.152552  214.996266  339.654313  185 2020-04-28\n",
              "717 2020-10-23  266.195236  201.818098  329.836203  116 2020-04-28\n",
              "718 2020-10-24  264.622471  204.977263  333.130201  139 2020-04-28\n",
              "719 2020-10-25  267.070755  202.298607  333.595488  168 2020-04-28\n",
              "\n",
              "[720 rows x 6 columns]"
            ]
          },
          "metadata": {
            "tags": []
          },
          "execution_count": 53
        }
      ]
    },
    {
      "cell_type": "markdown",
      "metadata": {
        "id": "VdSu2pssd_Fz"
      },
      "source": [
        "![image.png](data:image/png;base64,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)"
      ]
    },
    {
      "cell_type": "code",
      "metadata": {
        "colab": {
          "base_uri": "https://localhost:8080/",
          "height": 166,
          "referenced_widgets": [
            "6a95d5edf59244d0b249bda5af280562",
            "99792f067b1941228c6a518b9eaf4661",
            "878acf87462a48b79f613724ad9fa461",
            "54379f3037fd4df18f04a62deb8f14c9",
            "a39c5ac96edd4883a761dc5aa2c2c1f3",
            "b1d91c211e534f6894ea5c061e07a3a8",
            "18dcc223e4d24eb489c68b6ef3a0a188",
            "dd0f3eecb86a4dc7ab5915841c938a4c"
          ]
        },
        "id": "_8GD7YY1dThZ",
        "outputId": "1cbe6205-d3ee-45e2-888a-cbbdb83fe98e"
      },
      "source": [
        "df_cv = cross_validation(m, initial='90 days', period='90 days', horizon='180 days')\r\n",
        "\r\n",
        "df_cv['cutoff'].value_counts()"
      ],
      "execution_count": null,
      "outputs": [
        {
          "output_type": "stream",
          "text": [
            "INFO:fbprophet:Making 4 forecasts with cutoffs between 2019-08-02 00:00:00 and 2020-04-28 00:00:00\n"
          ],
          "name": "stderr"
        },
        {
          "output_type": "display_data",
          "data": {
            "application/vnd.jupyter.widget-view+json": {
              "model_id": "6a95d5edf59244d0b249bda5af280562",
              "version_minor": 0,
              "version_major": 2
            },
            "text/plain": [
              "HBox(children=(FloatProgress(value=0.0, max=4.0), HTML(value='')))"
            ]
          },
          "metadata": {
            "tags": []
          }
        },
        {
          "output_type": "stream",
          "text": [
            "\n"
          ],
          "name": "stdout"
        },
        {
          "output_type": "execute_result",
          "data": {
            "text/plain": [
              "2020-04-28    180\n",
              "2020-01-29    180\n",
              "2019-10-31    180\n",
              "2019-08-02    180\n",
              "Name: cutoff, dtype: int64"
            ]
          },
          "metadata": {
            "tags": []
          },
          "execution_count": 54
        }
      ]
    },
    {
      "cell_type": "code",
      "metadata": {
        "colab": {
          "base_uri": "https://localhost:8080/"
        },
        "id": "gCEEQd0afDlC",
        "outputId": "684ae5d2-fc6b-470d-f1ff-22725c75ab57"
      },
      "source": [
        "df_cv['cutoff'].unique()"
      ],
      "execution_count": null,
      "outputs": [
        {
          "output_type": "execute_result",
          "data": {
            "text/plain": [
              "array(['2019-08-02T00:00:00.000000000', '2019-10-31T00:00:00.000000000',\n",
              "       '2020-01-29T00:00:00.000000000', '2020-04-28T00:00:00.000000000'],\n",
              "      dtype='datetime64[ns]')"
            ]
          },
          "metadata": {
            "tags": []
          },
          "execution_count": 55
        }
      ]
    },
    {
      "cell_type": "code",
      "metadata": {
        "colab": {
          "base_uri": "https://localhost:8080/"
        },
        "id": "ULQCMMhveKsI",
        "outputId": "a2900bb1-8829-4f8e-ed25-0a095a14a36b"
      },
      "source": [
        "df.ds.head(1)"
      ],
      "execution_count": null,
      "outputs": [
        {
          "output_type": "execute_result",
          "data": {
            "text/plain": [
              "0    2019-05-03\n",
              "Name: ds, dtype: object"
            ]
          },
          "metadata": {
            "tags": []
          },
          "execution_count": 56
        }
      ]
    },
    {
      "cell_type": "markdown",
      "metadata": {
        "id": "Fism97BdeU-9"
      },
      "source": [
        "2019-05-03 + 90 days (our `initial`) is about 2019-08-03 (aka 2019-08-02)\r\n",
        "\r\n",
        "2019-08-03 + 90 days days (our `period`) is about 2019-11-03 (aka 2019-10-31)"
      ]
    },
    {
      "cell_type": "code",
      "metadata": {
        "colab": {
          "base_uri": "https://localhost:8080/",
          "height": 388
        },
        "id": "VNrKZjG1d43N",
        "outputId": "331d6458-aa87-4132-ea1e-6f7860e48945"
      },
      "source": [
        "from fbprophet.plot import plot_cross_validation_metric\r\n",
        "\r\n",
        "fig = plot_cross_validation_metric(df_cv, metric='mape')"
      ],
      "execution_count": null,
      "outputs": [
        {
          "output_type": "display_data",
          "data": {
            "image/png": "[encoded data removed]",
            "text/plain": [
              "<Figure size 720x432 with 1 Axes>"
            ]
          },
          "metadata": {
            "tags": []
          }
        }
      ]
    },
    {
      "cell_type": "code",
      "metadata": {
        "colab": {
          "base_uri": "https://localhost:8080/",
          "height": 388
        },
        "id": "Cjwh2G9PfdW9",
        "outputId": "85537b4a-997c-4c6e-fde5-3ac82d308693"
      },
      "source": [
        "plot_cross_validation_metric(df_cv.loc[df_cv['y']<50], metric='mape');"
      ],
      "execution_count": null,
      "outputs": [
        {
          "output_type": "display_data",
          "data": {
            "image/png": "[encoded data removed]",
            "text/plain": [
              "<Figure size 720x432 with 1 Axes>"
            ]
          },
          "metadata": {
            "tags": []
          }
        }
      ]
    },
    {
      "cell_type": "markdown",
      "metadata": {
        "id": "Lg8RV57YwEk-"
      },
      "source": [
        "### Switching to $F stock data"
      ]
    },
    {
      "cell_type": "code",
      "metadata": {
        "id": "ue7oWYeKwG-X",
        "colab": {
          "base_uri": "https://localhost:8080/",
          "height": 402
        },
        "outputId": "4d901004-71dd-4639-e832-6ec0ad441460"
      },
      "source": [
        "df = pd.read_csv('https://github.com/gumdropsteve/datasets/raw/master/stocks/F.csv')\r\n",
        "\r\n",
        "df"
      ],
      "execution_count": null,
      "outputs": [
        {
          "output_type": "execute_result",
          "data": {
            "text/html": [
              "<div>\n",
              "<style scoped>\n",
              "    .dataframe tbody tr th:only-of-type {\n",
              "        vertical-align: middle;\n",
              "    }\n",
              "\n",
              "    .dataframe tbody tr th {\n",
              "        vertical-align: top;\n",
              "    }\n",
              "\n",
              "    .dataframe thead th {\n",
              "        text-align: right;\n",
              "    }\n",
              "</style>\n",
              "<table border=\"1\" class=\"dataframe\">\n",
              "  <thead>\n",
              "    <tr style=\"text-align: right;\">\n",
              "      <th></th>\n",
              "      <th>Date</th>\n",
              "      <th>Open</th>\n",
              "      <th>High</th>\n",
              "      <th>Low</th>\n",
              "      <th>Close</th>\n",
              "      <th>Adj Close</th>\n",
              "      <th>Volume</th>\n",
              "    </tr>\n",
              "  </thead>\n",
              "  <tbody>\n",
              "    <tr>\n",
              "      <th>0</th>\n",
              "      <td>2010-11-17</td>\n",
              "      <td>16.76</td>\n",
              "      <td>16.900000</td>\n",
              "      <td>16.520000</td>\n",
              "      <td>16.680000</td>\n",
              "      <td>11.256759</td>\n",
              "      <td>127748600</td>\n",
              "    </tr>\n",
              "    <tr>\n",
              "      <th>1</th>\n",
              "      <td>2010-11-18</td>\n",
              "      <td>16.77</td>\n",
              "      <td>16.870001</td>\n",
              "      <td>16.049999</td>\n",
              "      <td>16.120001</td>\n",
              "      <td>10.878832</td>\n",
              "      <td>256937900</td>\n",
              "    </tr>\n",
              "    <tr>\n",
              "      <th>2</th>\n",
              "      <td>2010-11-19</td>\n",
              "      <td>16.02</td>\n",
              "      <td>16.379999</td>\n",
              "      <td>15.830000</td>\n",
              "      <td>16.280001</td>\n",
              "      <td>10.986811</td>\n",
              "      <td>130323600</td>\n",
              "    </tr>\n",
              "    <tr>\n",
              "      <th>3</th>\n",
              "      <td>2010-11-22</td>\n",
              "      <td>16.26</td>\n",
              "      <td>16.540001</td>\n",
              "      <td>16.110001</td>\n",
              "      <td>16.200001</td>\n",
              "      <td>10.932823</td>\n",
              "      <td>91288900</td>\n",
              "    </tr>\n",
              "    <tr>\n",
              "      <th>4</th>\n",
              "      <td>2010-11-23</td>\n",
              "      <td>16.01</td>\n",
              "      <td>16.160000</td>\n",
              "      <td>15.620000</td>\n",
              "      <td>15.700000</td>\n",
              "      <td>10.595387</td>\n",
              "      <td>96689100</td>\n",
              "    </tr>\n",
              "    <tr>\n",
              "      <th>...</th>\n",
              "      <td>...</td>\n",
              "      <td>...</td>\n",
              "      <td>...</td>\n",
              "      <td>...</td>\n",
              "      <td>...</td>\n",
              "      <td>...</td>\n",
              "      <td>...</td>\n",
              "    </tr>\n",
              "    <tr>\n",
              "      <th>2512</th>\n",
              "      <td>2020-11-10</td>\n",
              "      <td>8.23</td>\n",
              "      <td>8.590000</td>\n",
              "      <td>8.180000</td>\n",
              "      <td>8.380000</td>\n",
              "      <td>8.380000</td>\n",
              "      <td>87468400</td>\n",
              "    </tr>\n",
              "    <tr>\n",
              "      <th>2513</th>\n",
              "      <td>2020-11-11</td>\n",
              "      <td>8.60</td>\n",
              "      <td>8.600000</td>\n",
              "      <td>8.290000</td>\n",
              "      <td>8.330000</td>\n",
              "      <td>8.330000</td>\n",
              "      <td>75644400</td>\n",
              "    </tr>\n",
              "    <tr>\n",
              "      <th>2514</th>\n",
              "      <td>2020-11-12</td>\n",
              "      <td>8.26</td>\n",
              "      <td>8.290000</td>\n",
              "      <td>8.100000</td>\n",
              "      <td>8.210000</td>\n",
              "      <td>8.210000</td>\n",
              "      <td>81064900</td>\n",
              "    </tr>\n",
              "    <tr>\n",
              "      <th>2515</th>\n",
              "      <td>2020-11-13</td>\n",
              "      <td>8.23</td>\n",
              "      <td>8.570000</td>\n",
              "      <td>8.230000</td>\n",
              "      <td>8.540000</td>\n",
              "      <td>8.540000</td>\n",
              "      <td>79475100</td>\n",
              "    </tr>\n",
              "    <tr>\n",
              "      <th>2516</th>\n",
              "      <td>2020-11-16</td>\n",
              "      <td>8.74</td>\n",
              "      <td>8.850000</td>\n",
              "      <td>8.610000</td>\n",
              "      <td>8.800000</td>\n",
              "      <td>8.800000</td>\n",
              "      <td>84853900</td>\n",
              "    </tr>\n",
              "  </tbody>\n",
              "</table>\n",
              "<p>2517 rows × 7 columns</p>\n",
              "</div>"
            ],
            "text/plain": [
              "            Date   Open       High        Low      Close  Adj Close     Volume\n",
              "0     2010-11-17  16.76  16.900000  16.520000  16.680000  11.256759  127748600\n",
              "1     2010-11-18  16.77  16.870001  16.049999  16.120001  10.878832  256937900\n",
              "2     2010-11-19  16.02  16.379999  15.830000  16.280001  10.986811  130323600\n",
              "3     2010-11-22  16.26  16.540001  16.110001  16.200001  10.932823   91288900\n",
              "4     2010-11-23  16.01  16.160000  15.620000  15.700000  10.595387   96689100\n",
              "...          ...    ...        ...        ...        ...        ...        ...\n",
              "2512  2020-11-10   8.23   8.590000   8.180000   8.380000   8.380000   87468400\n",
              "2513  2020-11-11   8.60   8.600000   8.290000   8.330000   8.330000   75644400\n",
              "2514  2020-11-12   8.26   8.290000   8.100000   8.210000   8.210000   81064900\n",
              "2515  2020-11-13   8.23   8.570000   8.230000   8.540000   8.540000   79475100\n",
              "2516  2020-11-16   8.74   8.850000   8.610000   8.800000   8.800000   84853900\n",
              "\n",
              "[2517 rows x 7 columns]"
            ]
          },
          "metadata": {
            "tags": []
          },
          "execution_count": 59
        }
      ]
    },
    {
      "cell_type": "markdown",
      "metadata": {
        "id": "HVGCddh1wQ_A"
      },
      "source": [
        "Prep data for Prophet..."
      ]
    },
    {
      "cell_type": "code",
      "metadata": {
        "id": "JJ9L8WI5wJXQ",
        "colab": {
          "base_uri": "https://localhost:8080/",
          "height": 402
        },
        "outputId": "3972f711-63f8-4516-d8cc-b82f2d5c05f2"
      },
      "source": [
        "df = df[['Date', 'Adj Close']]\r\n",
        "\r\n",
        "df.columns = ['ds', 'y']\r\n",
        "\r\n",
        "df"
      ],
      "execution_count": null,
      "outputs": [
        {
          "output_type": "execute_result",
          "data": {
            "text/html": [
              "<div>\n",
              "<style scoped>\n",
              "    .dataframe tbody tr th:only-of-type {\n",
              "        vertical-align: middle;\n",
              "    }\n",
              "\n",
              "    .dataframe tbody tr th {\n",
              "        vertical-align: top;\n",
              "    }\n",
              "\n",
              "    .dataframe thead th {\n",
              "        text-align: right;\n",
              "    }\n",
              "</style>\n",
              "<table border=\"1\" class=\"dataframe\">\n",
              "  <thead>\n",
              "    <tr style=\"text-align: right;\">\n",
              "      <th></th>\n",
              "      <th>ds</th>\n",
              "      <th>y</th>\n",
              "    </tr>\n",
              "  </thead>\n",
              "  <tbody>\n",
              "    <tr>\n",
              "      <th>0</th>\n",
              "      <td>2010-11-17</td>\n",
              "      <td>11.256759</td>\n",
              "    </tr>\n",
              "    <tr>\n",
              "      <th>1</th>\n",
              "      <td>2010-11-18</td>\n",
              "      <td>10.878832</td>\n",
              "    </tr>\n",
              "    <tr>\n",
              "      <th>2</th>\n",
              "      <td>2010-11-19</td>\n",
              "      <td>10.986811</td>\n",
              "    </tr>\n",
              "    <tr>\n",
              "      <th>3</th>\n",
              "      <td>2010-11-22</td>\n",
              "      <td>10.932823</td>\n",
              "    </tr>\n",
              "    <tr>\n",
              "      <th>4</th>\n",
              "      <td>2010-11-23</td>\n",
              "      <td>10.595387</td>\n",
              "    </tr>\n",
              "    <tr>\n",
              "      <th>...</th>\n",
              "      <td>...</td>\n",
              "      <td>...</td>\n",
              "    </tr>\n",
              "    <tr>\n",
              "      <th>2512</th>\n",
              "      <td>2020-11-10</td>\n",
              "      <td>8.380000</td>\n",
              "    </tr>\n",
              "    <tr>\n",
              "      <th>2513</th>\n",
              "      <td>2020-11-11</td>\n",
              "      <td>8.330000</td>\n",
              "    </tr>\n",
              "    <tr>\n",
              "      <th>2514</th>\n",
              "      <td>2020-11-12</td>\n",
              "      <td>8.210000</td>\n",
              "    </tr>\n",
              "    <tr>\n",
              "      <th>2515</th>\n",
              "      <td>2020-11-13</td>\n",
              "      <td>8.540000</td>\n",
              "    </tr>\n",
              "    <tr>\n",
              "      <th>2516</th>\n",
              "      <td>2020-11-16</td>\n",
              "      <td>8.800000</td>\n",
              "    </tr>\n",
              "  </tbody>\n",
              "</table>\n",
              "<p>2517 rows × 2 columns</p>\n",
              "</div>"
            ],
            "text/plain": [
              "              ds          y\n",
              "0     2010-11-17  11.256759\n",
              "1     2010-11-18  10.878832\n",
              "2     2010-11-19  10.986811\n",
              "3     2010-11-22  10.932823\n",
              "4     2010-11-23  10.595387\n",
              "...          ...        ...\n",
              "2512  2020-11-10   8.380000\n",
              "2513  2020-11-11   8.330000\n",
              "2514  2020-11-12   8.210000\n",
              "2515  2020-11-13   8.540000\n",
              "2516  2020-11-16   8.800000\n",
              "\n",
              "[2517 rows x 2 columns]"
            ]
          },
          "metadata": {
            "tags": []
          },
          "execution_count": 60
        }
      ]
    },
    {
      "cell_type": "code",
      "metadata": {
        "id": "Z1ihTSp7wPsX"
      },
      "source": [
        "from fbprophet import Prophet\r\n",
        "\r\n",
        "m = Prophet()"
      ],
      "execution_count": null,
      "outputs": []
    },
    {
      "cell_type": "code",
      "metadata": {
        "id": "5oZ0Hkp0wWAH",
        "colab": {
          "base_uri": "https://localhost:8080/"
        },
        "outputId": "f859e0e1-31a9-4859-9752-1e3e4fdcd700"
      },
      "source": [
        "m.fit(df)"
      ],
      "execution_count": null,
      "outputs": [
        {
          "output_type": "stream",
          "text": [
            "INFO:fbprophet:Disabling daily seasonality. Run prophet with daily_seasonality=True to override this.\n"
          ],
          "name": "stderr"
        },
        {
          "output_type": "execute_result",
          "data": {
            "text/plain": [
              "<fbprophet.forecaster.Prophet at 0x7fc59d8375c0>"
            ]
          },
          "metadata": {
            "tags": []
          },
          "execution_count": 62
        }
      ]
    },
    {
      "cell_type": "code",
      "metadata": {
        "id": "GsyajYiWwXF3",
        "colab": {
          "base_uri": "https://localhost:8080/",
          "height": 402
        },
        "outputId": "f2883c78-33ae-45a7-c718-6a1790f5d308"
      },
      "source": [
        "f = m.make_future_dataframe(365*5)\r\n",
        "\r\n",
        "f"
      ],
      "execution_count": null,
      "outputs": [
        {
          "output_type": "execute_result",
          "data": {
            "text/html": [
              "<div>\n",
              "<style scoped>\n",
              "    .dataframe tbody tr th:only-of-type {\n",
              "        vertical-align: middle;\n",
              "    }\n",
              "\n",
              "    .dataframe tbody tr th {\n",
              "        vertical-align: top;\n",
              "    }\n",
              "\n",
              "    .dataframe thead th {\n",
              "        text-align: right;\n",
              "    }\n",
              "</style>\n",
              "<table border=\"1\" class=\"dataframe\">\n",
              "  <thead>\n",
              "    <tr style=\"text-align: right;\">\n",
              "      <th></th>\n",
              "      <th>ds</th>\n",
              "    </tr>\n",
              "  </thead>\n",
              "  <tbody>\n",
              "    <tr>\n",
              "      <th>0</th>\n",
              "      <td>2010-11-17</td>\n",
              "    </tr>\n",
              "    <tr>\n",
              "      <th>1</th>\n",
              "      <td>2010-11-18</td>\n",
              "    </tr>\n",
              "    <tr>\n",
              "      <th>2</th>\n",
              "      <td>2010-11-19</td>\n",
              "    </tr>\n",
              "    <tr>\n",
              "      <th>3</th>\n",
              "      <td>2010-11-22</td>\n",
              "    </tr>\n",
              "    <tr>\n",
              "      <th>4</th>\n",
              "      <td>2010-11-23</td>\n",
              "    </tr>\n",
              "    <tr>\n",
              "      <th>...</th>\n",
              "      <td>...</td>\n",
              "    </tr>\n",
              "    <tr>\n",
              "      <th>4337</th>\n",
              "      <td>2025-11-11</td>\n",
              "    </tr>\n",
              "    <tr>\n",
              "      <th>4338</th>\n",
              "      <td>2025-11-12</td>\n",
              "    </tr>\n",
              "    <tr>\n",
              "      <th>4339</th>\n",
              "      <td>2025-11-13</td>\n",
              "    </tr>\n",
              "    <tr>\n",
              "      <th>4340</th>\n",
              "      <td>2025-11-14</td>\n",
              "    </tr>\n",
              "    <tr>\n",
              "      <th>4341</th>\n",
              "      <td>2025-11-15</td>\n",
              "    </tr>\n",
              "  </tbody>\n",
              "</table>\n",
              "<p>4342 rows × 1 columns</p>\n",
              "</div>"
            ],
            "text/plain": [
              "             ds\n",
              "0    2010-11-17\n",
              "1    2010-11-18\n",
              "2    2010-11-19\n",
              "3    2010-11-22\n",
              "4    2010-11-23\n",
              "...         ...\n",
              "4337 2025-11-11\n",
              "4338 2025-11-12\n",
              "4339 2025-11-13\n",
              "4340 2025-11-14\n",
              "4341 2025-11-15\n",
              "\n",
              "[4342 rows x 1 columns]"
            ]
          },
          "metadata": {
            "tags": []
          },
          "execution_count": 63
        }
      ]
    },
    {
      "cell_type": "code",
      "metadata": {
        "id": "8doloJNrwbft",
        "colab": {
          "base_uri": "https://localhost:8080/",
          "height": 590
        },
        "outputId": "6c757b00-9b10-4e58-a946-2eaa739060f6"
      },
      "source": [
        "m.predict(f)"
      ],
      "execution_count": null,
      "outputs": [
        {
          "output_type": "execute_result",
          "data": {
            "text/html": [
              "<div>\n",
              "<style scoped>\n",
              "    .dataframe tbody tr th:only-of-type {\n",
              "        vertical-align: middle;\n",
              "    }\n",
              "\n",
              "    .dataframe tbody tr th {\n",
              "        vertical-align: top;\n",
              "    }\n",
              "\n",
              "    .dataframe thead th {\n",
              "        text-align: right;\n",
              "    }\n",
              "</style>\n",
              "<table border=\"1\" class=\"dataframe\">\n",
              "  <thead>\n",
              "    <tr style=\"text-align: right;\">\n",
              "      <th></th>\n",
              "      <th>ds</th>\n",
              "      <th>trend</th>\n",
              "      <th>yhat_lower</th>\n",
              "      <th>yhat_upper</th>\n",
              "      <th>trend_lower</th>\n",
              "      <th>trend_upper</th>\n",
              "      <th>additive_terms</th>\n",
              "      <th>additive_terms_lower</th>\n",
              "      <th>additive_terms_upper</th>\n",
              "      <th>weekly</th>\n",
              "      <th>weekly_lower</th>\n",
              "      <th>weekly_upper</th>\n",
              "      <th>yearly</th>\n",
              "      <th>yearly_lower</th>\n",
              "      <th>yearly_upper</th>\n",
              "      <th>multiplicative_terms</th>\n",
              "      <th>multiplicative_terms_lower</th>\n",
              "      <th>multiplicative_terms_upper</th>\n",
              "      <th>yhat</th>\n",
              "    </tr>\n",
              "  </thead>\n",
              "  <tbody>\n",
              "    <tr>\n",
              "      <th>0</th>\n",
              "      <td>2010-11-17</td>\n",
              "      <td>11.509010</td>\n",
              "      <td>10.609852</td>\n",
              "      <td>12.570969</td>\n",
              "      <td>11.509010</td>\n",
              "      <td>11.509010</td>\n",
              "      <td>0.048827</td>\n",
              "      <td>0.048827</td>\n",
              "      <td>0.048827</td>\n",
              "      <td>0.067728</td>\n",
              "      <td>0.067728</td>\n",
              "      <td>0.067728</td>\n",
              "      <td>-0.018901</td>\n",
              "      <td>-0.018901</td>\n",
              "      <td>-0.018901</td>\n",
              "      <td>0.0</td>\n",
              "      <td>0.0</td>\n",
              "      <td>0.0</td>\n",
              "      <td>11.557837</td>\n",
              "    </tr>\n",
              "    <tr>\n",
              "      <th>1</th>\n",
              "      <td>2010-11-18</td>\n",
              "      <td>11.497526</td>\n",
              "      <td>10.497793</td>\n",
              "      <td>12.522909</td>\n",
              "      <td>11.497526</td>\n",
              "      <td>11.497526</td>\n",
              "      <td>0.043975</td>\n",
              "      <td>0.043975</td>\n",
              "      <td>0.043975</td>\n",
              "      <td>0.064002</td>\n",
              "      <td>0.064002</td>\n",
              "      <td>0.064002</td>\n",
              "      <td>-0.020027</td>\n",
              "      <td>-0.020027</td>\n",
              "      <td>-0.020027</td>\n",
              "      <td>0.0</td>\n",
              "      <td>0.0</td>\n",
              "      <td>0.0</td>\n",
              "      <td>11.541501</td>\n",
              "    </tr>\n",
              "    <tr>\n",
              "      <th>2</th>\n",
              "      <td>2010-11-19</td>\n",
              "      <td>11.486043</td>\n",
              "      <td>10.514253</td>\n",
              "      <td>12.534200</td>\n",
              "      <td>11.486043</td>\n",
              "      <td>11.486043</td>\n",
              "      <td>0.036466</td>\n",
              "      <td>0.036466</td>\n",
              "      <td>0.036466</td>\n",
              "      <td>0.055388</td>\n",
              "      <td>0.055388</td>\n",
              "      <td>0.055388</td>\n",
              "      <td>-0.018922</td>\n",
              "      <td>-0.018922</td>\n",
              "      <td>-0.018922</td>\n",
              "      <td>0.0</td>\n",
              "      <td>0.0</td>\n",
              "      <td>0.0</td>\n",
              "      <td>11.522508</td>\n",
              "    </tr>\n",
              "    <tr>\n",
              "      <th>3</th>\n",
              "      <td>2010-11-22</td>\n",
              "      <td>11.451592</td>\n",
              "      <td>10.537161</td>\n",
              "      <td>12.526697</td>\n",
              "      <td>11.451592</td>\n",
              "      <td>11.451592</td>\n",
              "      <td>0.058655</td>\n",
              "      <td>0.058655</td>\n",
              "      <td>0.058655</td>\n",
              "      <td>0.062383</td>\n",
              "      <td>0.062383</td>\n",
              "      <td>0.062383</td>\n",
              "      <td>-0.003729</td>\n",
              "      <td>-0.003729</td>\n",
              "      <td>-0.003729</td>\n",
              "      <td>0.0</td>\n",
              "      <td>0.0</td>\n",
              "      <td>0.0</td>\n",
              "      <td>11.510246</td>\n",
              "    </tr>\n",
              "    <tr>\n",
              "      <th>4</th>\n",
              "      <td>2010-11-23</td>\n",
              "      <td>11.440108</td>\n",
              "      <td>10.498386</td>\n",
              "      <td>12.521427</td>\n",
              "      <td>11.440108</td>\n",
              "      <td>11.440108</td>\n",
              "      <td>0.081755</td>\n",
              "      <td>0.081755</td>\n",
              "      <td>0.081755</td>\n",
              "      <td>0.077239</td>\n",
              "      <td>0.077239</td>\n",
              "      <td>0.077239</td>\n",
              "      <td>0.004515</td>\n",
              "      <td>0.004515</td>\n",
              "      <td>0.004515</td>\n",
              "      <td>0.0</td>\n",
              "      <td>0.0</td>\n",
              "      <td>0.0</td>\n",
              "      <td>11.521863</td>\n",
              "    </tr>\n",
              "    <tr>\n",
              "      <th>...</th>\n",
              "      <td>...</td>\n",
              "      <td>...</td>\n",
              "      <td>...</td>\n",
              "      <td>...</td>\n",
              "      <td>...</td>\n",
              "      <td>...</td>\n",
              "      <td>...</td>\n",
              "      <td>...</td>\n",
              "      <td>...</td>\n",
              "      <td>...</td>\n",
              "      <td>...</td>\n",
              "      <td>...</td>\n",
              "      <td>...</td>\n",
              "      <td>...</td>\n",
              "      <td>...</td>\n",
              "      <td>...</td>\n",
              "      <td>...</td>\n",
              "      <td>...</td>\n",
              "      <td>...</td>\n",
              "    </tr>\n",
              "    <tr>\n",
              "      <th>4337</th>\n",
              "      <td>2025-11-11</td>\n",
              "      <td>1.127912</td>\n",
              "      <td>-9.425189</td>\n",
              "      <td>11.814228</td>\n",
              "      <td>-9.630977</td>\n",
              "      <td>12.094336</td>\n",
              "      <td>0.106986</td>\n",
              "      <td>0.106986</td>\n",
              "      <td>0.106986</td>\n",
              "      <td>0.077239</td>\n",
              "      <td>0.077239</td>\n",
              "      <td>0.077239</td>\n",
              "      <td>0.029747</td>\n",
              "      <td>0.029747</td>\n",
              "      <td>0.029747</td>\n",
              "      <td>0.0</td>\n",
              "      <td>0.0</td>\n",
              "      <td>0.0</td>\n",
              "      <td>1.234898</td>\n",
              "    </tr>\n",
              "    <tr>\n",
              "      <th>4338</th>\n",
              "      <td>2025-11-12</td>\n",
              "      <td>1.124879</td>\n",
              "      <td>-9.590616</td>\n",
              "      <td>12.179031</td>\n",
              "      <td>-9.646509</td>\n",
              "      <td>12.095692</td>\n",
              "      <td>0.084462</td>\n",
              "      <td>0.084462</td>\n",
              "      <td>0.084462</td>\n",
              "      <td>0.067728</td>\n",
              "      <td>0.067728</td>\n",
              "      <td>0.067728</td>\n",
              "      <td>0.016734</td>\n",
              "      <td>0.016734</td>\n",
              "      <td>0.016734</td>\n",
              "      <td>0.0</td>\n",
              "      <td>0.0</td>\n",
              "      <td>0.0</td>\n",
              "      <td>1.209341</td>\n",
              "    </tr>\n",
              "    <tr>\n",
              "      <th>4339</th>\n",
              "      <td>2025-11-13</td>\n",
              "      <td>1.121845</td>\n",
              "      <td>-9.468560</td>\n",
              "      <td>12.048153</td>\n",
              "      <td>-9.657443</td>\n",
              "      <td>12.097048</td>\n",
              "      <td>0.069378</td>\n",
              "      <td>0.069378</td>\n",
              "      <td>0.069378</td>\n",
              "      <td>0.064002</td>\n",
              "      <td>0.064002</td>\n",
              "      <td>0.064002</td>\n",
              "      <td>0.005376</td>\n",
              "      <td>0.005376</td>\n",
              "      <td>0.005376</td>\n",
              "      <td>0.0</td>\n",
              "      <td>0.0</td>\n",
              "      <td>0.0</td>\n",
              "      <td>1.191223</td>\n",
              "    </tr>\n",
              "    <tr>\n",
              "      <th>4340</th>\n",
              "      <td>2025-11-14</td>\n",
              "      <td>1.118812</td>\n",
              "      <td>-9.759316</td>\n",
              "      <td>12.028064</td>\n",
              "      <td>-9.668730</td>\n",
              "      <td>12.098404</td>\n",
              "      <td>0.051312</td>\n",
              "      <td>0.051312</td>\n",
              "      <td>0.051312</td>\n",
              "      <td>0.055388</td>\n",
              "      <td>0.055388</td>\n",
              "      <td>0.055388</td>\n",
              "      <td>-0.004076</td>\n",
              "      <td>-0.004076</td>\n",
              "      <td>-0.004076</td>\n",
              "      <td>0.0</td>\n",
              "      <td>0.0</td>\n",
              "      <td>0.0</td>\n",
              "      <td>1.170124</td>\n",
              "    </tr>\n",
              "    <tr>\n",
              "      <th>4341</th>\n",
              "      <td>2025-11-15</td>\n",
              "      <td>1.115779</td>\n",
              "      <td>-9.756517</td>\n",
              "      <td>11.807449</td>\n",
              "      <td>-9.683433</td>\n",
              "      <td>12.099718</td>\n",
              "      <td>-0.174799</td>\n",
              "      <td>-0.174799</td>\n",
              "      <td>-0.174799</td>\n",
              "      <td>-0.163370</td>\n",
              "      <td>-0.163370</td>\n",
              "      <td>-0.163370</td>\n",
              "      <td>-0.011429</td>\n",
              "      <td>-0.011429</td>\n",
              "      <td>-0.011429</td>\n",
              "      <td>0.0</td>\n",
              "      <td>0.0</td>\n",
              "      <td>0.0</td>\n",
              "      <td>0.940980</td>\n",
              "    </tr>\n",
              "  </tbody>\n",
              "</table>\n",
              "<p>4342 rows × 19 columns</p>\n",
              "</div>"
            ],
            "text/plain": [
              "             ds      trend  ...  multiplicative_terms_upper       yhat\n",
              "0    2010-11-17  11.509010  ...                         0.0  11.557837\n",
              "1    2010-11-18  11.497526  ...                         0.0  11.541501\n",
              "2    2010-11-19  11.486043  ...                         0.0  11.522508\n",
              "3    2010-11-22  11.451592  ...                         0.0  11.510246\n",
              "4    2010-11-23  11.440108  ...                         0.0  11.521863\n",
              "...         ...        ...  ...                         ...        ...\n",
              "4337 2025-11-11   1.127912  ...                         0.0   1.234898\n",
              "4338 2025-11-12   1.124879  ...                         0.0   1.209341\n",
              "4339 2025-11-13   1.121845  ...                         0.0   1.191223\n",
              "4340 2025-11-14   1.118812  ...                         0.0   1.170124\n",
              "4341 2025-11-15   1.115779  ...                         0.0   0.940980\n",
              "\n",
              "[4342 rows x 19 columns]"
            ]
          },
          "metadata": {
            "tags": []
          },
          "execution_count": 64
        }
      ]
    },
    {
      "cell_type": "markdown",
      "metadata": {
        "id": "HQ7xrm-6wiUq"
      },
      "source": [
        "But how did we do??"
      ]
    },
    {
      "cell_type": "code",
      "metadata": {
        "id": "Nr7-R1yowsFZ",
        "colab": {
          "base_uri": "https://localhost:8080/"
        },
        "outputId": "f3708501-7af5-4db5-bf32-c613e7be5f49"
      },
      "source": [
        "# what should my initial be?? when does our data start?\r\n",
        "df.ds.head(1)"
      ],
      "execution_count": null,
      "outputs": [
        {
          "output_type": "execute_result",
          "data": {
            "text/plain": [
              "0    2010-11-17\n",
              "Name: ds, dtype: object"
            ]
          },
          "metadata": {
            "tags": []
          },
          "execution_count": 65
        }
      ]
    },
    {
      "cell_type": "code",
      "metadata": {
        "id": "7TG3CnHqw2w1",
        "colab": {
          "base_uri": "https://localhost:8080/"
        },
        "outputId": "f9382c89-200f-4ec2-d57a-e3fed1e96a51"
      },
      "source": [
        "365*5  # let's give it 5 years to start"
      ],
      "execution_count": null,
      "outputs": [
        {
          "output_type": "execute_result",
          "data": {
            "text/plain": [
              "1825"
            ]
          },
          "metadata": {
            "tags": []
          },
          "execution_count": 66
        }
      ]
    },
    {
      "cell_type": "code",
      "metadata": {
        "id": "MkCF6yGaweoD",
        "colab": {
          "base_uri": "https://localhost:8080/",
          "height": 116,
          "referenced_widgets": [
            "a83720d4d8cd4925a549b5224682d827",
            "d61db71063924c1289faa8acc91e7f9d",
            "ff8f59dbccab4d9484bc780ffe1137ff",
            "f2ac9145dee44197b635d9f630947f7b",
            "726dc6d59f504b479b5cdd8fa37bbc03",
            "3a0598ab3b94460f86d65e092b9a4853",
            "4aa1642083424ac68afae73d62d5136a",
            "75f1b33ce27440b39536f93d1c02dbb5"
          ]
        },
        "outputId": "c15e1034-c6d4-4591-fc51-1749e7dd269e"
      },
      "source": [
        "%%time\r\n",
        "df_cv = cross_validation(m, \r\n",
        "                         initial='1825 days',  # 5 years to start \r\n",
        "                         period='180 days',  # then make a prediction every 6 months \r\n",
        "                         horizon='365 days'  # predict a whole year each prediction\r\n",
        "                         )\r\n",
        "\r\n",
        "df_cv"
      ],
      "execution_count": null,
      "outputs": [
        {
          "output_type": "stream",
          "text": [
            "INFO:fbprophet:Making 9 forecasts with cutoffs between 2015-12-08 00:00:00 and 2019-11-17 00:00:00\n"
          ],
          "name": "stderr"
        },
        {
          "output_type": "display_data",
          "data": {
            "application/vnd.jupyter.widget-view+json": {
              "model_id": "a83720d4d8cd4925a549b5224682d827",
              "version_minor": 0,
              "version_major": 2
            },
            "text/plain": [
              "HBox(children=(FloatProgress(value=0.0, max=9.0), HTML(value='')))"
            ]
          },
          "metadata": {
            "tags": []
          }
        },
        {
          "output_type": "stream",
          "text": [
            "\n",
            "CPU times: user 33.3 s, sys: 434 ms, total: 33.8 s\n",
            "Wall time: 34.2 s\n"
          ],
          "name": "stdout"
        }
      ]
    },
    {
      "cell_type": "markdown",
      "metadata": {
        "id": "w7AAYC5KxL-d"
      },
      "source": [
        "Nore: you can run cross_validation in parallel to speed it up!!\r\n",
        "\r\n",
        "https://facebook.github.io/prophet/docs/diagnostics.html#parallelizing-cross-validation\r\n",
        "\r\n",
        "Note: this doesn't really work in colab, try downloading and running local :)"
      ]
    },
    {
      "cell_type": "code",
      "metadata": {
        "id": "-6o4FCqyxKwh"
      },
      "source": [
        "# %%time\r\n",
        "# df_cv = cross_validation(m, \r\n",
        "#                          initial='1825 days',  # 5 years to start \r\n",
        "#                          period='180 days',  # then make a prediction every 6 months \r\n",
        "#                          horizon='365 days',  # predict a whole year each prediction\r\n",
        "#                          parallel=\"process\"  # run in parallel (make it faster)\r\n",
        "#                          )\r\n",
        "\r\n",
        "# df_cv"
      ],
      "execution_count": null,
      "outputs": []
    },
    {
      "cell_type": "code",
      "metadata": {
        "id": "FrEhy6wlxor-",
        "colab": {
          "base_uri": "https://localhost:8080/",
          "height": 388
        },
        "outputId": "a51f1c3a-6ee1-4c6d-ad62-dd71e7e5f3d4"
      },
      "source": [
        "plot_cross_validation_metric(df_cv, metric='mape');"
      ],
      "execution_count": null,
      "outputs": [
        {
          "output_type": "display_data",
          "data": {
            "image/png": "[encoded data removed]",
            "text/plain": [
              "<Figure size 720x432 with 1 Axes>"
            ]
          },
          "metadata": {
            "tags": []
          }
        }
      ]
    }
  ]
}